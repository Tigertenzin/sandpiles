{
 "cells": [
  {
   "cell_type": "markdown",
   "metadata": {},
   "source": [
    "# Import Packages and Define Basic functions"
   ]
  },
  {
   "cell_type": "code",
   "execution_count": 1,
   "metadata": {
    "ExecuteTime": {
     "end_time": "2020-03-29T17:10:04.722134Z",
     "start_time": "2020-03-29T17:10:04.696536Z"
    },
    "execution": {
     "iopub.execute_input": "2020-05-22T17:32:01.896Z",
     "iopub.status.busy": "2020-05-22T17:32:01.864Z",
     "iopub.status.idle": "2020-05-22T17:32:02.052Z",
     "shell.execute_reply": "2020-05-22T17:32:02.081Z"
    },
    "hidden": true,
    "init_cell": true
   },
   "outputs": [],
   "source": [
    "# %pylab notebook\n",
    "import numpy as np \n",
    "import matplotlib.pyplot as plt\n",
    "from matplotlib.pyplot import cm     # Relevant Library for colors\n",
    "from cycler import cycler\n",
    "from scipy.optimize import curve_fit\n",
    "# import seaborn as sns\n",
    "from matplotlib.ticker import FormatStrFormatter\n",
    "from scipy import stats\n",
    "import warnings\n",
    "from mpl_toolkits import mplot3d\n",
    "from mpl_toolkits.axes_grid1 import make_axes_locatable\n",
    "from mpl_toolkits.axes_grid1.inset_locator import inset_axes\n",
    "import matplotlib.animation as animation\n",
    "\n",
    "import matplotlib as mpl\n",
    "plt.style.use('classic')\n",
    "mpl.rcParams['savefig.bbox'] = 'tight'\n",
    "mpl.rcParams.update({'figure.autolayout': True})\n",
    "\n",
    "from IPython.core.display import display, HTML\n",
    "from matplotlib.backends.backend_pdf import PdfPages\n",
    "# display(HTML(\"<style>.container { width:75% !important; }</style>\"))\n",
    "\n",
    "# %matplotlib inline \n",
    "# %config InlineBackend.figure_format = 'retina'\n",
    "\n",
    "from matplotlib import rc\n",
    "import matplotlib.font_manager\n",
    "rc('font',**{'family':'sans-serif','sans-serif':['Computer Modern Roman']})\n",
    "## for Palatino and other serif fonts use:\n",
    "#rc('font',**{'family':'serif','serif':['Palatino']})\n",
    "rc('text', usetex=True)"
   ]
  },
  {
   "cell_type": "markdown",
   "metadata": {
    "hidden": true
   },
   "source": [
    "## readSizes\n",
    "**Input**: \n",
    "- seed for run (contained in filename)\n",
    "\n",
    "**Return**: \n",
    "- sizeS_Raw: (type:List) of each avalanche's size, S. \n",
    "- params: List of parameters' values"
   ]
  },
  {
   "cell_type": "code",
   "execution_count": 2,
   "metadata": {
    "ExecuteTime": {
     "end_time": "2020-03-28T18:40:51.503199Z",
     "start_time": "2020-03-28T18:40:51.496781Z"
    },
    "execution": {
     "iopub.execute_input": "2020-05-22T17:32:07.008Z",
     "iopub.status.busy": "2020-05-22T17:32:06.981Z",
     "iopub.status.idle": "2020-05-22T17:32:07.050Z",
     "shell.execute_reply": "2020-05-22T17:32:07.077Z"
    },
    "hidden": true,
    "init_cell": true
   },
   "outputs": [],
   "source": [
    "def readSizes(seed, filetype):\n",
    "    \"Read the file of avalanche sizes for given seed. \"\n",
    "    \n",
    "    with open(\"Data/sp\" + str(seed) + '_' + filetype + '.txt', \"r\") as f:\n",
    "        header=[x for x in next(f)]\n",
    "        params = [float(x) for x in next(f).split()]\n",
    "        array = [[int(x) for x in line.split() if '\\x00' not in x ] for line in f]\n",
    "\n",
    "    sizeS_raw = [x[0] for x in array if len(x) >= 1]\n",
    "    params[1] = int(params[1])\n",
    "    return sizeS_raw, params"
   ]
  },
  {
   "cell_type": "markdown",
   "metadata": {
    "hidden": true
   },
   "source": [
    "## plotSizes\n",
    "\n",
    "Plots the distribution of Sizes. It is expected that at the critical point, avalanche sizes will scale like:\n",
    "\n",
    "$$ N(s) \\propto s^{-\\tau} $$\n",
    "\n",
    "where $\\tau_s \\approx 6/5$ for $d=2$. However, theres discrepency in the actual exponent due to multi-scaling for conservative and slow-driving."
   ]
  },
  {
   "cell_type": "code",
   "execution_count": 3,
   "metadata": {
    "ExecuteTime": {
     "end_time": "2020-03-28T18:40:52.681078Z",
     "start_time": "2020-03-28T18:40:52.674759Z"
    },
    "execution": {
     "iopub.execute_input": "2020-05-22T17:33:01.338Z",
     "iopub.status.busy": "2020-05-22T17:33:01.310Z",
     "iopub.status.idle": "2020-05-22T17:33:01.385Z",
     "shell.execute_reply": "2020-05-22T17:33:01.412Z"
    },
    "hidden": true,
    "init_cell": true
   },
   "outputs": [],
   "source": [
    "def plotSizes(seed, filetype):\n",
    "    \"Plot log-log size histogram (log-binned) \"\n",
    "    sizeS, params = readSizes(seed,filetype)\n",
    "    sizeS_Log = np.asarray(sizeS)\n",
    "    hist, bin_edges = np.histogram(sizeS_Log,bins=np.logspace(0,25,50,base=2),density=True)\n",
    "    for i in range(len(hist)-1,-1,-1):      # Delete any 0 counts. \n",
    "        if hist[i]==0:\n",
    "            hist = np.delete(hist,i)\n",
    "            bin_edges = np.delete(bin_edges,i)   \n",
    "    return bin_edges[:-1], hist, params"
   ]
  },
  {
   "cell_type": "markdown",
   "metadata": {},
   "source": [
    "# Relaxation Times\n",
    "\n",
    "One quantity of interest which follows from the directed percolation literature is the relaxation time. For a lattice whose initial state is completely active, the time it takes to relax is expected to scale algabracily with distance from the critical point. At the critical point (and in the thermodynamic limit) it should take infinitely long to relax. The scaling is as follows:\n",
    "\\begin{equation}\n",
    "t_{\\text{relax}} \\sim \\lambda^{-\\alpha}\n",
    "\\end{equation}\n",
    "therefore, we check for both the BTW sandpile and the Manna sandpile to see if we find an $\\alpha$ exponent, and even if these exponents match up. "
   ]
  },
  {
   "cell_type": "code",
   "execution_count": null,
   "metadata": {
    "ExecuteTime": {
     "end_time": "2020-03-03T14:17:50.817077Z",
     "start_time": "2020-03-03T14:17:50.808690Z"
    },
    "hidden": true
   },
   "outputs": [],
   "source": [
    "def readRelax(seed, filetype):\n",
    "    \"Read the file of avalanche sizes for given seed. \"    \n",
    "    \n",
    "    with open(\"Data/sp\" + str(seed) + '_' + filetype + '.txt', \"r\") as f:\n",
    "        header=[x for x in next(f)]\n",
    "        params = [float(x) for x in next(f).split()]\n",
    "        array = [[int(x) for x in line.split() if '\\x00' not in x ] for line in f]\n",
    "    sizeS = [x[0] for x in array if len(x) >= 1]\n",
    "    params[1] = int(params[1])\n",
    "    \n",
    "    return np.mean(sizeS), params\n",
    "\n",
    "def relaxArray(seedMin,seedMax):\n",
    "    \"Computes the average of each duration file across a range of seed from min to max (Inclusive)\"\n",
    "    timeRelax = []\n",
    "    for seed in range(seedMin,seedMax):\n",
    "        dummyRun = readRelax(seed, 'd')\n",
    "        timeRelax += [[dummyRun[0], dummyRun[1][2]]]  \n",
    "    return np.asarray(timeRelax)"
   ]
  },
  {
   "cell_type": "code",
   "execution_count": null,
   "metadata": {
    "ExecuteTime": {
     "end_time": "2020-03-03T14:23:43.397778Z",
     "start_time": "2020-03-03T14:23:39.384612Z"
    },
    "hidden": true
   },
   "outputs": [],
   "source": [
    "# -------------------- Create Figure  -------------------- #                                \n",
    "fig, (ax1) = plt.subplots(1,1,figsize=(5,4),dpi=120, frameon=True)\n",
    "\n",
    "data = relaxArray(1100, 1121)\n",
    "ax1.plot(data[:,1],data[:,0], 'r.-', label=\"BTW, L=256\")\n",
    "\n",
    "data = relaxArray(1200, 1221)\n",
    "ax1.plot(data[:,1],data[:,0], 'b.-', label=\"Manna, L=256\")\n",
    "\n",
    "# data = relaxArray(1230, 1250)\n",
    "# ax1.plot(data[:,1],data[:,0], 'g.-', label=\"Manna, L=1024\")\n",
    "\n",
    "x = np.logspace(np.log10(data[0,1]), np.log10(data[-2,1]))\n",
    "ax1.plot(x,6*x**-0.9, 'k--', label='slope = 0.9')\n",
    "\n",
    "ax1.set_yscale('log'); ax1.set_xscale('log')\n",
    "ax1.set_xlabel(r'dissipation - $\\lambda$')\n",
    "ax1.set_ylabel(r'relax. time (sweeps) - $t_r$')\n",
    "ax1.legend(fontsize=9); \n",
    "ax1.grid()\n",
    "# ax1.set_title(\"Size distribution: L=\" + str(params[1]))\n",
    "plt.savefig(\"sp_crit_btwmanna_relaxTime\", dpi=240)\n",
    "plt.show()\n"
   ]
  },
  {
   "cell_type": "markdown",
   "metadata": {
    "hidden": true
   },
   "source": [
    "## Relaxation time ver. 2\n",
    "\n",
    "Measuring the number of super-critical sites as a function of time for a system initialized all super-critical (similar to in Nueron model Fig 7). \n",
    "\n",
    "We expect the following scaling relation:\n",
    "\\begin{equation}\n",
    "    \\rho \\sim t^{-\\alpha}\n",
    "\\end{equation}\n",
    "where $\\rho$ is the number (density) of active sites. "
   ]
  },
  {
   "cell_type": "code",
   "execution_count": null,
   "metadata": {
    "ExecuteTime": {
     "end_time": "2020-03-03T14:24:05.859743Z",
     "start_time": "2020-03-03T14:24:05.853680Z"
    },
    "hidden": true
   },
   "outputs": [],
   "source": [
    "def readRelax2(seed, filetype):\n",
    "    \"Read the file of tA (active sites over time) for given seed. \"\n",
    "    \n",
    "    with open(\"Data/sp\" + str(seed) + '_' + filetype + '.txt', \"r\") as f:\n",
    "        header=[x for x in next(f)]\n",
    "        params = [float(x) for x in next(f).split()]\n",
    "        array = [[float(x) for x in line.split()] for line in f]\n",
    "    sizeS = [x[0] for x in array]\n",
    "    params[1] = int(params[1])\n",
    "    \n",
    "    return np.asarray(sizeS), params"
   ]
  },
  {
   "cell_type": "code",
   "execution_count": null,
   "metadata": {
    "ExecuteTime": {
     "end_time": "2020-03-03T14:28:00.692120Z",
     "start_time": "2020-03-03T14:27:57.402734Z"
    },
    "hidden": true
   },
   "outputs": [],
   "source": [
    "# -------------------- Create Figure  -------------------- #\n",
    "fig1, (ax1) = plt.subplots(1,1,figsize=(6,4), dpi=120, frameon=True)\n",
    "color = iter( cm.rainbow( np.linspace(0,1,21) ) ) # List of different colors. numPoints --> No. of lines to plot\n",
    "for i in np.arange(1200, 1221, 1):  #Plot seeds 401-410, the ten lambda runs. \n",
    "    c = next( color )\n",
    "    activeSites, params = readRelax2(i, 'tA')\n",
    "    disp = params[2]\n",
    "    time = np.arange(1, len(activeSites)+1)\n",
    "    ax1.plot(time, activeSites, \n",
    "             color=c, label=r'$\\lambda$='+str(round(disp, 6)))\n",
    "\n",
    "# -- Decoration --\n",
    "ax1.set_ylabel(r'$\\rho(t; \\lambda)$',fontweight='bold'); \n",
    "ax1.set_xlabel('sweeps, $t$',fontweight='bold')\n",
    "# ax1.set_yscale('log'); \n",
    "ax1.set_xscale('log')\n",
    "ax1.legend(fontsize=7, loc=1, bbox_to_anchor=(1.275, 1.05))\n",
    "fig1.tight_layout()\n",
    "ax1.set_title(r\"Manna model, $L=256$\", fontweight='bold')\n",
    "plt.savefig('sp_crit_manna_relax.png', dpi=240)\n"
   ]
  },
  {
   "cell_type": "code",
   "execution_count": null,
   "metadata": {
    "ExecuteTime": {
     "end_time": "2020-03-03T14:28:39.291216Z",
     "start_time": "2020-03-03T14:28:36.040344Z"
    },
    "hidden": true
   },
   "outputs": [],
   "source": [
    "# -------------------- Create Figure  -------------------- #\n",
    "fig1, (ax1) = plt.subplots(1,1,figsize=(6,4), dpi=120, frameon=True)\n",
    "color = iter( cm.rainbow( np.linspace(0,1,21) ) ) # List of different colors. numPoints --> No. of lines to plot\n",
    "for i in np.arange(1100, 1121, 1):  #Plot seeds 401-410, the ten lambda runs. \n",
    "    c = next( color )\n",
    "    activeSites, params = readRelax2(i, 'tA')\n",
    "    disp = params[2]\n",
    "    time = np.arange(1, len(activeSites)+1)\n",
    "    ax1.plot(time, activeSites, \n",
    "             color=c, label=r'$\\lambda$='+str(round(disp, 6)))\n",
    "\n",
    "# -- Decoration --\n",
    "ax1.set_ylabel(r'$\\rho(t; \\lambda)$',fontweight='bold'); \n",
    "ax1.set_xlabel('sweeps, $t$',fontweight='bold')\n",
    "# ax1.set_yscale('log'); \n",
    "ax1.set_xscale('log')\n",
    "ax1.legend(fontsize=7, loc=1, bbox_to_anchor=(1.275, 1.05))\n",
    "fig1.tight_layout()\n",
    "ax1.set_title(r\"BTW model, $L=256$\", fontweight='bold')\n",
    "plt.savefig('sp_crit_btw_relax.png', dpi=240)\n"
   ]
  },
  {
   "cell_type": "markdown",
   "metadata": {},
   "source": [
    "# BTW Sandpile model ('final')\n",
    "\n",
    "These runs have seed \n",
    "\n",
    "    900-920\n",
    "    \n",
    "They are more 'final' runs to compuate the critical properties of the BTW sandpile model. "
   ]
  },
  {
   "cell_type": "markdown",
   "metadata": {
    "hidden": true
   },
   "source": [
    "## Scaling plots as $\\lambda \\to 0$\n",
    "\n",
    "Fitting the the function\n",
    "\n",
    "\\begin{equation}\n",
    "    N_s(s,L) \\sim s^{-\\tau} e^{-s/L^{D_f}} e^{-\\lambda s^\\sigma}\n",
    "\\end{equation}\n",
    "\n",
    "we use previous results from FSS to set $D_f \\approx 2.1$. We then take the $log_{10}$ of the expression above and fit to that:\n",
    "\n",
    "\\begin{align}\n",
    "    \\log_{10}[N_s(s,L)] = A - \\tau \\log_{10}[s] - \\frac{ sL^{-D_f} }{\\log[10]} - \\frac{\\lambda s^\\sigma}{\\log[10]} \\\\\n",
    "\\end{align}\n",
    "\n",
    "in the code, we fit according to $x = \\log_{10}(s)$, which in the above formula corresponds to\n",
    "\\begin{align}\n",
    "    \\log_{10}[N_s(s,L)] = A - \\tau x - \\frac{ 10^x L^{-D_f} }{\\log[10]} - \\frac{\\lambda 10^{x\\sigma}}{\\log[10]} \\\\\n",
    "\\end{align}"
   ]
  },
  {
   "cell_type": "markdown",
   "metadata": {
    "heading_collapsed": true,
    "hidden": true
   },
   "source": [
    "### Fitting for the $\\tau$ exponent first:"
   ]
  },
  {
   "cell_type": "code",
   "execution_count": null,
   "metadata": {
    "ExecuteTime": {
     "end_time": "2020-03-31T00:09:55.369648Z",
     "start_time": "2020-03-31T00:09:46.297614Z"
    },
    "hidden": true
   },
   "outputs": [],
   "source": [
    "def plotD_plotSizes(seed, c):\n",
    "    \n",
    "    ## Sizes w/ double counting\n",
    "    x,y,params = plotSizes(seed, filetype='s');  x = np.log10(x); y = np.log10(y)\n",
    "\n",
    "    za, cova = np.polyfit(x[6:16], y[6:16], 1, cov=True)\n",
    "    pa = np.poly1d(za)\n",
    "    perra = np.sqrt(np.diag(cova))\n",
    "    xpa = np.linspace(x[6], x[16],40)\n",
    "    ax1.plot(xpa, pa(xpa),linestyle='--', color='grey', \n",
    "             label=r'$\\tau_s = $'+str(round(-za[0],3))+'$\\pm$'+str(round(perra[0], 4)))\n",
    "    ax1.fill_between(xpa, -10, 0, \n",
    "                    facecolor='red', alpha=0.3)\n",
    "    \n",
    "    # ---------------------------------------------------- #\n",
    "    ax1.plot(x, y, '.', color=c, label = r\"$\\lambda=$\"+str(round(params[2],6)))\n",
    "    taus = round(-za[0],3)\n",
    "    errors = round(perra[0], 4)\n",
    "    \n",
    "    \n",
    "    ## Sizes w/o double counting\n",
    "    x,y,params = plotSizes(seed, filetype='a');  x = np.log10(x); y = np.log10(y)\n",
    "\n",
    "    za, cova = np.polyfit(x[6:16], y[6:16], 1, cov=True)\n",
    "    pa = np.poly1d(za)\n",
    "    perra = np.sqrt(np.diag(cova))\n",
    "    xpa = np.linspace(x[6], x[16],40)\n",
    "    ax3.plot(xpa, pa(xpa),linestyle='--', color='grey', \n",
    "             label=r'$\\tau_a = $'+str(round(-za[0],3))+'$\\pm$'+str(round(perra[0], 4)))\n",
    "    ax3.fill_between(xpa, -10, 0, \n",
    "                    facecolor='red', alpha=0.3)\n",
    "    # ---------------------------------------------------- #\n",
    "    ax3.plot(x, y, '.', color=c, label = r\"$\\lambda=$\"+str(round(params[2],6)))\n",
    "    taua = round(-za[0],3)\n",
    "    errora = round(perra[0], 4)\n",
    "    \n",
    "    ## Durations\n",
    "    x,y,params = plotSizes(seed, filetype='d');  x = np.log10(x); y = np.log10(y)\n",
    "    \n",
    "    za, cova = np.polyfit(x[6:16], y[6:16], 1, cov=True)\n",
    "    pa = np.poly1d(za)\n",
    "    perra = np.sqrt(np.diag(cova))\n",
    "    xpa = np.linspace(x[6], x[16],40)\n",
    "    ax2.plot(xpa, pa(xpa),linestyle='--', color='grey', \n",
    "             label=r'$\\tau_D = $'+str(round(-za[0],3))+'$\\pm$'+str(round(perra[0], 4)))\n",
    "    ax2.fill_between(xpa, -10, 0, \n",
    "                    facecolor='red', alpha=0.3)\n",
    "    # ---------------------------------------------------- #\n",
    "    ax2.plot(x, y, '.', color=c,label = r\"$\\lambda=$\"+str(round(params[2],6)))\n",
    "    taud = round(-za[0],3)\n",
    "    errord = round(perra[0], 4)\n",
    "    \n",
    "    print(params)\n",
    "\n",
    "    return params[2], [taus, taua, taud], [errors, errora, errord]\n",
    "\n",
    "\n",
    "\n",
    "# -------------------- Create Figure  -------------------- #\n",
    "\n",
    "exponents = []; error = []; lambdas = []\n",
    "fig1, (ax1) = plt.subplots(1,1,figsize=(5,4), dpi=120, frameon=True)\n",
    "fig3, (ax3) = plt.subplots(1,1,figsize=(5,4), dpi=120, frameon=True)\n",
    "fig2, (ax2) = plt.subplots(1,1,figsize=(5,4), dpi=120, frameon=True)\n",
    "\n",
    "lamb, new_exp, new_err = plotD_plotSizes(920, 'r')\n",
    "exponents += [new_exp]; error += [new_err]; lambdas += [lamb]\n",
    "\n",
    "# -- Decoration --\n",
    "ax1.set_ylabel(r'$N_s(s,L)$',fontweight='bold'); ax1.set_xlabel('size, $s$',fontweight='bold')\n",
    "ax2.set_ylabel(r'$N_d(d,L)$',fontweight='bold'); ax2.set_xlabel('duration, $d$',fontweight='bold')\n",
    "ax3.set_ylabel(r'$N_a(a,L)$',fontweight='bold'); ax3.set_xlabel('size, $a$',fontweight='bold')\n",
    "ax1.legend(loc=1, fontsize=7)\n",
    "ax2.legend(loc=1, fontsize=7)\n",
    "ax3.legend(loc=1, fontsize=7)\n",
    "# ax2.set_ylim(top=7)\n",
    "fig1.tight_layout(); fig2.tight_layout(); fig3.tight_layout()"
   ]
  },
  {
   "cell_type": "markdown",
   "metadata": {
    "heading_collapsed": true,
    "hidden": true
   },
   "source": [
    "### Scaling Plots w/o data collapse\n",
    "\n",
    "and fitting to the exponents using a nonlinear curve-fit. "
   ]
  },
  {
   "cell_type": "code",
   "execution_count": null,
   "metadata": {
    "ExecuteTime": {
     "end_time": "2020-04-04T19:01:36.677136Z",
     "start_time": "2020-04-04T19:01:36.654705Z"
    },
    "hidden": true
   },
   "outputs": [],
   "source": [
    "def func(s, tau, sigma, A, lambd):\n",
    "    return A - tau * s - lambd * (10**s)**sigma  / np.log(10) # - 10**s * 256**(-2.2) / np.log(10)\n",
    "\n",
    "def func_sizeC(s, tau, s_c, A):\n",
    "    return A - tau * s -  10**(s) / s_c / np.log(10)\n",
    "\n",
    "def plotD_plotSizes(seed, c):\n",
    "    \n",
    "    ## Sizes w/ double counting\n",
    "    x,y,params = plotSizes(seed, filetype='s');  x = np.log10(x); y = np.log10(y)\n",
    "    # ------ Fitting to compute avalanche exponents ------ #\n",
    "    tau = 1.08; er = 0.123\n",
    "    initGuess = np.asarray([tau, 1, 0])\n",
    "    paramBounds =         ((tau-er, -1e10, -100),\n",
    "                           (tau+er, 1e10,   100))\n",
    "    popt, pcov = curve_fit(func_sizeC, x[2:], y[2:], p0=initGuess, bounds=paramBounds)\n",
    "    perr = np.sqrt(np.diag(pcov))\n",
    "    # ---------------------------------------------------- #\n",
    "    ax1.plot(x, y, '.', color=c, label = r\"$\\lambda=$\"+str(round(params[2],6)))\n",
    "#     ax1.plot(x, func_sizeC(x, *popt), color=c)\n",
    "    ax1.plot(np.linspace(0,6), -1.203 * np.linspace(0,6), 'k--')\n",
    "    \n",
    "    \n",
    "    ## Sizes w/o double counting\n",
    "    x,y,params = plotSizes(seed, filetype='a');  x = np.log10(x); y = np.log10(y)\n",
    "    # ------ Fitting to compute avalanche exponents ------ #\n",
    "    tau = 1.075; er = 0.121\n",
    "    initGuess = np.asarray([tau, 1, 0])\n",
    "    paramBounds =         ((tau-er, -1e10, -100),\n",
    "                           (tau+er, 1e10,   100))\n",
    "    popt3, pcov3 = curve_fit(func_sizeC, x[2:], y[2:], p0=initGuess, bounds=paramBounds)\n",
    "    perr3 = np.sqrt(np.diag(pcov3))\n",
    "    # ---------------------------------------------------- #\n",
    "    ax3.plot(x, y, '.', color=c, label = r\"$\\lambda=$\"+str(round(params[2],6)))\n",
    "#     ax3.plot(x, func_sizeC(x, *popt3), color=c)\n",
    "    ax3.plot(np.linspace(0,4.5), -1.162 * np.linspace(0,4.5), 'k--')\n",
    "    \n",
    "    \n",
    "    ## Durations\n",
    "    x,y,params = plotSizes(seed, filetype='d');  x = np.log10(x); y = np.log10(y)\n",
    "    # ------ Fitting to compute avalanche exponents ------ #\n",
    "    tau = 1.142; er = 0.127\n",
    "    initGuess = np.asarray([tau, 1,    1])\n",
    "    paramBounds =         ((tau-er, -1e8, -100), \n",
    "                           (tau+er, 1e8,  100))\n",
    "    popt2, pcov2 = curve_fit(func_sizeC, x, y, p0=initGuess, bounds=paramBounds)\n",
    "    perr2 = np.sqrt(np.diag(pcov2))\n",
    "    # ---------------------------------------------------- #\n",
    "    ax2.plot(x, y, '.', color=c,label = r\"$\\lambda=$\"+str(round(params[2],6)))\n",
    "#     ax2.plot(x, func_sizeC(x, *popt2), color=c)\n",
    "    ax2.plot(np.linspace(0,4), -1.281 * np.linspace(0,4), 'k--')\n",
    "    \n",
    "    \n",
    "    return params[2], [popt[0], popt[1],popt2[0], popt2[1],popt3[0], popt3[1]], [perr[0], perr[1], perr2[0], perr2[1], perr3[0], perr3[1]]\n"
   ]
  },
  {
   "cell_type": "code",
   "execution_count": null,
   "metadata": {
    "ExecuteTime": {
     "end_time": "2020-04-04T19:02:25.696733Z",
     "start_time": "2020-04-04T19:01:45.689456Z"
    },
    "hidden": true
   },
   "outputs": [],
   "source": [
    "# -------------------- Create Figure  -------------------- #\n",
    "seedrange = np.arange(908,920, 4)\n",
    "seedrange = [903, 907, 911, 915]\n",
    "\n",
    "exponents = []; error = []; lambdas = []\n",
    "fig1, (ax1) = plt.subplots(1,1,figsize=(4, 3.5), dpi=120, frameon=True)\n",
    "fig3, (ax3) = plt.subplots(1,1,figsize=(4, 3.5), dpi=120, frameon=True)\n",
    "fig2, (ax2) = plt.subplots(1,1,figsize=(4, 3.5), dpi=120, frameon=True)\n",
    "color = iter( cm.rainbow( np.linspace(0,1,len(seedrange)) ) ) # List of different colors. numPoints --> No. of lines to plot\n",
    "for i in seedrange:  #Plot seeds 401-410, the ten lambda runs. \n",
    "    c = next( color )\n",
    "    lamb, new_exp, new_err = plotD_plotSizes(i, c)\n",
    "    exponents += [new_exp]; error += [new_err]; lambdas += [lamb]\n",
    "\n",
    "# -- Decoration --\n",
    "ax1.set_ylabel(r'$\\log N_s(s,L)$',fontweight='bold'); ax1.set_xlabel('size, $\\log s$',fontweight='bold')\n",
    "ax2.set_ylabel(r'$\\log N_d(d,L)$',fontweight='bold'); ax2.set_xlabel('duration, $\\log d$',fontweight='bold')\n",
    "ax3.set_ylabel(r'$\\log N_a(a,L)$',fontweight='bold'); ax3.set_xlabel('size, $\\log a$',fontweight='bold')\n",
    "ax1.legend(loc=1, fontsize=9)\n",
    "ax2.legend(loc=1, fontsize=9)\n",
    "ax3.legend(loc=1, fontsize=9)\n",
    "\n",
    "    \n",
    "\n",
    "# ax2.set_ylim(top=7)\n",
    "# fig1.tight_layout(); fig2.tight_layout(); fig3.tight_layout()\n",
    "\n",
    "fig1.savefig('Plots/sp_crit_btw_s.png', dpi=240)\n",
    "fig2.savefig('Plots/sp_crit_btw_D.png', dpi=240)\n",
    "fig3.savefig('Plots/sp_crit_btw_a.png', dpi=240)\n"
   ]
  },
  {
   "cell_type": "markdown",
   "metadata": {
    "heading_collapsed": true,
    "hidden": true
   },
   "source": [
    "### Characteristic size and $\\sigma$ exponent\n",
    "\n",
    "Below we compute the critical exponents using the prescription of fitting to characteristic avalanche size/duration and extracting the $\\sigma$ exponent from this. "
   ]
  },
  {
   "cell_type": "code",
   "execution_count": null,
   "metadata": {
    "ExecuteTime": {
     "end_time": "2020-03-28T19:12:19.292757Z",
     "start_time": "2020-03-28T19:12:02.037110Z"
    },
    "hidden": true
   },
   "outputs": [],
   "source": [
    "# ---------- Plot of Exponents while lambda -> 0 --------- #\n",
    "# ---------- Fitting to compute \\sigma's  ---------------- #\n",
    "\n",
    "slopeS, interceptS, r_valueS, p_valueS, std_errS = stats.linregress(np.log(np.asarray(lambdas))[1:-10],np.log(np.asarray(exponents))[1:-10,1])\n",
    "slopeA, interceptA, r_valueA, p_valueA, std_errS = stats.linregress(np.log(np.asarray(lambdas))[1:-10],np.log(np.asarray(exponents))[1:-10,5])\n",
    "slopeD, interceptD, r_valueD, p_valueD, std_errD = stats.linregress(np.log(np.asarray(lambdas))[1:-10],np.log(np.asarray(exponents))[1:-10,3])\n",
    "\n",
    "xs = np.logspace(-4,-1,100)\n",
    "lineS = slopeS * np.log10(xs) + interceptS\n",
    "lineA = slopeA * np.log10(xs) + interceptA\n",
    "lineD = slopeD * np.log10(xs) + interceptD\n",
    "\n",
    "\n",
    "# -------------------- Create Figure  -------------------- #\n",
    "fig, (ax1, ax2) = plt.subplots(1,2,figsize=(8,3.5), dpi=120, frameon=True)\n",
    "ax1.plot(np.asarray(lambdas),np.asarray(exponents)[:,0], 'r-o', label=r'$\\tau_s$')\n",
    "ax1.plot(np.asarray(lambdas),np.asarray(exponents)[:,2], 'b-o', label=r'$\\tau_D$')\n",
    "ax1.plot(np.asarray(lambdas),np.asarray(exponents)[:,4], 'g-o', label=r'$\\tau_a$')\n",
    "\n",
    "ax2.plot(np.asarray(lambdas),np.asarray(exponents)[:,1],\n",
    "             'r-o', label=r'$s_c$ w/ $\\sigma_s \\approx$' + str(round(-1/slopeS, 4)))\n",
    "ax2.plot(np.asarray(lambdas),np.asarray(exponents)[:,3],\n",
    "             'b-o', label=r'$D_c$ w/ $\\sigma_D \\approx $' + str(round(-1/slopeD, 4)))\n",
    "ax2.plot(np.asarray(lambdas),np.asarray(exponents)[:,5],\n",
    "             'g-o', label=r'$a_c$ w/ $\\sigma_a \\approx $' + str(round(-1/slopeA, 4)))\n",
    "\n",
    "# print(-1/slopeS, -1/slopeD)\n",
    "ax2.plot(xs, 10**lineS, '--', color='red')\n",
    "ax2.plot(xs, 10**lineD, '--', color='blue')\n",
    "ax2.plot(xs, 10**lineA, '--', color='green')\n",
    "\n",
    "# -- Decoration --\n",
    "ax1.legend(loc=3, fontsize=9); \n",
    "ax2.legend(loc=3, fontsize=9); \n",
    "ax1.set_xscale('log'); ax1.set_xlabel('$\\lambda$')\n",
    "ax2.set_xscale('log'); ax2.set_yscale('log'); ax2.set_xlabel('$\\lambda$')\n",
    "fig.suptitle(r\"Exponents for $N_x(x,L) \\sim x^{-\\tau}e^{-x/x_c(\\lambda)}$ w/ $x_c  \\sim \\epsilon^{-1/\\sigma_x}$\", fontweight='bold', y=1.02)\n",
    "# fig.savefig('sp_crit_btw_exps', dpi=240)\n",
    "plt.show()"
   ]
  },
  {
   "cell_type": "code",
   "execution_count": null,
   "metadata": {
    "ExecuteTime": {
     "end_time": "2020-04-02T20:36:00.358505Z",
     "start_time": "2020-04-02T20:35:52.506845Z"
    },
    "hidden": true
   },
   "outputs": [],
   "source": [
    "# print(exponents, error)\n",
    "lambdas = [0.100000001, 0.0545559004, 0.0297634993, 0.0162377991, 0.00885870028, 0.00483290013, 0.00263669994, 0.00143840001, 0.00078479998, 0.0004281, 0.000233600003, 0.000127399995, 6.94999981e-05, 3.79000012e-05, 2.06999994e-05, 1.12999996e-05, 6.19999992e-06, 3.39999997e-06, 1.79999995e-06, 9.99999997e-07]\n",
    "exponents = [[0.9570000000000002, 12.61080407664912, 1.0150000000000003, 4.052789177515682, 0.9540000000000001, 11.88900503674474], [0.9570000000000002, 24.12775372167678, 1.0150000000000001, 6.252609476260731, 0.9540000000000001, 23.614012534871904], [0.9570000000000003, 45.22692090747746, 1.0150000000000001, 9.359471231287806, 0.9540000000000001, 42.866484920477085], [0.9570000000000002, 87.70790363387802, 1.0150000000000001, 13.929148529360734, 0.9540000000000001, 79.43162616087798], [0.9570000000000002, 171.70474901496962, 1.0150000000000001, 21.682320359746864, 0.9540000000000001, 142.25621858633343], [0.9570000000000002, 357.4350630155103, 1.0150000000000001, 31.41372396414024, 0.9540000000000001, 279.8839529148057], [0.9570000000000002, 713.0323457108133, 1.0150000000000001, 45.34343447947397, 0.9540000000000001, 468.82938109903995], [0.9570000000000002, 1342.3272751537415, 1.0150000000000001, 67.856726462309, 0.9540000000000007, 771.8934587753394], [0.9738102296977198, 2475.840658292559, 1.0150000000000001, 94.42161117004751, 0.9540000000000001, 1144.8145186004344], [1.0147789437086403, 4457.965178129168, 1.015000000000001, 124.19584783452505, 0.9540000000000001, 1881.0434256235133], [1.0259280351009419, 6607.638070795759, 1.0150000000000001, 184.8085496025376, 0.9540000000000001, 2771.633860538995], [1.021895165663645, 8374.774521514779, 1.0150000000000035, 213.679071198371, 0.9540000000000001, 1808.3372245748938], [1.0474568105160733, 11028.826741056926, 1.0150000000000012, 235.97686688858934, 0.9540000000000001, 2377.2361658991517], [1.0322805920970823, 11592.260824031553, 1.0150000000000001, 253.3901829454813, 0.9540000000000001, 2541.645742110839], [1.043492608941865, 12717.538048145952, 1.0150000000000001, 287.6164282570088, 0.9540000000000001, 2682.4407976994244], [1.051420506472148, 13682.93241871642, 1.0150000000000001, 288.15838567645164, 0.9540000000000001, 2818.8008747946087], [1.0757017163564322, 15261.77433885351, 1.0150000000000001, 290.1677447710125, 0.9540000000000001, 2873.946919736512], [1.053476024162264, 14167.554223884568, 1.0150000000000001, 294.7925898691035, 0.9540000000000001, 2858.6191388633965], [1.0430437861818964, 13573.152142359348, 1.0150000000000001, 293.6937718647803, 0.9540000000000001, 2803.2829916697706], [1.0515584183520885, 14215.427449593779, 1.0150000000000001, 293.748445226956, 0.9540000000000001, 2939.4432973667854]]\n",
    "\n",
    "\n",
    "# ---------- Plot of Exponents while lambda -> 0 --------- #\n",
    "# ---------- Fitting to compute \\sigma's  ---------------- #\n",
    "\n",
    "slopeS, interceptS, r_valueS, p_valueS, std_errS = stats.linregress(np.log(np.asarray(lambdas))[1:-10],np.log(np.asarray(exponents))[1:-10,1])\n",
    "slopeA, interceptA, r_valueA, p_valueA, std_errS = stats.linregress(np.log(np.asarray(lambdas))[1:-10],np.log(np.asarray(exponents))[1:-10,5])\n",
    "slopeD, interceptD, r_valueD, p_valueD, std_errD = stats.linregress(np.log(np.asarray(lambdas))[1:-10],np.log(np.asarray(exponents))[1:-10,3])\n",
    "\n",
    "xs = np.logspace(-4,-1,100)\n",
    "lineS = slopeS * np.log10(xs) + interceptS\n",
    "lineA = slopeA * np.log10(xs) + interceptA\n",
    "lineD = slopeD * np.log10(xs) + interceptD\n",
    "\n",
    "\n",
    "# -------------------- Create Figure  -------------------- #\n",
    "fig1, (ax1) = plt.subplots(1,1,figsize=(4, 4), dpi=120, frameon=True)\n",
    "fig2, (ax2) = plt.subplots(1,1,figsize=(4, 4), dpi=120, frameon=True)\n",
    "fig3, (ax3) = plt.subplots(1,1,figsize=(4, 4), dpi=120, frameon=True)\n",
    "\n",
    "ax1.plot(np.asarray(lambdas),np.asarray(exponents)[:,1], 'ro-', \n",
    "         label=r'$\\sigma_s \\approx $' + str(round(-1/slopeS, 4)) + '$\\pm$' + str(round(std_errS, 4)))\n",
    "ax2.plot(np.asarray(lambdas),np.asarray(exponents)[:,3],'go-', \n",
    "         label=r'$\\sigma_D \\approx $' + str(round(-1/slopeD, 4)) + '$\\pm$' + str(round(std_errD, 4)))\n",
    "ax3.plot(np.asarray(lambdas),np.asarray(exponents)[:,5],'bo-', \n",
    "         label=r'$\\sigma_a \\approx $' + str(round(-1/slopeA, 4)) + '$\\pm$' + str(round(std_errA, 4)))\n",
    "\n",
    "# print(-1/slopeS, -1/slopeD)\n",
    "ax1.plot(xs, 10**lineS, '--', color='red')\n",
    "ax2.plot(xs, 10**lineD, '--', color='green')\n",
    "ax3.plot(xs, 10**lineA, '--', color='blue')\n",
    "\n",
    "# -- Decoration --\n",
    "ax1.legend(loc=2, fontsize=9); \n",
    "ax2.legend(loc=2, fontsize=9); \n",
    "ax3.legend(loc=2, fontsize=9); \n",
    "ax1.set_xscale('log'); ax1.set_yscale('log'); ax1.set_xlabel('dissipation, $\\lambda$'); ax1.set_ylabel('$s_c$')\n",
    "ax2.set_xscale('log'); ax2.set_yscale('log'); ax2.set_xlabel('dissipation, $\\lambda$'); ax2.set_ylabel('$D_c$')\n",
    "ax3.set_xscale('log'); ax3.set_yscale('log'); ax3.set_xlabel('dissipation, $\\lambda$'); ax3.set_ylabel('$a_c$')\n",
    "# fig.suptitle(r\"Critical exponents consistency check for $N(s,L) \\sim s^{-\\tau}e^{-s/s_c(\\lambda)}$\", fontweight='bold', y=1.02)\n",
    "# plt.show()\n",
    "\n",
    "fig1.savefig('Plots/sp_crit_btw_s_sigma.png', dpi=240)\n",
    "fig2.savefig('Plots/sp_crit_btw_D_sigma.png', dpi=240)\n",
    "fig3.savefig('Plots/sp_crit_btw_a_sigma.png', dpi=240)"
   ]
  },
  {
   "cell_type": "markdown",
   "metadata": {
    "hidden": true
   },
   "source": [
    "### Re-scaled scaling plots (data collapse)\n",
    "\n",
    "\n",
    "Plotting the following axis:\n",
    "\\begin{equation}\n",
    "    N(x) x^{\\tau_x} = h(x / \\lambda^{1/\\sigma_x})\n",
    "\\end{equation}\n",
    "where we expect to see data collapse since $h(.)$ should be a universal function independent of $\\lambda$ other than the single argument. \n",
    "\n",
    "We also expect that $h(x) = \\exp[x]$, at least from previous results (e.g. the neuron paper). \n"
   ]
  },
  {
   "cell_type": "code",
   "execution_count": null,
   "metadata": {
    "ExecuteTime": {
     "end_time": "2020-03-26T20:42:52.372739Z",
     "start_time": "2020-03-26T20:42:52.363934Z"
    },
    "execution": {
     "iopub.execute_input": "2020-05-22T18:14:44.842Z",
     "iopub.status.busy": "2020-05-22T18:14:44.817Z",
     "iopub.status.idle": "2020-05-22T18:14:44.880Z",
     "shell.execute_reply": "2020-05-22T18:14:44.903Z"
    },
    "hidden": true
   },
   "outputs": [],
   "source": [
    "\n",
    "# 1.211847389558233 2.7751004016064256\n",
    "# 1.1716867469879517 2.0281124497991967\n",
    "# 1.2720883534136547 1.5783132530120483\n",
    "\n",
    "def plotD_plotSizes_rescaled(seed, c):\n",
    "    \n",
    "    ## Sizes w/ double counting\n",
    "    x,y,params = plotSizes(seed, filetype='s');  \n",
    "#     x = np.log10(x);     y = np.log10(y)\n",
    "    lambd = params[2];\n",
    "    tau = 1.203; sigma = 1.09143\n",
    "    ax1.plot(x * lambd**(1/sigma), y * lambd**(-tau/sigma) , '.-', color=c, label = r\"$\\lambda=$\"+str(round(lambd,6)))\n",
    "    \n",
    "    \n",
    "    ## Sizes w/o double counting\n",
    "    x,y,params = plotSizes(seed, filetype='a');  \n",
    "#     x = np.log10(x); y = np.log10(y)\n",
    "    lambd = params[2];\n",
    "    tau = 1.179; sigma = 1.0982\n",
    "    ax2.plot(x * lambd**(1/sigma), y * lambd**(-tau/sigma) , '.-', color=c, label = r\"$\\lambda=$\"+str(round(lambd,6)))\n",
    "    \n",
    "    \n",
    "    ## Durations\n",
    "    x,y,params = plotSizes(seed, filetype='d');  \n",
    "#     x = np.log10(x); y = np.log10(y)\n",
    "    lambd = params[2];\n",
    "    tau = 1.281; sigma = 1.595\n",
    "    ax3.plot(x * lambd**(1/sigma), y * lambd**(-tau/sigma) , '.-', color=c, label = r\"$\\lambda=$\"+str(round(lambd,6)))\n",
    "\n",
    "    "
   ]
  },
  {
   "cell_type": "code",
   "execution_count": null,
   "metadata": {
    "ExecuteTime": {
     "end_time": "2020-03-26T20:43:54.940423Z",
     "start_time": "2020-03-26T20:42:54.190501Z"
    },
    "execution": {
     "iopub.execute_input": "2020-05-22T18:30:12.248Z",
     "iopub.status.busy": "2020-05-22T18:30:12.116Z",
     "iopub.status.idle": "2020-05-22T18:32:53.786Z",
     "shell.execute_reply": "2020-05-22T18:32:53.941Z"
    },
    "hidden": true
   },
   "outputs": [],
   "source": [
    "# -------------------- Create Figure  -------------------- #\n",
    "\n",
    "seedrange = np.arange(900,912,1)\n",
    "\n",
    "exponents = []; error = []; lambdas = []\n",
    "# fig1, (ax1) = plt.subplots(1,1,figsize=(5,4), dpi=120, frameon=True)\n",
    "# fig3, (ax3) = plt.subplots(1,1,figsize=(5,4), dpi=120, frameon=True)\n",
    "# fig2, (ax2) = plt.subplots(1,1,figsize=(5,4), dpi=120, frameon=True)\n",
    "\n",
    "fig, (ax1, ax2, ax3) = plt.subplots(1,3,figsize=(15,5), dpi=240, frameon=True)\n",
    "color = iter( cm.rainbow( np.linspace(0,1,len(seedrange)) ) ) # List of different colors. numPoints --> No. of lines to plot\n",
    "for i in seedrange: \n",
    "    c = next( color )\n",
    "    plotD_plotSizes_rescaled(i, c)\n",
    "\n",
    "    \n",
    "# -- Decoration --\n",
    "\n",
    "ax1.set_ylabel(r'$N_s(s,L)$',fontweight='bold'); ax1.set_xlabel('size, $s$',fontweight='bold')\n",
    "ax2.set_ylabel(r'$N_d(d,L)$',fontweight='bold'); ax2.set_xlabel('duration, $d$',fontweight='bold')\n",
    "ax3.set_ylabel(r'$N_a(a,L)$',fontweight='bold'); ax3.set_xlabel('size, $a$',fontweight='bold')\n",
    "ax1.set_xscale('log'); \n",
    "ax1.set_yscale('log')\n",
    "ax2.set_xscale('log'); \n",
    "ax2.set_yscale('log')\n",
    "ax3.set_xscale('log'); \n",
    "ax3.set_yscale('log')\n",
    "ax1.legend(loc=1, fontsize=6)\n",
    "ax2.legend(loc=1, fontsize=6)\n",
    "ax3.legend(loc=1, fontsize=6)\n",
    "# fig1.tight_layout(); fig2.tight_layout(); fig3.tight_layout()\n",
    "# ax1.set_title('BTW, L='+params[1])\n",
    "# ax2.set_title('BTW, L='+params[1])\n",
    "# ax3.set_title('BTW, L='+params[1])\n",
    "\n",
    "# fig1.savefig('sp_crit_btw_s.png', dpi=240)\n",
    "# fig2.savefig('sp_crit_btw_D.png', dpi=240)\n",
    "# fig3.savefig('sp_crit_btw_a.png', dpi=240)"
   ]
  },
  {
   "cell_type": "markdown",
   "metadata": {
    "hidden": true
   },
   "source": [
    "### Searching for exponents which produce data collapse \n",
    "\n",
    "Perform the same methods used in the FSS data collapse to find good data collapse with this criticality form. \n"
   ]
  },
  {
   "cell_type": "code",
   "execution_count": null,
   "metadata": {
    "hidden": true
   },
   "outputs": [],
   "source": [
    "# -------------------- Fitting to FSS  -------------------- #\n",
    "def plotFSS_1(seed, c, tau, d, filetype):\n",
    "    \"\"\" seed - seed of run to plot\n",
    "        c - color of the line being plotted\n",
    "        tau, d - exponents for rescaling\n",
    "        filetype - which quantity to plot / file to draw from\n",
    "    \"\"\"    \n",
    "    x,y,params = plotSizes(seed, filetype);  #x = np.log10(x); y = np.log10(y)\n",
    "    lambd = float(params[2])\n",
    "    ax1.plot(x * lambd**(1/sigma), y * lambd**(-tau/sigma), \n",
    "             '.-', color=c, label = \"L=\"+str(params[1]))\n",
    "             \n",
    "             \n",
    "def diff_1(tau, d,  x1,y1,params1,  x2,y2,params2,  filetype, plotYes):\n",
    "    \"\"\" Computes the difference w/ rescaled axis of two given runs with a given exponent set. Seed1/2 are the seeds of our desired runs.\"\"\"\n",
    "    \n",
    "    x1_r = np.log10(x1 * float(params1[2])**(1/d)) \n",
    "    y1_r = np.log10(y1 * float(params1[2])**(-tau/d))\n",
    "\n",
    "    x2_r = np.log10(x2 * float(params2[2])**(1/d)) \n",
    "    y2_r = np.log10(y2 * float(params2[2])**(-tau/d))\n",
    "    \n",
    "    if plotYes==True:\n",
    "        plotPolyFit(x1_r, y1_r, x2_r, y2_r)\n",
    "\n",
    "    Xstart = max(x1_r[0], x2_r[0])\n",
    "    Xend = min(x1_r[-1], x2_r[-1])\n",
    "#     with warnings.catch_warnings():\n",
    "#         warnings.simplefilter('ignore', np.RankWarning)\n",
    "    z1 = np.polyfit(x1_r, y1_r, 10)\n",
    "    z2 = np.polyfit(x2_r, y2_r, 10)\n",
    "    p1 = np.poly1d(z1)\n",
    "    p2 = np.poly1d(z2)\n",
    "    xp = np.linspace(Xstart,Xend, 100)\n",
    "\n",
    "    return np.sqrt( np.sum( (p2(xp) - p1(xp))**2 ) )\n",
    "\n",
    "\n",
    "def plotPolyFit(x1_r, y1_r, x2_r, y2_r):\n",
    "\n",
    "    Xstart = max(x1_r[0], x2_r[0])\n",
    "    Xend = min(x1_r[-1], x2_r[-1])\n",
    "\n",
    "    z1 = np.polyfit(x1_r, y1_r, 10)\n",
    "    z2 = np.polyfit(x2_r, y2_r, 10)\n",
    "    p1 = np.poly1d(z1)\n",
    "    p2 = np.poly1d(z2)\n",
    "    xp = np.linspace(Xstart,Xend, 100)\n",
    "\n",
    "    fig1, ax1 = plt.subplots(1,1,figsize=(4, 3.5), dpi=120,frameon=False)\n",
    "    ax1.plot(x1_r, y1_r, 'r-')\n",
    "    ax1.plot(xp, p1(xp), 'r--')\n",
    "    ax1.plot(x2_r, y2_r, 'b-')\n",
    "    ax1.plot(xp, p2(xp), 'b--')\n",
    "    fig.show()\n",
    "\n",
    "    \n",
    "def diffoverRange(tauRange, dRange, seed1, seed2, filetype, plotYes):\n",
    "    x1,y1,params1 = plotSizes(seed1, filetype)\n",
    "    x2,y2,params2 = plotSizes(seed2, filetype)\n",
    "    \n",
    "    Z = np.zeros((len(tauRange), len(dRange)))\n",
    "    for xxx in range(len(tauRange)):\n",
    "        for yyy in range(len(dRange)):\n",
    "            Z[xxx, yyy] = diff_1(tauRange[xxx], dRange[yyy],  x1,y1,params1,  x2,y2,params2,  filetype, plotYes)\n",
    "    return Z\n",
    "\n",
    "def find_min_idx(x):\n",
    "    k = x.argmin()\n",
    "    ncol = x.shape[1]\n",
    "    return k//ncol, k%ncol"
   ]
  },
  {
   "cell_type": "code",
   "execution_count": null,
   "metadata": {
    "hidden": true
   },
   "outputs": [],
   "source": [
    "tauRange = np.linspace(0.75, 2, 150)\n",
    "sigmaRange = np.linspace(0.75, 2, 150)\n",
    "\n",
    "Zs = diffoverRange(tauRange, sigmaRange, 907, 910, 's', plotYes=False)\n",
    "Za = diffoverRange(tauRange, sigmaRange, 907, 910, 'a', plotYes=False)\n",
    "Zd = diffoverRange(tauRange, sigmaRange, 907, 910, 'd', plotYes=False)\n",
    "# print(Z)"
   ]
  },
  {
   "cell_type": "code",
   "execution_count": null,
   "metadata": {
    "hidden": true
   },
   "outputs": [],
   "source": [
    "x1,y1,params1 = plotSizes(903, 'a')\n",
    "x2,y2,params2 = plotSizes(907, 'a')\n",
    "\n",
    "tau = 1.179; sigma = 1.0982\n",
    "\n",
    "diff_1(tau, sigma,  x1,y1,params1,  x2,y2,params2,  'a', True)"
   ]
  },
  {
   "cell_type": "code",
   "execution_count": null,
   "metadata": {
    "hidden": true
   },
   "outputs": [],
   "source": [
    "\n",
    "Z = Zs #==============================================\n",
    "tauBest=tauRange[find_min_idx(Z)[0]]\n",
    "sigmaBest=sigmaRange[find_min_idx(Z)[1]]\n",
    "print(tauBest, sigmaBest)\n",
    "\n",
    "fig = plt.figure(figsize=(6,4), dpi=120, frameon=True)\n",
    "ax = plt.axes()\n",
    "heatmap = ax.contourf(sigmaRange, tauRange, Z, 50, cmap='viridis')\n",
    "ax.plot(sigmaBest, tauBest, color='red', marker='o')\n",
    "\n",
    "ax.set_ylabel(r'$\\tau_s$')\n",
    "ax.set_xlabel(r'$\\sigma_s$')\n",
    "fig.colorbar(heatmap)\n",
    "ax.set_title('Manna; size $s$', fontweight='bold')\n",
    "fig.tight_layout()\n",
    "\n",
    "Z = Za #==============================================\n",
    "tauBest=tauRange[find_min_idx(Z)[0]]\n",
    "sigmaBest=sigmaRange[find_min_idx(Z)[1]]\n",
    "print(tauBest, sigmaBest)\n",
    "\n",
    "fig = plt.figure(figsize=(6,4), dpi=120, frameon=True)\n",
    "ax = plt.axes()\n",
    "heatmap = ax.contourf(sigmaRange, tauRange, Z, 50, cmap='viridis')\n",
    "ax.plot(sigmaBest, tauBest, color='red', marker='o')\n",
    "\n",
    "ax.set_ylabel(r'$\\tau_s$')\n",
    "ax.set_xlabel(r'$\\sigma_s$')\n",
    "fig.colorbar(heatmap)\n",
    "ax.set_title('Manna; size $a$', fontweight='bold')\n",
    "fig.tight_layout()\n",
    "\n",
    "\n",
    "Z = Zd #==============================================\n",
    "tauBest=tauRange[find_min_idx(Z)[0]]\n",
    "sigmaBest=sigmaRange[find_min_idx(Z)[1]]\n",
    "print(tauBest, sigmaBest)\n",
    "\n",
    "fig = plt.figure(figsize=(6,4), dpi=120, frameon=True)\n",
    "ax = plt.axes()\n",
    "heatmap = ax.contourf(sigmaRange, tauRange, Z, 50, cmap='viridis')\n",
    "ax.plot(sigmaBest, tauBest, color='red', marker='o')\n",
    "\n",
    "ax.set_ylabel(r'$\\tau_s$')\n",
    "ax.set_xlabel(r'$\\sigma_s$')\n",
    "fig.colorbar(heatmap)\n",
    "ax.set_title('Manna; duration $D$', fontweight='bold')\n",
    "fig.tight_layout()\n",
    "\n"
   ]
  },
  {
   "cell_type": "code",
   "execution_count": null,
   "metadata": {
    "hidden": true
   },
   "outputs": [],
   "source": []
  },
  {
   "cell_type": "code",
   "execution_count": null,
   "metadata": {
    "hidden": true
   },
   "outputs": [],
   "source": []
  },
  {
   "cell_type": "markdown",
   "metadata": {
    "heading_collapsed": true,
    "hidden": true
   },
   "source": [
    "### Inset Scaling Plots"
   ]
  },
  {
   "cell_type": "code",
   "execution_count": null,
   "metadata": {
    "ExecuteTime": {
     "end_time": "2020-04-02T20:33:10.366117Z",
     "start_time": "2020-04-02T20:32:22.896470Z"
    },
    "hidden": true
   },
   "outputs": [],
   "source": [
    "def func(s, tau, sigma, A, lambd):\n",
    "    return A - tau * s - lambd * (10**s)**sigma  / np.log(10) # - 10**s * 256**(-2.2) / np.log(10)\n",
    "\n",
    "def func_sizeC(s, tau, s_c, A):\n",
    "    return A - tau * s -  10**(s) / s_c / np.log(10)\n",
    "\n",
    "def plotD_plotSizes1(seed, c,lab):\n",
    "    \n",
    "    seedRange = [903, 907, 911, 915] # the ones that will be plotted\n",
    "    \n",
    "    ## Sizes w/ double counting\n",
    "    x,y,params = plotSizes(seed, filetype='s');  x = np.log10(x); y = np.log10(y)\n",
    "    # ------ Fitting to compute avalanche exponents ------ #\n",
    "    tau = 1.08; er = 0.123\n",
    "    initGuess = np.asarray([tau, 1, 0])\n",
    "    paramBounds =         ((tau-er, -1e10, -100),\n",
    "                           (tau+er, 1e10,   100))\n",
    "    popt, pcov = curve_fit(func_sizeC, x[2:], y[2:], p0=initGuess, bounds=paramBounds)\n",
    "    perr = np.sqrt(np.diag(pcov))\n",
    "    # ---------------------------------------------------- #\n",
    "    if seed in seedRange:\n",
    "        ax1.plot(x, y, '.', color=c, label = lab)\n",
    "#     ax1.plot(x, func_sizeC(x, *popt), color=c)\n",
    "    \n",
    "    \n",
    "    ## Sizes w/o double counting\n",
    "    x,y,params = plotSizes(seed, filetype='a');  x = np.log10(x); y = np.log10(y)\n",
    "    # ------ Fitting to compute avalanche exponents ------ #\n",
    "    tau = 1.075; er = 0.121\n",
    "    initGuess = np.asarray([tau, 1, 0])\n",
    "    paramBounds =         ((tau-er, -1e10, -100),\n",
    "                           (tau+er, 1e10,   100))\n",
    "    popt3, pcov3 = curve_fit(func_sizeC, x[2:], y[2:], p0=initGuess, bounds=paramBounds)\n",
    "    perr3 = np.sqrt(np.diag(pcov3))\n",
    "    # ---------------------------------------------------- #\n",
    "    \n",
    "    if seed in seedRange:\n",
    "        ax3.plot(x, y, '.', color=c, label = lab)\n",
    "#     ax3.plot(x, func_sizeC(x, *popt3), color=c)\n",
    "    \n",
    "    \n",
    "    ## Durations\n",
    "    x,y,params = plotSizes(seed, filetype='d');  x = np.log10(x); y = np.log10(y)\n",
    "    # ------ Fitting to compute avalanche exponents ------ #\n",
    "    tau = 1.142; er = 0.127\n",
    "    initGuess = np.asarray([tau, 1,    1])\n",
    "    paramBounds =         ((tau-er, -1e8, -100), \n",
    "                           (tau+er, 1e8,  100))\n",
    "    popt2, pcov2 = curve_fit(func_sizeC, x, y, p0=initGuess, bounds=paramBounds)\n",
    "    perr2 = np.sqrt(np.diag(pcov2))\n",
    "    # ---------------------------------------------------- #\n",
    "    if seed in seedRange:\n",
    "        ax2.plot(x, y, '.', color=c, label = lab)\n",
    "#     ax2.plot(x, func_sizeC(x, *popt2), color=c)\n",
    "\n",
    "    return params[2], [popt[0], popt[1],popt2[0], popt2[1],popt3[0], popt3[1]], [perr[0], perr[1], perr2[0], perr2[1], perr3[0], perr3[1]]\n",
    "\n",
    "\n",
    "\n",
    "# -------------------- Create Figure  -------------------- #\n",
    "# seedrange = np.arange(900,920, 1)\n",
    "seedrange = [903, 907, 911, 915]\n",
    "labrange = [0.01, 0.001, 0.0001, 0.00001]\n",
    "\n",
    "exponents = []; error = []; lambdas = []\n",
    "fig1, (ax1) = plt.subplots(1,1,figsize=(4, 3.5), dpi=120, frameon=True)\n",
    "fig3, (ax3) = plt.subplots(1,1,figsize=(4, 3.5), dpi=120, frameon=True)\n",
    "fig2, (ax2) = plt.subplots(1,1,figsize=(4, 3.5), dpi=120, frameon=True)\n",
    "color = iter( cm.rainbow( np.linspace(0,1,len(seedrange)) ) ) # List of different colors. numPoints --> No. of lines to plot\n",
    "for i in range(len(seedrange)):  #Plot seeds 401-410, the ten lambda runs. \n",
    "    c = next( color )\n",
    "    lab = r\"$\\lambda= %10.1e$\"%labrange[i]\n",
    "    lamb, new_exp, new_err = plotD_plotSizes1(seedrange[i], c, lab)\n",
    "    exponents += [new_exp]; error += [new_err]; lambdas += [lamb]\n",
    "\n",
    "# -- Decoration --\n",
    "ax1.set_ylabel(r'$\\log N_s(s,L)$',fontweight='bold'); ax1.set_xlabel('size, $\\log s$',fontweight='bold')\n",
    "ax2.set_ylabel(r'$\\log N_d(d,L)$',fontweight='bold'); ax2.set_xlabel('duration, $\\log d$',fontweight='bold')\n",
    "ax3.set_ylabel(r'$\\log N_a(a,L)$',fontweight='bold'); ax3.set_xlabel('size, $\\log a$',fontweight='bold')\n",
    "ax1.legend(loc=1, fontsize=9)\n",
    "ax2.legend(loc=1, fontsize=9)\n",
    "ax3.legend(loc=1, fontsize=9)\n",
    "\n",
    "\n",
    "\n",
    "# print(exponents, error)\n",
    "\n",
    "# ---------- Plot of Exponents while lambda -> 0 --------- #\n",
    "# ---------- Fitting to compute \\sigma's  ---------------- #\n",
    "\n",
    "lambdas = [0.100000001, 0.0545559004, 0.0297634993, 0.0162377991, 0.00885870028, 0.00483290013, 0.00263669994, 0.00143840001, 0.00078479998, 0.0004281, 0.000233600003, 0.000127399995, 6.94999981e-05, 3.79000012e-05, 2.06999994e-05, 1.12999996e-05, 6.19999992e-06, 3.39999997e-06, 1.79999995e-06, 9.99999997e-07]\n",
    "exponents = [[0.9570000000000002, 12.61080407664912, 1.0150000000000003, 4.052789177515682, 0.9540000000000001, 11.88900503674474], [0.9570000000000002, 24.12775372167678, 1.0150000000000001, 6.252609476260731, 0.9540000000000001, 23.614012534871904], [0.9570000000000003, 45.22692090747746, 1.0150000000000001, 9.359471231287806, 0.9540000000000001, 42.866484920477085], [0.9570000000000002, 87.70790363387802, 1.0150000000000001, 13.929148529360734, 0.9540000000000001, 79.43162616087798], [0.9570000000000002, 171.70474901496962, 1.0150000000000001, 21.682320359746864, 0.9540000000000001, 142.25621858633343], [0.9570000000000002, 357.4350630155103, 1.0150000000000001, 31.41372396414024, 0.9540000000000001, 279.8839529148057], [0.9570000000000002, 713.0323457108133, 1.0150000000000001, 45.34343447947397, 0.9540000000000001, 468.82938109903995], [0.9570000000000002, 1342.3272751537415, 1.0150000000000001, 67.856726462309, 0.9540000000000007, 771.8934587753394], [0.9738102296977198, 2475.840658292559, 1.0150000000000001, 94.42161117004751, 0.9540000000000001, 1144.8145186004344], [1.0147789437086403, 4457.965178129168, 1.015000000000001, 124.19584783452505, 0.9540000000000001, 1881.0434256235133], [1.0259280351009419, 6607.638070795759, 1.0150000000000001, 184.8085496025376, 0.9540000000000001, 2771.633860538995], [1.021895165663645, 8374.774521514779, 1.0150000000000035, 213.679071198371, 0.9540000000000001, 1808.3372245748938], [1.0474568105160733, 11028.826741056926, 1.0150000000000012, 235.97686688858934, 0.9540000000000001, 2377.2361658991517], [1.0322805920970823, 11592.260824031553, 1.0150000000000001, 253.3901829454813, 0.9540000000000001, 2541.645742110839], [1.043492608941865, 12717.538048145952, 1.0150000000000001, 287.6164282570088, 0.9540000000000001, 2682.4407976994244], [1.051420506472148, 13682.93241871642, 1.0150000000000001, 288.15838567645164, 0.9540000000000001, 2818.8008747946087], [1.0757017163564322, 15261.77433885351, 1.0150000000000001, 290.1677447710125, 0.9540000000000001, 2873.946919736512], [1.053476024162264, 14167.554223884568, 1.0150000000000001, 294.7925898691035, 0.9540000000000001, 2858.6191388633965], [1.0430437861818964, 13573.152142359348, 1.0150000000000001, 293.6937718647803, 0.9540000000000001, 2803.2829916697706], [1.0515584183520885, 14215.427449593779, 1.0150000000000001, 293.748445226956, 0.9540000000000001, 2939.4432973667854]]\n",
    "\n",
    "# slopeS, interceptS, r_valueS, p_valueS, std_errS = stats.linregress(np.log(np.asarray(lambdas))[1:-10],np.log(np.asarray(exponents))[1:-10,1])\n",
    "# slopeA, interceptA, r_valueA, p_valueA, std_errA = stats.linregress(np.log(np.asarray(lambdas))[1:-10],np.log(np.asarray(exponents))[1:-10,5])\n",
    "# slopeD, interceptD, r_valueD, p_valueD, std_errD = stats.linregress(np.log(np.asarray(lambdas))[1:-10],np.log(np.asarray(exponents))[1:-10,3])\n",
    "\n",
    "# xs = np.logspace(-4,-1,100)\n",
    "# lineS = slopeS * np.log10(xs) + interceptS\n",
    "# lineA = slopeA * np.log10(xs) + interceptA\n",
    "# lineD = slopeD * np.log10(xs) + interceptD\n",
    "\n",
    "\n",
    "# -------------------- Create Figure  -------------------- #\n",
    "# axins1 = inset_axes(ax1, width=\"30%\", height=\"35%\", loc=3, borderpad=1)\n",
    "# axins2 = inset_axes(ax2, width=\"30%\", height=\"35%\", loc=3, borderpad=1)\n",
    "# axins3 = inset_axes(ax3, width=\"30%\", height=\"35%\", loc=3, borderpad=1)\n",
    "\n",
    "# axins1.plot(np.asarray(lambdas),np.asarray(exponents)[:,1], 'r.-') \n",
    "# print('$\\\\sigma_s \\\\approx ' + str(round(-1/slopeS, 4)), '\\\\pm', round(std_errS, 4), '$')\n",
    "\n",
    "# axins2.plot(np.asarray(lambdas),np.asarray(exponents)[:,3], 'b.-') \n",
    "# print('$\\\\sigma_D \\\\approx ' + str(round(-1/slopeD, 4)), '\\\\pm', round(std_errA, 4), '$')\n",
    "\n",
    "# axins3.plot(np.asarray(lambdas),np.asarray(exponents)[:,5], 'g.-')\n",
    "# print('$\\\\sigma_a \\\\approx ' + str(round(-1/slopeA, 4)), '\\\\pm', round(std_errD, 4), '$')\n",
    "\n",
    "# # print(-1/slopeS, -1/slopeD)\n",
    "# axins1.plot(xs, 10**lineS, '--', color='red')\n",
    "# axins2.plot(xs, 10**lineD, '--', color='blue')\n",
    "# axins3.plot(xs, 10**lineA, '--', color='green')\n",
    "\n",
    "# # -- Decoration --\n",
    "# # axins1.legend(loc=2, fontsize=9); \n",
    "# # axins2.legend(loc=2, fontsize=9); \n",
    "# # axins3.legend(loc=2, fontsize=9); \n",
    "# axins1.set_xscale('log'); axins1.set_yscale('log'); \n",
    "# # axins1.set_xlabel('$\\lambda$'); axins1.set_ylabel('$s_c$')\n",
    "# axins2.set_xscale('log'); axins2.set_yscale('log'); \n",
    "# # axins2.set_xlabel('$\\lambda$'); axins2.set_ylabel('$D_c$')\n",
    "# axins3.set_xscale('log'); axins3.set_yscale('log'); \n",
    "# # axins3.set_xlabel('$\\lambda$'); axins3.set_ylabel('$a_c$')\n",
    "\n",
    "# axins1.tick_params(labelleft=False, labelbottom=False)\n",
    "# axins2.tick_params(labelleft=False, labelbottom=False)\n",
    "# axins3.tick_params(labelleft=False, labelbottom=False)\n",
    "\n",
    "\n",
    "# ax2.set_ylim(top=7)\n",
    "# fig1.tight_layout(); fig2.tight_layout(); fig3.tight_layout()\n",
    "\n",
    "fig1.savefig('Plots/sp_crit_btw_s.png', dpi=240)\n",
    "fig2.savefig('Plots/sp_crit_btw_D.png', dpi=240)\n",
    "fig3.savefig('Plots/sp_crit_btw_a.png', dpi=240)"
   ]
  },
  {
   "cell_type": "code",
   "execution_count": null,
   "metadata": {
    "ExecuteTime": {
     "end_time": "2020-04-02T20:07:24.658149Z",
     "start_time": "2020-04-02T20:07:24.647779Z"
    },
    "hidden": true
   },
   "outputs": [],
   "source": [
    "# print(lambdas)\n",
    "# print(exponents)\n",
    "\n",
    "print(std_errS)"
   ]
  },
  {
   "cell_type": "markdown",
   "metadata": {
    "heading_collapsed": true,
    "hidden": true
   },
   "source": [
    "### Generational Plots\n",
    "\n",
    "Plotting the distribution only considering a certain number of avalanches. After how many do we see correct scaling behavior?"
   ]
  },
  {
   "cell_type": "code",
   "execution_count": null,
   "metadata": {
    "hidden": true
   },
   "outputs": [],
   "source": [
    "def plotD_plotSizes_generation(seed, c):\n",
    "\n",
    "    \n",
    "    ## Sizes w/ double counting\n",
    "    x,y,params = plotSizes(seed, filetype='s');  \n",
    "\n",
    "    lambd = params[2];\n",
    "    ax1.plot(x, y, '.-', color=c, label = r\"$\\lambda=$\"+str(round(lambd,6)))\n",
    "    \n",
    "    \n",
    "    ## Sizes w/o double counting\n",
    "    x,y,params = plotSizes(seed, filetype='a');  \n",
    "    \n",
    "    lambd = params[2];\n",
    "    ax2.plot(x, y, '.-', color=c, label = r\"$\\lambda=$\"+str(round(lambd,6)))\n",
    "    \n",
    "    \n",
    "    ## Durations\n",
    "    x,y,params = plotSizes(seed, filetype='d');  \n",
    "\n",
    "    lambd = params[2];\n",
    "    ax3.plot(x, y, '.-', color=c, label = r\"$\\lambda=$\"+str(round(lambd,6)))\n",
    "\n"
   ]
  },
  {
   "cell_type": "code",
   "execution_count": null,
   "metadata": {
    "hidden": true
   },
   "outputs": [],
   "source": [
    "# -------------------- Create Figure  -------------------- #\n",
    "\n",
    "seedrange = np.arange(919,920,1)\n",
    "\n",
    "exponents = []; error = []; lambdas = []\n",
    "\n",
    "fig1, ax1 = plt.subplots(1,1,figsize=(5,5), dpi=120, frameon=True)\n",
    "fig2, ax2 = plt.subplots(1,1,figsize=(5,5), dpi=120, frameon=True)\n",
    "fig3, ax3 = plt.subplots(1,1,figsize=(5,5), dpi=120, frameon=True)\n",
    "color = iter( cm.rainbow( np.linspace(0,1,len(seedrange)) ) ) # List of different colors. numPoints --> No. of lines to plot\n",
    "for i in seedrange: \n",
    "    c = next( color )\n",
    "    plotD_plotSizes_generation(i, c)\n",
    "\n",
    "    \n",
    "# -- Decoration --\n",
    "\n",
    "ax1.set_ylabel(r'$N_s(s,L)$',fontweight='bold'); ax1.set_xlabel('size, $s$',fontweight='bold')\n",
    "ax2.set_ylabel(r'$N_d(d,L)$',fontweight='bold'); ax2.set_xlabel('duration, $d$',fontweight='bold')\n",
    "ax3.set_ylabel(r'$N_a(a,L)$',fontweight='bold'); ax3.set_xlabel('size, $a$',fontweight='bold')\n",
    "ax1.set_xscale('log'); \n",
    "ax1.set_yscale('log')\n",
    "ax2.set_xscale('log'); \n",
    "ax2.set_yscale('log')\n",
    "ax3.set_xscale('log'); \n",
    "ax3.set_yscale('log')\n",
    "ax1.legend(loc=1, fontsize=6)\n",
    "ax2.legend(loc=1, fontsize=6)\n",
    "ax3.legend(loc=1, fontsize=6)\n",
    "# fig1.tight_layout(); fig2.tight_layout(); fig3.tight_layout()"
   ]
  },
  {
   "cell_type": "markdown",
   "metadata": {
    "heading_collapsed": true,
    "hidden": true
   },
   "source": [
    "## Mean cluster size $\\chi(\\lambda)$"
   ]
  },
  {
   "cell_type": "code",
   "execution_count": null,
   "metadata": {
    "ExecuteTime": {
     "end_time": "2020-03-27T17:56:46.445948Z",
     "start_time": "2020-03-27T17:56:46.436740Z"
    },
    "hidden": true
   },
   "outputs": [],
   "source": [
    "def calc_chi_disp(seed_list, filetype):\n",
    "    chi_s = np.zeros_like(seed_list);  lambda_s = np.zeros_like(seed_list).astype('float')\n",
    "    for s in range(len(seed_list)):\n",
    "        sizeS, params = readSizes(seed_list[s],filetype)\n",
    "        lambda_s[s] = params[2]\n",
    "        chi_s[s] = np.sum(np.power(sizeS, 2)) / np.sum(np.power(sizeS, 1))\n",
    "    return lambda_s, chi_s\n"
   ]
  },
  {
   "cell_type": "code",
   "execution_count": null,
   "metadata": {
    "ExecuteTime": {
     "end_time": "2020-03-27T17:59:24.394765Z",
     "start_time": "2020-03-27T17:56:49.754369Z"
    },
    "hidden": true
   },
   "outputs": [],
   "source": [
    "seed_list = np.arange(900,920);   \n",
    "lambda_s, chi_s = calc_chi_disp(seed_list,'s')\n",
    "lambda_a, chi_a = calc_chi_disp(seed_list,'a')\n"
   ]
  },
  {
   "cell_type": "code",
   "execution_count": null,
   "metadata": {
    "ExecuteTime": {
     "end_time": "2020-04-02T20:17:48.258187Z",
     "start_time": "2020-04-02T20:17:48.221645Z"
    },
    "hidden": true
   },
   "outputs": [],
   "source": [
    "loglambd_s = np.log10(lambda_s); logchi_s = np.log10(chi_s)\n",
    "loglambd_a = np.log10(lambda_a); logchi_a = np.log10(chi_a)\n",
    "\n",
    "# -------------------- Create Figure  -------------------- #       \n",
    "fig1, (ax1) = plt.subplots(1,1,figsize=(5,4), dpi=120, frameon=True)\n",
    "fig2, (ax2) = plt.subplots(1,1,figsize=(5,4), dpi=120, frameon=True)\n",
    "ax1.plot(loglambd_s, logchi_s, 'ro-')\n",
    "ax2.plot(loglambd_a, logchi_a, 'bo-')\n",
    "\n",
    "zs, covs = np.polyfit(loglambd_s[:9], logchi_s[:9], 1, cov=True)\n",
    "ps = np.poly1d(zs)\n",
    "perrs = np.sqrt(np.diag(covs))\n",
    "xps = np.linspace(loglambd_s[9],-1,40)\n",
    "ax1.plot(xps, ps(xps),linestyle='--', color='grey', \n",
    "         label='$\\gamma_s = $'+str(round(-zs[0],3))+'$\\pm$'+str(round(perrs[0], 4)))\n",
    "ax1.fill_between(xps, 1, 4.5, \n",
    "                facecolor='red', alpha=0.3)\n",
    "\n",
    "\n",
    "za, cova = np.polyfit(loglambd_a[:10], logchi_a[:10], 1, cov=True)\n",
    "pa = np.poly1d(za)\n",
    "perra = np.sqrt(np.diag(cova))\n",
    "xpa = np.linspace(loglambd_a[9],-1,40)\n",
    "ax2.plot(xpa, pa(xpa),linestyle='--', color='grey', \n",
    "         label='$\\gamma_a = $'+str(round(-za[0],3))+'$\\pm$'+str(round(perra[0], 4)))\n",
    "ax2.fill_between(xps, 1, 4.5, \n",
    "                facecolor='blue', alpha=0.3)\n",
    "\n",
    "\n",
    "# -- Decoration --\n",
    "ax1.set_ylabel(r'repsonse function, $\\log\\chi_s(\\lambda)$',fontweight='bold')\n",
    "ax1.set_xlabel(r'dissipation, $\\log\\lambda$', fontweight='bold')\n",
    "ax1.legend(loc=3, fontsize=10)\n",
    "ax1.set_title(\"OBC, fixed drop, $L = 128$\", fontsize=12, fontweight='bold')\n",
    "ax2.set_ylabel(r'repsonse function, $\\log\\chi_a(\\lambda)$',fontweight='bold')\n",
    "ax2.set_xlabel(r'dissipation, $\\log\\lambda$', fontweight='bold')\n",
    "ax2.legend(loc=3, fontsize=10)\n",
    "ax2.set_title(\"OBC, fixed drop, $L = 128$\", fontsize=12, fontweight='bold')\n",
    "fig1.savefig(\"sp_crit_btw_chi_s\", dpi=240)\n",
    "fig2.savefig(\"sp_crit_btw_chi_a\", dpi=240)\n",
    "plt.show()\n"
   ]
  },
  {
   "cell_type": "code",
   "execution_count": null,
   "metadata": {
    "ExecuteTime": {
     "end_time": "2020-03-27T18:00:51.881524Z",
     "start_time": "2020-03-27T17:59:36.364602Z"
    },
    "hidden": true
   },
   "outputs": [],
   "source": [
    "lambda_d, chi_d = calc_chi_disp(seed_list,'d')"
   ]
  },
  {
   "cell_type": "code",
   "execution_count": null,
   "metadata": {
    "ExecuteTime": {
     "end_time": "2020-03-27T18:00:55.438332Z",
     "start_time": "2020-03-27T18:00:51.885350Z"
    },
    "hidden": true
   },
   "outputs": [],
   "source": [
    "loglambd_d = np.log10(lambda_d); logchi_d = np.log10(chi_d)\n",
    "\n",
    "# -------------------- Create Figure  -------------------- #       \n",
    "fig, (ax1) = plt.subplots(1,1,figsize=(5,4), dpi=120, frameon=True)\n",
    "ax1.plot(loglambd_d, logchi_d, 'go-')\n",
    "\n",
    "zd, covd = np.polyfit(loglambd_d[:10], logchi_d[:10], 1, cov=True)\n",
    "pd = np.poly1d(zd)\n",
    "perrd = np.sqrt(np.diag(covd))\n",
    "xpd = np.linspace(loglambd_d[9],-1,40)\n",
    "ax1.plot(xpd, pd(xpd),linestyle='--', color='grey', \n",
    "         label='$\\gamma_d = $'+str(round(-zd[0],3))+'$\\pm$'+str(round(perrd[0], 4)))\n",
    "ax1.fill_between(xpd, 0, 3, #where=y > theta,\n",
    "                facecolor='green', alpha=0.3)\n",
    "\n",
    "# -- Decoration --\n",
    "ax1.set_ylabel(r'repsonse function, $\\log\\chi(\\lambda)$',fontweight='bold')\n",
    "ax1.set_xlabel(r'dissipation, $\\log\\lambda$', fontweight='bold')\n",
    "ax1.legend(loc=3, fontsize=10)\n",
    "ax1.set_title(\"OBC, fixed drop, $L = 128$\", fontsize=12, fontweight='bold')\n",
    "plt.savefig(\"sp_crit_btw_chi_d\", dpi=240)\n",
    "plt.show()\n",
    "\n"
   ]
  },
  {
   "cell_type": "markdown",
   "metadata": {
    "heading_collapsed": true,
    "hidden": true
   },
   "source": [
    "## Correlation length $\\xi(\\lambda)$"
   ]
  },
  {
   "cell_type": "code",
   "execution_count": null,
   "metadata": {
    "ExecuteTime": {
     "end_time": "2020-03-27T18:00:55.459757Z",
     "start_time": "2020-03-27T18:00:55.441859Z"
    },
    "hidden": true
   },
   "outputs": [],
   "source": [
    "def readRG(seed, filetype):\n",
    "    \"Read the file of avalanche sizes for given seed. \"\n",
    "    \n",
    "    with open(\"Data/sp\" + str(seed) + '_' + filetype + '.txt', \"r\") as f:\n",
    "        header=[x for x in next(f)]\n",
    "        params = [float(x) for x in next(f).split()]\n",
    "        array_list = [[float(x) for x in line.split() if '\\x00' not in x ] for line in f]\n",
    "    sizeS = np.asarray([x[0] for x in array_list if len(x) >= 4])\n",
    "    rg = np.asarray([x[1] for x in array_list if len(x) >= 4])\n",
    "    params[1] = int(params[1])\n",
    "    return sizeS, rg, params\n",
    "\n",
    "def calc_xi_disp(seed_list, filetype):\n",
    "    xi_s = np.zeros_like(seed_list);  lambda_s = np.zeros_like(seed_list).astype('float')\n",
    "    for s in range(len(seed_list)):\n",
    "        sizeS, rg, params = readRG(seed_list[s],filetype)\n",
    "        lambda_s[s] = params[2]\n",
    "        xi_s[s] = np.sum(sizeS * rg * rg) / np.sum(sizeS)\n",
    "    return lambda_s, np.sqrt(xi_s)"
   ]
  },
  {
   "cell_type": "code",
   "execution_count": null,
   "metadata": {
    "ExecuteTime": {
     "end_time": "2020-03-27T18:04:55.864782Z",
     "start_time": "2020-03-27T18:00:55.464734Z"
    },
    "hidden": true
   },
   "outputs": [],
   "source": [
    "seed_list = np.arange(900,920)\n",
    "lambda_s, xi_s = calc_xi_disp(seed_list, 'rgs')\n",
    "lambda_a, xi_a = calc_xi_disp(seed_list, 'rga')\n"
   ]
  },
  {
   "cell_type": "code",
   "execution_count": null,
   "metadata": {
    "ExecuteTime": {
     "end_time": "2020-03-27T18:05:51.411139Z",
     "start_time": "2020-03-27T18:05:48.482533Z"
    },
    "hidden": true
   },
   "outputs": [],
   "source": [
    "loglambd_s = np.log10(lambda_s); logxi_s = np.log10(xi_s)\n",
    "loglambd_a = np.log10(lambda_a); logxi_a = np.log10(xi_a)\n",
    "\n",
    "# -------------------- Create Figure  -------------------- #       \n",
    "fig1, (ax1) = plt.subplots(1,1,figsize=(5,4), dpi=120, frameon=True)\n",
    "fig2, (ax2) = plt.subplots(1,1,figsize=(5,4), dpi=120, frameon=True)\n",
    "ax1.plot(loglambd_s, logxi_s, 'ro-')\n",
    "ax2.plot(loglambd_a, logxi_a, 'bo-')\n",
    "\n",
    "zs, covs = np.polyfit(loglambd_s[:7], logxi_s[:7], 1, cov=True)\n",
    "ps = np.poly1d(zs)\n",
    "perrs = np.sqrt(np.diag(covs))\n",
    "xps = np.linspace(loglambd_s[7],-1,40)\n",
    "ax1.plot(xps, ps(xps),linestyle='--', color='red', \n",
    "         label=r'$\\nu_s = $'+str(round(-zs[0],3))+'$\\pm$'+str(round(perrs[0], 4)))\n",
    "ax1.fill_between(xps, 0, 4.5, \n",
    "                facecolor='red', alpha=0.3)\n",
    "\n",
    "\n",
    "za, cova = np.polyfit(loglambd_a[:7], logxi_a[:7], 1, cov=True)\n",
    "pa = np.poly1d(za)\n",
    "perra = np.sqrt(np.diag(cova))\n",
    "xpa = np.linspace(loglambd_a[7],-1,40)\n",
    "ax2.plot(xpa, pa(xpa),linestyle='--', color='blue', \n",
    "         label=r'$\\nu_a = $'+str(round(-za[0],3))+'$\\pm$'+str(round(perra[0], 4)))\n",
    "ax2.fill_between(xps, 0, 4.5, \n",
    "                facecolor='blue', alpha=0.3)\n",
    "\n",
    "# -- Decorations -- \n",
    "ax1.set_ylabel(r'correlation length, $\\log\\xi(\\lambda)$', fontweight='bold') \n",
    "ax1.set_xlabel(r'dissipation, $\\log\\lambda$', fontweight='bold')\n",
    "ax1.legend(loc=3,fontsize=10)\n",
    "ax1.set_title(\"OBC, fixed drop, $L = 128$\", fontsize=12, fontweight='bold')\n",
    "ax1.set_ylim(bottom=np.min(logxi_s)-0.1, top=np.max(logxi_s)+0.1)\n",
    "\n",
    "ax2.set_ylabel(r'correlation length, $\\log\\xi(\\lambda)$', fontweight='bold') \n",
    "ax2.set_xlabel(r'dissipation, $\\log\\lambda$', fontweight='bold')\n",
    "ax2.legend(loc=3,fontsize=10)\n",
    "ax2.set_title(\"OBC, fixed drop, $L = 128$\", fontsize=12, fontweight='bold')\n",
    "ax2.set_ylim(bottom=np.min(logxi_a)-0.1, top=np.max(logxi_a)+0.1)\n",
    "\n",
    "\n",
    "fig1.savefig(\"sp_crit_btw_xi_s\", dpi=240)\n",
    "fig2.savefig(\"sp_crit_btw_xi_a\", dpi=240)\n",
    "plt.show()"
   ]
  },
  {
   "cell_type": "markdown",
   "metadata": {
    "heading_collapsed": true,
    "hidden": true
   },
   "source": [
    "## Average Size vs. Duration; $\\langle s \\rangle \\sim D^{1/\\sigma\\nu z}$"
   ]
  },
  {
   "cell_type": "code",
   "execution_count": null,
   "metadata": {
    "ExecuteTime": {
     "end_time": "2020-03-29T17:41:10.824983Z",
     "start_time": "2020-03-29T17:41:10.763559Z"
    },
    "hidden": true
   },
   "outputs": [],
   "source": [
    "def findSizeVsDur(seed):\n",
    "    size, params = readSizes(seed,'s')\n",
    "    duration, params = readSizes(seed,'d')\n",
    "        \n",
    "    # Create arrays for durations and corresponding average size\n",
    "    size_avg = np.arange(np.min(duration),np.max(duration)+1) * 0\n",
    "    size_counts = np.arange(np.min(duration),np.max(duration)+1) * 0\n",
    "    duration_each = np.arange(np.min(duration),np.max(duration)+1)\n",
    "\n",
    "    end_iter = min(len(size), len(duration))\n",
    "    for i in range(end_iter):      # count up the avergae size for each given duration. \n",
    "        size_avg[duration[i]-1] += size[i]\n",
    "        size_counts[duration[i]-1] += 1\n",
    "\n",
    "    for i in range(len(size_avg)-1,-1,-1):      # Delete any 0 counts. \n",
    "        if size_avg[i]==0:\n",
    "            size_avg = np.delete(size_avg,i)\n",
    "            size_counts = np.delete(size_counts,i)\n",
    "            duration_each = np.delete(duration_each,i)\n",
    "    size_avg = np.divide(size_avg, size_counts)\n",
    "    return size_avg, duration_each, params\n",
    "\n",
    "def findSizeAVsDur(seed):\n",
    "    size, params = readSizes(seed,'a')\n",
    "    duration, params = readSizes(seed,'d')\n",
    "        \n",
    "    # Create arrays for durations and corresponding average size\n",
    "    size_avg = np.arange(np.min(duration),np.max(duration)+1) * 0\n",
    "    size_counts = np.arange(np.min(duration),np.max(duration)+1) * 0\n",
    "    duration_each = np.arange(np.min(duration),np.max(duration)+1)\n",
    "\n",
    "    end_iter = min(len(size), len(duration))\n",
    "    for i in range(end_iter):      # count up the avergae size for each given duration. \n",
    "        size_avg[duration[i]-1] += size[i]\n",
    "        size_counts[duration[i]-1] += 1\n",
    "\n",
    "    for i in range(len(size_avg)-1,-1,-1):      # Delete any 0 counts. \n",
    "        if size_avg[i]==0:\n",
    "            size_avg = np.delete(size_avg,i)\n",
    "            size_counts = np.delete(size_counts,i)\n",
    "            duration_each = np.delete(duration_each,i)\n",
    "    size_avg = np.divide(size_avg, size_counts)\n",
    "    return size_avg, duration_each, params\n",
    "\n",
    "def plotSizeVsDur(seed):\n",
    "    y, x, params = findSizeVsDur(seed)\n",
    "    ya, x, params = findSizeAVsDur(seed)\n",
    "    \n",
    "#     hist, bin_edges = np.histogram(y,bins=np.logspace(0,5,50,base=2),density=True)\n",
    "    \n",
    "    # -------------------- Create Figure  -------------------- #                                \n",
    "    fig1, (ax1) = plt.subplots(1,1,figsize=(3.5,3), dpi = 120, frameon=True)\n",
    "    ax1.plot(np.log10(x), np.log10(y), 'r.' )#, label=r'$\\lambda = $' + str(round(params[2],6)))\n",
    "    \n",
    "    # Fitting... \n",
    "    result = np.where(x > 10**2.5); result = result[0][0]\n",
    "    zs, covs = np.polyfit(np.log10(x[8:result]), np.log10(y[8:result]), 1, cov=True)\n",
    "    ps = np.poly1d(zs)\n",
    "    perrs = np.sqrt(np.diag(covs))\n",
    "    xps = np.linspace(np.log10(x[0]),np.log10(x[-1]),40)\n",
    "    ax1.plot(xps, ps(xps),linestyle='--', color='r',\n",
    "         label=r'$\\frac{1}{\\sigma_s\\nu_s z_s} = $'+str(round(-zs[0],3))+'$\\pm$'+str(round(perrs[0], 4)))\n",
    "\n",
    "    \n",
    "    fig2, (ax2) = plt.subplots(1,1,figsize=(3.5,3), dpi = 120, frameon=True)\n",
    "    ax2.plot(np.log10(x), np.log10(ya), 'b.')#, label=r'$\\lambda = $' + str(round(params[2],6)))\n",
    "\n",
    "    # Fitting... \n",
    "    result = np.where(x > 10**2.5); result = result[0][0]\n",
    "    zs, covs = np.polyfit(np.log10(x[8:result]), np.log10(ya[8:result]), 1, cov=True)\n",
    "    ps = np.poly1d(zs)\n",
    "    perrs = np.sqrt(np.diag(covs))\n",
    "    xps = np.linspace(np.log10(x[0]),np.log10(x[-1]),40)\n",
    "    ax2.plot(xps, ps(xps),linestyle='--', color='b',\n",
    "         label=r'$\\frac{1}{\\sigma_s\\nu_s z_s} = $'+str(round(-zs[0],3))+'$\\pm$'+str(round(perrs[0], 4)))\n",
    "\n",
    "    \n",
    "\n",
    "#     t = np.logspace(np.log10(x[0]), np.log10(x[-1]), 100)\n",
    "#     ax1.plot(np.log10(t), 1.7*np.log10(t)-0.5, '--',color='grey', label='exp. = 1.7')\n",
    "#     ax2.plot(np.log10(t), 1.5*np.log10(t)-0.25, '--',color='grey', label='exp. = 1.5')\n",
    "    ax1.set_ylabel(r'average size, $\\log_{10}\\langle s \\rangle$'); ax1.set_xlabel(r'duration, $\\log_{10}d$')\n",
    "    ax2.set_ylabel(r'average size, $\\log_{10}\\langle a \\rangle$'); ax2.set_xlabel(r'duration, $\\log_{10}d$')\n",
    "    \n",
    "    ax1.tick_params(labelsize=9)\n",
    "    ax2.tick_params(labelsize=9)\n",
    "    ax1.legend(fontsize=8,loc=4)\n",
    "    ax2.legend(fontsize=8,loc=4)\n",
    "    fig1.savefig('sp_crit_btw_SvD.png', dpi=240)\n",
    "    fig2.savefig('sp_crit_btw_AvD.png', dpi=240)\n",
    "#     plt.savefig('sp_lambda_SvsD.png', dpi=240)\n",
    "    plt.show(fig1)\n",
    "    plt.show(fig2)\n",
    "    "
   ]
  },
  {
   "cell_type": "code",
   "execution_count": null,
   "metadata": {
    "ExecuteTime": {
     "end_time": "2020-03-29T17:41:32.046976Z",
     "start_time": "2020-03-29T17:41:11.197861Z"
    },
    "hidden": true
   },
   "outputs": [],
   "source": [
    "for seed in range(920,921):\n",
    "    plotSizeVsDur(seed)"
   ]
  },
  {
   "cell_type": "markdown",
   "metadata": {
    "heading_collapsed": true,
    "hidden": true
   },
   "source": [
    "## Firing Rate (data collapse?)"
   ]
  },
  {
   "cell_type": "code",
   "execution_count": null,
   "metadata": {
    "ExecuteTime": {
     "end_time": "2020-03-29T17:44:01.708475Z",
     "start_time": "2020-03-29T17:44:01.694253Z"
    },
    "hidden": true
   },
   "outputs": [],
   "source": [
    "def readFiring(seed, filetype):\n",
    "    \"Read the file of tA (active sites over time) for given seed. \"\n",
    "    \n",
    "    with open(\"Data/sp\" + str(seed) + '_' + filetype + '.txt', \"r\") as f:\n",
    "        header=[x for x in next(f)]\n",
    "        params = [float(x) for x in next(f).split()]\n",
    "        array = [[float(x) for x in line.split()] for line in f]\n",
    "    sizeS = np.asarray([x for x in array])\n",
    "    params[1] = int(params[1])\n",
    "    \n",
    "    outputArray = np.asarray(sizeS[:,:])\n",
    "    avgOutArray = np.mean(outputArray, axis=0)\n",
    "    \n",
    "#     return np.mean(avgOutArray.reshape(-1, divisor//100), axis=1), params\n",
    "    return avgOutArray, params"
   ]
  },
  {
   "cell_type": "markdown",
   "metadata": {
    "hidden": true
   },
   "source": [
    "This code was for bad runs... testing for durations which were **Off the scaling plot**"
   ]
  },
  {
   "cell_type": "code",
   "execution_count": null,
   "metadata": {
    "ExecuteTime": {
     "end_time": "2020-03-26T22:41:24.431835Z",
     "start_time": "2020-03-26T22:41:22.545740Z"
    },
    "hidden": true
   },
   "outputs": [],
   "source": [
    "# availableSeeds=[2001,2002,2003,2004]\n",
    "# for seed in availableSeeds:\n",
    "#     firingArray50, params = readFiring(seed, 'fr50')\n",
    "#     firingArray100, params = readFiring(seed, 'fr100')\n",
    "#     firingArray200, params = readFiring(seed, 'fr200')\n",
    "#     firingArray400, params = readFiring(seed, 'fr400')\n",
    "\n",
    "#     fig1, (ax1) = plt.subplots(1,1,figsize=(5,3), dpi = 100, frameon=True)\n",
    "\n",
    "#     ax1.plot(np.arange(len(firingArray50[:]))/50, firingArray50 * 50**(1-1.75), \n",
    "#              'm.',label= \"D=50\")\n",
    "#     ax1.plot(np.arange(len(firingArray100[:]))/100, firingArray100 * 100**(1-1.75), \n",
    "#              'r.', label= \"D=100\")\n",
    "#     ax1.plot(np.arange(len(firingArray200[:]))/200, firingArray200 * 200**(1-1.75), \n",
    "#              'c.', label= \"D=200\")\n",
    "#     ax1.plot(np.arange(len(firingArray400[:]))/400, firingArray400 * 400**(1-1.75), \n",
    "#              'b.', label= \"D=400\")\n",
    "\n",
    "#     ax1.set_xlabel(r'time, $t/D$', fontweight='bold');\n",
    "#     ax1.set_ylabel(r'firing rate, $f_r D^{1 - \\frac{1}{\\sigma\\nu z}}$', fontweight='bold')\n",
    "#     ax1.set_title( 'BTW Model: $L=$' + str(params[1]) + '$; \\lambda=$'+str(params[2]))\n",
    "#     ax1.tick_params(labelsize=9)\n",
    "#     ax1.legend(fontsize=8,loc=8)\n",
    "#     plt.show(fig1)\n"
   ]
  },
  {
   "cell_type": "markdown",
   "metadata": {
    "hidden": true
   },
   "source": [
    "These runs clearly show better data collapse when looking at durations which are **On the scaling plot**. "
   ]
  },
  {
   "cell_type": "code",
   "execution_count": null,
   "metadata": {
    "ExecuteTime": {
     "end_time": "2020-03-29T17:44:43.017855Z",
     "start_time": "2020-03-29T17:44:41.229472Z"
    },
    "hidden": true
   },
   "outputs": [],
   "source": [
    "seed=2000\n",
    "\n",
    "firingArray25, params = readFiring(seed, 'fr25')\n",
    "firingArray50, params = readFiring(seed, 'fr50')\n",
    "firingArray75, params = readFiring(seed, 'fr75')\n",
    "firingArray100, params = readFiring(seed, 'fr100')\n",
    "firingArray150, params = readFiring(seed, 'fr150')\n",
    "firingArray200, params = readFiring(seed, 'fr200')\n",
    "\n",
    "fig1, (ax1) = plt.subplots(1,1,figsize=(4, 3.5), dpi = 100, frameon=True)\n",
    "\n",
    "# ax1.plot(np.arange(len(firingArray25[:]))/25, firingArray25 * 25**(1-1.7), \n",
    "#          'm.',label= \"D=25\")\n",
    "ax1.plot(np.arange(len(firingArray50[:]))/50, firingArray50 * 50**(1-1.614), \n",
    "         'r.',label= \"D=50\")\n",
    "ax1.plot(np.arange(len(firingArray75[:]))/75, firingArray75 * 75**(1-1.614), \n",
    "         'y.',label= \"D=25\")\n",
    "ax1.plot(np.arange(len(firingArray100[:]))/100, firingArray100 * 100**(1-1.614), \n",
    "         'g.', label= \"D=100\")\n",
    "ax1.plot(np.arange(len(firingArray150[:]))/150, firingArray150 * 150**(1-1.614), \n",
    "         'c.', label= \"D=150\")\n",
    "ax1.plot(np.arange(len(firingArray200[:]))/200, firingArray200 * 200**(1-1.614), \n",
    "         'b.', label= \"D=200\")\n",
    "\n",
    "\n",
    "ax1.set_xlabel(r'time, $t/D$', fontweight='bold');\n",
    "ax1.set_ylabel(r'firing rate, $f_r D^{1 - \\frac{1}{\\sigma\\nu z}}$', fontweight='bold')\n",
    "ax1.set_title( 'Abelian Model: $L=$' + str(params[1]) + '$; \\lambda=$'+str(params[2]))\n",
    "ax1.tick_params(labelsize=9)\n",
    "ax1.legend(fontsize=8,loc=8)\n",
    "fig1.savefig('sp_crit_btw_firing.png', dpi=240)\n",
    "plt.show(fig1)\n"
   ]
  },
  {
   "cell_type": "markdown",
   "metadata": {},
   "source": [
    "# Manna Sandpile model ('final')\n",
    "\n",
    "These runs have seed \n",
    "\n",
    "    800-820\n",
    "    \n",
    "They are more 'final' runs to compuate the critical properties of the BTW sandpile model. "
   ]
  },
  {
   "cell_type": "markdown",
   "metadata": {
    "heading_collapsed": true,
    "hidden": true
   },
   "source": [
    "## Scaling plots as $\\lambda \\to 0$\n",
    "\n",
    "Fitting the the function\n",
    "\n",
    "\\begin{equation}\n",
    "    N_s(s,L) \\sim s^{-\\tau} e^{-s/L^{D_f}} e^{-\\lambda s^\\sigma}\n",
    "\\end{equation}\n",
    "\n",
    "we use previous results from FSS to set $D_f \\approx 2.1$. We then take the $log_{10}$ of the expression above and fit to that:\n",
    "\n",
    "\\begin{align}\n",
    "    \\log_{10}[N_s(s,L)] = A - \\tau \\log_{10}[s] - \\frac{ sL^{-D_f} }{\\log[10]} - \\frac{\\lambda s^\\sigma}{\\log[10]} \\\\\n",
    "\\end{align}\n",
    "\n",
    "in the code, we fit according to $x = \\log_{10}(s)$, which in the above formula corresponds to\n",
    "\\begin{align}\n",
    "    \\log_{10}[N_s(s,L)] = A - \\tau x - \\frac{ 10^x L^{-D_f} }{\\log[10]} - \\frac{\\lambda 10^{x\\sigma}}{\\log[10]} \\\\\n",
    "\\end{align}"
   ]
  },
  {
   "cell_type": "markdown",
   "metadata": {
    "heading_collapsed": true,
    "hidden": true
   },
   "source": [
    "### Fitting for the $\\tau$ exponent first:"
   ]
  },
  {
   "cell_type": "code",
   "execution_count": null,
   "metadata": {
    "ExecuteTime": {
     "end_time": "2020-04-02T20:38:48.340454Z",
     "start_time": "2020-04-02T20:38:37.463390Z"
    },
    "hidden": true
   },
   "outputs": [],
   "source": [
    "def plotD_plotSizes(seed, c):\n",
    "    \n",
    "    ## Sizes w/ double counting\n",
    "    x,y,params = plotSizes(seed, filetype='s');  x = np.log10(x); y = np.log10(y)\n",
    "\n",
    "    za, cova = np.polyfit(x[6:16], y[6:16], 1, cov=True)\n",
    "    pa = np.poly1d(za)\n",
    "    perra = np.sqrt(np.diag(cova))\n",
    "    xpa = np.linspace(x[6], x[16],40)\n",
    "    ax1.plot(xpa, pa(xpa),linestyle='--', color='grey', \n",
    "             label=r'$\\tau_s = $'+str(round(-za[0],3))+'$\\pm$'+str(round(perra[0], 4)))\n",
    "    ax1.fill_between(xpa, -10, 0, \n",
    "                    facecolor='red', alpha=0.3)\n",
    "    \n",
    "    # ---------------------------------------------------- #\n",
    "    ax1.plot(x, y, '.', color=c, label = r\"$\\lambda=$\"+str(round(params[2],6)))\n",
    "    taus = round(-za[0],3)\n",
    "    errors = round(perra[0], 4)\n",
    "    \n",
    "    \n",
    "    ## Sizes w/o double counting\n",
    "    x,y,params = plotSizes(seed, filetype='a');  x = np.log10(x); y = np.log10(y)\n",
    "\n",
    "    za, cova = np.polyfit(x[6:16], y[6:16], 1, cov=True)\n",
    "    pa = np.poly1d(za)\n",
    "    perra = np.sqrt(np.diag(cova))\n",
    "    xpa = np.linspace(x[6], x[16],40)\n",
    "    ax3.plot(xpa, pa(xpa),linestyle='--', color='grey', \n",
    "             label=r'$\\tau_a = $'+str(round(-za[0],3))+'$\\pm$'+str(round(perra[0], 4)))\n",
    "    ax3.fill_between(xpa, -10, 0, \n",
    "                    facecolor='red', alpha=0.3)\n",
    "    # ---------------------------------------------------- #\n",
    "    ax3.plot(x, y, '.', color=c, label = r\"$\\lambda=$\"+str(round(params[2],6)))\n",
    "    taua = round(-za[0],3)\n",
    "    errora = round(perra[0], 4)\n",
    "    \n",
    "    ## Durations\n",
    "    x,y,params = plotSizes(seed, filetype='d');  x = np.log10(x); y = np.log10(y)\n",
    "    \n",
    "    za, cova = np.polyfit(x[6:16], y[6:16], 1, cov=True)\n",
    "    pa = np.poly1d(za)\n",
    "    perra = np.sqrt(np.diag(cova))\n",
    "    xpa = np.linspace(x[6], x[16],40)\n",
    "    ax2.plot(xpa, pa(xpa),linestyle='--', color='grey', \n",
    "             label=r'$\\tau_D = $'+str(round(-za[0],3))+'$\\pm$'+str(round(perra[0], 4)))\n",
    "    ax2.fill_between(xpa, -10, 0, \n",
    "                    facecolor='red', alpha=0.3)\n",
    "    # ---------------------------------------------------- #\n",
    "    ax2.plot(x, y, '.', color=c,label = r\"$\\lambda=$\"+str(round(params[2],6)))\n",
    "    taud = round(-za[0],3)\n",
    "    errord = round(perra[0], 4)\n",
    "\n",
    "    return params[2], [taus, taua, taud], [errors, errora, errord]\n",
    "\n",
    "\n",
    "\n",
    "# -------------------- Create Figure  -------------------- #\n",
    "\n",
    "exponents = []; error = []; lambdas = []\n",
    "fig1, (ax1) = plt.subplots(1,1,figsize=(5,4), dpi=120, frameon=True)\n",
    "fig3, (ax3) = plt.subplots(1,1,figsize=(5,4), dpi=120, frameon=True)\n",
    "fig2, (ax2) = plt.subplots(1,1,figsize=(5,4), dpi=120, frameon=True)\n",
    "\n",
    "lamb, new_exp, new_err = plotD_plotSizes(820, 'r')\n",
    "exponents += [new_exp]; error += [new_err]; lambdas += [lamb]\n",
    "\n",
    "# -- Decoration --\n",
    "ax1.set_ylabel(r'$N_s(s,L)$',fontweight='bold'); ax1.set_xlabel('size, $s$',fontweight='bold')\n",
    "ax2.set_ylabel(r'$N_d(d,L)$',fontweight='bold'); ax2.set_xlabel('duration, $d$',fontweight='bold')\n",
    "ax3.set_ylabel(r'$N_a(a,L)$',fontweight='bold'); ax3.set_xlabel('size, $a$',fontweight='bold')\n",
    "ax1.legend(loc=1, fontsize=7)\n",
    "ax2.legend(loc=1, fontsize=7)\n",
    "ax3.legend(loc=1, fontsize=7)\n",
    "# ax2.set_ylim(top=7)\n",
    "fig1.tight_layout(); fig2.tight_layout(); fig3.tight_layout()"
   ]
  },
  {
   "cell_type": "markdown",
   "metadata": {
    "heading_collapsed": true,
    "hidden": true
   },
   "source": [
    "### Scaling Plots w/o data collapse\n",
    "\n",
    "and fitting to the exponents using a nonlinear curve-fit. "
   ]
  },
  {
   "cell_type": "code",
   "execution_count": null,
   "metadata": {
    "ExecuteTime": {
     "end_time": "2020-04-02T20:38:48.360728Z",
     "start_time": "2020-04-02T20:38:48.342795Z"
    },
    "execution": {
     "iopub.execute_input": "2020-05-22T18:33:38.734Z",
     "iopub.status.busy": "2020-05-22T18:33:38.708Z",
     "iopub.status.idle": "2020-05-22T18:33:38.771Z",
     "shell.execute_reply": "2020-05-22T18:33:38.794Z"
    },
    "hidden": true
   },
   "outputs": [],
   "source": [
    "def func(s, tau, sigma, A, lambd):\n",
    "    return A - tau * s - lambd * (10**s)**sigma  / np.log(10) # - 10**s * 256**(-2.2) / np.log(10)\n",
    "\n",
    "def func_sizeC(s, tau, s_c, A):\n",
    "    return A - tau * s -  10**(s) / s_c / np.log(10)\n",
    "\n",
    "def plotD_plotSizes(seed, c):\n",
    "    \n",
    "    ## Sizes w/ double counting\n",
    "    x,y,params = plotSizes(seed, filetype='s');  x = np.log10(x); y = np.log10(y)\n",
    "    # ------ Fitting to compute avalanche exponents ------ #\n",
    "    tau = 1.248; er=0.012\n",
    "    initGuess = np.asarray([tau, 1, 0])\n",
    "    paramBounds =         ((tau-er, -1e10, -100),\n",
    "                           (tau+er, 1e10,   100))\n",
    "    popt, pcov = curve_fit(func_sizeC, x[2:], y[2:], p0=initGuess, bounds=paramBounds)\n",
    "    perr = np.sqrt(np.diag(pcov))\n",
    "    # ---------------------------------------------------- #\n",
    "    ax1.plot(x, y, '.', color=c, label = r\"$\\lambda=$\"+str(round(params[2],6)))\n",
    "    ax1.plot(x, func_sizeC(x, *popt), color=c)\n",
    "    \n",
    "    \n",
    "    ## Sizes w/o double counting\n",
    "    x,y,params = plotSizes(seed, filetype='a');  x = np.log10(x); y = np.log10(y)\n",
    "    # ------ Fitting to compute avalanche exponents ------ #\n",
    "    tau = 1.289; er = 0.013\n",
    "    initGuess = np.asarray([tau, 1, 0])\n",
    "    paramBounds =         ((tau-er, -1e10, -100),\n",
    "                           (tau+er, 1e10,   100))\n",
    "    popt3, pcov3 = curve_fit(func_sizeC, x[2:], y[2:], p0=initGuess, bounds=paramBounds)\n",
    "    perr3 = np.sqrt(np.diag(pcov3))\n",
    "    # ---------------------------------------------------- #\n",
    "    ax3.plot(x, y, '.', color=c, label = r\"$\\lambda=$\"+str(round(params[2],6)))\n",
    "    ax3.plot(x, func_sizeC(x, *popt3), color=c)\n",
    "    \n",
    "    \n",
    "    ## Durations\n",
    "    x,y,params = plotSizes(seed, filetype='d');  x = np.log10(x); y = np.log10(y)\n",
    "    # ------ Fitting to compute avalanche exponents ------ #\n",
    "    tau = 1.385; er=0.0176\n",
    "    initGuess = np.asarray([tau, 1,    1])\n",
    "    paramBounds =         ((tau-er, -1e8, -100), \n",
    "                           (tau+er, 1e8,  100))\n",
    "    popt2, pcov2 = curve_fit(func_sizeC, x, y, p0=initGuess, bounds=paramBounds)\n",
    "    perr2 = np.sqrt(np.diag(pcov2))\n",
    "    # ---------------------------------------------------- #\n",
    "    ax2.plot(x, y, '.', color=c,label = r\"$\\lambda=$\"+str(round(params[2],6)))\n",
    "    ax2.plot(x, func_sizeC(x, *popt2), color=c)\n",
    "    return params[2], [popt[0], popt[1],popt2[0], popt2[1],popt3[0], popt3[1]], [perr[0], perr[1], perr2[0], perr2[1], perr3[0], perr3[1]]\n"
   ]
  },
  {
   "cell_type": "code",
   "execution_count": null,
   "metadata": {
    "ExecuteTime": {
     "end_time": "2020-04-02T20:41:45.924196Z",
     "start_time": "2020-04-02T20:38:48.364466Z"
    },
    "execution": {
     "iopub.execute_input": "2020-05-22T18:33:39.376Z",
     "iopub.status.busy": "2020-05-22T18:33:39.356Z",
     "iopub.status.idle": "2020-05-22T18:35:50.551Z",
     "shell.execute_reply": "2020-05-22T18:35:50.679Z"
    },
    "hidden": true
   },
   "outputs": [],
   "source": [
    "# -------------------- Create Figure  -------------------- #\n",
    "\n",
    "seedrange = np.arange(800,820)\n",
    "\n",
    "exponents = []; error = []; lambdas = []\n",
    "fig1, (ax1) = plt.subplots(1,1,figsize=(4, 3.5), dpi=120, frameon=True)\n",
    "fig3, (ax3) = plt.subplots(1,1,figsize=(4, 3.5), dpi=120, frameon=True)\n",
    "fig2, (ax2) = plt.subplots(1,1,figsize=(4, 3.5), dpi=120, frameon=True)\n",
    "\n",
    "\n",
    "color = iter( cm.rainbow( np.linspace(0,1,len(seedrange)) ) ) # List of different colors. numPoints --> No. of lines to plot\n",
    "for i in seedrange:  #Plot seeds 401-410, the ten lambda runs. \n",
    "    c = next( color )\n",
    "    lamb, new_exp, new_err = plotD_plotSizes(i, c)\n",
    "    exponents += [new_exp]; error += [new_err]; lambdas += [lamb]\n",
    "\n",
    "# -- Decoration --\n",
    "ax1.set_ylabel(r'$N_s(s,L)$',fontweight='bold'); ax1.set_xlabel('size, $s$',fontweight='bold')\n",
    "ax2.set_ylabel(r'$N_d(d,L)$',fontweight='bold'); ax2.set_xlabel('duration, $d$',fontweight='bold')\n",
    "ax3.set_ylabel(r'$N_a(a,L)$',fontweight='bold'); ax3.set_xlabel('size, $a$',fontweight='bold')\n",
    "ax1.legend(loc=1, fontsize=6)\n",
    "ax2.legend(loc=1, fontsize=6)\n",
    "ax3.legend(loc=1, fontsize=6)\n",
    "fig1.tight_layout(); fig2.tight_layout(); fig3.tight_layout()\n",
    "# fig.suptitle(r\"OBC, $L=256$, fixed $\\Delta h$\", fontweight='bold')\n",
    "# ax1.set_title('BTW, L='+params[1])\n",
    "# ax2.set_title('BTW, L='+params[1])\n",
    "# ax3.set_title('BTW, L='+params[1])\n",
    "\n",
    "# fig1.savefig('sp_crit_manna_s.png', dpi=240)\n",
    "# fig2.savefig('sp_crit_manna_D.png', dpi=240)\n",
    "# fig3.savefig('sp_crit_manna_a.png', dpi=240)"
   ]
  },
  {
   "cell_type": "markdown",
   "metadata": {
    "heading_collapsed": true,
    "hidden": true
   },
   "source": [
    "### Characteristic size and $\\sigma$ exponent\n",
    "\n",
    "Below we compute the critical exponents using the prescription of fitting to characteristic avalanche size/duration and extracting the $\\sigma$ exponent from this. "
   ]
  },
  {
   "cell_type": "code",
   "execution_count": null,
   "metadata": {
    "ExecuteTime": {
     "end_time": "2020-03-28T19:21:43.383798Z",
     "start_time": "2020-03-28T19:21:36.068973Z"
    },
    "hidden": true
   },
   "outputs": [],
   "source": [
    "# ---------- Plot of Exponents while lambda -> 0 --------- #\n",
    "# ---------- Fitting to compute \\sigma's  ---------------- #\n",
    "\n",
    "slopeS, interceptS, r_valueS, p_valueS, std_errS = stats.linregress(np.log(np.asarray(lambdas))[1:-10],np.log(np.asarray(exponents))[1:-10,1])\n",
    "slopeA, interceptA, r_valueA, p_valueA, std_errS = stats.linregress(np.log(np.asarray(lambdas))[1:-10],np.log(np.asarray(exponents))[1:-10,5])\n",
    "slopeD, interceptD, r_valueD, p_valueD, std_errD = stats.linregress(np.log(np.asarray(lambdas))[1:-10],np.log(np.asarray(exponents))[1:-10,3])\n",
    "\n",
    "xs = np.logspace(-4,-1,100)\n",
    "lineS = slopeS * np.log10(xs) + interceptS\n",
    "lineA = slopeA * np.log10(xs) + interceptA\n",
    "lineD = slopeD * np.log10(xs) + interceptD\n",
    "\n",
    "\n",
    "# -------------------- Create Figure  -------------------- #\n",
    "fig, (ax1, ax2) = plt.subplots(1,2,figsize=(8,3.5), dpi=120, frameon=True)\n",
    "ax1.plot(np.asarray(lambdas),np.asarray(exponents)[:,0], 'r-o', label=r'$\\tau_s$')\n",
    "ax1.plot(np.asarray(lambdas),np.asarray(exponents)[:,2], 'b-o', label=r'$\\tau_D$')\n",
    "ax1.plot(np.asarray(lambdas),np.asarray(exponents)[:,4], 'g-o', label=r'$\\tau_a$')\n",
    "\n",
    "ax2.plot(np.asarray(lambdas),np.asarray(exponents)[:,1],\n",
    "             'r-o', label=r'$s_c$ w/ $\\sigma_s \\approx$' + str(round(-1/slopeS, 4)))\n",
    "ax2.plot(np.asarray(lambdas),np.asarray(exponents)[:,3],\n",
    "             'b-o', label=r'$D_c$ w/ $\\sigma_D \\approx $' + str(round(-1/slopeD, 4)))\n",
    "ax2.plot(np.asarray(lambdas),np.asarray(exponents)[:,5],\n",
    "             'g-o', label=r'$a_c$ w/ $\\sigma_a \\approx $' + str(round(-1/slopeA, 4)))\n",
    "\n",
    "# print(-1/slopeS, -1/slopeD)\n",
    "ax2.plot(xs, 10**lineS, '--', color='red')\n",
    "ax2.plot(xs, 10**lineD, '--', color='blue')\n",
    "ax2.plot(xs, 10**lineA, '--', color='green')\n",
    "\n",
    "# -- Decoration --\n",
    "ax1.legend(loc=3, fontsize=9); \n",
    "ax2.legend(loc=3, fontsize=9); \n",
    "ax1.set_xscale('log'); ax1.set_xlabel('$\\lambda$')\n",
    "ax2.set_xscale('log'); ax2.set_yscale('log'); ax2.set_xlabel('$\\lambda$')\n",
    "fig.suptitle(r\"Exponents for $N_x(x,L) \\sim x^{-\\tau}e^{-x/x_c(\\lambda)}$ w/ $x_c  \\sim \\epsilon^{-1/\\sigma_x}$\", fontweight='bold', y=1.02)\n",
    "# fig.savefig('sp_crit_manna_exps', dpi=240)\n",
    "plt.show()"
   ]
  },
  {
   "cell_type": "code",
   "execution_count": null,
   "metadata": {
    "ExecuteTime": {
     "end_time": "2020-04-02T20:41:53.848504Z",
     "start_time": "2020-04-02T20:41:45.926116Z"
    },
    "hidden": true
   },
   "outputs": [],
   "source": [
    "# ---------- Plot of Exponents while lambda -> 0 --------- #\n",
    "# ---------- Fitting to compute \\sigma's  ---------------- #\n",
    "\n",
    "slopeS, interceptS, r_valueS, p_valueS, std_errS = stats.linregress(np.log(np.asarray(lambdas))[1:-10],np.log(np.asarray(exponents))[1:-10,1])\n",
    "slopeA, interceptA, r_valueA, p_valueA, std_errA = stats.linregress(np.log(np.asarray(lambdas))[1:-10],np.log(np.asarray(exponents))[1:-10,5])\n",
    "slopeD, interceptD, r_valueD, p_valueD, std_errD = stats.linregress(np.log(np.asarray(lambdas))[1:-10],np.log(np.asarray(exponents))[1:-10,3])\n",
    "\n",
    "xs = np.logspace(-4,-1,100)\n",
    "lineS = slopeS * np.log10(xs) + interceptS\n",
    "lineA = slopeA * np.log10(xs) + interceptA\n",
    "lineD = slopeD * np.log10(xs) + interceptD\n",
    "\n",
    "\n",
    "# -------------------- Create Figure  -------------------- #\n",
    "fig1, (ax1) = plt.subplots(1,1,figsize=(4, 4), dpi=120, frameon=True)\n",
    "fig2, (ax2) = plt.subplots(1,1,figsize=(4, 4), dpi=120, frameon=True)\n",
    "fig3, (ax3) = plt.subplots(1,1,figsize=(4, 4), dpi=120, frameon=True)\n",
    "\n",
    "ax1.plot(np.asarray(lambdas),np.asarray(exponents)[:,1], 'ro-', \n",
    "         label=r'$\\sigma_s \\approx $' + str(round(-1/slopeS, 4)) + '$\\pm$' + str(round(std_errS, 4)))\n",
    "ax2.plot(np.asarray(lambdas),np.asarray(exponents)[:,3],'go-', \n",
    "         label=r'$\\sigma_D \\approx $' + str(round(-1/slopeD, 4)) + '$\\pm$' + str(round(std_errD, 4)))\n",
    "ax3.plot(np.asarray(lambdas),np.asarray(exponents)[:,5],'bo-', \n",
    "         label=r'$\\sigma_a \\approx $' + str(round(-1/slopeA, 4)) + '$\\pm$' + str(round(std_errA, 4)))\n",
    "\n",
    "# print(-1/slopeS, -1/slopeD)\n",
    "ax1.plot(xs, 10**lineS, '--', color='red')\n",
    "ax2.plot(xs, 10**lineD, '--', color='green')\n",
    "ax3.plot(xs, 10**lineA, '--', color='blue')\n",
    "\n",
    "# -- Decoration --\n",
    "ax1.legend(loc=2, fontsize=9); \n",
    "ax2.legend(loc=2, fontsize=9); \n",
    "ax3.legend(loc=2, fontsize=9); \n",
    "ax1.set_xscale('log'); ax1.set_yscale('log'); ax1.set_xlabel('dissipation, $\\lambda$'); ax1.set_ylabel('$s_c$')\n",
    "ax2.set_xscale('log'); ax2.set_yscale('log'); ax2.set_xlabel('dissipation, $\\lambda$'); ax2.set_ylabel('$D_c$')\n",
    "ax3.set_xscale('log'); ax3.set_yscale('log'); ax3.set_xlabel('dissipation, $\\lambda$'); ax3.set_ylabel('$a_c$')\n",
    "# fig.suptitle(r\"Critical exponents consistency check for $N(s,L) \\sim s^{-\\tau}e^{-s/s_c(\\lambda)}$\", fontweight='bold', y=1.02)\n",
    "# plt.show()\n",
    "\n",
    "fig1.savefig('Plots/sp_crit_manna_s_sigma.png', dpi=240)\n",
    "fig2.savefig('Plots/sp_crit_manna_D_sigma.png', dpi=240)\n",
    "fig3.savefig('Plots/sp_crit_manna_a_sigma.png', dpi=240)\n",
    "\n",
    "print(lambdas)\n",
    "print(exponents)\n"
   ]
  },
  {
   "cell_type": "markdown",
   "metadata": {
    "hidden": true
   },
   "source": [
    "### Re-scaled scaling plots (data collapse)\n",
    "\n",
    "\n",
    "Plotting the following axis:\n",
    "\\begin{equation}\n",
    "    N(x) x^{\\tau_x} = h(x / \\lambda^{1/\\sigma_x})\n",
    "\\end{equation}\n",
    "where we expect to see data collapse since $h(.)$ should be a universal function independent of $\\lambda$ other than the single argument. \n",
    "\n",
    "We also expect that $h(x) = \\exp[x]$, at least from previous results (e.g. the neuron paper). \n"
   ]
  },
  {
   "cell_type": "code",
   "execution_count": null,
   "metadata": {
    "ExecuteTime": {
     "end_time": "2020-03-26T20:42:52.372739Z",
     "start_time": "2020-03-26T20:42:52.363934Z"
    },
    "execution": {
     "iopub.execute_input": "2020-05-22T18:38:05.998Z",
     "iopub.status.busy": "2020-05-22T18:38:05.975Z",
     "iopub.status.idle": "2020-05-22T18:38:06.029Z",
     "shell.execute_reply": "2020-05-22T18:38:06.051Z"
    },
    "hidden": true
   },
   "outputs": [],
   "source": [
    "def plotD_plotSizes_rescaled(seed, c):\n",
    "    \n",
    "    ## Sizes w/ double counting\n",
    "    x,y,params = plotSizes(seed, filetype='s');  \n",
    "    lambd = params[2];\n",
    "    tau = 1.248; sigma = 0.7467\n",
    "    ax1.plot(x * lambd**(1/sigma), y * lambd**(-tau/sigma) , '.-', color=c, label = r\"$\\lambda=$\"+str(round(lambd,6)))\n",
    "    \n",
    "    \n",
    "    ## Sizes w/o double counting\n",
    "    x,y,params = plotSizes(seed, filetype='a');  \n",
    "    lambd = params[2];\n",
    "    tau = 1.289; sigma = 0.9526\n",
    "    ax2.plot(x * lambd**(1/sigma), y * lambd**(-tau/sigma) , '.-', color=c, label = r\"$\\lambda=$\"+str(round(lambd,6)))\n",
    "    \n",
    "    \n",
    "    ## Durations\n",
    "    x,y,params = plotSizes(seed, filetype='d');  \n",
    "    lambd = params[2];\n",
    "    tau = 1.385; sigma = 1.2938\n",
    "    ax3.plot(x * lambd**(1/sigma), y * lambd**(-tau/sigma) , '.-', color=c, label = r\"$\\lambda=$\"+str(round(lambd,6)))\n",
    "\n",
    "    "
   ]
  },
  {
   "cell_type": "code",
   "execution_count": null,
   "metadata": {
    "ExecuteTime": {
     "end_time": "2020-03-26T20:43:54.940423Z",
     "start_time": "2020-03-26T20:42:54.190501Z"
    },
    "execution": {
     "iopub.execute_input": "2020-05-22T18:38:06.488Z",
     "iopub.status.busy": "2020-05-22T18:38:06.467Z",
     "iopub.status.idle": "2020-05-22T18:40:35.851Z",
     "shell.execute_reply": "2020-05-22T18:40:35.885Z"
    },
    "hidden": true
   },
   "outputs": [],
   "source": [
    "# -------------------- Create Figure  -------------------- #\n",
    "\n",
    "seedrange = np.arange(800,812)\n",
    "\n",
    "exponents = []; error = []; lambdas = []\n",
    "# fig1, (ax1) = plt.subplots(1,1,figsize=(5,4), dpi=120, frameon=True)\n",
    "# fig3, (ax3) = plt.subplots(1,1,figsize=(5,4), dpi=120, frameon=True)\n",
    "# fig2, (ax2) = plt.subplots(1,1,figsize=(5,4), dpi=120, frameon=True)\n",
    "\n",
    "fig, (ax1, ax2, ax3) = plt.subplots(1,3,figsize=(15,5), dpi=240, frameon=True)\n",
    "\n",
    "color = iter( cm.rainbow( np.linspace(0,1,len(seedrange)) ) ) # List of different colors. numPoints --> No. of lines to plot\n",
    "for i in seedrange: \n",
    "    c = next( color )\n",
    "    plotD_plotSizes_rescaled(i, c)\n",
    "\n",
    "    \n",
    "# -- Decoration --\n",
    "\n",
    "ax1.set_ylabel(r'$N_s(s,L)$',fontweight='bold'); ax1.set_xlabel('size, $s$',fontweight='bold')\n",
    "ax2.set_ylabel(r'$N_d(d,L)$',fontweight='bold'); ax2.set_xlabel('duration, $d$',fontweight='bold')\n",
    "ax3.set_ylabel(r'$N_a(a,L)$',fontweight='bold'); ax3.set_xlabel('size, $a$',fontweight='bold')\n",
    "ax1.set_xscale('log'); \n",
    "ax1.set_yscale('log')\n",
    "ax2.set_xscale('log'); \n",
    "ax2.set_yscale('log')\n",
    "ax3.set_xscale('log'); \n",
    "ax3.set_yscale('log')\n",
    "ax1.legend(loc=1, fontsize=6)\n",
    "ax2.legend(loc=1, fontsize=6)\n",
    "ax3.legend(loc=1, fontsize=6)\n",
    "# fig1.tight_layout(); fig2.tight_layout(); fig3.tight_layout()"
   ]
  },
  {
   "cell_type": "markdown",
   "metadata": {
    "heading_collapsed": true,
    "hidden": true
   },
   "source": [
    "### Inset Scaling Plots"
   ]
  },
  {
   "cell_type": "code",
   "execution_count": null,
   "metadata": {
    "ExecuteTime": {
     "end_time": "2020-04-04T19:07:03.912480Z",
     "start_time": "2020-04-04T19:06:29.250888Z"
    },
    "hidden": true
   },
   "outputs": [],
   "source": [
    "def func(s, tau, sigma, A, lambd):\n",
    "    return A - tau * s - lambd * (10**s)**sigma  / np.log(10) # - 10**s * 256**(-2.2) / np.log(10)\n",
    "\n",
    "def func_sizeC(s, tau, s_c, A):\n",
    "    return A - tau * s -  10**(s) / s_c / np.log(10)\n",
    "\n",
    "def plotD_plotSizes1(seed, c,lab):\n",
    "    \n",
    "    seedRange = [803, 807, 811, 815] # the ones that will be plotted\n",
    "    \n",
    "    ## Sizes w/ double counting\n",
    "    x,y,params = plotSizes(seed, filetype='s');  x = np.log10(x); y = np.log10(y)\n",
    "    # ------ Fitting to compute avalanche exponents ------ #\n",
    "    tau = 1.08; er = 0.123\n",
    "    initGuess = np.asarray([tau, 1, 0])\n",
    "    paramBounds =         ((tau-er, -1e10, -100),\n",
    "                           (tau+er, 1e10,   100))\n",
    "    popt, pcov = curve_fit(func_sizeC, x[2:], y[2:], p0=initGuess, bounds=paramBounds)\n",
    "    perr = np.sqrt(np.diag(pcov))\n",
    "    # ---------------------------------------------------- #\n",
    "    if seed in seedRange:\n",
    "        ax1.plot(x, y, '.', color=c, label = lab)\n",
    "        ax1.plot(np.linspace(0,6.25), -1.248 * np.linspace(0,6.25), 'k--')\n",
    "    \n",
    "    \n",
    "    ## Sizes w/o double counting\n",
    "    x,y,params = plotSizes(seed, filetype='a');  x = np.log10(x); y = np.log10(y)\n",
    "    # ------ Fitting to compute avalanche exponents ------ #\n",
    "    tau = 1.075; er = 0.121\n",
    "    initGuess = np.asarray([tau, 1, 0])\n",
    "    paramBounds =         ((tau-er, -1e10, -100),\n",
    "                           (tau+er, 1e10,   100))\n",
    "    popt3, pcov3 = curve_fit(func_sizeC, x[2:], y[2:], p0=initGuess, bounds=paramBounds)\n",
    "    perr3 = np.sqrt(np.diag(pcov3))\n",
    "    # ---------------------------------------------------- #\n",
    "    \n",
    "    if seed in seedRange:\n",
    "        ax3.plot(x, y, '.', color=c, label = lab)\n",
    "        ax3.plot(np.linspace(0,5.5), -1.249 * np.linspace(0,5.5), 'k--')\n",
    "#     ax3.plot(x, func_sizeC(x, *popt3), color=c)\n",
    "    \n",
    "    \n",
    "    ## Durations\n",
    "    x,y,params = plotSizes(seed, filetype='d');  x = np.log10(x); y = np.log10(y)\n",
    "    # ------ Fitting to compute avalanche exponents ------ #\n",
    "    tau = 1.142; er = 0.127\n",
    "    initGuess = np.asarray([tau, 1,    1])\n",
    "    paramBounds =         ((tau-er, -1e8, -100), \n",
    "                           (tau+er, 1e8,  100))\n",
    "    popt2, pcov2 = curve_fit(func_sizeC, x, y, p0=initGuess, bounds=paramBounds)\n",
    "    perr2 = np.sqrt(np.diag(pcov2))\n",
    "    # ---------------------------------------------------- #\n",
    "    if seed in seedRange:\n",
    "        ax2.plot(x, y, '.', color=c, label = lab)\n",
    "        ax2.plot(np.linspace(0,5), -1.385 * np.linspace(0,5), 'k--')\n",
    "#     ax2.plot(x, func_sizeC(x, *popt2), color=c)\n",
    "\n",
    "    return params[2], [popt[0], popt[1],popt2[0], popt2[1],popt3[0], popt3[1]], [perr[0], perr[1], perr2[0], perr2[1], perr3[0], perr3[1]]\n",
    "\n",
    "\n",
    "\n",
    "# -------------------- Create Figure  -------------------- #\n",
    "# seedrange = np.arange(900,920, 1)\n",
    "seedrange = [803, 807, 811, 815]\n",
    "labrange = [0.01, 0.001, 0.0001, 0.00001]\n",
    "\n",
    "exponents = []; error = []; lambdas = []\n",
    "fig1, (ax1) = plt.subplots(1,1,figsize=(4, 3.5), dpi=120, frameon=True)\n",
    "fig3, (ax3) = plt.subplots(1,1,figsize=(4, 3.5), dpi=120, frameon=True)\n",
    "fig2, (ax2) = plt.subplots(1,1,figsize=(4, 3.5), dpi=120, frameon=True)\n",
    "color = iter( cm.rainbow( np.linspace(0,1,len(seedrange)) ) ) # List of different colors. numPoints --> No. of lines to plot\n",
    "for i in range(len(seedrange)):  #Plot seeds 401-410, the ten lambda runs. \n",
    "    c = next( color )\n",
    "    lab = r\"$\\lambda= %10.1e$\"%labrange[i]\n",
    "    lamb, new_exp, new_err = plotD_plotSizes1(seedrange[i], c, lab)\n",
    "    exponents += [new_exp]; error += [new_err]; lambdas += [lamb]\n",
    "\n",
    "# -- Decoration --\n",
    "ax1.set_ylabel(r'$\\log N_s(s,L)$',fontweight='bold'); ax1.set_xlabel('size, $\\log s$',fontweight='bold')\n",
    "ax2.set_ylabel(r'$\\log N_d(d,L)$',fontweight='bold'); ax2.set_xlabel('duration, $\\log d$',fontweight='bold')\n",
    "ax3.set_ylabel(r'$\\log N_a(a,L)$',fontweight='bold'); ax3.set_xlabel('size, $\\log a$',fontweight='bold')\n",
    "ax1.legend(loc=1, fontsize=9)\n",
    "ax2.legend(loc=1, fontsize=9)\n",
    "ax3.legend(loc=1, fontsize=9)\n",
    "\n",
    "\n",
    "\n",
    "# print(exponents, error)\n",
    "\n",
    "# ---------- Plot of Exponents while lambda -> 0 --------- #\n",
    "# ---------- Fitting to compute \\sigma's  ---------------- #\n",
    "\n",
    "lambdas = [0.100000001, 0.0545559004, 0.0297634993, 0.0162377991, 0.00885870028, 0.00483290013, 0.00263669994, 0.00143840001, 0.00078479998, 0.0004281, 0.000233600003, 0.000127399995, 6.94999981e-05, 3.79000012e-05, 2.06999994e-05, 1.12999996e-05, 6.19999992e-06, 3.39999997e-06, 1.79999995e-06, 9.99999997e-07]\n",
    "exponents = [[0.9570000000000002, 12.61080407664912, 1.0150000000000003, 4.052789177515682, 0.9540000000000001, 11.88900503674474], [0.9570000000000002, 24.12775372167678, 1.0150000000000001, 6.252609476260731, 0.9540000000000001, 23.614012534871904], [0.9570000000000003, 45.22692090747746, 1.0150000000000001, 9.359471231287806, 0.9540000000000001, 42.866484920477085], [0.9570000000000002, 87.70790363387802, 1.0150000000000001, 13.929148529360734, 0.9540000000000001, 79.43162616087798], [0.9570000000000002, 171.70474901496962, 1.0150000000000001, 21.682320359746864, 0.9540000000000001, 142.25621858633343], [0.9570000000000002, 357.4350630155103, 1.0150000000000001, 31.41372396414024, 0.9540000000000001, 279.8839529148057], [0.9570000000000002, 713.0323457108133, 1.0150000000000001, 45.34343447947397, 0.9540000000000001, 468.82938109903995], [0.9570000000000002, 1342.3272751537415, 1.0150000000000001, 67.856726462309, 0.9540000000000007, 771.8934587753394], [0.9738102296977198, 2475.840658292559, 1.0150000000000001, 94.42161117004751, 0.9540000000000001, 1144.8145186004344], [1.0147789437086403, 4457.965178129168, 1.015000000000001, 124.19584783452505, 0.9540000000000001, 1881.0434256235133], [1.0259280351009419, 6607.638070795759, 1.0150000000000001, 184.8085496025376, 0.9540000000000001, 2771.633860538995], [1.021895165663645, 8374.774521514779, 1.0150000000000035, 213.679071198371, 0.9540000000000001, 1808.3372245748938], [1.0474568105160733, 11028.826741056926, 1.0150000000000012, 235.97686688858934, 0.9540000000000001, 2377.2361658991517], [1.0322805920970823, 11592.260824031553, 1.0150000000000001, 253.3901829454813, 0.9540000000000001, 2541.645742110839], [1.043492608941865, 12717.538048145952, 1.0150000000000001, 287.6164282570088, 0.9540000000000001, 2682.4407976994244], [1.051420506472148, 13682.93241871642, 1.0150000000000001, 288.15838567645164, 0.9540000000000001, 2818.8008747946087], [1.0757017163564322, 15261.77433885351, 1.0150000000000001, 290.1677447710125, 0.9540000000000001, 2873.946919736512], [1.053476024162264, 14167.554223884568, 1.0150000000000001, 294.7925898691035, 0.9540000000000001, 2858.6191388633965], [1.0430437861818964, 13573.152142359348, 1.0150000000000001, 293.6937718647803, 0.9540000000000001, 2803.2829916697706], [1.0515584183520885, 14215.427449593779, 1.0150000000000001, 293.748445226956, 0.9540000000000001, 2939.4432973667854]]\n",
    "\n",
    "# slopeS, interceptS, r_valueS, p_valueS, std_errS = stats.linregress(np.log(np.asarray(lambdas))[1:-10],np.log(np.asarray(exponents))[1:-10,1])\n",
    "# slopeA, interceptA, r_valueA, p_valueA, std_errA = stats.linregress(np.log(np.asarray(lambdas))[1:-10],np.log(np.asarray(exponents))[1:-10,5])\n",
    "# slopeD, interceptD, r_valueD, p_valueD, std_errD = stats.linregress(np.log(np.asarray(lambdas))[1:-10],np.log(np.asarray(exponents))[1:-10,3])\n",
    "\n",
    "# xs = np.logspace(-4,-1,100)\n",
    "# lineS = slopeS * np.log10(xs) + interceptS\n",
    "# lineA = slopeA * np.log10(xs) + interceptA\n",
    "# lineD = slopeD * np.log10(xs) + interceptD\n",
    "\n",
    "\n",
    "# -------------------- Create Figure  -------------------- #\n",
    "# axins1 = inset_axes(ax1, width=\"30%\", height=\"35%\", loc=3, borderpad=1)\n",
    "# axins2 = inset_axes(ax2, width=\"30%\", height=\"35%\", loc=3, borderpad=1)\n",
    "# axins3 = inset_axes(ax3, width=\"30%\", height=\"35%\", loc=3, borderpad=1)\n",
    "\n",
    "# axins1.plot(np.asarray(lambdas),np.asarray(exponents)[:,1], 'r.-') \n",
    "# print('$\\\\sigma_s \\\\approx ' + str(round(-1/slopeS, 4)), '\\\\pm', round(std_errS, 4), '$')\n",
    "\n",
    "# axins2.plot(np.asarray(lambdas),np.asarray(exponents)[:,3], 'b.-') \n",
    "# print('$\\\\sigma_D \\\\approx ' + str(round(-1/slopeD, 4)), '\\\\pm', round(std_errA, 4), '$')\n",
    "\n",
    "# axins3.plot(np.asarray(lambdas),np.asarray(exponents)[:,5], 'g.-')\n",
    "# print('$\\\\sigma_a \\\\approx ' + str(round(-1/slopeA, 4)), '\\\\pm', round(std_errD, 4), '$')\n",
    "\n",
    "# # print(-1/slopeS, -1/slopeD)\n",
    "# axins1.plot(xs, 10**lineS, '--', color='red')\n",
    "# axins2.plot(xs, 10**lineD, '--', color='blue')\n",
    "# axins3.plot(xs, 10**lineA, '--', color='green')\n",
    "\n",
    "# # -- Decoration --\n",
    "# # axins1.legend(loc=2, fontsize=9); \n",
    "# # axins2.legend(loc=2, fontsize=9); \n",
    "# # axins3.legend(loc=2, fontsize=9); \n",
    "# axins1.set_xscale('log'); axins1.set_yscale('log'); \n",
    "# # axins1.set_xlabel('$\\lambda$'); axins1.set_ylabel('$s_c$')\n",
    "# axins2.set_xscale('log'); axins2.set_yscale('log'); \n",
    "# # axins2.set_xlabel('$\\lambda$'); axins2.set_ylabel('$D_c$')\n",
    "# axins3.set_xscale('log'); axins3.set_yscale('log'); \n",
    "# # axins3.set_xlabel('$\\lambda$'); axins3.set_ylabel('$a_c$')\n",
    "\n",
    "# axins1.tick_params(labelleft=False, labelbottom=False)\n",
    "# axins2.tick_params(labelleft=False, labelbottom=False)\n",
    "# axins3.tick_params(labelleft=False, labelbottom=False)\n",
    "\n",
    "\n",
    "# ax2.set_ylim(top=7)\n",
    "# fig1.tight_layout(); fig2.tight_layout(); fig3.tight_layout()\n",
    "\n",
    "fig1.savefig('Plots/sp_crit_manna_s.png', dpi=240)\n",
    "fig2.savefig('Plots/sp_crit_manna_D.png', dpi=240)\n",
    "fig3.savefig('Plots/sp_crit_manna_a.png', dpi=240)"
   ]
  },
  {
   "cell_type": "code",
   "execution_count": null,
   "metadata": {
    "ExecuteTime": {
     "end_time": "2020-04-02T20:57:40.697679Z",
     "start_time": "2020-04-02T20:57:40.691405Z"
    },
    "hidden": true
   },
   "outputs": [],
   "source": [
    "# axins1.plot(np.asarray(lambdas),np.asarray(exponents)[:,1], 'r.-') \n",
    "print('$\\\\sigma_s \\\\approx ' + str(round(-1/slopeS, 4)), '\\\\pm', round(std_errS, 4), '$')\n",
    "\n",
    "# axins2.plot(np.asarray(lambdas),np.asarray(exponents)[:,3], 'b.-') \n",
    "print('$\\\\sigma_D \\\\approx ' + str(round(-1/slopeD, 4)), '\\\\pm', round(std_errA, 4), '$')\n",
    "\n",
    "# axins3.plot(np.asarray(lambdas),np.asarray(exponents)[:,5], 'g.-')\n",
    "print('$\\\\sigma_a \\\\approx ' + str(round(-1/slopeA, 4)), '\\\\pm', round(std_errD, 4), '$')"
   ]
  },
  {
   "cell_type": "markdown",
   "metadata": {
    "heading_collapsed": true,
    "hidden": true
   },
   "source": [
    "## Mean cluster size $\\chi(\\lambda)$"
   ]
  },
  {
   "cell_type": "code",
   "execution_count": null,
   "metadata": {
    "ExecuteTime": {
     "end_time": "2020-03-27T19:50:09.854024Z",
     "start_time": "2020-03-27T19:50:09.828260Z"
    },
    "hidden": true
   },
   "outputs": [],
   "source": [
    "def calc_chi_disp(seed_list, filetype):\n",
    "    chi_s = np.zeros_like(seed_list);  lambda_s = np.zeros_like(seed_list).astype('float')\n",
    "    for s in range(len(seed_list)):\n",
    "        sizeS, params = readSizes(seed_list[s],filetype)\n",
    "        lambda_s[s] = params[2]\n",
    "        chi_s[s] = np.sum(np.power(sizeS, 2)) / np.sum(np.power(sizeS, 1))\n",
    "    return lambda_s, chi_s\n"
   ]
  },
  {
   "cell_type": "code",
   "execution_count": null,
   "metadata": {
    "ExecuteTime": {
     "end_time": "2020-03-27T19:52:07.505698Z",
     "start_time": "2020-03-27T19:50:10.025883Z"
    },
    "hidden": true
   },
   "outputs": [],
   "source": [
    "seed_list = np.arange(800,820);   \n",
    "lambda_s, chi_s = calc_chi_disp(seed_list,'s')\n",
    "lambda_a, chi_a = calc_chi_disp(seed_list,'a')\n"
   ]
  },
  {
   "cell_type": "code",
   "execution_count": null,
   "metadata": {
    "ExecuteTime": {
     "end_time": "2020-03-27T19:52:12.891167Z",
     "start_time": "2020-03-27T19:52:07.508003Z"
    },
    "hidden": true
   },
   "outputs": [],
   "source": [
    "loglambd_s = np.log10(lambda_s); logchi_s = np.log10(chi_s)\n",
    "loglambd_a = np.log10(lambda_a); logchi_a = np.log10(chi_a)\n",
    "\n",
    "# -------------------- Create Figure  -------------------- #       \n",
    "fig1, (ax1) = plt.subplots(1,1,figsize=(5,4), dpi=120, frameon=True)\n",
    "fig2, (ax2) = plt.subplots(1,1,figsize=(5,4), dpi=120, frameon=True)\n",
    "ax1.plot(loglambd_s, logchi_s, 'ro-')\n",
    "ax2.plot(loglambd_a, logchi_a, 'bo-')\n",
    "\n",
    "zs, covs = np.polyfit(loglambd_s[:9], logchi_s[:9], 1, cov=True)\n",
    "ps = np.poly1d(zs)\n",
    "perrs = np.sqrt(np.diag(covs))\n",
    "xps = np.linspace(loglambd_s[9],-1,40)\n",
    "ax1.plot(xps, ps(xps),linestyle='--', color='grey', \n",
    "         label='$\\gamma_s = $'+str(round(-zs[0],3))+'$\\pm$'+str(round(perrs[0], 4)))\n",
    "ax1.fill_between(xps, 1, 6, \n",
    "                facecolor='red', alpha=0.3)\n",
    "\n",
    "\n",
    "za, cova = np.polyfit(loglambd_a[:10], logchi_a[:10], 1, cov=True)\n",
    "pa = np.poly1d(za)\n",
    "perra = np.sqrt(np.diag(cova))\n",
    "xpa = np.linspace(loglambd_a[9],-1,40)\n",
    "ax2.plot(xpa, pa(xpa),linestyle='--', color='grey', \n",
    "         label='$\\gamma_a = $'+str(round(-za[0],3))+'$\\pm$'+str(round(perra[0], 4)))\n",
    "ax2.fill_between(xps, 1, 5, \n",
    "                facecolor='blue', alpha=0.3)\n",
    "\n",
    "\n",
    "# -- Decoration --\n",
    "ax1.set_ylabel(r'repsonse function, $\\log\\chi_s(\\lambda)$',fontweight='bold')\n",
    "ax1.set_xlabel(r'dissipation, $\\log\\lambda$', fontweight='bold')\n",
    "ax1.legend(loc=3, fontsize=10)\n",
    "ax1.set_title(\"OBC, fixed drop, $L = 128$\", fontsize=12, fontweight='bold')\n",
    "ax1.set_ylim(bottom=np.min(logchi_s)-0.1, top=np.max(logchi_s)+0.1)\n",
    "\n",
    "ax2.set_ylabel(r'repsonse function, $\\log\\chi_a(\\lambda)$',fontweight='bold')\n",
    "ax2.set_xlabel(r'dissipation, $\\log\\lambda$', fontweight='bold')\n",
    "ax2.legend(loc=3, fontsize=10)\n",
    "ax2.set_title(\"OBC, fixed drop, $L = 128$\", fontsize=12, fontweight='bold')\n",
    "ax2.set_ylim(bottom=np.min(logchi_a)-0.1, top=np.max(logchi_a)+0.1)\n",
    "fig1.savefig(\"sp_crit_manna_chi_s\", dpi=240)\n",
    "fig2.savefig(\"sp_crit_manna_chi_a\", dpi=240)\n",
    "plt.show()\n"
   ]
  },
  {
   "cell_type": "code",
   "execution_count": null,
   "metadata": {
    "ExecuteTime": {
     "end_time": "2020-03-27T19:53:09.898201Z",
     "start_time": "2020-03-27T19:52:12.894480Z"
    },
    "hidden": true
   },
   "outputs": [],
   "source": [
    "lambda_d, chi_d = calc_chi_disp(seed_list,'d')"
   ]
  },
  {
   "cell_type": "code",
   "execution_count": null,
   "metadata": {
    "ExecuteTime": {
     "end_time": "2020-03-27T19:53:11.417325Z",
     "start_time": "2020-03-27T19:53:09.907140Z"
    },
    "hidden": true
   },
   "outputs": [],
   "source": [
    "loglambd_d = np.log10(lambda_d); logchi_d = np.log10(chi_d)\n",
    "\n",
    "# -------------------- Create Figure  -------------------- #       \n",
    "fig, (ax1) = plt.subplots(1,1,figsize=(5,4), dpi=120, frameon=True)\n",
    "ax1.plot(loglambd_d, logchi_d, 'go-')\n",
    "\n",
    "zd, covd = np.polyfit(loglambd_d[:10], logchi_d[:10], 1, cov=True)\n",
    "pd = np.poly1d(zd)\n",
    "perrd = np.sqrt(np.diag(covd))\n",
    "xpd = np.linspace(loglambd_d[9],-1,40)\n",
    "ax1.plot(xpd, pd(xpd),linestyle='--', color='grey', \n",
    "         label='$\\gamma_d = $'+str(round(-zd[0],3))+'$\\pm$'+str(round(perrd[0], 4)))\n",
    "ax1.fill_between(xpd, 0, 4, #where=y > theta,\n",
    "                facecolor='green', alpha=0.3)\n",
    "\n",
    "# -- Decoration --\n",
    "ax1.set_ylabel(r'repsonse function, $\\log\\chi(\\lambda)$',fontweight='bold')\n",
    "ax1.set_xlabel(r'dissipation, $\\log\\lambda$', fontweight='bold')\n",
    "ax1.legend(loc=3, fontsize=10)\n",
    "ax1.set_title(\"OBC, fixed drop, $L = 128$\", fontsize=12, fontweight='bold')\n",
    "ax1.set_ylim(bottom=np.min(logchi_d)-0.1, top=np.max(logchi_d)+0.1)\n",
    "\n",
    "plt.savefig(\"sp_crit_manna_chi_d\", dpi=240)\n",
    "plt.show()\n",
    "\n"
   ]
  },
  {
   "cell_type": "markdown",
   "metadata": {
    "heading_collapsed": true,
    "hidden": true
   },
   "source": [
    "## Correlation length $\\xi(\\lambda)$"
   ]
  },
  {
   "cell_type": "code",
   "execution_count": null,
   "metadata": {
    "ExecuteTime": {
     "end_time": "2020-04-04T18:06:02.447417Z",
     "start_time": "2020-04-04T18:06:02.423599Z"
    },
    "hidden": true
   },
   "outputs": [],
   "source": [
    "def readRG(seed, filetype):\n",
    "    \"Read the file of avalanche sizes for given seed. \"\n",
    "    \n",
    "    with open(\"Data/sp\" + str(seed) + '_' + filetype + '.txt', \"r\") as f:\n",
    "        header=[x for x in next(f)]\n",
    "        params = [float(x) for x in next(f).split()]\n",
    "        array_list = [[float(x) for x in line.split() if '\\x00' not in x ] for line in f]\n",
    "    sizeS = np.asarray([x[0] for x in array_list if len(x) >= 4])\n",
    "    rg = np.asarray([x[1] for x in array_list if len(x) >= 4])\n",
    "    params[1] = int(params[1])\n",
    "    return sizeS, rg, params\n",
    "\n",
    "def calc_xi_disp(seed_list, filetype):\n",
    "    xi_s = np.zeros_like(seed_list);  lambda_s = np.zeros_like(seed_list).astype('float')\n",
    "    for s in range(len(seed_list)):\n",
    "        sizeS, rg, params = readRG(seed_list[s],filetype)\n",
    "        lambda_s[s] = params[2]\n",
    "        xi_s[s] = np.sum(sizeS * rg * rg) / np.sum(sizeS)\n",
    "    return lambda_s, np.sqrt(xi_s)"
   ]
  },
  {
   "cell_type": "code",
   "execution_count": null,
   "metadata": {
    "ExecuteTime": {
     "end_time": "2020-04-04T18:09:22.616793Z",
     "start_time": "2020-04-04T18:06:03.306891Z"
    },
    "hidden": true
   },
   "outputs": [],
   "source": [
    "seed_list = np.arange(800,820)\n",
    "lambda_s, xi_s = calc_xi_disp(seed_list, 'rgs')\n",
    "lambda_a, xi_a = calc_xi_disp(seed_list, 'rga')\n"
   ]
  },
  {
   "cell_type": "code",
   "execution_count": null,
   "metadata": {
    "ExecuteTime": {
     "end_time": "2020-04-04T18:14:06.781569Z",
     "start_time": "2020-04-04T18:14:03.478543Z"
    },
    "hidden": true
   },
   "outputs": [],
   "source": [
    "loglambd_s = np.log10(lambda_s); logxi_s = np.log10(xi_s)\n",
    "loglambd_a = np.log10(lambda_a); logxi_a = np.log10(xi_a)\n",
    "\n",
    "# -------------------- Create Figure  -------------------- #       \n",
    "fig1, (ax1) = plt.subplots(1,1,figsize=(5,4), dpi=120, frameon=True)\n",
    "fig2, (ax2) = plt.subplots(1,1,figsize=(5,4), dpi=120, frameon=True)\n",
    "ax1.plot(loglambd_s, logxi_s, 'ro-')\n",
    "ax2.plot(loglambd_a, logxi_a, 'bo-')\n",
    "\n",
    "zs, covs = np.polyfit(loglambd_s[8:13], logxi_s[8:13], 1, cov=True)\n",
    "ps = np.poly1d(zs)\n",
    "perrs = np.sqrt(np.diag(covs))\n",
    "xps = np.linspace(loglambd_s[8],loglambd_s[13],40)\n",
    "ax1.plot(xps, ps(xps),linestyle='--', color='red', \n",
    "         label=r'$\\nu_s = $'+str(round(-zs[0],3))+'$\\pm$'+str(round(perrs[0], 4)))\n",
    "ax1.fill_between(xps, 0, 4.5, \n",
    "                facecolor='red', alpha=0.3)\n",
    "\n",
    "\n",
    "za, cova = np.polyfit(loglambd_a[9:13], logxi_a[9:13], 1, cov=True)\n",
    "pa = np.poly1d(za)\n",
    "perra = np.sqrt(np.diag(cova))\n",
    "xpa = np.linspace(loglambd_a[8],loglambd_a[13],40)\n",
    "ax2.plot(xpa, pa(xpa),linestyle='--', color='blue', \n",
    "         label=r'$\\nu_a = $'+str(round(-za[0],3))+'$\\pm$'+str(round(perra[0], 4)))\n",
    "ax2.fill_between(xps, 0, 4.5, \n",
    "                facecolor='blue', alpha=0.3)\n",
    "\n",
    "# -- Decorations -- \n",
    "ax1.set_ylabel(r'correlation length, $\\log\\xi(\\lambda)$', fontweight='bold') \n",
    "ax1.set_xlabel(r'dissipation, $\\log\\lambda$', fontweight='bold')\n",
    "ax1.legend(loc=3,fontsize=10)\n",
    "ax1.set_title(\"OBC, fixed drop, $L = 128$\", fontsize=12, fontweight='bold')\n",
    "ax1.set_ylim(bottom=np.min(logxi_s)-0.1, top=np.max(logxi_s)+0.1)\n",
    "\n",
    "ax2.set_ylabel(r'correlation length, $\\log\\xi(\\lambda)$', fontweight='bold') \n",
    "ax2.set_xlabel(r'dissipation, $\\log\\lambda$', fontweight='bold')\n",
    "ax2.legend(loc=3,fontsize=10)\n",
    "ax2.set_title(\"OBC, fixed drop, $L = 128$\", fontsize=12, fontweight='bold')\n",
    "ax2.set_ylim(bottom=np.min(logxi_a)-0.1, top=np.max(logxi_a)+0.1)\n",
    "\n",
    "\n",
    "fig1.savefig(\"sp_crit_manna_xi_s\", dpi=240)\n",
    "fig2.savefig(\"sp_crit_manna_xi_a\", dpi=240)\n",
    "plt.show()"
   ]
  },
  {
   "cell_type": "markdown",
   "metadata": {
    "heading_collapsed": true,
    "hidden": true
   },
   "source": [
    "## Average Size vs. Duration; $\\langle s \\rangle \\sim D^{1/\\sigma\\nu z}$"
   ]
  },
  {
   "cell_type": "code",
   "execution_count": null,
   "metadata": {
    "ExecuteTime": {
     "end_time": "2020-03-27T19:56:24.986295Z",
     "start_time": "2020-03-27T19:56:24.941212Z"
    },
    "hidden": true
   },
   "outputs": [],
   "source": [
    "def readSizes(seed, filetype):\n",
    "    \"Read the file of avalanche sizes for given seed. \"\n",
    "    \n",
    "    with open(\"Data/sp\" + str(seed) + '_' + filetype + '.txt', \"r\") as f:\n",
    "        content_siz = f.readlines()\n",
    "    \n",
    "    with open(\"Data/sp\" + str(seed) + '_' + 'd' + '.txt', \"r\") as f:\n",
    "        content_dur = f.readlines()\n",
    "    \n",
    "    header=[x for x in content_siz[0]]\n",
    "    params = [float(x) for x in content_siz[1].split()]\n",
    "    \n",
    "    array_siz = []\n",
    "    array_dur = []\n",
    "\n",
    "    for line_ind in range(2, len(content_siz)):\n",
    "        x = content_siz[line_ind].split()\n",
    "        y = content_dur[line_ind].split()\n",
    "        if '\\x00' in x[0]:\n",
    "            print('bad in siz: ' + str(line_ind))\n",
    "            break\n",
    "        elif '\\x00' in y[0]:\n",
    "            print('bad in dur: ' + str(line_ind))\n",
    "            break\n",
    "        else: \n",
    "            array_siz += [int(x[0])]\n",
    "            array_dur += [int(y[0])]\n",
    "\n",
    "    sizeS_raw = [x for x in array_siz]\n",
    "    durD_raw = [x for x in array_dur]\n",
    "    params[1] = int(params[1])\n",
    "    return sizeS_raw,durD_raw, params\n",
    "\n",
    "\n",
    "def findSizeVsDur(seed):\n",
    "#     size, params = readSizes(seed,'s')\n",
    "#     duration, params = readSizes(seed,'d')\n",
    "    \n",
    "    size, duration, params = readSizes(seed,'s')\n",
    "        \n",
    "    # Create arrays for durations and corresponding average size\n",
    "    size_avg = np.arange(np.min(duration),np.max(duration)+1) * 0\n",
    "    size_counts = np.arange(np.min(duration),np.max(duration)+1) * 0\n",
    "    duration_each = np.arange(np.min(duration),np.max(duration)+1)\n",
    "\n",
    "    end_iter = min(len(size), len(duration))\n",
    "    for i in range(end_iter):      # count up the avergae size for each given duration. \n",
    "        size_avg[duration[i]-1] += size[i]\n",
    "        size_counts[duration[i]-1] += 1\n",
    "\n",
    "    for i in range(len(size_avg)-1,-1,-1):      # Delete any 0 counts. \n",
    "        if size_avg[i]==0:\n",
    "            size_avg = np.delete(size_avg,i)\n",
    "            size_counts = np.delete(size_counts,i)\n",
    "            duration_each = np.delete(duration_each,i)\n",
    "    size_avg = np.divide(size_avg, size_counts)\n",
    "    return size_avg, duration_each, params\n",
    "\n",
    "def findSizeAVsDur(seed):        \n",
    "    size, duration, params = readSizes(seed,'a')\n",
    "    \n",
    "    # Create arrays for durations and corresponding average size\n",
    "    size_avg = np.arange(np.min(duration),np.max(duration)+1) * 0\n",
    "    size_counts = np.arange(np.min(duration),np.max(duration)+1) * 0\n",
    "    duration_each = np.arange(np.min(duration),np.max(duration)+1)\n",
    "\n",
    "    end_iter = min(len(size), len(duration))\n",
    "    for i in range(end_iter):      # count up the avergae size for each given duration. \n",
    "        size_avg[duration[i]-1] += size[i]\n",
    "        size_counts[duration[i]-1] += 1\n",
    "\n",
    "    for i in range(len(size_avg)-1,-1,-1):      # Delete any 0 counts. \n",
    "        if size_avg[i]==0:\n",
    "            size_avg = np.delete(size_avg,i)\n",
    "            size_counts = np.delete(size_counts,i)\n",
    "            duration_each = np.delete(duration_each,i)\n",
    "    size_avg = np.divide(size_avg, size_counts)\n",
    "    return size_avg, duration_each, params\n",
    "\n",
    "def plotSizeVsDur(seed):\n",
    "    y, x, params = findSizeVsDur(seed)\n",
    "    ya, x, params = findSizeAVsDur(seed)\n",
    "    \n",
    "#     hist, bin_edges = np.histogram(y,bins=np.logspace(0,5,50,base=2),density=True)\n",
    "    \n",
    "    # -------------------- Create Figure  -------------------- #                                \n",
    "    fig1, (ax1) = plt.subplots(1,1,figsize=(3.5,3), dpi = 120, frameon=True)\n",
    "    ax1.plot(np.log10(x), np.log10(y), 'r.', label=r'$\\lambda = $' + str(round(params[2],6)))\n",
    "    \n",
    "    # Fitting... \n",
    "    result = np.where(x > 10**2.5); result = result[0][0]\n",
    "    zs, covs = np.polyfit(np.log10(x[8:result]), np.log10(y[8:result]), 1, cov=True)\n",
    "    ps = np.poly1d(zs)\n",
    "    perrs = np.sqrt(np.diag(covs))\n",
    "    xps = np.linspace(np.log10(x[0]),np.log10(x[-1]),40)\n",
    "    ax1.plot(xps, ps(xps),linestyle='-', color='grey',\n",
    "         label=r'$\\frac{1}{\\sigma_s\\nu_s z_s} = $'+str(round(-zs[0],3))+'$\\pm$'+str(round(perrs[0], 4)))\n",
    "\n",
    "    \n",
    "    fig2, (ax2) = plt.subplots(1,1,figsize=(3.5,3), dpi = 120, frameon=True)\n",
    "    ax2.plot(np.log10(x), np.log10(ya), 'r.', label=r'$\\lambda = $' + str(round(params[2],6)))\n",
    "\n",
    "    # Fitting... \n",
    "    result = np.where(x > 10**2.5); result = result[0][0]\n",
    "    zs, covs = np.polyfit(np.log10(x[8:result]), np.log10(ya[8:result]), 1, cov=True)\n",
    "    ps = np.poly1d(zs)\n",
    "    perrs = np.sqrt(np.diag(covs))\n",
    "    xps = np.linspace(np.log10(x[0]),np.log10(x[-1]),40)\n",
    "    ax2.plot(xps, ps(xps),linestyle='-', color='grey',\n",
    "         label=r'$\\frac{1}{\\sigma_s\\nu_s z_s} = $'+str(round(-zs[0],3))+'$\\pm$'+str(round(perrs[0], 4)))\n",
    "\n",
    "    \n",
    "\n",
    "#     t = np.logspace(np.log10(x[0]), np.log10(x[-1]), 100)\n",
    "#     ax1.plot(np.log10(t), 1.7*np.log10(t)-0.5, '--',color='grey', label='exp. = 1.7')\n",
    "#     ax2.plot(np.log10(t), 1.5*np.log10(t)-0.25, '--',color='grey', label='exp. = 1.5')\n",
    "    ax1.set_ylabel(r'average size, $\\log_{10}\\langle s \\rangle$'); ax1.set_xlabel(r'duration, $\\log_{10}d$')\n",
    "    ax2.set_ylabel(r'average size, $\\log_{10}\\langle a \\rangle$'); ax2.set_xlabel(r'duration, $\\log_{10}d$')\n",
    "    \n",
    "    ax1.tick_params(labelsize=9)\n",
    "    ax2.tick_params(labelsize=9)\n",
    "    ax1.legend(fontsize=8,loc=4)\n",
    "    ax2.legend(fontsize=8,loc=4)\n",
    "    fig1.savefig('sp_crit_manna_SvD.png', dpi=240)\n",
    "    fig2.savefig('sp_crit_manna_AvD.png', dpi=240)\n",
    "#     plt.savefig('sp_lambda_SvsD.png', dpi=240)\n",
    "    plt.show(fig1)\n",
    "    plt.show(fig2)\n",
    "    "
   ]
  },
  {
   "cell_type": "code",
   "execution_count": null,
   "metadata": {
    "ExecuteTime": {
     "end_time": "2020-03-27T19:56:39.008119Z",
     "start_time": "2020-03-27T19:56:24.990160Z"
    },
    "hidden": true
   },
   "outputs": [],
   "source": [
    "for seed in range(820,821):\n",
    "    plotSizeVsDur(seed)"
   ]
  },
  {
   "cell_type": "markdown",
   "metadata": {
    "heading_collapsed": true,
    "hidden": true
   },
   "source": [
    "## Firing Rate (data collapse?)"
   ]
  },
  {
   "cell_type": "code",
   "execution_count": null,
   "metadata": {
    "ExecuteTime": {
     "end_time": "2020-03-27T19:56:39.017222Z",
     "start_time": "2020-03-27T19:56:39.010278Z"
    },
    "hidden": true
   },
   "outputs": [],
   "source": [
    "def readFiring(seed, filetype):\n",
    "    \"Read the file of tA (active sites over time) for given seed. \"\n",
    "    \n",
    "    with open(\"Data/sp\" + str(seed) + '_' + filetype + '.txt', \"r\") as f:\n",
    "        header=[x for x in next(f)]\n",
    "        params = [float(x) for x in next(f).split()]\n",
    "        array = [[float(x) for x in line.split()] for line in f]\n",
    "    sizeS = np.asarray([x for x in array])\n",
    "    params[1] = int(params[1])\n",
    "    \n",
    "    outputArray = np.asarray(sizeS[:,:])\n",
    "    avgOutArray = np.mean(outputArray, axis=0)\n",
    "    \n",
    "#     return np.mean(avgOutArray.reshape(-1, divisor//100), axis=1), params\n",
    "    return avgOutArray, params"
   ]
  },
  {
   "cell_type": "markdown",
   "metadata": {
    "hidden": true
   },
   "source": [
    "This code was for bad runs... testing for durations which were **Off the scaling plot**"
   ]
  },
  {
   "cell_type": "code",
   "execution_count": null,
   "metadata": {
    "ExecuteTime": {
     "end_time": "2020-03-26T22:41:24.431835Z",
     "start_time": "2020-03-26T22:41:22.545740Z"
    },
    "hidden": true
   },
   "outputs": [],
   "source": [
    "# availableSeeds=[2001,2002,2003,2004]\n",
    "# for seed in availableSeeds:\n",
    "#     firingArray50, params = readFiring(seed, 'fr50')\n",
    "#     firingArray100, params = readFiring(seed, 'fr100')\n",
    "#     firingArray200, params = readFiring(seed, 'fr200')\n",
    "#     firingArray400, params = readFiring(seed, 'fr400')\n",
    "\n",
    "#     fig1, (ax1) = plt.subplots(1,1,figsize=(5,3), dpi = 100, frameon=True)\n",
    "\n",
    "#     ax1.plot(np.arange(len(firingArray50[:]))/50, firingArray50 * 50**(1-1.75), \n",
    "#              'm.',label= \"D=50\")\n",
    "#     ax1.plot(np.arange(len(firingArray100[:]))/100, firingArray100 * 100**(1-1.75), \n",
    "#              'r.', label= \"D=100\")\n",
    "#     ax1.plot(np.arange(len(firingArray200[:]))/200, firingArray200 * 200**(1-1.75), \n",
    "#              'c.', label= \"D=200\")\n",
    "#     ax1.plot(np.arange(len(firingArray400[:]))/400, firingArray400 * 400**(1-1.75), \n",
    "#              'b.', label= \"D=400\")\n",
    "\n",
    "#     ax1.set_xlabel(r'time, $t/D$', fontweight='bold');\n",
    "#     ax1.set_ylabel(r'firing rate, $f_r D^{1 - \\frac{1}{\\sigma\\nu z}}$', fontweight='bold')\n",
    "#     ax1.set_title( 'BTW Model: $L=$' + str(params[1]) + '$; \\lambda=$'+str(params[2]))\n",
    "#     ax1.tick_params(labelsize=9)\n",
    "#     ax1.legend(fontsize=8,loc=8)\n",
    "#     plt.show(fig1)\n"
   ]
  },
  {
   "cell_type": "markdown",
   "metadata": {
    "hidden": true
   },
   "source": [
    "These runs clearly show better data collapse when looking at durations which are **On the scaling plot**. "
   ]
  },
  {
   "cell_type": "code",
   "execution_count": null,
   "metadata": {
    "ExecuteTime": {
     "end_time": "2020-03-27T19:56:44.192216Z",
     "start_time": "2020-03-27T19:56:39.020268Z"
    },
    "hidden": true
   },
   "outputs": [],
   "source": [
    "seed=2010\n",
    "\n",
    "firingArray25, params = readFiring(seed, 'fr25')\n",
    "firingArray50, params = readFiring(seed, 'fr50')\n",
    "firingArray75, params = readFiring(seed, 'fr75')\n",
    "firingArray100, params = readFiring(seed, 'fr100')\n",
    "firingArray150, params = readFiring(seed, 'fr150')\n",
    "firingArray200, params = readFiring(seed, 'fr200')\n",
    "\n",
    "# fig1, (ax1) = plt.subplots(1,1,figsize=(5,3), dpi = 100, frameon=True)\n",
    "fig1, (ax1) = plt.subplots(1,1,figsize=(4, 3.5), dpi = 100, frameon=True)\n",
    "\n",
    "# ax1.plot(np.arange(len(firingArray25[:]))/25, firingArray25 * 25**(1-1.7), \n",
    "#          'm.',label= \"D=25\")\n",
    "ax1.plot(np.arange(len(firingArray50[:]))/50, firingArray50 * 50**(1-1.7), \n",
    "         'r.',label= \"D=50\")\n",
    "ax1.plot(np.arange(len(firingArray75[:]))/75, firingArray75 * 75**(1-1.7), \n",
    "         'y.',label= \"D=25\")\n",
    "ax1.plot(np.arange(len(firingArray100[:]))/100, firingArray100 * 100**(1-1.7), \n",
    "         'g.', label= \"D=100\")\n",
    "ax1.plot(np.arange(len(firingArray150[:]))/150, firingArray150 * 150**(1-1.7), \n",
    "         'c.', label= \"D=150\")\n",
    "ax1.plot(np.arange(len(firingArray200[:]))/200, firingArray200 * 200**(1-1.7), \n",
    "         'b.', label= \"D=200\")\n",
    "\n",
    "\n",
    "ax1.set_xlabel(r'time, $t/D$', fontweight='bold');\n",
    "ax1.set_ylabel(r'firing rate, $f_r D^{1 - \\frac{1}{\\sigma\\nu z}}$', fontweight='bold')\n",
    "ax1.set_title( 'Manna Model: $L=$' + str(params[1]) + '$; \\lambda=$'+str(params[2]))\n",
    "ax1.tick_params(labelsize=9)\n",
    "ax1.legend(fontsize=8,loc=8)\n",
    "fig1.savefig('sp_crit_manna_firing.png', dpi=240)\n",
    "plt.show(fig1)\n"
   ]
  },
  {
   "cell_type": "markdown",
   "metadata": {},
   "source": [
    "# Post-Transience Lattice Statistics\n",
    "\n",
    "Mostly out of curoiusity, but also to see if some 1,000,000 plate update can be eliminated, we look at the lattice directly after the transience. We assume that after $t=1,000,000$ grains of sand being added, the lattice has exited any transient state due to starting with all sites $h_i = 0$. We ask, \"what does the lattice look like?\" and \"what are the distribution of site heights?\""
   ]
  },
  {
   "cell_type": "markdown",
   "metadata": {
    "hidden": true
   },
   "source": [
    "## Snapshots of the lattice"
   ]
  },
  {
   "cell_type": "code",
   "execution_count": null,
   "metadata": {
    "ExecuteTime": {
     "end_time": "2020-02-18T19:41:16.903269Z",
     "start_time": "2020-02-18T19:41:16.861354Z"
    },
    "hidden": true
   },
   "outputs": [],
   "source": [
    "def readLattice(seed):\n",
    "    \"Read the file of avalanche sizes for given seed. \"\n",
    "    \n",
    "    with open(\"Data/sp\" + str(seed) + '.txt', \"r\") as f:\n",
    "        header=[x for x in next(f)]\n",
    "        params = [float(x) for x in next(f).split()]\n",
    "        array = [[int(x) for x in line.split()] for line in f]\n",
    "    sizeS = np.asarray([x for x in array])\n",
    "    params[1] = int(params[1])\n",
    "    return sizeS, params"
   ]
  },
  {
   "cell_type": "code",
   "execution_count": null,
   "metadata": {
    "ExecuteTime": {
     "end_time": "2020-02-18T19:41:53.848032Z",
     "start_time": "2020-02-18T19:41:20.673430Z"
    },
    "hidden": true
   },
   "outputs": [],
   "source": [
    "for seed in range(9000,9020):\n",
    "    fig1, (ax1) = plt.subplots(1,1,figsize=(8,6), dpi = 300, frameon=True)\n",
    "    lattice, params = readLattice(seed)\n",
    "    im = ax1.imshow(lattice, cmap='hot', interpolation='nearest')\n",
    "    plt.colorbar(im, boundaries=[-1,0,1,2,3,4])\n",
    "    ax1.set_title(r'$L=$' + str(params[1])+ r', $\\lambda=$'+str(params[2]))\n",
    "    plt.show()"
   ]
  },
  {
   "cell_type": "markdown",
   "metadata": {
    "hidden": true
   },
   "source": [
    "## Histogram of lattice heights"
   ]
  },
  {
   "cell_type": "code",
   "execution_count": null,
   "metadata": {
    "ExecuteTime": {
     "end_time": "2020-02-18T19:41:53.855927Z",
     "start_time": "2020-02-18T19:41:53.849895Z"
    },
    "hidden": true
   },
   "outputs": [],
   "source": [
    "def make_hist(seed):\n",
    "    lattice, params = readLattice(seed)\n",
    "\n",
    "    flattenedLattice = lattice.reshape( (len(lattice[:,0])*len(lattice[0,:]), 1 ) )\n",
    "    histLattice, bin_edges = np.histogram( flattenedLattice, bins= (-0.5,0.5,1.5,2.5,3.5), density=True )\n",
    "\n",
    "    mean = np.mean(flattenedLattice)\n",
    "    var = np.var(flattenedLattice)\n",
    "    \n",
    "    return histLattice, '$\\lambda=$'+str(params[2])\n"
   ]
  },
  {
   "cell_type": "code",
   "execution_count": null,
   "metadata": {
    "ExecuteTime": {
     "end_time": "2020-02-18T19:42:25.257465Z",
     "start_time": "2020-02-18T19:42:24.010494Z"
    },
    "hidden": true
   },
   "outputs": [],
   "source": [
    "fig1, (ax1) = plt.subplots(1,1,figsize=(6,5), dpi = 200, frameon=True)\n",
    "color = iter( cm.rainbow( np.linspace(0,1,20) ) )\n",
    "\n",
    "x = np.arange(0,4,1)\n",
    "for seed in range(9000,9020):\n",
    "    y,lab = make_hist(seed)\n",
    "    ax1.plot(x, y, marker='x', color=next(color),label=lab)\n",
    "ax1.set_xlim(left=-0.5, right=3.5)\n",
    "ax1.set_title(r'$L=128$')\n",
    "ax1.legend(loc=2, fontsize=6)\n",
    "ax1.set_xlabel('height, $h$')\n",
    "ax1.set_ylabel('frequency')\n",
    "plt.show()"
   ]
  },
  {
   "cell_type": "markdown",
   "metadata": {},
   "source": [
    "# Combined Plots for Thesis\n",
    "\n",
    "Code below is essentially copy-pasted, but slightly altered in order to overlay AM and MM plots. "
   ]
  },
  {
   "cell_type": "code",
   "execution_count": null,
   "metadata": {
    "hidden": true
   },
   "outputs": [],
   "source": []
  },
  {
   "cell_type": "markdown",
   "metadata": {
    "hidden": true
   },
   "source": [
    "## Scaling plots as $\\lambda \\to 0$\n",
    "\n",
    "Fitting the the function\n",
    "\n",
    "\\begin{equation}\n",
    "    N_s(s,L) \\sim s^{-\\tau} e^{-s/L^{D_f}} e^{-\\lambda s^\\sigma}\n",
    "\\end{equation}\n",
    "\n",
    "we use previous results from FSS to set $D_f \\approx 2.1$. We then take the $log_{10}$ of the expression above and fit to that:\n",
    "\n",
    "\\begin{align}\n",
    "    \\log_{10}[N_s(s,L)] = A - \\tau \\log_{10}[s] - \\frac{ sL^{-D_f} }{\\log[10]} - \\frac{\\lambda s^\\sigma}{\\log[10]} \\\\\n",
    "\\end{align}\n",
    "\n",
    "in the code, we fit according to $x = \\log_{10}(s)$, which in the above formula corresponds to\n",
    "\\begin{align}\n",
    "    \\log_{10}[N_s(s,L)] = A - \\tau x - \\frac{ 10^x L^{-D_f} }{\\log[10]} - \\frac{\\lambda 10^{x\\sigma}}{\\log[10]} \\\\\n",
    "\\end{align}"
   ]
  },
  {
   "cell_type": "markdown",
   "metadata": {
    "heading_collapsed": true,
    "hidden": true
   },
   "source": [
    "### Fitting for the $\\tau$ exponent first:"
   ]
  },
  {
   "cell_type": "code",
   "execution_count": null,
   "metadata": {
    "ExecuteTime": {
     "end_time": "2020-03-28T19:05:37.971642Z",
     "start_time": "2020-03-28T19:05:29.801646Z"
    },
    "hidden": true
   },
   "outputs": [],
   "source": [
    "def plotD_plotSizes(seed, c):\n",
    "    \n",
    "    ## Sizes w/ double counting\n",
    "    x,y,params = plotSizes(seed, filetype='s');  x = np.log10(x); y = np.log10(y)\n",
    "\n",
    "    za, cova = np.polyfit(x[6:16], y[6:16], 1, cov=True)\n",
    "    pa = np.poly1d(za)\n",
    "    perra = np.sqrt(np.diag(cova))\n",
    "    xpa = np.linspace(x[6], x[16],40)\n",
    "    ax1.plot(xpa, pa(xpa),linestyle='--', color='grey', \n",
    "             label=r'$\\tau_s = $'+str(round(-za[0],3))+'$\\pm$'+str(round(perra[0], 4)))\n",
    "    ax1.fill_between(xpa, -10, 0, \n",
    "                    facecolor='red', alpha=0.3)\n",
    "    \n",
    "    # ---------------------------------------------------- #\n",
    "    ax1.plot(x, y, '.', color=c, label = r\"$\\lambda=$\"+str(round(params[2],6)))\n",
    "    taus = round(-za[0],3)\n",
    "    errors = round(perra[0], 4)\n",
    "    \n",
    "    \n",
    "    ## Sizes w/o double counting\n",
    "    x,y,params = plotSizes(seed, filetype='a');  x = np.log10(x); y = np.log10(y)\n",
    "\n",
    "    za, cova = np.polyfit(x[6:16], y[6:16], 1, cov=True)\n",
    "    pa = np.poly1d(za)\n",
    "    perra = np.sqrt(np.diag(cova))\n",
    "    xpa = np.linspace(x[6], x[16],40)\n",
    "    ax3.plot(xpa, pa(xpa),linestyle='--', color='grey', \n",
    "             label=r'$\\tau_a = $'+str(round(-za[0],3))+'$\\pm$'+str(round(perra[0], 4)))\n",
    "    ax3.fill_between(xpa, -10, 0, \n",
    "                    facecolor='red', alpha=0.3)\n",
    "    # ---------------------------------------------------- #\n",
    "    ax3.plot(x, y, '.', color=c, label = r\"$\\lambda=$\"+str(round(params[2],6)))\n",
    "    taua = round(-za[0],3)\n",
    "    errora = round(perra[0], 4)\n",
    "    \n",
    "    ## Durations\n",
    "    x,y,params = plotSizes(seed, filetype='d');  x = np.log10(x); y = np.log10(y)\n",
    "    \n",
    "    za, cova = np.polyfit(x[6:16], y[6:16], 1, cov=True)\n",
    "    pa = np.poly1d(za)\n",
    "    perra = np.sqrt(np.diag(cova))\n",
    "    xpa = np.linspace(x[6], x[16],40)\n",
    "    ax2.plot(xpa, pa(xpa),linestyle='--', color='grey', \n",
    "             label=r'$\\tau_D = $'+str(round(-za[0],3))+'$\\pm$'+str(round(perra[0], 4)))\n",
    "    ax2.fill_between(xpa, -10, 0, \n",
    "                    facecolor='red', alpha=0.3)\n",
    "    # ---------------------------------------------------- #\n",
    "    ax2.plot(x, y, '.', color=c,label = r\"$\\lambda=$\"+str(round(params[2],6)))\n",
    "    taud = round(-za[0],3)\n",
    "    errord = round(perra[0], 4)\n",
    "\n",
    "    return params[2], [taus, taua, taud], [errors, errora, errord]\n",
    "\n",
    "\n",
    "\n",
    "# -------------------- Create Figure  -------------------- #\n",
    "\n",
    "exponents = []; error = []; lambdas = []\n",
    "fig1, (ax1) = plt.subplots(1,1,figsize=(5,4), dpi=120, frameon=True)\n",
    "fig3, (ax3) = plt.subplots(1,1,figsize=(5,4), dpi=120, frameon=True)\n",
    "fig2, (ax2) = plt.subplots(1,1,figsize=(5,4), dpi=120, frameon=True)\n",
    "\n",
    "lamb, new_exp, new_err = plotD_plotSizes(920, 'r')\n",
    "exponents += [new_exp]; error += [new_err]; lambdas += [lamb]\n",
    "\n",
    "# -- Decoration --\n",
    "ax1.set_ylabel(r'$N_s(s,L)$',fontweight='bold'); ax1.set_xlabel('size, $s$',fontweight='bold')\n",
    "ax2.set_ylabel(r'$N_d(d,L)$',fontweight='bold'); ax2.set_xlabel('duration, $d$',fontweight='bold')\n",
    "ax3.set_ylabel(r'$N_a(a,L)$',fontweight='bold'); ax3.set_xlabel('size, $a$',fontweight='bold')\n",
    "ax1.legend(loc=1, fontsize=7)\n",
    "ax2.legend(loc=1, fontsize=7)\n",
    "ax3.legend(loc=1, fontsize=7)\n",
    "# ax2.set_ylim(top=7)\n",
    "fig1.tight_layout(); fig2.tight_layout(); fig3.tight_layout()"
   ]
  },
  {
   "cell_type": "markdown",
   "metadata": {
    "heading_collapsed": true,
    "hidden": true
   },
   "source": [
    "### Scaling Plots w/o data collapse\n",
    "\n",
    "and fitting to the exponents using a nonlinear curve-fit. "
   ]
  },
  {
   "cell_type": "code",
   "execution_count": null,
   "metadata": {
    "ExecuteTime": {
     "end_time": "2020-03-29T18:37:40.049170Z",
     "start_time": "2020-03-29T18:37:40.025789Z"
    },
    "hidden": true
   },
   "outputs": [],
   "source": [
    "def func(s, tau, sigma, A, lambd):\n",
    "    return A - tau * s - lambd * (10**s)**sigma  / np.log(10) # - 10**s * 256**(-2.2) / np.log(10)\n",
    "\n",
    "def func_sizeC(s, tau, s_c, A):\n",
    "    return A - tau * s -  10**(s) / s_c / np.log(10)\n",
    "\n",
    "def plotD_plotSizes(seed, c):\n",
    "    \n",
    "    ## Sizes w/ double counting\n",
    "    x,y,params = plotSizes(seed, filetype='s');  x = np.log10(x); y = np.log10(y)\n",
    "    # ------ Fitting to compute avalanche exponents ------ #\n",
    "    tau = 1.08; er = 0.123\n",
    "    initGuess = np.asarray([tau, 1, 0])\n",
    "    paramBounds =         ((tau-er, -1e10, -100),\n",
    "                           (tau+er, 1e10,   100))\n",
    "    popt, pcov = curve_fit(func_sizeC, x[2:], y[2:], p0=initGuess, bounds=paramBounds)\n",
    "    perr = np.sqrt(np.diag(pcov))\n",
    "    # ---------------------------------------------------- #\n",
    "    ax1.plot(x, y, '.', color=c, label = r\"$\\lambda=$\"+str(round(params[2],6)))\n",
    "#     ax1.plot(x, func_sizeC(x, *popt), color=c)\n",
    "    \n",
    "    \n",
    "    ## Sizes w/o double counting\n",
    "    x,y,params = plotSizes(seed, filetype='a');  x = np.log10(x); y = np.log10(y)\n",
    "    # ------ Fitting to compute avalanche exponents ------ #\n",
    "    tau = 1.075; er = 0.121\n",
    "    initGuess = np.asarray([tau, 1, 0])\n",
    "    paramBounds =         ((tau-er, -1e10, -100),\n",
    "                           (tau+er, 1e10,   100))\n",
    "    popt3, pcov3 = curve_fit(func_sizeC, x[2:], y[2:], p0=initGuess, bounds=paramBounds)\n",
    "    perr3 = np.sqrt(np.diag(pcov3))\n",
    "    # ---------------------------------------------------- #\n",
    "    ax3.plot(x, y, '.', color=c, label = r\"$\\lambda=$\"+str(round(params[2],6)))\n",
    "#     ax3.plot(x, func_sizeC(x, *popt3), color=c)\n",
    "    \n",
    "    \n",
    "    ## Durations\n",
    "    x,y,params = plotSizes(seed, filetype='d');  x = np.log10(x); y = np.log10(y)\n",
    "    # ------ Fitting to compute avalanche exponents ------ #\n",
    "    tau = 1.142; er = 0.127\n",
    "    initGuess = np.asarray([tau, 1,    1])\n",
    "    paramBounds =         ((tau-er, -1e8, -100), \n",
    "                           (tau+er, 1e8,  100))\n",
    "    popt2, pcov2 = curve_fit(func_sizeC, x, y, p0=initGuess, bounds=paramBounds)\n",
    "    perr2 = np.sqrt(np.diag(pcov2))\n",
    "    # ---------------------------------------------------- #\n",
    "    ax2.plot(x, y, '.', color=c,label = r\"$\\lambda=$\"+str(round(params[2],6)))\n",
    "#     ax2.plot(x, func_sizeC(x, *popt2), color=c)\n",
    "    return params[2], [popt[0], popt[1],popt2[0], popt2[1],popt3[0], popt3[1]], [perr[0], perr[1], perr2[0], perr2[1], perr3[0], perr3[1]]\n"
   ]
  },
  {
   "cell_type": "code",
   "execution_count": null,
   "metadata": {
    "ExecuteTime": {
     "end_time": "2020-03-29T18:54:18.904997Z",
     "start_time": "2020-03-29T18:53:27.349295Z"
    },
    "hidden": true
   },
   "outputs": [],
   "source": [
    "# -------------------- Create Figure  -------------------- #\n",
    "seedrange = np.arange(908,920, 4)\n",
    "seedrange = [903, 907, 911, 915]\n",
    "\n",
    "exponents = []; error = []; lambdas = []\n",
    "fig1, (ax1) = plt.subplots(1,1,figsize=(4, 3.5), dpi=120, frameon=True)\n",
    "fig3, (ax3) = plt.subplots(1,1,figsize=(4, 3.5), dpi=120, frameon=True)\n",
    "fig2, (ax2) = plt.subplots(1,1,figsize=(4, 3.5), dpi=120, frameon=True)\n",
    "color = iter( cm.rainbow( np.linspace(0,1,len(seedrange)) ) ) # List of different colors. numPoints --> No. of lines to plot\n",
    "for i in seedrange:  #Plot seeds 401-410, the ten lambda runs. \n",
    "    c = next( color )\n",
    "    lamb, new_exp, new_err = plotD_plotSizes(i, c)\n",
    "    exponents += [new_exp]; error += [new_err]; lambdas += [lamb]\n",
    "\n",
    "# -- Decoration --\n",
    "ax1.set_ylabel(r'$\\log N_s(s,L)$',fontweight='bold'); ax1.set_xlabel('size, $\\log s$',fontweight='bold')\n",
    "ax2.set_ylabel(r'$\\log N_d(d,L)$',fontweight='bold'); ax2.set_xlabel('duration, $\\log d$',fontweight='bold')\n",
    "ax3.set_ylabel(r'$\\log N_a(a,L)$',fontweight='bold'); ax3.set_xlabel('size, $\\log a$',fontweight='bold')\n",
    "ax1.legend(loc=1, fontsize=9)\n",
    "ax2.legend(loc=1, fontsize=9)\n",
    "ax3.legend(loc=1, fontsize=9)\n",
    "\n",
    "    \n",
    "\n",
    "# ax2.set_ylim(top=7)\n",
    "# fig1.tight_layout(); fig2.tight_layout(); fig3.tight_layout()\n",
    "\n",
    "# fig1.savefig('sp_crit_btw_s.png', dpi=240)\n",
    "# fig2.savefig('sp_crit_btw_D.png', dpi=240)\n",
    "# fig3.savefig('sp_crit_btw_a.png', dpi=240)"
   ]
  },
  {
   "cell_type": "markdown",
   "metadata": {
    "heading_collapsed": true,
    "hidden": true
   },
   "source": [
    "### Characteristic size and $\\sigma$ exponent\n",
    "\n",
    "Below we compute the critical exponents using the prescription of fitting to characteristic avalanche size/duration and extracting the $\\sigma$ exponent from this. "
   ]
  },
  {
   "cell_type": "code",
   "execution_count": null,
   "metadata": {
    "ExecuteTime": {
     "end_time": "2020-03-28T19:12:19.292757Z",
     "start_time": "2020-03-28T19:12:02.037110Z"
    },
    "hidden": true
   },
   "outputs": [],
   "source": [
    "# ---------- Plot of Exponents while lambda -> 0 --------- #\n",
    "# ---------- Fitting to compute \\sigma's  ---------------- #\n",
    "\n",
    "slopeS, interceptS, r_valueS, p_valueS, std_errS = stats.linregress(np.log(np.asarray(lambdas))[1:-10],np.log(np.asarray(exponents))[1:-10,1])\n",
    "slopeA, interceptA, r_valueA, p_valueA, std_errS = stats.linregress(np.log(np.asarray(lambdas))[1:-10],np.log(np.asarray(exponents))[1:-10,5])\n",
    "slopeD, interceptD, r_valueD, p_valueD, std_errD = stats.linregress(np.log(np.asarray(lambdas))[1:-10],np.log(np.asarray(exponents))[1:-10,3])\n",
    "\n",
    "xs = np.logspace(-4,-1,100)\n",
    "lineS = slopeS * np.log10(xs) + interceptS\n",
    "lineA = slopeA * np.log10(xs) + interceptA\n",
    "lineD = slopeD * np.log10(xs) + interceptD\n",
    "\n",
    "\n",
    "# -------------------- Create Figure  -------------------- #\n",
    "fig, (ax1, ax2) = plt.subplots(1,2,figsize=(8,3.5), dpi=120, frameon=True)\n",
    "ax1.plot(np.asarray(lambdas),np.asarray(exponents)[:,0], 'r-o', label=r'$\\tau_s$')\n",
    "ax1.plot(np.asarray(lambdas),np.asarray(exponents)[:,2], 'b-o', label=r'$\\tau_D$')\n",
    "ax1.plot(np.asarray(lambdas),np.asarray(exponents)[:,4], 'g-o', label=r'$\\tau_a$')\n",
    "\n",
    "ax2.plot(np.asarray(lambdas),np.asarray(exponents)[:,1],\n",
    "             'r-o', label=r'$s_c$ w/ $\\sigma_s \\approx$' + str(round(-1/slopeS, 4)))\n",
    "ax2.plot(np.asarray(lambdas),np.asarray(exponents)[:,3],\n",
    "             'b-o', label=r'$D_c$ w/ $\\sigma_D \\approx $' + str(round(-1/slopeD, 4)))\n",
    "ax2.plot(np.asarray(lambdas),np.asarray(exponents)[:,5],\n",
    "             'g-o', label=r'$a_c$ w/ $\\sigma_a \\approx $' + str(round(-1/slopeA, 4)))\n",
    "\n",
    "# print(-1/slopeS, -1/slopeD)\n",
    "ax2.plot(xs, 10**lineS, '--', color='red')\n",
    "ax2.plot(xs, 10**lineD, '--', color='blue')\n",
    "ax2.plot(xs, 10**lineA, '--', color='green')\n",
    "\n",
    "# -- Decoration --\n",
    "ax1.legend(loc=3, fontsize=9); \n",
    "ax2.legend(loc=3, fontsize=9); \n",
    "ax1.set_xscale('log'); ax1.set_xlabel('$\\lambda$')\n",
    "ax2.set_xscale('log'); ax2.set_yscale('log'); ax2.set_xlabel('$\\lambda$')\n",
    "fig.suptitle(r\"Exponents for $N_x(x,L) \\sim x^{-\\tau}e^{-x/x_c(\\lambda)}$ w/ $x_c  \\sim \\epsilon^{-1/\\sigma_x}$\", fontweight='bold', y=1.02)\n",
    "# fig.savefig('sp_crit_btw_exps', dpi=240)\n",
    "plt.show()"
   ]
  },
  {
   "cell_type": "code",
   "execution_count": null,
   "metadata": {
    "ExecuteTime": {
     "end_time": "2020-03-28T19:12:51.968106Z",
     "start_time": "2020-03-28T19:12:39.898658Z"
    },
    "hidden": true
   },
   "outputs": [],
   "source": [
    "# print(exponents, error)\n",
    "\n",
    "# ---------- Plot of Exponents while lambda -> 0 --------- #\n",
    "# ---------- Fitting to compute \\sigma's  ---------------- #\n",
    "\n",
    "slopeS, interceptS, r_valueS, p_valueS, std_errS = stats.linregress(np.log(np.asarray(lambdas))[1:-10],np.log(np.asarray(exponents))[1:-10,1])\n",
    "slopeA, interceptA, r_valueA, p_valueA, std_errS = stats.linregress(np.log(np.asarray(lambdas))[1:-10],np.log(np.asarray(exponents))[1:-10,5])\n",
    "slopeD, interceptD, r_valueD, p_valueD, std_errD = stats.linregress(np.log(np.asarray(lambdas))[1:-10],np.log(np.asarray(exponents))[1:-10,3])\n",
    "\n",
    "xs = np.logspace(-4,-1,100)\n",
    "lineS = slopeS * np.log10(xs) + interceptS\n",
    "lineA = slopeA * np.log10(xs) + interceptA\n",
    "lineD = slopeD * np.log10(xs) + interceptD\n",
    "\n",
    "\n",
    "# -------------------- Create Figure  -------------------- #\n",
    "fig1, (ax1) = plt.subplots(1,1,figsize=(4, 3), dpi=120, frameon=True)\n",
    "fig2, (ax2) = plt.subplots(1,1,figsize=(4, 3), dpi=120, frameon=True)\n",
    "fig3, (ax3) = plt.subplots(1,1,figsize=(4, 3), dpi=120, frameon=True)\n",
    "\n",
    "ax1.plot(np.asarray(lambdas),np.asarray(exponents)[:,1], \n",
    "             'ro-', label=r'$\\sigma_s \\approx$' + str(round(-1/slopeS, 4)))\n",
    "ax2.plot(np.asarray(lambdas),np.asarray(exponents)[:,3],\n",
    "             'bo-', label=r'$\\sigma_D \\approx $' + str(round(-1/slopeD, 4)))\n",
    "ax3.plot(np.asarray(lambdas),np.asarray(exponents)[:,5],\n",
    "             'go-', label=r'$\\sigma_a \\approx $' + str(round(-1/slopeA, 4)))\n",
    "\n",
    "# print(-1/slopeS, -1/slopeD)\n",
    "ax1.plot(xs, 10**lineS, '--', color='red')\n",
    "ax2.plot(xs, 10**lineD, '--', color='blue')\n",
    "ax3.plot(xs, 10**lineA, '--', color='green')\n",
    "\n",
    "# -- Decoration --\n",
    "ax1.legend(loc=2, fontsize=9); \n",
    "ax2.legend(loc=2, fontsize=9); \n",
    "ax3.legend(loc=2, fontsize=9); \n",
    "ax1.set_xscale('log'); ax1.set_yscale('log'); ax1.set_xlabel('$\\lambda$'); ax1.set_ylabel('$s_c$')\n",
    "ax2.set_xscale('log'); ax2.set_yscale('log'); ax2.set_xlabel('$\\lambda$'); ax2.set_ylabel('$D_c$')\n",
    "ax3.set_xscale('log'); ax3.set_yscale('log'); ax3.set_xlabel('$\\lambda$'); ax3.set_ylabel('$a_c$')\n",
    "# fig.suptitle(r\"Critical exponents consistency check for $N(s,L) \\sim s^{-\\tau}e^{-s/s_c(\\lambda)}$\", fontweight='bold', y=1.02)\n",
    "# plt.show()\n",
    "\n",
    "fig1.savefig('sp_crit_btw_s_sigma.png', dpi=240)\n",
    "fig2.savefig('sp_crit_btw_D_sigma.png', dpi=240)\n",
    "fig3.savefig('sp_crit_btw_a_sigma.png', dpi=240)"
   ]
  },
  {
   "cell_type": "markdown",
   "metadata": {
    "hidden": true
   },
   "source": [
    "### Re-scaled scaling plots (data collapse)\n",
    "\n",
    "\n",
    "Plotting the following axis:\n",
    "\\begin{equation}\n",
    "    N(x) x^{\\tau_x} = h(x / \\lambda^{1/\\sigma_x})\n",
    "\\end{equation}\n",
    "where we expect to see data collapse since $h(.)$ should be a universal function independent of $\\lambda$ other than the single argument. \n",
    "\n",
    "We also expect that $h(x) = \\exp[x]$, at least from previous results (e.g. the neuron paper). \n"
   ]
  },
  {
   "cell_type": "code",
   "execution_count": null,
   "metadata": {
    "ExecuteTime": {
     "end_time": "2020-03-26T20:42:52.372739Z",
     "start_time": "2020-03-26T20:42:52.363934Z"
    },
    "hidden": true
   },
   "outputs": [],
   "source": [
    "\n",
    "# 1.211847389558233 2.7751004016064256\n",
    "# 1.1716867469879517 2.0281124497991967\n",
    "# 1.2720883534136547 1.5783132530120483\n",
    "\n",
    "def plotD_plotSizes_rescaled(seed, c):\n",
    "    \n",
    "    ## Sizes w/ double counting\n",
    "    x,y,params = plotSizes(seed, filetype='s');  \n",
    "#     x = np.log10(x);     y = np.log10(y)\n",
    "    lambd = params[2];\n",
    "    tau = 1.05; sigma = 0.89\n",
    "    ax1.plot(x**sigma *lambd, y * x**tau , '.-', color=c, label = r\"$\\lambda=$\"+str(round(lambd,6)))\n",
    "    \n",
    "    \n",
    "    ## Sizes w/o double counting\n",
    "    x,y,params = plotSizes(seed, filetype='a');  \n",
    "#     x = np.log10(x); y = np.log10(y)\n",
    "    lambd = params[2];\n",
    "    tau = 1.0; sigma = 1.1\n",
    "    ax2.plot(x**sigma *lambd, y * x**tau , '.-', color=c, label = r\"$\\lambda=$\"+str(round(lambd,6)))\n",
    "    \n",
    "    \n",
    "    ## Durations\n",
    "    x,y,params = plotSizes(seed, filetype='d');  \n",
    "#     x = np.log10(x); y = np.log10(y)\n",
    "    lambd = params[2];\n",
    "    tau = 0.85; sigma = 1.56\n",
    "    ax3.plot(x**sigma *lambd, y * x**tau , '.-', color=c, label = r\"$\\lambda=$\"+str(round(lambd,6)))\n",
    "\n",
    "    "
   ]
  },
  {
   "cell_type": "code",
   "execution_count": null,
   "metadata": {
    "ExecuteTime": {
     "end_time": "2020-03-26T20:43:54.940423Z",
     "start_time": "2020-03-26T20:42:54.190501Z"
    },
    "hidden": true
   },
   "outputs": [],
   "source": [
    "# -------------------- Create Figure  -------------------- #\n",
    "\n",
    "seedrange = np.arange(900,920, 3)\n",
    "\n",
    "exponents = []; error = []; lambdas = []\n",
    "fig1, (ax1) = plt.subplots(1,1,figsize=(5,4), dpi=120, frameon=True)\n",
    "fig3, (ax3) = plt.subplots(1,1,figsize=(5,4), dpi=120, frameon=True)\n",
    "fig2, (ax2) = plt.subplots(1,1,figsize=(5,4), dpi=120, frameon=True)\n",
    "color = iter( cm.rainbow( np.linspace(0,1,len(seedrange)) ) ) # List of different colors. numPoints --> No. of lines to plot\n",
    "for i in seedrange: \n",
    "    c = next( color )\n",
    "    plotD_plotSizes_rescaled(i, c)\n",
    "\n",
    "    \n",
    "# -- Decoration --\n",
    "\n",
    "ax1.set_ylabel(r'$N_s(s,L)$',fontweight='bold'); ax1.set_xlabel('size, $s$',fontweight='bold')\n",
    "ax2.set_ylabel(r'$N_d(d,L)$',fontweight='bold'); ax2.set_xlabel('duration, $d$',fontweight='bold')\n",
    "ax3.set_ylabel(r'$N_a(a,L)$',fontweight='bold'); ax3.set_xlabel('size, $a$',fontweight='bold')\n",
    "ax1.set_xscale('log'); \n",
    "ax1.set_yscale('log')\n",
    "ax2.set_xscale('log'); \n",
    "ax2.set_yscale('log')\n",
    "ax3.set_xscale('log'); \n",
    "ax3.set_yscale('log')\n",
    "ax1.legend(loc=1, fontsize=6)\n",
    "ax2.legend(loc=1, fontsize=6)\n",
    "ax3.legend(loc=1, fontsize=6)\n",
    "fig1.tight_layout(); fig2.tight_layout(); fig3.tight_layout()\n",
    "# ax1.set_title('BTW, L='+params[1])\n",
    "# ax2.set_title('BTW, L='+params[1])\n",
    "# ax3.set_title('BTW, L='+params[1])\n",
    "\n",
    "# fig1.savefig('sp_crit_btw_s.png', dpi=240)\n",
    "# fig2.savefig('sp_crit_btw_D.png', dpi=240)\n",
    "# fig3.savefig('sp_crit_btw_a.png', dpi=240)"
   ]
  },
  {
   "cell_type": "code",
   "execution_count": null,
   "metadata": {
    "hidden": true
   },
   "outputs": [],
   "source": []
  },
  {
   "cell_type": "markdown",
   "metadata": {
    "hidden": true
   },
   "source": [
    "## Mean cluster size $\\chi(\\lambda)$"
   ]
  },
  {
   "cell_type": "code",
   "execution_count": null,
   "metadata": {
    "ExecuteTime": {
     "end_time": "2020-03-30T18:39:47.429032Z",
     "start_time": "2020-03-30T18:39:47.364381Z"
    },
    "hidden": true
   },
   "outputs": [],
   "source": [
    "def calc_chi_disp(seed_list, filetype):\n",
    "    chi_s = np.zeros_like(seed_list);  lambda_s = np.zeros_like(seed_list).astype('float')\n",
    "    for s in range(len(seed_list)):\n",
    "        sizeS, params = readSizes(seed_list[s],filetype)\n",
    "        lambda_s[s] = params[2]\n",
    "        chi_s[s] = np.sum(np.power(sizeS, 2)) / np.sum(np.power(sizeS, 1))\n",
    "    return lambda_s, chi_s\n"
   ]
  },
  {
   "cell_type": "code",
   "execution_count": null,
   "metadata": {
    "ExecuteTime": {
     "end_time": "2020-03-30T18:45:17.610850Z",
     "start_time": "2020-03-30T18:40:52.493937Z"
    },
    "hidden": true
   },
   "outputs": [],
   "source": [
    "seed_list = np.arange(900,920);   \n",
    "lambda_s_A, chi_s_A = calc_chi_disp(seed_list,'s')\n",
    "lambda_a_A, chi_a_A = calc_chi_disp(seed_list,'a')\n",
    "\n",
    "seed_list = np.arange(800,820);   \n",
    "lambda_s_M, chi_s_M = calc_chi_disp(seed_list,'s')\n",
    "lambda_a_M, chi_a_M = calc_chi_disp(seed_list,'a')\n"
   ]
  },
  {
   "cell_type": "code",
   "execution_count": null,
   "metadata": {
    "ExecuteTime": {
     "end_time": "2020-03-30T19:04:34.690054Z",
     "start_time": "2020-03-30T19:04:32.855452Z"
    },
    "hidden": true
   },
   "outputs": [],
   "source": [
    "loglambd_s_A = np.log10(lambda_s_A); \n",
    "loglambd_a_A = np.log10(lambda_a_A); \n",
    "logchi_s_A = np.log10(chi_s_A)\n",
    "logchi_a_A = np.log10(chi_a_A)\n",
    "\n",
    "loglambd_s_M = np.log10(lambda_s_M); \n",
    "loglambd_a_M = np.log10(lambda_a_M); \n",
    "logchi_s_M = np.log10(chi_s_M)\n",
    "logchi_a_M = np.log10(chi_a_M)\n",
    "\n",
    "# -------------------- Create Figure  -------------------- #       \n",
    "fig1, (ax1) = plt.subplots(1,1,figsize=(5,4), dpi=120, frameon=True)\n",
    "fig2, (ax2) = plt.subplots(1,1,figsize=(5,4), dpi=120, frameon=True)\n",
    "# ---------------------- Data\n",
    "\n",
    "ax1.plot(loglambd_s_A, logchi_s_A, 'ro-')\n",
    "ax2.plot(loglambd_a_A, logchi_a_A, 'bo-')\n",
    "\n",
    "ax1.plot(loglambd_s_M, logchi_s_M, 'rX-')\n",
    "ax2.plot(loglambd_a_M, logchi_a_M, 'bX-')\n",
    "\n",
    "# ---------------------- Fitting ----------------------\n",
    "\n",
    "# # ----------------------Abelian Model\n",
    "zs, covs = np.polyfit(loglambd_s_A[:9], logchi_s_A[:9], 1, cov=True)\n",
    "ps = np.poly1d(zs)\n",
    "perrs = np.sqrt(np.diag(covs))\n",
    "xps = np.linspace(loglambd_s_A[9],-1,40)\n",
    "# ax1.plot(xps, ps(xps),linestyle='--', color='grey')\n",
    "ax1.plot(loglambd_s_A, logchi_s_A, 'ro-', \n",
    "         label='AM: $\\gamma_s = $'+str(round(-zs[0],3))+'$\\pm$'+str(round(perrs[0], 4)))\n",
    "\n",
    "\n",
    "\n",
    "za, cova = np.polyfit(loglambd_a_A[:9], logchi_a_A[:9], 1, cov=True)\n",
    "pa = np.poly1d(za)\n",
    "perra = np.sqrt(np.diag(cova))\n",
    "xpa = np.linspace(loglambd_a_A[9],-1,40)\n",
    "# ax2.plot(xpa, pa(xpa),linestyle='--', color='grey')\n",
    "ax2.plot(loglambd_a_A, logchi_a_A, 'bo-',\n",
    "         label='AM: $\\gamma_a = $'+str(round(-za[0],3))+'$\\pm$'+str(round(perra[0], 4)))\n",
    "\n",
    "\n",
    "# # ----------------------Manna Model\n",
    "zs, covs = np.polyfit(loglambd_s_M[:9], logchi_s_M[:9], 1, cov=True)\n",
    "ps = np.poly1d(zs)\n",
    "perrs = np.sqrt(np.diag(covs))\n",
    "xps = np.linspace(loglambd_s_M[9],-1,40)\n",
    "# ax1.plot(xps, ps(xps),linestyle='--', color='grey')\n",
    "ax1.plot(loglambd_s_M, logchi_s_M, 'rX-',\n",
    "         label='MM: $\\gamma_s = $'+str(round(-zs[0],3))+'$\\pm$'+str(round(perrs[0], 4)))\n",
    "ax1.fill_between(xps, 1, 6.5, \n",
    "                facecolor='red', alpha=0.3)\n",
    "\n",
    "\n",
    "za, cova = np.polyfit(loglambd_a_M[:9], logchi_a_M[:9], 1, cov=True)\n",
    "pa = np.poly1d(za)\n",
    "perra = np.sqrt(np.diag(cova))\n",
    "xpa = np.linspace(loglambd_a_M[9],-1,40)\n",
    "# ax2.plot(xpa, pa(xpa),linestyle='--', color='grey', \n",
    "ax2.plot(loglambd_a_M, logchi_a_M, 'bX-',\n",
    "         label='MM: $\\gamma_a = $'+str(round(-za[0],3))+'$\\pm$'+str(round(perra[0], 4)))\n",
    "ax2.fill_between(xps, 1, 4.5, \n",
    "                facecolor='blue', alpha=0.3)\n",
    "\n",
    "\n",
    "# -- Decoration --\n",
    "ax1.set_ylabel(r'repsonse function, $\\log\\chi_s(\\lambda)$',fontweight='bold')\n",
    "ax1.set_xlabel(r'dissipation, $\\log\\lambda$', fontweight='bold')\n",
    "ax1.legend(loc=3, fontsize=10)\n",
    "ax1.set_title(\"OBC, fixed drop, $L = 128$\", fontsize=12, fontweight='bold')\n",
    "ax1.set_ylim(bottom=1, top=6)\n",
    "\n",
    "ax2.set_ylabel(r'repsonse function, $\\log\\chi_a(\\lambda)$',fontweight='bold')\n",
    "ax2.set_xlabel(r'dissipation, $\\log\\lambda$', fontweight='bold')\n",
    "ax2.legend(loc=3, fontsize=10)\n",
    "ax2.set_title(\"OBC, fixed drop, $L = 128$\", fontsize=12, fontweight='bold')\n",
    "ax2.set_ylim(bottom=1, top=4.5)\n",
    "\n",
    "fig1.savefig(\"Plots/sp_crit_chi_s\", dpi=240)\n",
    "fig2.savefig(\"Plots/sp_crit_chi_a\", dpi=240)\n",
    "plt.show()\n"
   ]
  },
  {
   "cell_type": "markdown",
   "metadata": {
    "heading_collapsed": true,
    "hidden": true
   },
   "source": [
    "### And also duration... "
   ]
  },
  {
   "cell_type": "code",
   "execution_count": null,
   "metadata": {
    "ExecuteTime": {
     "end_time": "2020-03-27T18:00:51.881524Z",
     "start_time": "2020-03-27T17:59:36.364602Z"
    },
    "hidden": true
   },
   "outputs": [],
   "source": [
    "lambda_d, chi_d = calc_chi_disp(seed_list,'d')"
   ]
  },
  {
   "cell_type": "code",
   "execution_count": null,
   "metadata": {
    "ExecuteTime": {
     "end_time": "2020-03-27T18:00:55.438332Z",
     "start_time": "2020-03-27T18:00:51.885350Z"
    },
    "hidden": true
   },
   "outputs": [],
   "source": [
    "loglambd_d = np.log10(lambda_d); logchi_d = np.log10(chi_d)\n",
    "\n",
    "# -------------------- Create Figure  -------------------- #       \n",
    "fig, (ax1) = plt.subplots(1,1,figsize=(5,4), dpi=120, frameon=True)\n",
    "ax1.plot(loglambd_d, logchi_d, 'go-')\n",
    "\n",
    "zd, covd = np.polyfit(loglambd_d[:10], logchi_d[:10], 1, cov=True)\n",
    "pd = np.poly1d(zd)\n",
    "perrd = np.sqrt(np.diag(covd))\n",
    "xpd = np.linspace(loglambd_d[9],-1,40)\n",
    "ax1.plot(xpd, pd(xpd),linestyle='--', color='grey', \n",
    "         label='$\\gamma_d = $'+str(round(-zd[0],3))+'$\\pm$'+str(round(perrd[0], 4)))\n",
    "ax1.fill_between(xpd, 0, 3, #where=y > theta,\n",
    "                facecolor='green', alpha=0.3)\n",
    "\n",
    "# -- Decoration --\n",
    "ax1.set_ylabel(r'repsonse function, $\\log\\chi(\\lambda)$',fontweight='bold')\n",
    "ax1.set_xlabel(r'dissipation, $\\log\\lambda$', fontweight='bold')\n",
    "ax1.legend(loc=3, fontsize=10)\n",
    "ax1.set_title(\"OBC, fixed drop, $L = 128$\", fontsize=12, fontweight='bold')\n",
    "plt.savefig(\"sp_crit_btw_chi_d\", dpi=240)\n",
    "plt.show()\n",
    "\n"
   ]
  },
  {
   "cell_type": "code",
   "execution_count": null,
   "metadata": {
    "hidden": true
   },
   "outputs": [],
   "source": []
  },
  {
   "cell_type": "markdown",
   "metadata": {
    "hidden": true
   },
   "source": [
    "## Correlation length $\\xi(\\lambda)$"
   ]
  },
  {
   "cell_type": "code",
   "execution_count": null,
   "metadata": {
    "ExecuteTime": {
     "end_time": "2020-03-30T19:06:03.008557Z",
     "start_time": "2020-03-30T19:06:02.992828Z"
    },
    "hidden": true
   },
   "outputs": [],
   "source": [
    "def readRG(seed, filetype):\n",
    "    \"Read the file of avalanche sizes for given seed. \"\n",
    "    \n",
    "    with open(\"Data/sp\" + str(seed) + '_' + filetype + '.txt', \"r\") as f:\n",
    "        header=[x for x in next(f)]\n",
    "        params = [float(x) for x in next(f).split()]\n",
    "        array_list = [[float(x) for x in line.split() if '\\x00' not in x ] for line in f]\n",
    "    sizeS = np.asarray([x[0] for x in array_list if len(x) >= 4])\n",
    "    rg = np.asarray([x[1] for x in array_list if len(x) >= 4])\n",
    "    params[1] = int(params[1])\n",
    "    return sizeS, rg, params\n",
    "\n",
    "def calc_xi_disp(seed_list, filetype):\n",
    "    xi_s = np.zeros_like(seed_list);  lambda_s = np.zeros_like(seed_list).astype('float')\n",
    "    for s in range(len(seed_list)):\n",
    "        sizeS, rg, params = readRG(seed_list[s],filetype)\n",
    "        lambda_s[s] = params[2]\n",
    "        xi_s[s] = np.sum(sizeS * rg * rg) / np.sum(sizeS)\n",
    "    return lambda_s, np.sqrt(xi_s)"
   ]
  },
  {
   "cell_type": "code",
   "execution_count": null,
   "metadata": {
    "ExecuteTime": {
     "end_time": "2020-03-30T19:13:16.148058Z",
     "start_time": "2020-03-30T19:06:03.718186Z"
    },
    "hidden": true
   },
   "outputs": [],
   "source": [
    "seed_list = np.arange(900,920)\n",
    "lambda_s_A, xi_s_A = calc_xi_disp(seed_list, 'rgs')\n",
    "lambda_a_A, xi_a_A = calc_xi_disp(seed_list, 'rga')\n",
    "\n",
    "# seed_list = np.arange(800,820)\n",
    "# lambda_s_M, xi_s_M = calc_xi_disp(seed_list, 'rgs')\n",
    "# lambda_a_M, xi_a_M = calc_xi_disp(seed_list, 'rga')\n"
   ]
  },
  {
   "cell_type": "code",
   "execution_count": null,
   "metadata": {
    "ExecuteTime": {
     "end_time": "2020-04-04T19:08:00.436363Z",
     "start_time": "2020-04-04T19:07:58.677688Z"
    },
    "hidden": true
   },
   "outputs": [],
   "source": [
    "loglambd_s_M = np.log10(lambda_s_M); logxi_s_M = np.log10(xi_s_M)\n",
    "loglambd_a_M = np.log10(lambda_a_M); logxi_a_M = np.log10(xi_a_M)\n",
    "\n",
    "loglambd_s_A = np.log10(lambda_s_A); logxi_s_A = np.log10(xi_s_A)\n",
    "loglambd_a_A = np.log10(lambda_a_A); logxi_a_A = np.log10(xi_a_A)\n",
    "\n",
    "# -------------------- Create Figure  -------------------- #       \n",
    "fig1, (ax1) = plt.subplots(1,1,figsize=(5,4), dpi=120, frameon=True)\n",
    "fig2, (ax2) = plt.subplots(1,1,figsize=(5,4), dpi=120, frameon=True)\n",
    "\n",
    "# Plotting\n",
    "ax1.plot(loglambd_s_A, logxi_s_A, 'ro-')\n",
    "ax2.plot(loglambd_a_A, logxi_a_A, 'bo-')\n",
    "\n",
    "# ax1.plot(loglambd_s_M, logxi_s_M, 'rX-')\n",
    "# ax2.plot(loglambd_a_M, logxi_a_M, 'bX-')\n",
    "\n",
    "#Fitting\n",
    "\n",
    "# AM:\n",
    "\n",
    "zs, covs = np.polyfit(loglambd_s_A[:7], logxi_s_A[:7], 1, cov=True)\n",
    "ps = np.poly1d(zs)\n",
    "perrs = np.sqrt(np.diag(covs))\n",
    "xps = np.linspace(loglambd_s_A[7],-1,40)\n",
    "# ax1.plot(xps, ps(xps),linestyle='--', color='red', \n",
    "ax1.plot(loglambd_s_A, logxi_s_A, 'ro-',\n",
    "         label=r'$\\nu_s = $'+str(round(-zs[0],3))+'$\\pm$'+str(round(perrs[0], 4)))\n",
    "\n",
    "\n",
    "\n",
    "za, cova = np.polyfit(loglambd_a_A[:7], logxi_a_A[:7], 1, cov=True)\n",
    "pa = np.poly1d(za)\n",
    "perra = np.sqrt(np.diag(cova))\n",
    "xpa = np.linspace(loglambd_a_A[7],-1,40)\n",
    "# ax2.plot(xpa, pa(xpa),linestyle='--', color='blue', \n",
    "ax2.plot(loglambd_a_A, logxi_a_A, 'bo-', \n",
    "         label=r'$\\nu_a = $'+str(round(-za[0],3))+'$\\pm$'+str(round(perra[0], 4)))\n",
    "\n",
    "\n",
    "\n",
    "# MM:\n",
    "\n",
    "# zs, covs = np.polyfit(loglambd_s_M[:7], logxi_s_M[:7], 1, cov=True)\n",
    "# ps = np.poly1d(zs)\n",
    "# perrs = np.sqrt(np.diag(covs))\n",
    "# xps = np.linspace(loglambd_s_M[7],-1,40)\n",
    "# # ax1.plot(xps, ps(xps),linestyle='--', color='red', \n",
    "# ax1.plot(loglambd_s_M, logxi_s_M, 'rX-', \n",
    "#          label=r'$\\nu_s = $'+str(round(-zs[0],3))+'$\\pm$'+str(round(perrs[0], 4)))\n",
    "ax1.fill_between(xps, 0, 4.5, \n",
    "                facecolor='red', alpha=0.3)\n",
    "\n",
    "\n",
    "# za, cova = np.polyfit(loglambd_a_M[:7], logxi_a_M[:7], 1, cov=True)\n",
    "# pa = np.poly1d(za)\n",
    "# perra = np.sqrt(np.diag(cova))\n",
    "# xpa = np.linspace(loglambd_a_M[7],-1,40)\n",
    "# # ax2.plot(xpa, pa(xpa),linestyle='--', color='blue',\n",
    "# ax2.plot(loglambd_a_M, logxi_a_M, 'bX-',\n",
    "#          label=r'$\\nu_a = $'+str(round(-za[0],3))+'$\\pm$'+str(round(perra[0], 4)))\n",
    "ax2.fill_between(xps, 0, 4.5, \n",
    "                facecolor='blue', alpha=0.3)\n",
    "\n",
    "\n",
    "\n",
    "\n",
    "# -- Decorations -- \n",
    "ax1.set_ylabel(r'correlation length, $\\log\\xi(\\lambda)$', fontweight='bold') \n",
    "ax1.set_xlabel(r'dissipation, $\\log\\lambda$', fontweight='bold')\n",
    "ax1.legend(loc=3,fontsize=10)\n",
    "ax1.set_title(\"OBC, fixed drop, $L = 128$\", fontsize=12, fontweight='bold')\n",
    "ax1.set_ylim(bottom=0.5, top=4)\n",
    "\n",
    "ax2.set_ylabel(r'correlation length, $\\log\\xi(\\lambda)$', fontweight='bold') \n",
    "ax2.set_xlabel(r'dissipation, $\\log\\lambda$', fontweight='bold')\n",
    "ax2.legend(loc=3,fontsize=10)\n",
    "ax2.set_title(\"OBC, fixed drop, $L = 128$\", fontsize=12, fontweight='bold')\n",
    "ax2.set_ylim(bottom=0.5, top=4)\n",
    "\n",
    "\n",
    "fig1.savefig(\"Plots/sp_crit_xi_s\", dpi=240)\n",
    "fig2.savefig(\"Plots/sp_crit_xi_a\", dpi=240)\n",
    "plt.show()"
   ]
  },
  {
   "cell_type": "markdown",
   "metadata": {},
   "source": [
    "# Stochasticity/Noise Analysis\n",
    "\n",
    "The noise parameter is a probability $\\eta$ that the failing site might lose/gain an additional grain of sand. "
   ]
  },
  {
   "cell_type": "markdown",
   "metadata": {
    "heading_collapsed": true
   },
   "source": [
    "## OFC-like Noise, $\\eta \\to 0$. "
   ]
  },
  {
   "cell_type": "markdown",
   "metadata": {
    "hidden": true
   },
   "source": [
    "### Scaling plots for $\\eta \\to 0$. "
   ]
  },
  {
   "cell_type": "code",
   "execution_count": null,
   "metadata": {
    "hidden": true
   },
   "outputs": [],
   "source": [
    "def plotD_plotSizes(seed, c):\n",
    "    \n",
    "    ## Sizes w/ double counting\n",
    "    x,y,params = plotSizes(seed, filetype='s');  x = np.log10(x); y = np.log10(y)\n",
    "    ax1.plot(x, y, '.-', color=c, label = r\"$\\eta=$\"+str(round(params[3],6)))\n",
    "    \n",
    "    ## Sizes w/o double counting\n",
    "    x,y,params = plotSizes(seed, filetype='a');  x = np.log10(x); y = np.log10(y)\n",
    "    ax3.plot(x, y, '.-', color=c, label = r\"$\\eta=$\"+str(round(params[3],6)))\n",
    "    \n",
    "    ## Durations\n",
    "    x,y,params = plotSizes(seed, filetype='d');  x = np.log10(x); y = np.log10(y)\n",
    "    ax2.plot(x, y, '.-', color=c,label = r\"$\\eta=$\"+str(round(params[3],6)))    \n",
    "    \n",
    "    return params[3], params[2]"
   ]
  },
  {
   "cell_type": "code",
   "execution_count": null,
   "metadata": {
    "hidden": true
   },
   "outputs": [],
   "source": [
    "# -------------------- Create Figure  -------------------- #\n",
    "seedrange = np.arange(2900,2920, 1)\n",
    "\n",
    "# fig1, (ax1) = plt.subplots(1,1,figsize=(4, 3.5), dpi=120, frameon=True)\n",
    "# fig3, (ax3) = plt.subplots(1,1,figsize=(4, 3.5), dpi=120, frameon=True)\n",
    "# fig2, (ax2) = plt.subplots(1,1,figsize=(4, 3.5), dpi=120, frameon=True)\n",
    "\n",
    "fig, (ax1, ax2, ax3) = plt.subplots(1,3,figsize=(12, 4), dpi=200, frameon=True)\n",
    "color = iter( cm.rainbow( np.linspace(0,1,len(seedrange)) ) ) # List of different colors. numPoints --> No. of lines to plot\n",
    "for i in seedrange:  #Plot seeds 401-410, the ten lambda runs. \n",
    "    c = next( color )\n",
    "    eta, lamb = plotD_plotSizes(i, c)\n",
    "\n",
    "# -- Decoration --\n",
    "ax1.set_ylabel(r'$\\log N_s(s,L)$',fontweight='bold'); ax1.set_xlabel('size, $\\log s$',fontweight='bold')\n",
    "ax2.set_ylabel(r'$\\log N_d(d,L)$',fontweight='bold'); ax2.set_xlabel('duration, $\\log d$',fontweight='bold')\n",
    "ax3.set_ylabel(r'$\\log N_a(a,L)$',fontweight='bold'); ax3.set_xlabel('size, $\\log a$',fontweight='bold')\n",
    "ax1.legend(loc=3, fontsize=6)\n",
    "ax2.legend(loc=3, fontsize=6)\n",
    "ax3.legend(loc=3, fontsize=6)\n",
    "ax1.set_title('$\\lambda = $' + str(round(lamb, 5)))\n",
    "ax2.set_title('$\\lambda = $' + str(round(lamb, 5)))\n",
    "ax3.set_title('$\\lambda = $' + str(round(lamb, 5)))\n"
   ]
  },
  {
   "cell_type": "code",
   "execution_count": null,
   "metadata": {
    "hidden": true
   },
   "outputs": [],
   "source": [
    "# -------------------- Create Figure  -------------------- #\n",
    "seedrange = np.arange(2920,2940, 1)\n",
    "\n",
    "# fig1, (ax1) = plt.subplots(1,1,figsize=(4, 3.5), dpi=120, frameon=True)\n",
    "# fig3, (ax3) = plt.subplots(1,1,figsize=(4, 3.5), dpi=120, frameon=True)\n",
    "# fig2, (ax2) = plt.subplots(1,1,figsize=(4, 3.5), dpi=120, frameon=True)\n",
    "fig, (ax1, ax2, ax3) = plt.subplots(1,3,figsize=(12, 4), dpi=200, frameon=True)\n",
    "\n",
    "color = iter( cm.rainbow( np.linspace(0,1,len(seedrange)) ) ) # List of different colors. numPoints --> No. of lines to plot\n",
    "for i in seedrange:  #Plot seeds 401-410, the ten lambda runs. \n",
    "    c = next( color )\n",
    "    eta, lamb = plotD_plotSizes(i, c)\n",
    "\n",
    "# -- Decoration --\n",
    "ax1.set_ylabel(r'$\\log N_s(s,L)$',fontweight='bold'); ax1.set_xlabel('size, $\\log s$',fontweight='bold')\n",
    "ax2.set_ylabel(r'$\\log N_d(d,L)$',fontweight='bold'); ax2.set_xlabel('duration, $\\log d$',fontweight='bold')\n",
    "ax3.set_ylabel(r'$\\log N_a(a,L)$',fontweight='bold'); ax3.set_xlabel('size, $\\log a$',fontweight='bold')\n",
    "ax1.legend(loc=3, fontsize=6)\n",
    "ax2.legend(loc=3, fontsize=6)\n",
    "ax3.legend(loc=3, fontsize=6)\n",
    "ax1.set_title('$\\lambda = $' + str(round(lamb, 5)))\n",
    "ax2.set_title('$\\lambda = $' + str(round(lamb, 5)))\n",
    "ax3.set_title('$\\lambda = $' + str(round(lamb, 5)))\n"
   ]
  },
  {
   "cell_type": "markdown",
   "metadata": {
    "hidden": true
   },
   "source": [
    "### Data collapse\n",
    "\n",
    "Does the noise parameter effect how good the data collapse we see is? "
   ]
  },
  {
   "cell_type": "code",
   "execution_count": null,
   "metadata": {
    "hidden": true
   },
   "outputs": [],
   "source": [
    "\n",
    "# 1.211847389558233 2.7751004016064256\n",
    "# 1.1716867469879517 2.0281124497991967\n",
    "# 1.2720883534136547 1.5783132530120483\n",
    "\n",
    "def plotD_plotSizes_rescaled(seed, c):\n",
    "    \n",
    "    ## Sizes w/ double counting\n",
    "    x,y,params = plotSizes(seed, filetype='s');  \n",
    "    lambd = params[2];\n",
    "    tau = 1.203; sigma = 1.09143\n",
    "    ax1.plot(x * lambd**(1/sigma), y * lambd**(-tau/sigma) , '.-', color=c, label = r\"$\\lambda=$\"+str(round(lambd,6)))\n",
    "    \n",
    "    \n",
    "    ## Sizes w/o double counting\n",
    "    x,y,params = plotSizes(seed, filetype='a');  \n",
    "    lambd = params[2];\n",
    "    tau = 1.179; sigma = 1.0982\n",
    "    ax2.plot(x * lambd**(1/sigma), y * lambd**(-tau/sigma) , '.-', color=c, label = r\"$\\lambda=$\"+str(round(lambd,6)))\n",
    "    \n",
    "    \n",
    "    ## Durations\n",
    "    x,y,params = plotSizes(seed, filetype='d');  \n",
    "    lambd = params[2];\n",
    "    tau = 1.281; sigma = 1.595\n",
    "    ax3.plot(x * lambd**(1/sigma), y * lambd**(-tau/sigma) , '.-', color=c, label = r\"$\\lambda=$\"+str(round(lambd,6)))\n",
    "    return params[3]\n"
   ]
  },
  {
   "cell_type": "code",
   "execution_count": null,
   "metadata": {
    "hidden": true
   },
   "outputs": [],
   "source": [
    "# -------------------- Create Figure  -------------------- #\n",
    "seedRange = np.arange(2900,2920)\n",
    "for seed in seedRange: \n",
    "    fig, (ax1, ax2, ax3) = plt.subplots(1,3,figsize=(9,3), dpi=240, frameon=True)\n",
    "\n",
    "    eta = plotD_plotSizes_rescaled(seed+20, 'r')\n",
    "    eta = plotD_plotSizes_rescaled(seed, 'b')\n",
    "\n",
    "\n",
    "    # -- Decoration --\n",
    "\n",
    "    ax1.set_ylabel(r'$N_s(s,L)$',fontweight='bold'); ax1.set_xlabel('size, $s$',fontweight='bold')\n",
    "    ax2.set_ylabel(r'$N_d(d,L)$',fontweight='bold'); ax2.set_xlabel('duration, $d$',fontweight='bold')\n",
    "    ax3.set_ylabel(r'$N_a(a,L)$',fontweight='bold'); ax3.set_xlabel('size, $a$',fontweight='bold')\n",
    "    ax1.set_xscale('log'); ax1.set_yscale('log')\n",
    "    ax2.set_xscale('log'); ax2.set_yscale('log')\n",
    "    ax3.set_xscale('log'); ax3.set_yscale('log')\n",
    "    ax1.legend(loc=3, fontsize=8)\n",
    "    ax2.legend(loc=3, fontsize=8)\n",
    "    ax3.legend(loc=3, fontsize=8)\n",
    "    ax1.set_title('$\\eta = $' + str(round(eta, 4)))\n",
    "    ax2.set_title('$\\eta = $' + str(round(eta, 4)))\n",
    "    ax3.set_title('$\\eta = $' + str(round(eta, 4)))\n",
    "\n"
   ]
  },
  {
   "cell_type": "markdown",
   "metadata": {
    "hidden": true
   },
   "source": [
    "### Searching for better exponents? "
   ]
  },
  {
   "cell_type": "code",
   "execution_count": null,
   "metadata": {
    "hidden": true
   },
   "outputs": [],
   "source": [
    "# -------------------- Fitting to FSS  -------------------- #\n",
    "def plotFSS_1(seed, c, tau, d, filetype):\n",
    "    \"\"\" seed - seed of run to plot\n",
    "        c - color of the line being plotted\n",
    "        tau, d - exponents for rescaling\n",
    "        filetype - which quantity to plot / file to draw from\n",
    "    \"\"\"    \n",
    "    x,y,params = plotSizes(seed, filetype);  #x = np.log10(x); y = np.log10(y)\n",
    "    lambd = float(params[2])\n",
    "    ax1.plot(x * lambd**(1/sigma), y * lambd**(-tau/sigma), \n",
    "             '.-', color=c, label = \"L=\"+str(params[1]))\n",
    "             \n",
    "             \n",
    "def diff_1(tau, d,  x1,y1,params1,  x2,y2,params2,  filetype, plotYes):\n",
    "    \"\"\" Computes the difference w/ rescaled axis of two given runs with a given exponent set. Seed1/2 are the seeds of our desired runs.\"\"\"\n",
    "    \n",
    "    x1_r = np.log10(x1 * float(params1[2])**(1/d)) \n",
    "    y1_r = np.log10(y1 * float(params1[2])**(-tau/d))\n",
    "\n",
    "    x2_r = np.log10(x2 * float(params2[2])**(1/d)) \n",
    "    y2_r = np.log10(y2 * float(params2[2])**(-tau/d))\n",
    "    \n",
    "    if plotYes==True:\n",
    "        plotPolyFit(x1_r, y1_r, x2_r, y2_r)\n",
    "\n",
    "    Xstart = max(x1_r[0], x2_r[0])\n",
    "    Xend = min(x1_r[-1], x2_r[-1])\n",
    "#     with warnings.catch_warnings():\n",
    "#         warnings.simplefilter('ignore', np.RankWarning)\n",
    "    z1 = np.polyfit(x1_r, y1_r, 10)\n",
    "    z2 = np.polyfit(x2_r, y2_r, 10)\n",
    "    p1 = np.poly1d(z1)\n",
    "    p2 = np.poly1d(z2)\n",
    "    xp = np.linspace(Xstart,Xend, 100)\n",
    "\n",
    "    return np.sqrt( np.sum( (p2(xp) - p1(xp))**2 ) )\n",
    "\n",
    "\n",
    "def plotPolyFit(x1_r, y1_r, x2_r, y2_r):\n",
    "\n",
    "    Xstart = max(x1_r[0], x2_r[0])\n",
    "    Xend = min(x1_r[-1], x2_r[-1])\n",
    "\n",
    "    z1 = np.polyfit(x1_r, y1_r, 10)\n",
    "    z2 = np.polyfit(x2_r, y2_r, 10)\n",
    "    p1 = np.poly1d(z1)\n",
    "    p2 = np.poly1d(z2)\n",
    "    xp = np.linspace(Xstart,Xend, 100)\n",
    "\n",
    "    fig1, ax1 = plt.subplots(1,1,figsize=(4, 3.5), dpi=120,frameon=False)\n",
    "    ax1.plot(x1_r, y1_r, 'r-')\n",
    "    ax1.plot(xp, p1(xp), 'r--')\n",
    "    ax1.plot(x2_r, y2_r, 'b-')\n",
    "    ax1.plot(xp, p2(xp), 'b--')\n",
    "    fig.show()\n",
    "\n",
    "    \n",
    "def diffoverRange(tauRange, dRange, seed1, seed2, filetype, plotYes):\n",
    "    x1,y1,params1 = plotSizes(seed1, filetype)\n",
    "    x2,y2,params2 = plotSizes(seed2, filetype)\n",
    "    \n",
    "    Z = np.zeros((len(tauRange), len(dRange)))\n",
    "    for xxx in range(len(tauRange)):\n",
    "        for yyy in range(len(dRange)):\n",
    "            Z[xxx, yyy] = diff_1(tauRange[xxx], dRange[yyy],  x1,y1,params1,  x2,y2,params2,  filetype, plotYes)\n",
    "    return Z\n",
    "\n",
    "def find_min_idx(x):\n",
    "    k = x.argmin()\n",
    "    ncol = x.shape[1]\n",
    "    return k//ncol, k%ncol"
   ]
  },
  {
   "cell_type": "code",
   "execution_count": null,
   "metadata": {
    "hidden": true
   },
   "outputs": [],
   "source": [
    "tauRange = np.linspace(0.1, 5, 500)\n",
    "sigmaRange = np.linspace(0.1, 5, 500)\n",
    "\n",
    "Zs = diffoverRange(tauRange, sigmaRange, 2908, 2928, 's', plotYes=False)\n",
    "Za = diffoverRange(tauRange, sigmaRange, 2908, 2928, 'a', plotYes=False)\n",
    "Zd = diffoverRange(tauRange, sigmaRange, 2908, 2928, 'd', plotYes=False)\n",
    "# print(Z)"
   ]
  },
  {
   "cell_type": "code",
   "execution_count": null,
   "metadata": {
    "hidden": true
   },
   "outputs": [],
   "source": [
    "x1,y1,params1 = plotSizes(2919, 's')\n",
    "x2,y2,params2 = plotSizes(2939, 's')\n",
    "tau = sizExp[-1,0] \n",
    "sigma = sizExp[-1,1]\n",
    "# tau = 1.325; sigma = 1.104026845637584\n",
    "\n",
    "diff_1(tau, sigma,  x1,y1,params1,  x2,y2,params2,  's', True)"
   ]
  },
  {
   "cell_type": "code",
   "execution_count": null,
   "metadata": {
    "hidden": true,
    "scrolled": true
   },
   "outputs": [],
   "source": [
    "\n",
    "Z = Zs #==============================================\n",
    "tauBest=tauRange[find_min_idx(Z)[0]]\n",
    "sigmaBest=sigmaRange[find_min_idx(Z)[1]]\n",
    "print(tauBest, sigmaBest)\n",
    "\n",
    "fig = plt.figure(figsize=(6,4), dpi=120, frameon=True)\n",
    "ax = plt.axes()\n",
    "heatmap = ax.contourf(sigmaRange, tauRange, Z, 50, cmap='viridis')\n",
    "ax.plot(sigmaBest, tauBest, color='red', marker='o')\n",
    "\n",
    "ax.set_ylabel(r'$\\tau_s$')\n",
    "ax.set_xlabel(r'$\\sigma_s$')\n",
    "fig.colorbar(heatmap)\n",
    "ax.set_title('Manna; size $s$', fontweight='bold')\n",
    "fig.tight_layout()\n",
    "\n",
    "Z = Za #==============================================\n",
    "tauBest=tauRange[find_min_idx(Z)[0]]\n",
    "sigmaBest=sigmaRange[find_min_idx(Z)[1]]\n",
    "print(tauBest, sigmaBest)\n",
    "\n",
    "fig = plt.figure(figsize=(6,4), dpi=120, frameon=True)\n",
    "ax = plt.axes()\n",
    "heatmap = ax.contourf(sigmaRange, tauRange, Z, 50, cmap='viridis')\n",
    "ax.plot(sigmaBest, tauBest, color='red', marker='o')\n",
    "\n",
    "ax.set_ylabel(r'$\\tau_s$')\n",
    "ax.set_xlabel(r'$\\sigma_s$')\n",
    "fig.colorbar(heatmap)\n",
    "ax.set_title('Manna; size $a$', fontweight='bold')\n",
    "fig.tight_layout()\n",
    "\n",
    "\n",
    "Z = Zd #==============================================\n",
    "tauBest=tauRange[find_min_idx(Z)[0]]\n",
    "sigmaBest=sigmaRange[find_min_idx(Z)[1]]\n",
    "print(tauBest, sigmaBest)\n",
    "\n",
    "fig = plt.figure(figsize=(6,4), dpi=120, frameon=True)\n",
    "ax = plt.axes()\n",
    "heatmap = ax.contourf(sigmaRange, tauRange, Z, 50, cmap='viridis')\n",
    "ax.plot(sigmaBest, tauBest, color='red', marker='o')\n",
    "\n",
    "ax.set_ylabel(r'$\\tau_s$')\n",
    "ax.set_xlabel(r'$\\sigma_s$')\n",
    "fig.colorbar(heatmap)\n",
    "ax.set_title('Manna; duration $D$', fontweight='bold')\n",
    "fig.tight_layout()\n",
    "\n"
   ]
  },
  {
   "cell_type": "markdown",
   "metadata": {
    "hidden": true
   },
   "source": [
    "### Plotting change in exponents vs. noise "
   ]
  },
  {
   "cell_type": "code",
   "execution_count": null,
   "metadata": {
    "hidden": true
   },
   "outputs": [],
   "source": [
    "seedRange = np.arange(2900,2920)\n",
    "sizExp = []\n",
    "areExp = []\n",
    "durExp = []\n",
    "\n",
    "for seed in seedRange: \n",
    "    tauRange = np.linspace(0.8, 1.6, 150)\n",
    "    sigmaRange = np.linspace(0.5, 2, 150)\n",
    "\n",
    "    Zs = diffoverRange(tauRange, sigmaRange, seed, seed+20, 's', plotYes=False)\n",
    "    Za = diffoverRange(tauRange, sigmaRange, seed, seed+20, 'a', plotYes=False)\n",
    "    Zd = diffoverRange(tauRange, sigmaRange, seed, seed+20, 'd', plotYes=False)\n",
    "\n",
    "\n",
    "    Z = Zs #==============================================\n",
    "    tauBest=tauRange[find_min_idx(Z)[0]]\n",
    "    sigmaBest=sigmaRange[find_min_idx(Z)[1]]    \n",
    "    sizExp += [ [tauBest, sigmaBest] ]\n",
    "\n",
    "\n",
    "    Z = Za #==============================================\n",
    "    tauBest=tauRange[find_min_idx(Z)[0]]\n",
    "    sigmaBest=sigmaRange[find_min_idx(Z)[1]]\n",
    "    areExp += [ [tauBest, sigmaBest] ]\n",
    "\n",
    "\n",
    "    Z = Zd #==============================================\n",
    "    tauBest=tauRange[find_min_idx(Z)[0]]\n",
    "    sigmaBest=sigmaRange[find_min_idx(Z)[1]]\n",
    "    durExp += [ [tauBest, sigmaBest] ]\n",
    "sizExp = np.asarray(sizExp)\n",
    "areExp = np.asarray(areExp)\n",
    "durExp = np.asarray(durExp)"
   ]
  },
  {
   "cell_type": "code",
   "execution_count": null,
   "metadata": {
    "hidden": true
   },
   "outputs": [],
   "source": [
    "noise = np.arange(0, 1, 0.05)\n",
    "\n",
    "\n",
    "fig1, ax1 = plt.subplots(1,1,figsize=(4, 3.5), dpi=120,frameon=False)\n",
    "ax1.plot(noise, sizExp[:,0], 'bo-', label=r'$\\tau_s$')\n",
    "ax1.plot(noise, sizExp[:,1], 'ro-', label=r'$\\sigma_s$')\n",
    "ax1.set_xlabel(r'$\\eta$')\n",
    "ax1.legend(loc=0)\n",
    "\n",
    "fig1, ax1 = plt.subplots(1,1,figsize=(4, 3.5), dpi=120,frameon=False)\n",
    "ax1.plot(noise, areExp[:,0], 'bo-', label=r'$\\tau_a$')\n",
    "ax1.plot(noise, areExp[:,1], 'ro-', label=r'$\\sigma_a$')\n",
    "ax1.set_xlabel(r'$\\eta$')\n",
    "ax1.legend(loc=0)\n",
    "\n",
    "fig1, ax1 = plt.subplots(1,1,figsize=(4, 3.5), dpi=120,frameon=False)\n",
    "ax1.plot(noise, durExp[:,0], 'bo-', label=r'$\\tau_D$')\n",
    "ax1.plot(noise, durExp[:,1], 'ro-', label=r'$\\sigma_D$')\n",
    "ax1.set_xlabel(r'$\\eta$')\n",
    "ax1.legend(loc=0)"
   ]
  },
  {
   "cell_type": "markdown",
   "metadata": {
    "hidden": true
   },
   "source": [
    "### Checking how new exponents match with data collpase "
   ]
  },
  {
   "cell_type": "code",
   "execution_count": null,
   "metadata": {
    "hidden": true
   },
   "outputs": [],
   "source": [
    "seedRange = np.arange(2900,2920)\n",
    "for seed in seedRange: \n",
    "    x1,y1,params1 = plotSizes(seed, 's')\n",
    "    x2,y2,params2 = plotSizes(seed+20, 's')\n",
    "    tau = sizExp[seed-2900,0] \n",
    "    sigma = sizExp[seed-2900,1]\n",
    "\n",
    "    diff_1(tau, sigma,  x1,y1,params1,  x2,y2,params2,  's', True)"
   ]
  },
  {
   "cell_type": "markdown",
   "metadata": {
    "heading_collapsed": true
   },
   "source": [
    "## Threshold Stochasticity"
   ]
  },
  {
   "cell_type": "code",
   "execution_count": null,
   "metadata": {
    "hidden": true
   },
   "outputs": [],
   "source": [
    "def plotD_plotSizes(seed, c):\n",
    "    \n",
    "    ## Sizes w/ double counting\n",
    "    x,y,params = plotSizes(seed, filetype='s');  x = np.log10(x); y = np.log10(y)\n",
    "    ax1.plot(x, y, '.-', color=c, label = r\"$\\lambda=$\"+str(round(params[2],6)))\n",
    "    \n",
    "    ## Sizes w/o double counting\n",
    "    x,y,params = plotSizes(seed, filetype='a');  x = np.log10(x); y = np.log10(y)\n",
    "    ax3.plot(x, y, '.-', color=c, label = r\"$\\lambda=$\"+str(round(params[2],6)))\n",
    "    \n",
    "    ## Durations\n",
    "    x,y,params = plotSizes(seed, filetype='d');  x = np.log10(x); y = np.log10(y)\n",
    "    ax2.plot(x, y, '.-', color=c,label = r\"$\\lambda=$\"+str(round(params[2],6)))\n",
    "    \n",
    "    return params[3], params[2]"
   ]
  },
  {
   "cell_type": "code",
   "execution_count": null,
   "metadata": {
    "hidden": true
   },
   "outputs": [],
   "source": [
    "# -------------------- Create Figure  -------------------- #\n",
    "seedrange = np.arange(3900,3903, 1)\n",
    "\n",
    "fig, (ax1, ax2, ax3) = plt.subplots(1,3,figsize=(9, 3), dpi=200, frameon=True)\n",
    "color = iter( cm.rainbow( np.linspace(0,1,len(seedrange)) ) )\n",
    "for i in seedrange:  \n",
    "    c = next( color )\n",
    "    eta, lamb = plotD_plotSizes(i, c)\n",
    "\n",
    "# -- Decoration --\n",
    "ax1.set_ylabel(r'$\\log N_s(s,L)$',fontweight='bold'); ax1.set_xlabel('size, $\\log s$',fontweight='bold')\n",
    "ax2.set_ylabel(r'$\\log N_d(d,L)$',fontweight='bold'); ax2.set_xlabel('duration, $\\log d$',fontweight='bold')\n",
    "ax3.set_ylabel(r'$\\log N_a(a,L)$',fontweight='bold'); ax3.set_xlabel('size, $\\log a$',fontweight='bold')\n",
    "ax1.legend(loc=3, fontsize=6)\n",
    "ax2.legend(loc=3, fontsize=6)\n",
    "ax3.legend(loc=3, fontsize=6)\n"
   ]
  },
  {
   "cell_type": "code",
   "execution_count": null,
   "metadata": {
    "hidden": true
   },
   "outputs": [],
   "source": []
  },
  {
   "cell_type": "code",
   "execution_count": null,
   "metadata": {
    "hidden": true
   },
   "outputs": [],
   "source": [
    "\n",
    "# 1.211847389558233 2.7751004016064256\n",
    "# 1.1716867469879517 2.0281124497991967\n",
    "# 1.2720883534136547 1.5783132530120483\n",
    "\n",
    "def plotD_plotSizes_rescaled(seed, c):\n",
    "    \n",
    "    ## Sizes w/ double counting\n",
    "    x,y,params = plotSizes(seed, filetype='s');\n",
    "    lambd = params[2];\n",
    "    tau = 1.203; sigma = 1.09143\n",
    "    \n",
    "    x_r = x * lambd**(1/sigma)\n",
    "    y_r = y * lambd**(-tau/sigma)\n",
    "    ax1.plot(np.log10(x_r), np.log10(y_r) , '.-', color=c, label = r\"$\\lambda=$\"+str(round(lambd,6)))\n",
    "    \n",
    "    \n",
    "    ## Sizes w/o double counting\n",
    "    x,y,params = plotSizes(seed, filetype='a');  \n",
    "    lambd = params[2];\n",
    "    tau = 1.179; sigma = 1.0982\n",
    "    \n",
    "    x_r = x * lambd**(1/sigma)\n",
    "    y_r = y * lambd**(-tau/sigma)\n",
    "    ax2.plot(np.log10(x_r), np.log10(y_r) , '.-', color=c, label = r\"$\\lambda=$\"+str(round(lambd,6)))\n",
    "    \n",
    "    \n",
    "    ## Durations\n",
    "    x,y,params = plotSizes(seed, filetype='d');  \n",
    "    lambd = params[2];\n",
    "    tau = 1.281; sigma = 1.595\n",
    "    \n",
    "    x_r = x * lambd**(1/sigma)\n",
    "    y_r = y * lambd**(-tau/sigma)\n",
    "    ax3.plot(np.log10(x_r), np.log10(y_r) , '.-', color=c, label = r\"$\\lambda=$\"+str(round(lambd,6)))\n",
    "    return params[3]\n"
   ]
  },
  {
   "cell_type": "code",
   "execution_count": null,
   "metadata": {
    "hidden": true
   },
   "outputs": [],
   "source": [
    "# -------------------- Create Figure  -------------------- #\n",
    "seedrange = np.arange(3900,3903, 1)\n",
    "\n",
    "fig, (ax1, ax2, ax3) = plt.subplots(1,3,figsize=(9, 3), dpi=200, frameon= False )\n",
    "color = iter( cm.rainbow( np.linspace(0,1,len(seedrange)) ) )\n",
    "for i in seedrange:  \n",
    "    c = next( color )\n",
    "    eta = plotD_plotSizes_rescaled(i, c)\n",
    "\n",
    "\n",
    "# -- Decoration --\n",
    "ax1.set_ylabel(r'$N_s(s,L)$',fontweight='bold'); ax1.set_xlabel('size, $s$',fontweight='bold')\n",
    "ax2.set_ylabel(r'$N_d(d,L)$',fontweight='bold'); ax2.set_xlabel('duration, $d$',fontweight='bold')\n",
    "ax3.set_ylabel(r'$N_a(a,L)$',fontweight='bold'); ax3.set_xlabel('size, $a$',fontweight='bold')\n",
    "# ax1.set_xscale('log'); ax1.set_yscale('log')\n",
    "# ax2.set_xscale('log'); ax2.set_yscale('log')\n",
    "# ax3.set_xscale('log'); ax3.set_yscale('log')\n",
    "ax1.legend(loc=3, fontsize=8)\n",
    "ax2.legend(loc=3, fontsize=8)\n",
    "ax3.legend(loc=3, fontsize=8)\n",
    "fig.suptitle(\"MM - OBC, $L = 256, h_c = 3$\")\n",
    "\n"
   ]
  },
  {
   "cell_type": "markdown",
   "metadata": {},
   "source": [
    "## Manna Model Height Thresholds"
   ]
  },
  {
   "cell_type": "markdown",
   "metadata": {},
   "source": [
    "### Height 3: MM_3"
   ]
  },
  {
   "cell_type": "markdown",
   "metadata": {
    "heading_collapsed": true
   },
   "source": [
    "#### Scaling Plots"
   ]
  },
  {
   "cell_type": "code",
   "execution_count": null,
   "metadata": {
    "hidden": true
   },
   "outputs": [],
   "source": [
    "def plotD_plotSizes(seed, c):\n",
    "    \n",
    "    ## Sizes w/ double counting\n",
    "    x,y,params = plotSizes(seed, filetype='s');  x = np.log10(x); y = np.log10(y)\n",
    "    ax1.plot(x, y, '.-', color=c, label = r\"$\\lambda=$\"+str(round(params[2],6)))\n",
    "    \n",
    "    ## Sizes w/o double counting\n",
    "    x,y,params = plotSizes(seed, filetype='a');  x = np.log10(x); y = np.log10(y)\n",
    "    ax3.plot(x, y, '.-', color=c, label = r\"$\\lambda=$\"+str(round(params[2],6)))\n",
    "    \n",
    "    ## Durations\n",
    "    x,y,params = plotSizes(seed, filetype='d');  x = np.log10(x); y = np.log10(y)\n",
    "    ax2.plot(x, y, '.-', color=c,label = r\"$\\lambda=$\"+str(round(params[2],6)))\n",
    "    \n",
    "    return params[3], params[2]"
   ]
  },
  {
   "cell_type": "code",
   "execution_count": null,
   "metadata": {
    "hidden": true
   },
   "outputs": [],
   "source": [
    "# -------------------- Create Figure  -------------------- #\n",
    "seedrange = np.arange(4300,4307, 1)\n",
    "\n",
    "fig, (ax1, ax2, ax3) = plt.subplots(1,3,figsize=(9, 3), dpi=200, frameon=True)\n",
    "color = iter( cm.rainbow( np.linspace(0,1,len(seedrange)) ) )\n",
    "for i in seedrange:  \n",
    "    c = next( color )\n",
    "    eta, lamb = plotD_plotSizes(i, c)\n",
    "\n",
    "# -- Decoration --\n",
    "ax1.set_ylabel(r'$\\log N_s(s,L)$',fontweight='bold'); ax1.set_xlabel('size, $\\log s$',fontweight='bold')\n",
    "ax2.set_ylabel(r'$\\log N_d(d,L)$',fontweight='bold'); ax2.set_xlabel('duration, $\\log d$',fontweight='bold')\n",
    "ax3.set_ylabel(r'$\\log N_a(a,L)$',fontweight='bold'); ax3.set_xlabel('size, $\\log a$',fontweight='bold')\n",
    "ax1.legend(loc=3, fontsize=6)\n",
    "ax2.legend(loc=3, fontsize=6)\n",
    "ax3.legend(loc=3, fontsize=6)\n"
   ]
  },
  {
   "cell_type": "markdown",
   "metadata": {},
   "source": [
    "#### Data collapse "
   ]
  },
  {
   "cell_type": "code",
   "execution_count": 6,
   "metadata": {},
   "outputs": [],
   "source": [
    "\n",
    "# 1.211847389558233 2.7751004016064256\n",
    "# 1.1716867469879517 2.0281124497991967\n",
    "# 1.2720883534136547 1.5783132530120483\n",
    "\n",
    "def plotD_plotSizes_rescaled(seed, c):\n",
    "    \n",
    "    ## Sizes w/ double counting\n",
    "    x,y,params = plotSizes(seed, filetype='s');\n",
    "    lambd = params[2];\n",
    "    tau = 1.223; sigma = 1.19143    # AM critical exponents \n",
    "#     tau = 1.3026052104208419        # MM_3 critical exponents \n",
    "#     sigma = 0.7705410821643286\n",
    "    \n",
    "    x_r = x * lambd**(1/sigma)\n",
    "    y_r = y * lambd**(-tau/sigma)\n",
    "    ax1.plot(np.log10(x_r), np.log10(y_r) , '.-', color=c, label = r\"$\\lambda=$\"+str(round(lambd,6)))\n",
    "    \n",
    "    \n",
    "    ## Sizes w/o double counting\n",
    "    x,y,params = plotSizes(seed, filetype='a');  \n",
    "    lambd = params[2];\n",
    "    tau = 1.179; sigma = 1.0982    # AM critical exponents \n",
    "#     tau = 1.3206412825651301        # MM_3 critical exponents \n",
    "#     sigma = 1.0230460921843687\n",
    "    \n",
    "    x_r = x * lambd**(1/sigma)\n",
    "    y_r = y * lambd**(-tau/sigma)\n",
    "    ax2.plot(np.log10(x_r), np.log10(y_r) , '.-', color=c, label = r\"$\\lambda=$\"+str(round(lambd,6)))\n",
    "    \n",
    "    \n",
    "    ## Durations\n",
    "    x,y,params = plotSizes(seed, filetype='d');  \n",
    "    lambd = params[2];\n",
    "    tau = 1.281; sigma = 1.595    # AM critical exponents \n",
    "#     tau = 1.4018036072144289        # MM_3 critical exponents \n",
    "#     sigma = 1.4018036072144289\n",
    "    \n",
    "    x_r = x * lambd**(1/sigma)\n",
    "    y_r = y * lambd**(-tau/sigma)\n",
    "    ax3.plot(np.log10(x_r), np.log10(y_r) , '.-', color=c, label = r\"$\\lambda=$\"+str(round(lambd,6)))\n",
    "    return params[3]\n",
    "\n",
    "# 1.3026052104208419 0.7705410821643286\n",
    "# 1.3206412825651301 1.0230460921843687\n",
    "# 1.4018036072144289 1.4018036072144289"
   ]
  },
  {
   "cell_type": "code",
   "execution_count": 7,
   "metadata": {},
   "outputs": [
    {
     "data": {
      "text/plain": [
       "Text(0.5, 0.98, 'MM - OBC, $L = 256, h_c = 3$')"
      ]
     },
     "execution_count": 7,
     "metadata": {},
     "output_type": "execute_result"
    },
    {
     "name": "stderr",
     "output_type": "stream",
     "text": [
      "findfont: Font family ['sans-serif'] not found. Falling back to DejaVu Sans.\n"
     ]
    },
    {
     "data": {
      "image/png": "[encoded data removed]",
      "text/plain": [
       "<Figure size 1800x600 with 3 Axes>"
      ]
     },
     "metadata": {},
     "output_type": "display_data"
    }
   ],
   "source": [
    "# -------------------- Create Figure  -------------------- #\n",
    "seedrange = np.arange(4300,4307, 1)\n",
    "\n",
    "fig, (ax1, ax2, ax3) = plt.subplots(1,3,figsize=(9, 3), dpi=200, frameon=True)\n",
    "color = iter( cm.rainbow( np.linspace(0,1,len(seedrange)) ) )\n",
    "for i in seedrange:  \n",
    "    c = next( color )\n",
    "    eta = plotD_plotSizes_rescaled(i, c)\n",
    "\n",
    "\n",
    "# -- Decoration --\n",
    "ax1.set_ylabel(r'$N_s(s,L)$',fontweight='bold'); ax1.set_xlabel('size, $s$',fontweight='bold')\n",
    "ax2.set_ylabel(r'$N_d(d,L)$',fontweight='bold'); ax2.set_xlabel('duration, $d$',fontweight='bold')\n",
    "ax3.set_ylabel(r'$N_a(a,L)$',fontweight='bold'); ax3.set_xlabel('size, $a$',fontweight='bold')\n",
    "ax1.legend(loc=3, fontsize=8)\n",
    "ax2.legend(loc=3, fontsize=8)\n",
    "ax3.legend(loc=3, fontsize=8)\n",
    "fig.suptitle(\"MM - OBC, $L = 256, h_c = 3$\")\n"
   ]
  },
  {
   "cell_type": "code",
   "execution_count": null,
   "metadata": {},
   "outputs": [],
   "source": []
  },
  {
   "cell_type": "markdown",
   "metadata": {
    "heading_collapsed": true
   },
   "source": [
    "#### Finding exponents? "
   ]
  },
  {
   "cell_type": "code",
   "execution_count": null,
   "metadata": {
    "hidden": true
   },
   "outputs": [],
   "source": [
    "# -------------------- Fitting to FSS  -------------------- #\n",
    "def plotFSS_1(seed, c, tau, d, filetype):\n",
    "    \"\"\" seed - seed of run to plot\n",
    "        c - color of the line being plotted\n",
    "        tau, d - exponents for rescaling\n",
    "        filetype - which quantity to plot / file to draw from\n",
    "    \"\"\"    \n",
    "    x,y,params = plotSizes(seed, filetype);  #x = np.log10(x); y = np.log10(y)\n",
    "    lambd = float(params[2])\n",
    "    ax1.plot(x * lambd**(1/sigma), y * lambd**(-tau/sigma), \n",
    "             '.-', color=c, label = \"L=\"+str(params[1]))\n",
    "             \n",
    "             \n",
    "def diff_1(tau, d,  x1,y1,params1,  x2,y2,params2,  filetype, plotYes):\n",
    "    \"\"\" Computes the difference w/ rescaled axis of two given runs with a given exponent set. Seed1/2 are the seeds of our desired runs.\"\"\"\n",
    "    \n",
    "    x1_r = np.log10(x1 * float(params1[2])**(1/d)) \n",
    "    y1_r = np.log10(y1 * float(params1[2])**(-tau/d))\n",
    "\n",
    "    x2_r = np.log10(x2 * float(params2[2])**(1/d)) \n",
    "    y2_r = np.log10(y2 * float(params2[2])**(-tau/d))\n",
    "    \n",
    "    if plotYes==True:\n",
    "        plotPolyFit(x1_r, y1_r, x2_r, y2_r)\n",
    "\n",
    "    Xstart = max(x1_r[0], x2_r[0])\n",
    "    Xend = min(x1_r[-1], x2_r[-1])\n",
    "#     with warnings.catch_warnings():\n",
    "#         warnings.simplefilter('ignore', np.RankWarning)\n",
    "    z1 = np.polyfit(x1_r, y1_r, 10)\n",
    "    z2 = np.polyfit(x2_r, y2_r, 10)\n",
    "    p1 = np.poly1d(z1)\n",
    "    p2 = np.poly1d(z2)\n",
    "    xp = np.linspace(Xstart,Xend, 100)\n",
    "\n",
    "    return np.sqrt( np.sum( (p2(xp) - p1(xp))**2 ) )\n",
    "\n",
    "\n",
    "def plotPolyFit(x1_r, y1_r, x2_r, y2_r):\n",
    "\n",
    "    Xstart = max(x1_r[0], x2_r[0])\n",
    "    Xend = min(x1_r[-1], x2_r[-1])\n",
    "\n",
    "    z1 = np.polyfit(x1_r, y1_r, 10)\n",
    "    z2 = np.polyfit(x2_r, y2_r, 10)\n",
    "    p1 = np.poly1d(z1)\n",
    "    p2 = np.poly1d(z2)\n",
    "    xp = np.linspace(Xstart,Xend, 100)\n",
    "\n",
    "    fig1, ax1 = plt.subplots(1,1,figsize=(4, 3.5), dpi=120,frameon=False)\n",
    "    ax1.plot(x1_r, y1_r, 'r-')\n",
    "    ax1.plot(xp, p1(xp), 'r--')\n",
    "    ax1.plot(x2_r, y2_r, 'b-')\n",
    "    ax1.plot(xp, p2(xp), 'b--')\n",
    "    fig.show()\n",
    "\n",
    "    \n",
    "def diffoverRange(tauRange, dRange, seed1, seed2, filetype, plotYes):\n",
    "    x1,y1,params1 = plotSizes(seed1, filetype)\n",
    "    x2,y2,params2 = plotSizes(seed2, filetype)\n",
    "    \n",
    "    Z = np.zeros((len(tauRange), len(dRange)))\n",
    "    for xxx in range(len(tauRange)):\n",
    "        for yyy in range(len(dRange)):\n",
    "            Z[xxx, yyy] = diff_1(tauRange[xxx], dRange[yyy],  x1,y1,params1,  x2,y2,params2,  filetype, plotYes)\n",
    "    return Z\n",
    "\n",
    "def find_min_idx(x):\n",
    "    k = x.argmin()\n",
    "    ncol = x.shape[1]\n",
    "    return k//ncol, k%ncol"
   ]
  },
  {
   "cell_type": "code",
   "execution_count": null,
   "metadata": {
    "hidden": true
   },
   "outputs": [],
   "source": [
    "tauRange = np.linspace(0.5, 5, 500)\n",
    "sigmaRange = np.linspace(0.5, 5, 500)\n",
    "\n",
    "Zs = diffoverRange(tauRange, sigmaRange, 4302, 4305, 's', plotYes=False)\n",
    "Za = diffoverRange(tauRange, sigmaRange, 4302, 4305, 'a', plotYes=False)\n",
    "Zd = diffoverRange(tauRange, sigmaRange, 4302, 4305, 'd', plotYes=False)\n",
    "# print(Z)"
   ]
  },
  {
   "cell_type": "code",
   "execution_count": null,
   "metadata": {
    "hidden": true
   },
   "outputs": [],
   "source": [
    "\n",
    "Z = Zs #==============================================\n",
    "tauBest=tauRange[find_min_idx(Z)[0]]\n",
    "sigmaBest=sigmaRange[find_min_idx(Z)[1]]\n",
    "print(tauBest, sigmaBest)\n",
    "\n",
    "fig = plt.figure(figsize=(6,4), dpi=120, frameon=True)\n",
    "ax = plt.axes()\n",
    "heatmap = ax.contourf(sigmaRange, tauRange, Z, 50, cmap='viridis')\n",
    "ax.plot(sigmaBest, tauBest, color='red', marker='o')\n",
    "\n",
    "ax.set_ylabel(r'$\\tau_s$')\n",
    "ax.set_xlabel(r'$\\sigma_s$')\n",
    "fig.colorbar(heatmap)\n",
    "ax.set_title('Manna; size $s$', fontweight='bold')\n",
    "fig.tight_layout()\n",
    "\n",
    "Z = Za #==============================================\n",
    "tauBest=tauRange[find_min_idx(Z)[0]]\n",
    "sigmaBest=sigmaRange[find_min_idx(Z)[1]]\n",
    "print(tauBest, sigmaBest)\n",
    "\n",
    "fig = plt.figure(figsize=(6,4), dpi=120, frameon=True)\n",
    "ax = plt.axes()\n",
    "heatmap = ax.contourf(sigmaRange, tauRange, Z, 50, cmap='viridis')\n",
    "ax.plot(sigmaBest, tauBest, color='red', marker='o')\n",
    "\n",
    "ax.set_ylabel(r'$\\tau_s$')\n",
    "ax.set_xlabel(r'$\\sigma_s$')\n",
    "fig.colorbar(heatmap)\n",
    "ax.set_title('Manna; size $a$', fontweight='bold')\n",
    "fig.tight_layout()\n",
    "\n",
    "\n",
    "Z = Zd #==============================================\n",
    "tauBest=tauRange[find_min_idx(Z)[0]]\n",
    "sigmaBest=sigmaRange[find_min_idx(Z)[1]]\n",
    "print(tauBest, sigmaBest)\n",
    "\n",
    "fig = plt.figure(figsize=(6,4), dpi=120, frameon=True)\n",
    "ax = plt.axes()\n",
    "heatmap = ax.contourf(sigmaRange, tauRange, Z, 50, cmap='viridis')\n",
    "ax.plot(sigmaBest, tauBest, color='red', marker='o')\n",
    "\n",
    "ax.set_ylabel(r'$\\tau_s$')\n",
    "ax.set_xlabel(r'$\\sigma_s$')\n",
    "fig.colorbar(heatmap)\n",
    "ax.set_title('Manna; duration $D$', fontweight='bold')\n",
    "fig.tight_layout()\n",
    "\n"
   ]
  },
  {
   "cell_type": "code",
   "execution_count": null,
   "metadata": {
    "hidden": true,
    "scrolled": true
   },
   "outputs": [],
   "source": [
    "x1,y1,params1 = plotSizes(4302, 's')\n",
    "x2,y2,params2 = plotSizes(4305, 's')\n",
    "tau = 1.2881763527054109\n",
    "sigma = 0.7775551102204409\n",
    "# 1.2881763527054109 0.7775551102204409\n",
    "# tau = 1.325; sigma = 1.104026845637584\n",
    "\n",
    "diff_1(tau, sigma,  x1,y1,params1,  x2,y2,params2,  's', True)"
   ]
  },
  {
   "cell_type": "code",
   "execution_count": null,
   "metadata": {
    "hidden": true
   },
   "outputs": [],
   "source": []
  },
  {
   "cell_type": "markdown",
   "metadata": {},
   "source": [
    "### Height 2: MM_2\n",
    "\n",
    "This is just the regular Manna model... "
   ]
  },
  {
   "cell_type": "markdown",
   "metadata": {},
   "source": [
    "#### Scaling Plots"
   ]
  },
  {
   "cell_type": "code",
   "execution_count": null,
   "metadata": {},
   "outputs": [],
   "source": [
    "def plotD_plotSizes(seed, c):\n",
    "    \n",
    "    ## Sizes w/ double counting\n",
    "    x,y,params = plotSizes(seed, filetype='s');  x = np.log10(x); y = np.log10(y)\n",
    "    ax1.plot(x, y, '.-', color=c, label = r\"$\\lambda=$\"+str(round(params[2],6)))\n",
    "    \n",
    "    ## Sizes w/o double counting\n",
    "    x,y,params = plotSizes(seed, filetype='a');  x = np.log10(x); y = np.log10(y)\n",
    "    ax3.plot(x, y, '.-', color=c, label = r\"$\\lambda=$\"+str(round(params[2],6)))\n",
    "    \n",
    "    ## Durations\n",
    "    x,y,params = plotSizes(seed, filetype='d');  x = np.log10(x); y = np.log10(y)\n",
    "    ax2.plot(x, y, '.-', color=c,label = r\"$\\lambda=$\"+str(round(params[2],6)))\n",
    "    \n",
    "    return params[3], params[2]"
   ]
  },
  {
   "cell_type": "code",
   "execution_count": null,
   "metadata": {
    "scrolled": true
   },
   "outputs": [],
   "source": [
    "# -------------------- Create Figure  -------------------- #\n",
    "seedrange = np.arange(4300,4307, 1)\n",
    "\n",
    "fig, (ax1, ax2, ax3) = plt.subplots(1,3,figsize=(9, 3), dpi=200, frameon=True)\n",
    "color = iter( cm.rainbow( np.linspace(0,1,len(seedrange)) ) )\n",
    "for i in seedrange:  \n",
    "    c = next( color )\n",
    "    eta, lamb = plotD_plotSizes(i, c)\n",
    "\n",
    "# -- Decoration --\n",
    "ax1.set_ylabel(r'$\\log N_s(s,L)$',fontweight='bold'); ax1.set_xlabel('size, $\\log s$',fontweight='bold')\n",
    "ax2.set_ylabel(r'$\\log N_d(d,L)$',fontweight='bold'); ax2.set_xlabel('duration, $\\log d$',fontweight='bold')\n",
    "ax3.set_ylabel(r'$\\log N_a(a,L)$',fontweight='bold'); ax3.set_xlabel('size, $\\log a$',fontweight='bold')\n",
    "ax1.legend(loc=3, fontsize=6)\n",
    "ax2.legend(loc=3, fontsize=6)\n",
    "ax3.legend(loc=3, fontsize=6)\n"
   ]
  },
  {
   "cell_type": "markdown",
   "metadata": {},
   "source": [
    "#### Data Collapse "
   ]
  },
  {
   "cell_type": "code",
   "execution_count": null,
   "metadata": {},
   "outputs": [],
   "source": [
    "\n",
    "# 1.211847389558233 2.7751004016064256\n",
    "# 1.1716867469879517 2.0281124497991967\n",
    "# 1.2720883534136547 1.5783132530120483\n",
    "\n",
    "def plotD_plotSizes_rescaled(seed, c):\n",
    "    \n",
    "    ## Sizes w/ double counting\n",
    "    x,y,params = plotSizes(seed, filetype='s');\n",
    "    lambd = params[2];\n",
    "#     tau = 1.223; sigma = 1.19143    # AM critical exponents \n",
    "    tau = 1.2915831663326653        # MM_3 critical exponents \n",
    "    sigma = 0.7354709418837675\n",
    "    \n",
    "    x_r = x * lambd**(1/sigma)\n",
    "    y_r = y * lambd**(-tau/sigma)\n",
    "    ax1.plot(np.log10(x_r), np.log10(y_r) , '.-', color=c, label = r\"$\\lambda=$\"+str(round(lambd,6)))\n",
    "    \n",
    "    \n",
    "    ## Sizes w/o double counting\n",
    "    x,y,params = plotSizes(seed, filetype='a');  \n",
    "    lambd = params[2];\n",
    "#     tau = 1.179; sigma = 1.0982    # AM critical exponents \n",
    "    tau = 1.3066132264529058        # MM_3 critical exponents \n",
    "    sigma = 0.9809619238476954\n",
    "    \n",
    "    x_r = x * lambd**(1/sigma)\n",
    "    y_r = y * lambd**(-tau/sigma)\n",
    "    ax2.plot(np.log10(x_r), np.log10(y_r) , '.-', color=c, label = r\"$\\lambda=$\"+str(round(lambd,6)))\n",
    "    \n",
    "    \n",
    "    ## Durations\n",
    "    x,y,params = plotSizes(seed, filetype='d');  \n",
    "    lambd = params[2];\n",
    "#     tau = 1.281; sigma = 1.595    # AM critical exponents \n",
    "    tau = 1.3416833667334669        # MM_3 critical exponents \n",
    "    sigma = 1.3667334669338675\n",
    "    \n",
    "    x_r = x * lambd**(1/sigma)\n",
    "    y_r = y * lambd**(-tau/sigma)\n",
    "    ax3.plot(np.log10(x_r), np.log10(y_r) , '.-', color=c, label = r\"$\\lambda=$\"+str(round(lambd,6)))\n",
    "    return params[3]\n",
    "\n",
    "# 1.2915831663326653 0.7354709418837675\n",
    "# 1.3066132264529058 0.9809619238476954\n",
    "# 1.3416833667334669 1.3667334669338675"
   ]
  },
  {
   "cell_type": "code",
   "execution_count": null,
   "metadata": {},
   "outputs": [],
   "source": [
    "# -------------------- Create Figure  -------------------- #\n",
    "seedrange = np.arange(4300,4307, 1)\n",
    "\n",
    "fig, (ax1, ax2, ax3) = plt.subplots(1,3,figsize=(9, 3), dpi=200, frameon=True)\n",
    "color = iter( cm.rainbow( np.linspace(0,1,len(seedrange)) ) )\n",
    "for i in seedrange:  \n",
    "    c = next( color )\n",
    "    eta = plotD_plotSizes_rescaled(i, c)\n",
    "\n",
    "\n",
    "# -- Decoration --\n",
    "ax1.set_ylabel(r'$N_s(s,L)$',fontweight='bold'); ax1.set_xlabel('size, $s$',fontweight='bold')\n",
    "ax2.set_ylabel(r'$N_d(d,L)$',fontweight='bold'); ax2.set_xlabel('duration, $d$',fontweight='bold')\n",
    "ax3.set_ylabel(r'$N_a(a,L)$',fontweight='bold'); ax3.set_xlabel('size, $a$',fontweight='bold')\n",
    "ax1.legend(loc=3, fontsize=8)\n",
    "ax2.legend(loc=3, fontsize=8)\n",
    "ax3.legend(loc=3, fontsize=8)\n",
    "fig.suptitle(\"MM - OBC, $L = 256, h_c = 2$\")\n"
   ]
  },
  {
   "cell_type": "code",
   "execution_count": null,
   "metadata": {},
   "outputs": [],
   "source": []
  },
  {
   "cell_type": "markdown",
   "metadata": {
    "heading_collapsed": true
   },
   "source": [
    "#### Searching for better exponents? "
   ]
  },
  {
   "cell_type": "code",
   "execution_count": null,
   "metadata": {
    "hidden": true
   },
   "outputs": [],
   "source": [
    "# -------------------- Fitting to FSS  -------------------- #\n",
    "def plotFSS_1(seed, c, tau, d, filetype):\n",
    "    \"\"\" seed - seed of run to plot\n",
    "        c - color of the line being plotted\n",
    "        tau, d - exponents for rescaling\n",
    "        filetype - which quantity to plot / file to draw from\n",
    "    \"\"\"    \n",
    "    x,y,params = plotSizes(seed, filetype);  #x = np.log10(x); y = np.log10(y)\n",
    "    lambd = float(params[2])\n",
    "    ax1.plot(x * lambd**(1/sigma), y * lambd**(-tau/sigma), \n",
    "             '.-', color=c, label = \"L=\"+str(params[1]))\n",
    "             \n",
    "             \n",
    "def diff_1(tau, d,  x1,y1,params1,  x2,y2,params2,  filetype, plotYes):\n",
    "    \"\"\" Computes the difference w/ rescaled axis of two given runs with a given exponent set. Seed1/2 are the seeds of our desired runs.\"\"\"\n",
    "    \n",
    "    x1_r = np.log10(x1 * float(params1[2])**(1/d)) \n",
    "    y1_r = np.log10(y1 * float(params1[2])**(-tau/d))\n",
    "\n",
    "    x2_r = np.log10(x2 * float(params2[2])**(1/d)) \n",
    "    y2_r = np.log10(y2 * float(params2[2])**(-tau/d))\n",
    "    \n",
    "    if plotYes==True:\n",
    "        plotPolyFit(x1_r, y1_r, x2_r, y2_r)\n",
    "\n",
    "    Xstart = max(x1_r[0], x2_r[0])\n",
    "    Xend = min(x1_r[-1], x2_r[-1])\n",
    "#     with warnings.catch_warnings():\n",
    "#         warnings.simplefilter('ignore', np.RankWarning)\n",
    "    z1 = np.polyfit(x1_r, y1_r, 10)\n",
    "    z2 = np.polyfit(x2_r, y2_r, 10)\n",
    "    p1 = np.poly1d(z1)\n",
    "    p2 = np.poly1d(z2)\n",
    "    xp = np.linspace(Xstart,Xend, 100)\n",
    "\n",
    "    return np.sqrt( np.sum( (p2(xp) - p1(xp))**2 ) )\n",
    "\n",
    "\n",
    "def plotPolyFit(x1_r, y1_r, x2_r, y2_r):\n",
    "\n",
    "    Xstart = max(x1_r[0], x2_r[0])\n",
    "    Xend = min(x1_r[-1], x2_r[-1])\n",
    "\n",
    "    z1 = np.polyfit(x1_r, y1_r, 10)\n",
    "    z2 = np.polyfit(x2_r, y2_r, 10)\n",
    "    p1 = np.poly1d(z1)\n",
    "    p2 = np.poly1d(z2)\n",
    "    xp = np.linspace(Xstart,Xend, 100)\n",
    "\n",
    "    fig1, ax1 = plt.subplots(1,1,figsize=(4, 3.5), dpi=120,frameon=False)\n",
    "    ax1.plot(x1_r, y1_r, 'r-')\n",
    "    ax1.plot(xp, p1(xp), 'r--')\n",
    "    ax1.plot(x2_r, y2_r, 'b-')\n",
    "    ax1.plot(xp, p2(xp), 'b--')\n",
    "    fig.show()\n",
    "\n",
    "    \n",
    "def diffoverRange(tauRange, dRange, seed1, seed2, filetype, plotYes):\n",
    "    x1,y1,params1 = plotSizes(seed1, filetype)\n",
    "    x2,y2,params2 = plotSizes(seed2, filetype)\n",
    "    \n",
    "    Z = np.zeros((len(tauRange), len(dRange)))\n",
    "    for xxx in range(len(tauRange)):\n",
    "        for yyy in range(len(dRange)):\n",
    "            Z[xxx, yyy] = diff_1(tauRange[xxx], dRange[yyy],  x1,y1,params1,  x2,y2,params2,  filetype, plotYes)\n",
    "    return Z\n",
    "\n",
    "def find_min_idx(x):\n",
    "    k = x.argmin()\n",
    "    ncol = x.shape[1]\n",
    "    return k//ncol, k%ncol"
   ]
  },
  {
   "cell_type": "code",
   "execution_count": null,
   "metadata": {
    "hidden": true
   },
   "outputs": [],
   "source": [
    "tauRange = np.linspace(0.5, 3, 500)\n",
    "sigmaRange = np.linspace(0.5, 3, 500)\n",
    "\n",
    "Zs = diffoverRange(tauRange, sigmaRange, 4202, 4204, 's', plotYes=False)\n",
    "Za = diffoverRange(tauRange, sigmaRange, 4202, 4204, 'a', plotYes=False)\n",
    "Zd = diffoverRange(tauRange, sigmaRange, 4202, 4204, 'd', plotYes=False)\n",
    "# print(Z)"
   ]
  },
  {
   "cell_type": "code",
   "execution_count": null,
   "metadata": {
    "hidden": true
   },
   "outputs": [],
   "source": [
    "\n",
    "Z = Zs #==============================================\n",
    "tauBest=tauRange[find_min_idx(Z)[0]]\n",
    "sigmaBest=sigmaRange[find_min_idx(Z)[1]]\n",
    "print(tauBest, sigmaBest)\n",
    "\n",
    "fig = plt.figure(figsize=(6,4), dpi=120, frameon=True)\n",
    "ax = plt.axes()\n",
    "heatmap = ax.contourf(sigmaRange, tauRange, Z, 50, cmap='viridis')\n",
    "ax.plot(sigmaBest, tauBest, color='red', marker='o')\n",
    "\n",
    "ax.set_ylabel(r'$\\tau_s$')\n",
    "ax.set_xlabel(r'$\\sigma_s$')\n",
    "fig.colorbar(heatmap)\n",
    "ax.set_title('Manna; size $s$', fontweight='bold')\n",
    "fig.tight_layout()\n",
    "\n",
    "Z = Za #==============================================\n",
    "tauBest=tauRange[find_min_idx(Z)[0]]\n",
    "sigmaBest=sigmaRange[find_min_idx(Z)[1]]\n",
    "print(tauBest, sigmaBest)\n",
    "\n",
    "fig = plt.figure(figsize=(6,4), dpi=120, frameon=True)\n",
    "ax = plt.axes()\n",
    "heatmap = ax.contourf(sigmaRange, tauRange, Z, 50, cmap='viridis')\n",
    "ax.plot(sigmaBest, tauBest, color='red', marker='o')\n",
    "\n",
    "ax.set_ylabel(r'$\\tau_s$')\n",
    "ax.set_xlabel(r'$\\sigma_s$')\n",
    "fig.colorbar(heatmap)\n",
    "ax.set_title('Manna; size $a$', fontweight='bold')\n",
    "fig.tight_layout()\n",
    "\n",
    "\n",
    "Z = Zd #==============================================\n",
    "tauBest=tauRange[find_min_idx(Z)[0]]\n",
    "sigmaBest=sigmaRange[find_min_idx(Z)[1]]\n",
    "print(tauBest, sigmaBest)\n",
    "\n",
    "fig = plt.figure(figsize=(6,4), dpi=120, frameon=True)\n",
    "ax = plt.axes()\n",
    "heatmap = ax.contourf(sigmaRange, tauRange, Z, 50, cmap='viridis')\n",
    "ax.plot(sigmaBest, tauBest, color='red', marker='o')\n",
    "\n",
    "ax.set_ylabel(r'$\\tau_s$')\n",
    "ax.set_xlabel(r'$\\sigma_s$')\n",
    "fig.colorbar(heatmap)\n",
    "ax.set_title('Manna; duration $D$', fontweight='bold')\n",
    "fig.tight_layout()\n",
    "\n"
   ]
  },
  {
   "cell_type": "code",
   "execution_count": null,
   "metadata": {
    "hidden": true
   },
   "outputs": [],
   "source": [
    "x1,y1,params1 = plotSizes(4302, 's')\n",
    "x2,y2,params2 = plotSizes(4305, 's')\n",
    "tau = 1.2881763527054109\n",
    "sigma = 0.7775551102204409\n",
    "# 1.2881763527054109 0.7775551102204409\n",
    "# tau = 1.325; sigma = 1.104026845637584\n",
    "\n",
    "diff_1(tau, sigma,  x1,y1,params1,  x2,y2,params2,  's', True)"
   ]
  },
  {
   "cell_type": "markdown",
   "metadata": {},
   "source": [
    "### Height 4: MM_4\n",
    "\n",
    "Sakib's stochastic version of the AM. "
   ]
  },
  {
   "cell_type": "markdown",
   "metadata": {},
   "source": [
    "#### Scaling Plots"
   ]
  },
  {
   "cell_type": "code",
   "execution_count": null,
   "metadata": {},
   "outputs": [],
   "source": [
    "def plotD_plotSizes(seed, c):\n",
    "    \n",
    "    ## Sizes w/ double counting\n",
    "    x,y,params = plotSizes(seed, filetype='s');  x = np.log10(x); y = np.log10(y)\n",
    "    ax1.plot(x, y, '.-', color=c, label = r\"$\\lambda=$\"+str(round(params[2],6)))\n",
    "    \n",
    "    ## Sizes w/o double counting\n",
    "    x,y,params = plotSizes(seed, filetype='a');  x = np.log10(x); y = np.log10(y)\n",
    "    ax3.plot(x, y, '.-', color=c, label = r\"$\\lambda=$\"+str(round(params[2],6)))\n",
    "    \n",
    "    ## Durations\n",
    "    x,y,params = plotSizes(seed, filetype='d');  x = np.log10(x); y = np.log10(y)\n",
    "    ax2.plot(x, y, '.-', color=c,label = r\"$\\lambda=$\"+str(round(params[2],6)))\n",
    "    \n",
    "    return params[3], params[2]"
   ]
  },
  {
   "cell_type": "code",
   "execution_count": null,
   "metadata": {
    "scrolled": true
   },
   "outputs": [],
   "source": [
    "# -------------------- Create Figure  -------------------- #\n",
    "seedrange = np.arange(4400,4407, 1)\n",
    "\n",
    "fig, (ax1, ax2, ax3) = plt.subplots(1,3,figsize=(9, 3), dpi=200, frameon=True)\n",
    "color = iter( cm.rainbow( np.linspace(0,1,len(seedrange)) ) )\n",
    "for i in seedrange:  \n",
    "    c = next( color )\n",
    "    eta, lamb = plotD_plotSizes(i, c)\n",
    "\n",
    "# -- Decoration --\n",
    "ax1.set_ylabel(r'$\\log N_s(s,L)$',fontweight='bold'); ax1.set_xlabel('size, $\\log s$',fontweight='bold')\n",
    "ax2.set_ylabel(r'$\\log N_d(d,L)$',fontweight='bold'); ax2.set_xlabel('duration, $\\log d$',fontweight='bold')\n",
    "ax3.set_ylabel(r'$\\log N_a(a,L)$',fontweight='bold'); ax3.set_xlabel('size, $\\log a$',fontweight='bold')\n",
    "ax1.legend(loc=3, fontsize=6)\n",
    "ax2.legend(loc=3, fontsize=6)\n",
    "ax3.legend(loc=3, fontsize=6)\n"
   ]
  },
  {
   "cell_type": "markdown",
   "metadata": {},
   "source": [
    "#### Data Collapse "
   ]
  },
  {
   "cell_type": "code",
   "execution_count": null,
   "metadata": {},
   "outputs": [],
   "source": [
    "\n",
    "# 1.211847389558233 2.7751004016064256\n",
    "# 1.1716867469879517 2.0281124497991967\n",
    "# 1.2720883534136547 1.5783132530120483\n",
    "\n",
    "def plotD_plotSizes_rescaled(seed, c):\n",
    "    \n",
    "    ## Sizes w/ double counting\n",
    "    x,y,params = plotSizes(seed, filetype='s');\n",
    "    lambd = params[2];\n",
    "#     tau = 1.223; sigma = 1.19143    # AM critical exponents \n",
    "    tau = 1.276553106212425        # MM_3 critical exponents \n",
    "    sigma = 0.7555110220440882\n",
    "    \n",
    "    x_r = x * lambd**(1/sigma)\n",
    "    y_r = y * lambd**(-tau/sigma)\n",
    "    ax1.plot(np.log10(x_r), np.log10(y_r) , '.-', color=c, label = r\"$\\lambda=$\"+str(round(lambd,6)))\n",
    "    \n",
    "    \n",
    "    ## Sizes w/o double counting\n",
    "    x,y,params = plotSizes(seed, filetype='a');  \n",
    "    lambd = params[2];\n",
    "#     tau = 1.179; sigma = 1.0982    # AM critical exponents \n",
    "    tau = 1.3016032064128256        # MM_3 critical exponents \n",
    "    sigma = 0.9859719438877755\n",
    "    \n",
    "    x_r = x * lambd**(1/sigma)\n",
    "    y_r = y * lambd**(-tau/sigma)\n",
    "    ax2.plot(np.log10(x_r), np.log10(y_r) , '.-', color=c, label = r\"$\\lambda=$\"+str(round(lambd,6)))\n",
    "    \n",
    "    \n",
    "    ## Durations\n",
    "    x,y,params = plotSizes(seed, filetype='d');  \n",
    "    lambd = params[2];\n",
    "#     tau = 1.281; sigma = 1.595    # AM critical exponents \n",
    "    tau = 1.3366733466933867        # MM_3 critical exponents \n",
    "    sigma = 1.376753507014028\n",
    "    \n",
    "    x_r = x * lambd**(1/sigma)\n",
    "    y_r = y * lambd**(-tau/sigma)\n",
    "    ax3.plot(np.log10(x_r), np.log10(y_r) , '.-', color=c, label = r\"$\\lambda=$\"+str(round(lambd,6)))\n",
    "    return params[3]\n",
    "\n",
    "# 1.276553106212425 0.7555110220440882\n",
    "# 1.3016032064128256 0.9859719438877755\n",
    "# 1.3366733466933867 1.376753507014028\n"
   ]
  },
  {
   "cell_type": "code",
   "execution_count": null,
   "metadata": {},
   "outputs": [],
   "source": [
    "# -------------------- Create Figure  -------------------- #\n",
    "seedrange = np.arange(4400,4407, 1)\n",
    "\n",
    "fig, (ax1, ax2, ax3) = plt.subplots(1,3,figsize=(9, 3), dpi=200, frameon=True)\n",
    "color = iter( cm.rainbow( np.linspace(0,1,len(seedrange)) ) )\n",
    "for i in seedrange:  \n",
    "    c = next( color )\n",
    "    eta = plotD_plotSizes_rescaled(i, c)\n",
    "\n",
    "\n",
    "# -- Decoration --\n",
    "ax1.set_ylabel(r'$N_s(s,L)$',fontweight='bold'); ax1.set_xlabel('size, $s$',fontweight='bold')\n",
    "ax2.set_ylabel(r'$N_d(d,L)$',fontweight='bold'); ax2.set_xlabel('duration, $d$',fontweight='bold')\n",
    "ax3.set_ylabel(r'$N_a(a,L)$',fontweight='bold'); ax3.set_xlabel('size, $a$',fontweight='bold')\n",
    "ax1.legend(loc=3, fontsize=8)\n",
    "ax2.legend(loc=3, fontsize=8)\n",
    "ax3.legend(loc=3, fontsize=8)\n",
    "fig.suptitle(\"MM - OBC, $L = 256, h_c = 4$\")\n"
   ]
  },
  {
   "cell_type": "code",
   "execution_count": null,
   "metadata": {},
   "outputs": [],
   "source": []
  },
  {
   "cell_type": "markdown",
   "metadata": {
    "heading_collapsed": true
   },
   "source": [
    "#### Searching for better exponents? "
   ]
  },
  {
   "cell_type": "code",
   "execution_count": null,
   "metadata": {
    "hidden": true
   },
   "outputs": [],
   "source": [
    "# -------------------- Fitting to FSS  -------------------- #\n",
    "def plotFSS_1(seed, c, tau, d, filetype):\n",
    "    \"\"\" seed - seed of run to plot\n",
    "        c - color of the line being plotted\n",
    "        tau, d - exponents for rescaling\n",
    "        filetype - which quantity to plot / file to draw from\n",
    "    \"\"\"    \n",
    "    x,y,params = plotSizes(seed, filetype);  #x = np.log10(x); y = np.log10(y)\n",
    "    lambd = float(params[2])\n",
    "    ax1.plot(x * lambd**(1/sigma), y * lambd**(-tau/sigma), \n",
    "             '.-', color=c, label = \"L=\"+str(params[1]))\n",
    "             \n",
    "             \n",
    "def diff_1(tau, d,  x1,y1,params1,  x2,y2,params2,  filetype, plotYes):\n",
    "    \"\"\" Computes the difference w/ rescaled axis of two given runs with a given exponent set. Seed1/2 are the seeds of our desired runs.\"\"\"\n",
    "    \n",
    "    x1_r = np.log10(x1 * float(params1[2])**(1/d)) \n",
    "    y1_r = np.log10(y1 * float(params1[2])**(-tau/d))\n",
    "\n",
    "    x2_r = np.log10(x2 * float(params2[2])**(1/d)) \n",
    "    y2_r = np.log10(y2 * float(params2[2])**(-tau/d))\n",
    "    \n",
    "    if plotYes==True:\n",
    "        plotPolyFit(x1_r, y1_r, x2_r, y2_r)\n",
    "\n",
    "    Xstart = max(x1_r[0], x2_r[0])\n",
    "    Xend = min(x1_r[-1], x2_r[-1])\n",
    "#     with warnings.catch_warnings():\n",
    "#         warnings.simplefilter('ignore', np.RankWarning)\n",
    "    z1 = np.polyfit(x1_r, y1_r, 10)\n",
    "    z2 = np.polyfit(x2_r, y2_r, 10)\n",
    "    p1 = np.poly1d(z1)\n",
    "    p2 = np.poly1d(z2)\n",
    "    xp = np.linspace(Xstart,Xend, 100)\n",
    "\n",
    "    return np.sqrt( np.sum( (p2(xp) - p1(xp))**2 ) )\n",
    "\n",
    "\n",
    "def plotPolyFit(x1_r, y1_r, x2_r, y2_r):\n",
    "\n",
    "    Xstart = max(x1_r[0], x2_r[0])\n",
    "    Xend = min(x1_r[-1], x2_r[-1])\n",
    "\n",
    "    z1 = np.polyfit(x1_r, y1_r, 10)\n",
    "    z2 = np.polyfit(x2_r, y2_r, 10)\n",
    "    p1 = np.poly1d(z1)\n",
    "    p2 = np.poly1d(z2)\n",
    "    xp = np.linspace(Xstart,Xend, 100)\n",
    "\n",
    "    fig1, ax1 = plt.subplots(1,1,figsize=(4, 3.5), dpi=120,frameon=False)\n",
    "    ax1.plot(x1_r, y1_r, 'r-')\n",
    "    ax1.plot(xp, p1(xp), 'r--')\n",
    "    ax1.plot(x2_r, y2_r, 'b-')\n",
    "    ax1.plot(xp, p2(xp), 'b--')\n",
    "    fig.show()\n",
    "\n",
    "    \n",
    "def diffoverRange(tauRange, dRange, seed1, seed2, filetype, plotYes):\n",
    "    x1,y1,params1 = plotSizes(seed1, filetype)\n",
    "    x2,y2,params2 = plotSizes(seed2, filetype)\n",
    "    \n",
    "    Z = np.zeros((len(tauRange), len(dRange)))\n",
    "    for xxx in range(len(tauRange)):\n",
    "        for yyy in range(len(dRange)):\n",
    "            Z[xxx, yyy] = diff_1(tauRange[xxx], dRange[yyy],  x1,y1,params1,  x2,y2,params2,  filetype, plotYes)\n",
    "    return Z\n",
    "\n",
    "def find_min_idx(x):\n",
    "    k = x.argmin()\n",
    "    ncol = x.shape[1]\n",
    "    return k//ncol, k%ncol"
   ]
  },
  {
   "cell_type": "code",
   "execution_count": null,
   "metadata": {
    "hidden": true
   },
   "outputs": [],
   "source": [
    "tauRange = np.linspace(0.5, 3, 500)\n",
    "sigmaRange = np.linspace(0.5, 3, 500)\n",
    "\n",
    "Zs = diffoverRange(tauRange, sigmaRange, 4402, 4404, 's', plotYes=False)\n",
    "Za = diffoverRange(tauRange, sigmaRange, 4402, 4404, 'a', plotYes=False)\n",
    "Zd = diffoverRange(tauRange, sigmaRange, 4402, 4404, 'd', plotYes=False)\n",
    "# print(Z)"
   ]
  },
  {
   "cell_type": "code",
   "execution_count": null,
   "metadata": {
    "hidden": true
   },
   "outputs": [],
   "source": [
    "\n",
    "Z = Zs #==============================================\n",
    "tauBest=tauRange[find_min_idx(Z)[0]]\n",
    "sigmaBest=sigmaRange[find_min_idx(Z)[1]]\n",
    "print(tauBest, sigmaBest)\n",
    "\n",
    "fig = plt.figure(figsize=(6,4), dpi=120, frameon=True)\n",
    "ax = plt.axes()\n",
    "heatmap = ax.contourf(sigmaRange, tauRange, Z, 50, cmap='viridis')\n",
    "ax.plot(sigmaBest, tauBest, color='red', marker='o')\n",
    "\n",
    "ax.set_ylabel(r'$\\tau_s$')\n",
    "ax.set_xlabel(r'$\\sigma_s$')\n",
    "fig.colorbar(heatmap)\n",
    "ax.set_title('Manna; size $s$', fontweight='bold')\n",
    "fig.tight_layout()\n",
    "\n",
    "Z = Za #==============================================\n",
    "tauBest=tauRange[find_min_idx(Z)[0]]\n",
    "sigmaBest=sigmaRange[find_min_idx(Z)[1]]\n",
    "print(tauBest, sigmaBest)\n",
    "\n",
    "fig = plt.figure(figsize=(6,4), dpi=120, frameon=True)\n",
    "ax = plt.axes()\n",
    "heatmap = ax.contourf(sigmaRange, tauRange, Z, 50, cmap='viridis')\n",
    "ax.plot(sigmaBest, tauBest, color='red', marker='o')\n",
    "\n",
    "ax.set_ylabel(r'$\\tau_s$')\n",
    "ax.set_xlabel(r'$\\sigma_s$')\n",
    "fig.colorbar(heatmap)\n",
    "ax.set_title('Manna; size $a$', fontweight='bold')\n",
    "fig.tight_layout()\n",
    "\n",
    "\n",
    "Z = Zd #==============================================\n",
    "tauBest=tauRange[find_min_idx(Z)[0]]\n",
    "sigmaBest=sigmaRange[find_min_idx(Z)[1]]\n",
    "print(tauBest, sigmaBest)\n",
    "\n",
    "fig = plt.figure(figsize=(6,4), dpi=120, frameon=True)\n",
    "ax = plt.axes()\n",
    "heatmap = ax.contourf(sigmaRange, tauRange, Z, 50, cmap='viridis')\n",
    "ax.plot(sigmaBest, tauBest, color='red', marker='o')\n",
    "\n",
    "ax.set_ylabel(r'$\\tau_s$')\n",
    "ax.set_xlabel(r'$\\sigma_s$')\n",
    "fig.colorbar(heatmap)\n",
    "ax.set_title('Manna; duration $D$', fontweight='bold')\n",
    "fig.tight_layout()\n",
    "\n"
   ]
  },
  {
   "cell_type": "code",
   "execution_count": null,
   "metadata": {
    "hidden": true
   },
   "outputs": [],
   "source": [
    "x1,y1,params1 = plotSizes(4302, 's')\n",
    "x2,y2,params2 = plotSizes(4305, 's')\n",
    "tau = 1.2881763527054109\n",
    "sigma = 0.7775551102204409\n",
    "# 1.2881763527054109 0.7775551102204409\n",
    "# tau = 1.325; sigma = 1.104026845637584\n",
    "\n",
    "diff_1(tau, sigma,  x1,y1,params1,  x2,y2,params2,  's', True)"
   ]
  },
  {
   "cell_type": "markdown",
   "metadata": {},
   "source": [
    "### Height 5: MM_5\n"
   ]
  },
  {
   "cell_type": "markdown",
   "metadata": {},
   "source": [
    "#### Scaling Plots"
   ]
  },
  {
   "cell_type": "code",
   "execution_count": null,
   "metadata": {},
   "outputs": [],
   "source": [
    "def plotD_plotSizes(seed, c):\n",
    "    \n",
    "    ## Sizes w/ double counting\n",
    "    x,y,params = plotSizes(seed, filetype='s');  x = np.log10(x); y = np.log10(y)\n",
    "    ax1.plot(x, y, '.-', color=c, label = r\"$\\lambda=$\"+str(round(params[2],6)))\n",
    "    \n",
    "    ## Sizes w/o double counting\n",
    "    x,y,params = plotSizes(seed, filetype='a');  x = np.log10(x); y = np.log10(y)\n",
    "    ax3.plot(x, y, '.-', color=c, label = r\"$\\lambda=$\"+str(round(params[2],6)))\n",
    "    \n",
    "    ## Durations\n",
    "    x,y,params = plotSizes(seed, filetype='d');  x = np.log10(x); y = np.log10(y)\n",
    "    ax2.plot(x, y, '.-', color=c,label = r\"$\\lambda=$\"+str(round(params[2],6)))\n",
    "    \n",
    "    return params[3], params[2]"
   ]
  },
  {
   "cell_type": "code",
   "execution_count": null,
   "metadata": {
    "scrolled": true
   },
   "outputs": [],
   "source": [
    "# -------------------- Create Figure  -------------------- #\n",
    "seedrange = np.arange(4500,4507, 1)\n",
    "\n",
    "fig, (ax1, ax2, ax3) = plt.subplots(1,3,figsize=(9, 3), dpi=200, frameon=True)\n",
    "color = iter( cm.rainbow( np.linspace(0,1,len(seedrange)) ) )\n",
    "for i in seedrange:  \n",
    "    c = next( color )\n",
    "    eta, lamb = plotD_plotSizes(i, c)\n",
    "\n",
    "# -- Decoration --\n",
    "ax1.set_ylabel(r'$\\log N_s(s,L)$',fontweight='bold'); ax1.set_xlabel('size, $\\log s$',fontweight='bold')\n",
    "ax2.set_ylabel(r'$\\log N_d(d,L)$',fontweight='bold'); ax2.set_xlabel('duration, $\\log d$',fontweight='bold')\n",
    "ax3.set_ylabel(r'$\\log N_a(a,L)$',fontweight='bold'); ax3.set_xlabel('size, $\\log a$',fontweight='bold')\n",
    "ax1.legend(loc=3, fontsize=6)\n",
    "ax2.legend(loc=3, fontsize=6)\n",
    "ax3.legend(loc=3, fontsize=6)\n"
   ]
  },
  {
   "cell_type": "markdown",
   "metadata": {},
   "source": [
    "#### Data Collapse "
   ]
  },
  {
   "cell_type": "code",
   "execution_count": null,
   "metadata": {},
   "outputs": [],
   "source": [
    "\n",
    "# 1.211847389558233 2.7751004016064256\n",
    "# 1.1716867469879517 2.0281124497991967\n",
    "# 1.2720883534136547 1.5783132530120483\n",
    "\n",
    "def plotD_plotSizes_rescaled(seed, c):\n",
    "    \n",
    "    ## Sizes w/ double counting\n",
    "    x,y,params = plotSizes(seed, filetype='s');\n",
    "    lambd = params[2];\n",
    "#     tau = 1.223; sigma = 1.19143    # AM critical exponents \n",
    "    tau = 1.276553106212425        # MM_3 critical exponents \n",
    "    sigma = 0.7555110220440882\n",
    "    \n",
    "    x_r = x * lambd**(1/sigma)\n",
    "    y_r = y * lambd**(-tau/sigma)\n",
    "    ax1.plot(np.log10(x_r), np.log10(y_r) , '.-', color=c, label = r\"$\\lambda=$\"+str(round(lambd,6)))\n",
    "    \n",
    "    \n",
    "    ## Sizes w/o double counting\n",
    "    x,y,params = plotSizes(seed, filetype='a');  \n",
    "    lambd = params[2];\n",
    "#     tau = 1.179; sigma = 1.0982    # AM critical exponents \n",
    "    tau = 1.3066132264529058        # MM_3 critical exponents \n",
    "    sigma = 0.9809619238476954\n",
    "    \n",
    "    x_r = x * lambd**(1/sigma)\n",
    "    y_r = y * lambd**(-tau/sigma)\n",
    "    ax2.plot(np.log10(x_r), np.log10(y_r) , '.-', color=c, label = r\"$\\lambda=$\"+str(round(lambd,6)))\n",
    "    \n",
    "    \n",
    "    ## Durations\n",
    "    x,y,params = plotSizes(seed, filetype='d');  \n",
    "    lambd = params[2];\n",
    "#     tau = 1.281; sigma = 1.595    # AM critical exponents \n",
    "    tau = 1.3316633266533064        # MM_3 critical exponents \n",
    "    sigma = 1.346693386773547\n",
    "    \n",
    "    x_r = x * lambd**(1/sigma)\n",
    "    y_r = y * lambd**(-tau/sigma)\n",
    "    ax3.plot(np.log10(x_r), np.log10(y_r) , '.-', color=c, label = r\"$\\lambda=$\"+str(round(lambd,6)))\n",
    "    return params[3]\n",
    "\n",
    "# 1.276553106212425 0.7555110220440882\n",
    "# 1.3066132264529058 0.9809619238476954\n",
    "# 1.3316633266533064 1.346693386773547\n"
   ]
  },
  {
   "cell_type": "code",
   "execution_count": null,
   "metadata": {},
   "outputs": [],
   "source": [
    "# -------------------- Create Figure  -------------------- #\n",
    "seedrange = np.arange(4500,4507, 1)\n",
    "\n",
    "fig, (ax1, ax2, ax3) = plt.subplots(1,3,figsize=(9, 3), dpi=200, frameon=True)\n",
    "color = iter( cm.rainbow( np.linspace(0,1,len(seedrange)) ) )\n",
    "for i in seedrange:  \n",
    "    c = next( color )\n",
    "    eta = plotD_plotSizes_rescaled(i, c)\n",
    "\n",
    "\n",
    "# -- Decoration --\n",
    "ax1.set_ylabel(r'$N_s(s,L)$',fontweight='bold'); ax1.set_xlabel('size, $s$',fontweight='bold')\n",
    "ax2.set_ylabel(r'$N_d(d,L)$',fontweight='bold'); ax2.set_xlabel('duration, $d$',fontweight='bold')\n",
    "ax3.set_ylabel(r'$N_a(a,L)$',fontweight='bold'); ax3.set_xlabel('size, $a$',fontweight='bold')\n",
    "ax1.legend(loc=3, fontsize=8)\n",
    "ax2.legend(loc=3, fontsize=8)\n",
    "ax3.legend(loc=3, fontsize=8)\n",
    "fig.suptitle(\"MM - OBC, $L = 256, h_c = 5$\")\n"
   ]
  },
  {
   "cell_type": "code",
   "execution_count": null,
   "metadata": {},
   "outputs": [],
   "source": []
  },
  {
   "cell_type": "markdown",
   "metadata": {
    "heading_collapsed": true
   },
   "source": [
    "#### Searching for better exponents? "
   ]
  },
  {
   "cell_type": "code",
   "execution_count": null,
   "metadata": {
    "hidden": true
   },
   "outputs": [],
   "source": [
    "# -------------------- Fitting to FSS  -------------------- #\n",
    "def plotFSS_1(seed, c, tau, d, filetype):\n",
    "    \"\"\" seed - seed of run to plot\n",
    "        c - color of the line being plotted\n",
    "        tau, d - exponents for rescaling\n",
    "        filetype - which quantity to plot / file to draw from\n",
    "    \"\"\"    \n",
    "    x,y,params = plotSizes(seed, filetype);  #x = np.log10(x); y = np.log10(y)\n",
    "    lambd = float(params[2])\n",
    "    ax1.plot(x * lambd**(1/sigma), y * lambd**(-tau/sigma), \n",
    "             '.-', color=c, label = \"L=\"+str(params[1]))\n",
    "             \n",
    "             \n",
    "def diff_1(tau, d,  x1,y1,params1,  x2,y2,params2,  filetype, plotYes):\n",
    "    \"\"\" Computes the difference w/ rescaled axis of two given runs with a given exponent set. Seed1/2 are the seeds of our desired runs.\"\"\"\n",
    "    \n",
    "    x1_r = np.log10(x1 * float(params1[2])**(1/d)) \n",
    "    y1_r = np.log10(y1 * float(params1[2])**(-tau/d))\n",
    "\n",
    "    x2_r = np.log10(x2 * float(params2[2])**(1/d)) \n",
    "    y2_r = np.log10(y2 * float(params2[2])**(-tau/d))\n",
    "    \n",
    "    if plotYes==True:\n",
    "        plotPolyFit(x1_r, y1_r, x2_r, y2_r)\n",
    "\n",
    "    Xstart = max(x1_r[0], x2_r[0])\n",
    "    Xend = min(x1_r[-1], x2_r[-1])\n",
    "#     with warnings.catch_warnings():\n",
    "#         warnings.simplefilter('ignore', np.RankWarning)\n",
    "    z1 = np.polyfit(x1_r, y1_r, 10)\n",
    "    z2 = np.polyfit(x2_r, y2_r, 10)\n",
    "    p1 = np.poly1d(z1)\n",
    "    p2 = np.poly1d(z2)\n",
    "    xp = np.linspace(Xstart,Xend, 100)\n",
    "\n",
    "    return np.sqrt( np.sum( (p2(xp) - p1(xp))**2 ) )\n",
    "\n",
    "\n",
    "def plotPolyFit(x1_r, y1_r, x2_r, y2_r):\n",
    "\n",
    "    Xstart = max(x1_r[0], x2_r[0])\n",
    "    Xend = min(x1_r[-1], x2_r[-1])\n",
    "\n",
    "    z1 = np.polyfit(x1_r, y1_r, 10)\n",
    "    z2 = np.polyfit(x2_r, y2_r, 10)\n",
    "    p1 = np.poly1d(z1)\n",
    "    p2 = np.poly1d(z2)\n",
    "    xp = np.linspace(Xstart,Xend, 100)\n",
    "\n",
    "    fig1, ax1 = plt.subplots(1,1,figsize=(4, 3.5), dpi=120,frameon=False)\n",
    "    ax1.plot(x1_r, y1_r, 'r-')\n",
    "    ax1.plot(xp, p1(xp), 'r--')\n",
    "    ax1.plot(x2_r, y2_r, 'b-')\n",
    "    ax1.plot(xp, p2(xp), 'b--')\n",
    "    fig.show()\n",
    "\n",
    "    \n",
    "def diffoverRange(tauRange, dRange, seed1, seed2, filetype, plotYes):\n",
    "    x1,y1,params1 = plotSizes(seed1, filetype)\n",
    "    x2,y2,params2 = plotSizes(seed2, filetype)\n",
    "    \n",
    "    Z = np.zeros((len(tauRange), len(dRange)))\n",
    "    for xxx in range(len(tauRange)):\n",
    "        for yyy in range(len(dRange)):\n",
    "            Z[xxx, yyy] = diff_1(tauRange[xxx], dRange[yyy],  x1,y1,params1,  x2,y2,params2,  filetype, plotYes)\n",
    "    return Z\n",
    "\n",
    "def find_min_idx(x):\n",
    "    k = x.argmin()\n",
    "    ncol = x.shape[1]\n",
    "    return k//ncol, k%ncol"
   ]
  },
  {
   "cell_type": "code",
   "execution_count": null,
   "metadata": {
    "hidden": true
   },
   "outputs": [],
   "source": [
    "tauRange = np.linspace(0.5, 3, 500)\n",
    "sigmaRange = np.linspace(0.5, 3, 500)\n",
    "\n",
    "Zs = diffoverRange(tauRange, sigmaRange, 4502, 4504, 's', plotYes=False)\n",
    "Za = diffoverRange(tauRange, sigmaRange, 4502, 4504, 'a', plotYes=False)\n",
    "Zd = diffoverRange(tauRange, sigmaRange, 4502, 4504, 'd', plotYes=False)\n",
    "# print(Z)"
   ]
  },
  {
   "cell_type": "code",
   "execution_count": null,
   "metadata": {
    "hidden": true
   },
   "outputs": [],
   "source": [
    "\n",
    "Z = Zs #==============================================\n",
    "tauBest=tauRange[find_min_idx(Z)[0]]\n",
    "sigmaBest=sigmaRange[find_min_idx(Z)[1]]\n",
    "print(tauBest, sigmaBest)\n",
    "\n",
    "fig = plt.figure(figsize=(6,4), dpi=120, frameon=True)\n",
    "ax = plt.axes()\n",
    "heatmap = ax.contourf(sigmaRange, tauRange, Z, 50, cmap='viridis')\n",
    "ax.plot(sigmaBest, tauBest, color='red', marker='o')\n",
    "\n",
    "ax.set_ylabel(r'$\\tau_s$')\n",
    "ax.set_xlabel(r'$\\sigma_s$')\n",
    "fig.colorbar(heatmap)\n",
    "ax.set_title('Manna; size $s$', fontweight='bold')\n",
    "fig.tight_layout()\n",
    "\n",
    "Z = Za #==============================================\n",
    "tauBest=tauRange[find_min_idx(Z)[0]]\n",
    "sigmaBest=sigmaRange[find_min_idx(Z)[1]]\n",
    "print(tauBest, sigmaBest)\n",
    "\n",
    "fig = plt.figure(figsize=(6,4), dpi=120, frameon=True)\n",
    "ax = plt.axes()\n",
    "heatmap = ax.contourf(sigmaRange, tauRange, Z, 50, cmap='viridis')\n",
    "ax.plot(sigmaBest, tauBest, color='red', marker='o')\n",
    "\n",
    "ax.set_ylabel(r'$\\tau_s$')\n",
    "ax.set_xlabel(r'$\\sigma_s$')\n",
    "fig.colorbar(heatmap)\n",
    "ax.set_title('Manna; size $a$', fontweight='bold')\n",
    "fig.tight_layout()\n",
    "\n",
    "\n",
    "Z = Zd #==============================================\n",
    "tauBest=tauRange[find_min_idx(Z)[0]]\n",
    "sigmaBest=sigmaRange[find_min_idx(Z)[1]]\n",
    "print(tauBest, sigmaBest)\n",
    "\n",
    "fig = plt.figure(figsize=(6,4), dpi=120, frameon=True)\n",
    "ax = plt.axes()\n",
    "heatmap = ax.contourf(sigmaRange, tauRange, Z, 50, cmap='viridis')\n",
    "ax.plot(sigmaBest, tauBest, color='red', marker='o')\n",
    "\n",
    "ax.set_ylabel(r'$\\tau_s$')\n",
    "ax.set_xlabel(r'$\\sigma_s$')\n",
    "fig.colorbar(heatmap)\n",
    "ax.set_title('Manna; duration $D$', fontweight='bold')\n",
    "fig.tight_layout()\n",
    "\n"
   ]
  },
  {
   "cell_type": "code",
   "execution_count": null,
   "metadata": {
    "hidden": true
   },
   "outputs": [],
   "source": [
    "x1,y1,params1 = plotSizes(4302, 's')\n",
    "x2,y2,params2 = plotSizes(4305, 's')\n",
    "tau = 1.2881763527054109\n",
    "sigma = 0.7775551102204409\n",
    "# 1.2881763527054109 0.7775551102204409\n",
    "# tau = 1.325; sigma = 1.104026845637584\n",
    "\n",
    "diff_1(tau, sigma,  x1,y1,params1,  x2,y2,params2,  's', True)"
   ]
  },
  {
   "cell_type": "markdown",
   "metadata": {},
   "source": [
    "### Critical exponent dependence on height"
   ]
  },
  {
   "cell_type": "code",
   "execution_count": 5,
   "metadata": {},
   "outputs": [
    {
     "data": {
      "text/plain": [
       "Text(0.5, 0.98, 'MM-OBC, $L=256$')"
      ]
     },
     "execution_count": 5,
     "metadata": {},
     "output_type": "execute_result"
    },
    {
     "name": "stdout",
     "output_type": "stream",
     "text": [
      "Error in callback <function install_repl_displayhook.<locals>.post_execute at 0x11ad69a60> (for post_execute):\n"
     ]
    },
    {
     "ename": "FileNotFoundError",
     "evalue": "[Errno 2] No such file or directory: '/private/var/mobile/Containers/Data/Application/9A169011-B343-40EA-A6A7-9B289CFA29B1/tmp/matplotlib-9kc1lwm3/tex.cache/857b03f78dcf2e48225de4b236393502.dvi'",
     "output_type": "error",
     "traceback": [
      "\u001b[0;31m---------------------------------------------------------------------------\u001b[0m",
      "\u001b[0;31mFileNotFoundError\u001b[0m                         Traceback (most recent call last)",
      "\u001b[0;32m/var/mobile/Containers/Data/Application/9A169011-B343-40EA-A6A7-9B289CFA29B1/Library/Application Support/com.rationalmatter.junoapp/python-home/lib/python3.6/site-packages/matplotlib/pyplot.py\u001b[0m in \u001b[0;36mpost_execute\u001b[0;34m()\u001b[0m\n\u001b[1;32m    107\u001b[0m             \u001b[0;32mdef\u001b[0m \u001b[0mpost_execute\u001b[0m\u001b[0;34m(\u001b[0m\u001b[0;34m)\u001b[0m\u001b[0;34m:\u001b[0m\u001b[0;34m\u001b[0m\u001b[0m\n\u001b[1;32m    108\u001b[0m                 \u001b[0;32mif\u001b[0m \u001b[0mmatplotlib\u001b[0m\u001b[0;34m.\u001b[0m\u001b[0mis_interactive\u001b[0m\u001b[0;34m(\u001b[0m\u001b[0;34m)\u001b[0m\u001b[0;34m:\u001b[0m\u001b[0;34m\u001b[0m\u001b[0m\n\u001b[0;32m--> 109\u001b[0;31m                     \u001b[0mdraw_all\u001b[0m\u001b[0;34m(\u001b[0m\u001b[0;34m)\u001b[0m\u001b[0;34m\u001b[0m\u001b[0m\n\u001b[0m\u001b[1;32m    110\u001b[0m \u001b[0;34m\u001b[0m\u001b[0m\n\u001b[1;32m    111\u001b[0m             \u001b[0;31m# IPython >= 2\u001b[0m\u001b[0;34m\u001b[0m\u001b[0;34m\u001b[0m\u001b[0m\n",
      "\u001b[0;32m/var/mobile/Containers/Data/Application/9A169011-B343-40EA-A6A7-9B289CFA29B1/Library/Application Support/com.rationalmatter.junoapp/python-home/lib/python3.6/site-packages/matplotlib/_pylab_helpers.py\u001b[0m in \u001b[0;36mdraw_all\u001b[0;34m(cls, force)\u001b[0m\n\u001b[1;32m    126\u001b[0m         \u001b[0;32mfor\u001b[0m \u001b[0mf_mgr\u001b[0m \u001b[0;32min\u001b[0m \u001b[0mcls\u001b[0m\u001b[0;34m.\u001b[0m\u001b[0mget_all_fig_managers\u001b[0m\u001b[0;34m(\u001b[0m\u001b[0;34m)\u001b[0m\u001b[0;34m:\u001b[0m\u001b[0;34m\u001b[0m\u001b[0m\n\u001b[1;32m    127\u001b[0m             \u001b[0;32mif\u001b[0m \u001b[0mforce\u001b[0m \u001b[0;32mor\u001b[0m \u001b[0mf_mgr\u001b[0m\u001b[0;34m.\u001b[0m\u001b[0mcanvas\u001b[0m\u001b[0;34m.\u001b[0m\u001b[0mfigure\u001b[0m\u001b[0;34m.\u001b[0m\u001b[0mstale\u001b[0m\u001b[0;34m:\u001b[0m\u001b[0;34m\u001b[0m\u001b[0m\n\u001b[0;32m--> 128\u001b[0;31m                 \u001b[0mf_mgr\u001b[0m\u001b[0;34m.\u001b[0m\u001b[0mcanvas\u001b[0m\u001b[0;34m.\u001b[0m\u001b[0mdraw_idle\u001b[0m\u001b[0;34m(\u001b[0m\u001b[0;34m)\u001b[0m\u001b[0;34m\u001b[0m\u001b[0m\n\u001b[0m\u001b[1;32m    129\u001b[0m \u001b[0;34m\u001b[0m\u001b[0m\n\u001b[1;32m    130\u001b[0m \u001b[0matexit\u001b[0m\u001b[0;34m.\u001b[0m\u001b[0mregister\u001b[0m\u001b[0;34m(\u001b[0m\u001b[0mGcf\u001b[0m\u001b[0;34m.\u001b[0m\u001b[0mdestroy_all\u001b[0m\u001b[0;34m)\u001b[0m\u001b[0;34m\u001b[0m\u001b[0m\n",
      "\u001b[0;32m/var/mobile/Containers/Data/Application/9A169011-B343-40EA-A6A7-9B289CFA29B1/Library/Application Support/com.rationalmatter.junoapp/python-home/lib/python3.6/site-packages/matplotlib/backend_bases.py\u001b[0m in \u001b[0;36mdraw_idle\u001b[0;34m(self, *args, **kwargs)\u001b[0m\n\u001b[1;32m   1905\u001b[0m         \u001b[0;32mif\u001b[0m \u001b[0;32mnot\u001b[0m \u001b[0mself\u001b[0m\u001b[0;34m.\u001b[0m\u001b[0m_is_idle_drawing\u001b[0m\u001b[0;34m:\u001b[0m\u001b[0;34m\u001b[0m\u001b[0m\n\u001b[1;32m   1906\u001b[0m             \u001b[0;32mwith\u001b[0m \u001b[0mself\u001b[0m\u001b[0;34m.\u001b[0m\u001b[0m_idle_draw_cntx\u001b[0m\u001b[0;34m(\u001b[0m\u001b[0;34m)\u001b[0m\u001b[0;34m:\u001b[0m\u001b[0;34m\u001b[0m\u001b[0m\n\u001b[0;32m-> 1907\u001b[0;31m                 \u001b[0mself\u001b[0m\u001b[0;34m.\u001b[0m\u001b[0mdraw\u001b[0m\u001b[0;34m(\u001b[0m\u001b[0;34m*\u001b[0m\u001b[0margs\u001b[0m\u001b[0;34m,\u001b[0m \u001b[0;34m**\u001b[0m\u001b[0mkwargs\u001b[0m\u001b[0;34m)\u001b[0m\u001b[0;34m\u001b[0m\u001b[0m\n\u001b[0m\u001b[1;32m   1908\u001b[0m \u001b[0;34m\u001b[0m\u001b[0m\n\u001b[1;32m   1909\u001b[0m     \u001b[0;32mdef\u001b[0m \u001b[0mdraw_cursor\u001b[0m\u001b[0;34m(\u001b[0m\u001b[0mself\u001b[0m\u001b[0;34m,\u001b[0m \u001b[0mevent\u001b[0m\u001b[0;34m)\u001b[0m\u001b[0;34m:\u001b[0m\u001b[0;34m\u001b[0m\u001b[0m\n",
      "\u001b[0;32m/var/mobile/Containers/Data/Application/9A169011-B343-40EA-A6A7-9B289CFA29B1/Library/Application Support/com.rationalmatter.junoapp/python-home/lib/python3.6/site-packages/matplotlib/backends/backend_agg.py\u001b[0m in \u001b[0;36mdraw\u001b[0;34m(self)\u001b[0m\n\u001b[1;32m    386\u001b[0m         \u001b[0mself\u001b[0m\u001b[0;34m.\u001b[0m\u001b[0mrenderer\u001b[0m \u001b[0;34m=\u001b[0m \u001b[0mself\u001b[0m\u001b[0;34m.\u001b[0m\u001b[0mget_renderer\u001b[0m\u001b[0;34m(\u001b[0m\u001b[0mcleared\u001b[0m\u001b[0;34m=\u001b[0m\u001b[0;32mTrue\u001b[0m\u001b[0;34m)\u001b[0m\u001b[0;34m\u001b[0m\u001b[0m\n\u001b[1;32m    387\u001b[0m         \u001b[0;32mwith\u001b[0m \u001b[0mRendererAgg\u001b[0m\u001b[0;34m.\u001b[0m\u001b[0mlock\u001b[0m\u001b[0;34m:\u001b[0m\u001b[0;34m\u001b[0m\u001b[0m\n\u001b[0;32m--> 388\u001b[0;31m             \u001b[0mself\u001b[0m\u001b[0;34m.\u001b[0m\u001b[0mfigure\u001b[0m\u001b[0;34m.\u001b[0m\u001b[0mdraw\u001b[0m\u001b[0;34m(\u001b[0m\u001b[0mself\u001b[0m\u001b[0;34m.\u001b[0m\u001b[0mrenderer\u001b[0m\u001b[0;34m)\u001b[0m\u001b[0;34m\u001b[0m\u001b[0m\n\u001b[0m\u001b[1;32m    389\u001b[0m             \u001b[0;31m# A GUI class may be need to update a window using this draw, so\u001b[0m\u001b[0;34m\u001b[0m\u001b[0;34m\u001b[0m\u001b[0m\n\u001b[1;32m    390\u001b[0m             \u001b[0;31m# don't forget to call the superclass.\u001b[0m\u001b[0;34m\u001b[0m\u001b[0;34m\u001b[0m\u001b[0m\n",
      "\u001b[0;32m/var/mobile/Containers/Data/Application/9A169011-B343-40EA-A6A7-9B289CFA29B1/Library/Application Support/com.rationalmatter.junoapp/python-home/lib/python3.6/site-packages/matplotlib/artist.py\u001b[0m in \u001b[0;36mdraw_wrapper\u001b[0;34m(artist, renderer, *args, **kwargs)\u001b[0m\n\u001b[1;32m     36\u001b[0m                 \u001b[0mrenderer\u001b[0m\u001b[0;34m.\u001b[0m\u001b[0mstart_filter\u001b[0m\u001b[0;34m(\u001b[0m\u001b[0;34m)\u001b[0m\u001b[0;34m\u001b[0m\u001b[0m\n\u001b[1;32m     37\u001b[0m \u001b[0;34m\u001b[0m\u001b[0m\n\u001b[0;32m---> 38\u001b[0;31m             \u001b[0;32mreturn\u001b[0m \u001b[0mdraw\u001b[0m\u001b[0;34m(\u001b[0m\u001b[0martist\u001b[0m\u001b[0;34m,\u001b[0m \u001b[0mrenderer\u001b[0m\u001b[0;34m,\u001b[0m \u001b[0;34m*\u001b[0m\u001b[0margs\u001b[0m\u001b[0;34m,\u001b[0m \u001b[0;34m**\u001b[0m\u001b[0mkwargs\u001b[0m\u001b[0;34m)\u001b[0m\u001b[0;34m\u001b[0m\u001b[0m\n\u001b[0m\u001b[1;32m     39\u001b[0m         \u001b[0;32mfinally\u001b[0m\u001b[0;34m:\u001b[0m\u001b[0;34m\u001b[0m\u001b[0m\n\u001b[1;32m     40\u001b[0m             \u001b[0;32mif\u001b[0m \u001b[0martist\u001b[0m\u001b[0;34m.\u001b[0m\u001b[0mget_agg_filter\u001b[0m\u001b[0;34m(\u001b[0m\u001b[0;34m)\u001b[0m \u001b[0;32mis\u001b[0m \u001b[0;32mnot\u001b[0m \u001b[0;32mNone\u001b[0m\u001b[0;34m:\u001b[0m\u001b[0;34m\u001b[0m\u001b[0m\n",
      "\u001b[0;32m/var/mobile/Containers/Data/Application/9A169011-B343-40EA-A6A7-9B289CFA29B1/Library/Application Support/com.rationalmatter.junoapp/python-home/lib/python3.6/site-packages/matplotlib/figure.py\u001b[0m in \u001b[0;36mdraw\u001b[0;34m(self, renderer)\u001b[0m\n\u001b[1;32m   1700\u001b[0m                 \u001b[0;32mtry\u001b[0m\u001b[0;34m:\u001b[0m\u001b[0;34m\u001b[0m\u001b[0m\n\u001b[1;32m   1701\u001b[0m                     self.tight_layout(renderer,\n\u001b[0;32m-> 1702\u001b[0;31m                                       **self._tight_parameters)\n\u001b[0m\u001b[1;32m   1703\u001b[0m                 \u001b[0;32mexcept\u001b[0m \u001b[0mValueError\u001b[0m\u001b[0;34m:\u001b[0m\u001b[0;34m\u001b[0m\u001b[0m\n\u001b[1;32m   1704\u001b[0m                     \u001b[0;32mpass\u001b[0m\u001b[0;34m\u001b[0m\u001b[0m\n",
      "\u001b[0;32m/var/mobile/Containers/Data/Application/9A169011-B343-40EA-A6A7-9B289CFA29B1/Library/Application Support/com.rationalmatter.junoapp/python-home/lib/python3.6/site-packages/matplotlib/figure.py\u001b[0m in \u001b[0;36mtight_layout\u001b[0;34m(self, renderer, pad, h_pad, w_pad, rect)\u001b[0m\n\u001b[1;32m   2474\u001b[0m         kwargs = get_tight_layout_figure(\n\u001b[1;32m   2475\u001b[0m             \u001b[0mself\u001b[0m\u001b[0;34m,\u001b[0m \u001b[0mself\u001b[0m\u001b[0;34m.\u001b[0m\u001b[0maxes\u001b[0m\u001b[0;34m,\u001b[0m \u001b[0msubplotspec_list\u001b[0m\u001b[0;34m,\u001b[0m \u001b[0mrenderer\u001b[0m\u001b[0;34m,\u001b[0m\u001b[0;34m\u001b[0m\u001b[0m\n\u001b[0;32m-> 2476\u001b[0;31m             pad=pad, h_pad=h_pad, w_pad=w_pad, rect=rect)\n\u001b[0m\u001b[1;32m   2477\u001b[0m         \u001b[0;32mif\u001b[0m \u001b[0mkwargs\u001b[0m\u001b[0;34m:\u001b[0m\u001b[0;34m\u001b[0m\u001b[0m\n\u001b[1;32m   2478\u001b[0m             \u001b[0mself\u001b[0m\u001b[0;34m.\u001b[0m\u001b[0msubplots_adjust\u001b[0m\u001b[0;34m(\u001b[0m\u001b[0;34m**\u001b[0m\u001b[0mkwargs\u001b[0m\u001b[0;34m)\u001b[0m\u001b[0;34m\u001b[0m\u001b[0m\n",
      "\u001b[0;32m/var/mobile/Containers/Data/Application/9A169011-B343-40EA-A6A7-9B289CFA29B1/Library/Application Support/com.rationalmatter.junoapp/python-home/lib/python3.6/site-packages/matplotlib/tight_layout.py\u001b[0m in \u001b[0;36mget_tight_layout_figure\u001b[0;34m(fig, axes_list, subplotspec_list, renderer, pad, h_pad, w_pad, rect)\u001b[0m\n\u001b[1;32m    360\u001b[0m                                      \u001b[0msubplot_list\u001b[0m\u001b[0;34m=\u001b[0m\u001b[0msubplot_list\u001b[0m\u001b[0;34m,\u001b[0m\u001b[0;34m\u001b[0m\u001b[0m\n\u001b[1;32m    361\u001b[0m                                      \u001b[0max_bbox_list\u001b[0m\u001b[0;34m=\u001b[0m\u001b[0max_bbox_list\u001b[0m\u001b[0;34m,\u001b[0m\u001b[0;34m\u001b[0m\u001b[0m\n\u001b[0;32m--> 362\u001b[0;31m                                      pad=pad, h_pad=h_pad, w_pad=w_pad)\n\u001b[0m\u001b[1;32m    363\u001b[0m \u001b[0;34m\u001b[0m\u001b[0m\n\u001b[1;32m    364\u001b[0m     \u001b[0;31m# kwargs can be none if tight_layout fails...\u001b[0m\u001b[0;34m\u001b[0m\u001b[0;34m\u001b[0m\u001b[0m\n",
      "\u001b[0;32m/var/mobile/Containers/Data/Application/9A169011-B343-40EA-A6A7-9B289CFA29B1/Library/Application Support/com.rationalmatter.junoapp/python-home/lib/python3.6/site-packages/matplotlib/tight_layout.py\u001b[0m in \u001b[0;36mauto_adjust_subplotpars\u001b[0;34m(fig, renderer, nrows_ncols, num1num2_list, subplot_list, ax_bbox_list, pad, h_pad, w_pad, rect)\u001b[0m\n\u001b[1;32m    109\u001b[0m             \u001b[0;32mcontinue\u001b[0m\u001b[0;34m\u001b[0m\u001b[0m\n\u001b[1;32m    110\u001b[0m \u001b[0;34m\u001b[0m\u001b[0m\n\u001b[0;32m--> 111\u001b[0;31m         tight_bbox_raw = union([ax.get_tightbbox(renderer) for ax in subplots\n\u001b[0m\u001b[1;32m    112\u001b[0m                                 if ax.get_visible()])\n\u001b[1;32m    113\u001b[0m         tight_bbox = TransformedBbox(tight_bbox_raw,\n",
      "\u001b[0;32m/var/mobile/Containers/Data/Application/9A169011-B343-40EA-A6A7-9B289CFA29B1/Library/Application Support/com.rationalmatter.junoapp/python-home/lib/python3.6/site-packages/matplotlib/tight_layout.py\u001b[0m in \u001b[0;36m<listcomp>\u001b[0;34m(.0)\u001b[0m\n\u001b[1;32m    110\u001b[0m \u001b[0;34m\u001b[0m\u001b[0m\n\u001b[1;32m    111\u001b[0m         tight_bbox_raw = union([ax.get_tightbbox(renderer) for ax in subplots\n\u001b[0;32m--> 112\u001b[0;31m                                 if ax.get_visible()])\n\u001b[0m\u001b[1;32m    113\u001b[0m         tight_bbox = TransformedBbox(tight_bbox_raw,\n\u001b[1;32m    114\u001b[0m                                      fig.transFigure.inverted())\n",
      "\u001b[0;32m/var/mobile/Containers/Data/Application/9A169011-B343-40EA-A6A7-9B289CFA29B1/Library/Application Support/com.rationalmatter.junoapp/python-home/lib/python3.6/site-packages/matplotlib/axes/_base.py\u001b[0m in \u001b[0;36mget_tightbbox\u001b[0;34m(self, renderer, call_axes_locator, bbox_extra_artists)\u001b[0m\n\u001b[1;32m   4353\u001b[0m \u001b[0;34m\u001b[0m\u001b[0m\n\u001b[1;32m   4354\u001b[0m         \u001b[0;32mif\u001b[0m \u001b[0mself\u001b[0m\u001b[0;34m.\u001b[0m\u001b[0maxison\u001b[0m\u001b[0;34m:\u001b[0m\u001b[0;34m\u001b[0m\u001b[0m\n\u001b[0;32m-> 4355\u001b[0;31m             \u001b[0mbb_xaxis\u001b[0m \u001b[0;34m=\u001b[0m \u001b[0mself\u001b[0m\u001b[0;34m.\u001b[0m\u001b[0mxaxis\u001b[0m\u001b[0;34m.\u001b[0m\u001b[0mget_tightbbox\u001b[0m\u001b[0;34m(\u001b[0m\u001b[0mrenderer\u001b[0m\u001b[0;34m)\u001b[0m\u001b[0;34m\u001b[0m\u001b[0m\n\u001b[0m\u001b[1;32m   4356\u001b[0m             \u001b[0;32mif\u001b[0m \u001b[0mbb_xaxis\u001b[0m\u001b[0;34m:\u001b[0m\u001b[0;34m\u001b[0m\u001b[0m\n\u001b[1;32m   4357\u001b[0m                 \u001b[0mbb\u001b[0m\u001b[0;34m.\u001b[0m\u001b[0mappend\u001b[0m\u001b[0;34m(\u001b[0m\u001b[0mbb_xaxis\u001b[0m\u001b[0;34m)\u001b[0m\u001b[0;34m\u001b[0m\u001b[0m\n",
      "\u001b[0;32m/var/mobile/Containers/Data/Application/9A169011-B343-40EA-A6A7-9B289CFA29B1/Library/Application Support/com.rationalmatter.junoapp/python-home/lib/python3.6/site-packages/matplotlib/axis.py\u001b[0m in \u001b[0;36mget_tightbbox\u001b[0;34m(self, renderer)\u001b[0m\n\u001b[1;32m   1162\u001b[0m         \u001b[0mticks_to_draw\u001b[0m \u001b[0;34m=\u001b[0m \u001b[0mself\u001b[0m\u001b[0;34m.\u001b[0m\u001b[0m_update_ticks\u001b[0m\u001b[0;34m(\u001b[0m\u001b[0;34m)\u001b[0m\u001b[0;34m\u001b[0m\u001b[0m\n\u001b[1;32m   1163\u001b[0m \u001b[0;34m\u001b[0m\u001b[0m\n\u001b[0;32m-> 1164\u001b[0;31m         \u001b[0mself\u001b[0m\u001b[0;34m.\u001b[0m\u001b[0m_update_label_position\u001b[0m\u001b[0;34m(\u001b[0m\u001b[0mrenderer\u001b[0m\u001b[0;34m)\u001b[0m\u001b[0;34m\u001b[0m\u001b[0m\n\u001b[0m\u001b[1;32m   1165\u001b[0m \u001b[0;34m\u001b[0m\u001b[0m\n\u001b[1;32m   1166\u001b[0m         \u001b[0;31m# go back to just this axis's tick labels\u001b[0m\u001b[0;34m\u001b[0m\u001b[0;34m\u001b[0m\u001b[0m\n",
      "\u001b[0;32m/var/mobile/Containers/Data/Application/9A169011-B343-40EA-A6A7-9B289CFA29B1/Library/Application Support/com.rationalmatter.junoapp/python-home/lib/python3.6/site-packages/matplotlib/axis.py\u001b[0m in \u001b[0;36m_update_label_position\u001b[0;34m(self, renderer)\u001b[0m\n\u001b[1;32m   2012\u001b[0m         \u001b[0;31m# get bounding boxes for this axis and any siblings\u001b[0m\u001b[0;34m\u001b[0m\u001b[0;34m\u001b[0m\u001b[0m\n\u001b[1;32m   2013\u001b[0m         \u001b[0;31m# that have been set by `fig.align_xlabels()`\u001b[0m\u001b[0;34m\u001b[0m\u001b[0;34m\u001b[0m\u001b[0m\n\u001b[0;32m-> 2014\u001b[0;31m         \u001b[0mbboxes\u001b[0m\u001b[0;34m,\u001b[0m \u001b[0mbboxes2\u001b[0m \u001b[0;34m=\u001b[0m \u001b[0mself\u001b[0m\u001b[0;34m.\u001b[0m\u001b[0m_get_tick_boxes_siblings\u001b[0m\u001b[0;34m(\u001b[0m\u001b[0mrenderer\u001b[0m\u001b[0;34m=\u001b[0m\u001b[0mrenderer\u001b[0m\u001b[0;34m)\u001b[0m\u001b[0;34m\u001b[0m\u001b[0m\n\u001b[0m\u001b[1;32m   2015\u001b[0m \u001b[0;34m\u001b[0m\u001b[0m\n\u001b[1;32m   2016\u001b[0m         \u001b[0mx\u001b[0m\u001b[0;34m,\u001b[0m \u001b[0my\u001b[0m \u001b[0;34m=\u001b[0m \u001b[0mself\u001b[0m\u001b[0;34m.\u001b[0m\u001b[0mlabel\u001b[0m\u001b[0;34m.\u001b[0m\u001b[0mget_position\u001b[0m\u001b[0;34m(\u001b[0m\u001b[0;34m)\u001b[0m\u001b[0;34m\u001b[0m\u001b[0m\n",
      "\u001b[0;32m/var/mobile/Containers/Data/Application/9A169011-B343-40EA-A6A7-9B289CFA29B1/Library/Application Support/com.rationalmatter.junoapp/python-home/lib/python3.6/site-packages/matplotlib/axis.py\u001b[0m in \u001b[0;36m_get_tick_boxes_siblings\u001b[0;34m(self, renderer)\u001b[0m\n\u001b[1;32m   1997\u001b[0m         \u001b[0;32mfor\u001b[0m \u001b[0mnn\u001b[0m\u001b[0;34m,\u001b[0m \u001b[0maxx\u001b[0m \u001b[0;32min\u001b[0m \u001b[0menumerate\u001b[0m\u001b[0;34m(\u001b[0m\u001b[0mgrp\u001b[0m\u001b[0;34m.\u001b[0m\u001b[0mget_siblings\u001b[0m\u001b[0;34m(\u001b[0m\u001b[0mself\u001b[0m\u001b[0;34m.\u001b[0m\u001b[0maxes\u001b[0m\u001b[0;34m)\u001b[0m\u001b[0;34m)\u001b[0m\u001b[0;34m:\u001b[0m\u001b[0;34m\u001b[0m\u001b[0m\n\u001b[1;32m   1998\u001b[0m             \u001b[0mticks_to_draw\u001b[0m \u001b[0;34m=\u001b[0m \u001b[0maxx\u001b[0m\u001b[0;34m.\u001b[0m\u001b[0mxaxis\u001b[0m\u001b[0;34m.\u001b[0m\u001b[0m_update_ticks\u001b[0m\u001b[0;34m(\u001b[0m\u001b[0;34m)\u001b[0m\u001b[0;34m\u001b[0m\u001b[0m\n\u001b[0;32m-> 1999\u001b[0;31m             \u001b[0mtlb\u001b[0m\u001b[0;34m,\u001b[0m \u001b[0mtlb2\u001b[0m \u001b[0;34m=\u001b[0m \u001b[0maxx\u001b[0m\u001b[0;34m.\u001b[0m\u001b[0mxaxis\u001b[0m\u001b[0;34m.\u001b[0m\u001b[0m_get_tick_bboxes\u001b[0m\u001b[0;34m(\u001b[0m\u001b[0mticks_to_draw\u001b[0m\u001b[0;34m,\u001b[0m \u001b[0mrenderer\u001b[0m\u001b[0;34m)\u001b[0m\u001b[0;34m\u001b[0m\u001b[0m\n\u001b[0m\u001b[1;32m   2000\u001b[0m             \u001b[0mbboxes\u001b[0m\u001b[0;34m.\u001b[0m\u001b[0mextend\u001b[0m\u001b[0;34m(\u001b[0m\u001b[0mtlb\u001b[0m\u001b[0;34m)\u001b[0m\u001b[0;34m\u001b[0m\u001b[0m\n\u001b[1;32m   2001\u001b[0m             \u001b[0mbboxes2\u001b[0m\u001b[0;34m.\u001b[0m\u001b[0mextend\u001b[0m\u001b[0;34m(\u001b[0m\u001b[0mtlb2\u001b[0m\u001b[0;34m)\u001b[0m\u001b[0;34m\u001b[0m\u001b[0m\n",
      "\u001b[0;32m/var/mobile/Containers/Data/Application/9A169011-B343-40EA-A6A7-9B289CFA29B1/Library/Application Support/com.rationalmatter.junoapp/python-home/lib/python3.6/site-packages/matplotlib/axis.py\u001b[0m in \u001b[0;36m_get_tick_bboxes\u001b[0;34m(self, ticks, renderer)\u001b[0m\n\u001b[1;32m   1148\u001b[0m         \u001b[0;34m\"\"\"Return lists of bboxes for ticks' label1's and label2's.\"\"\"\u001b[0m\u001b[0;34m\u001b[0m\u001b[0m\n\u001b[1;32m   1149\u001b[0m         return ([tick.label1.get_window_extent(renderer)\n\u001b[0;32m-> 1150\u001b[0;31m                  for tick in ticks if tick.label1.get_visible()],\n\u001b[0m\u001b[1;32m   1151\u001b[0m                 [tick.label2.get_window_extent(renderer)\n\u001b[1;32m   1152\u001b[0m                  for tick in ticks if tick.label2.get_visible()])\n",
      "\u001b[0;32m/var/mobile/Containers/Data/Application/9A169011-B343-40EA-A6A7-9B289CFA29B1/Library/Application Support/com.rationalmatter.junoapp/python-home/lib/python3.6/site-packages/matplotlib/axis.py\u001b[0m in \u001b[0;36m<listcomp>\u001b[0;34m(.0)\u001b[0m\n\u001b[1;32m   1148\u001b[0m         \u001b[0;34m\"\"\"Return lists of bboxes for ticks' label1's and label2's.\"\"\"\u001b[0m\u001b[0;34m\u001b[0m\u001b[0m\n\u001b[1;32m   1149\u001b[0m         return ([tick.label1.get_window_extent(renderer)\n\u001b[0;32m-> 1150\u001b[0;31m                  for tick in ticks if tick.label1.get_visible()],\n\u001b[0m\u001b[1;32m   1151\u001b[0m                 [tick.label2.get_window_extent(renderer)\n\u001b[1;32m   1152\u001b[0m                  for tick in ticks if tick.label2.get_visible()])\n",
      "\u001b[0;32m/var/mobile/Containers/Data/Application/9A169011-B343-40EA-A6A7-9B289CFA29B1/Library/Application Support/com.rationalmatter.junoapp/python-home/lib/python3.6/site-packages/matplotlib/text.py\u001b[0m in \u001b[0;36mget_window_extent\u001b[0;34m(self, renderer, dpi)\u001b[0m\n\u001b[1;32m    888\u001b[0m             \u001b[0;32mraise\u001b[0m \u001b[0mRuntimeError\u001b[0m\u001b[0;34m(\u001b[0m\u001b[0;34m'Cannot get window extent w/o renderer'\u001b[0m\u001b[0;34m)\u001b[0m\u001b[0;34m\u001b[0m\u001b[0m\n\u001b[1;32m    889\u001b[0m \u001b[0;34m\u001b[0m\u001b[0m\n\u001b[0;32m--> 890\u001b[0;31m         \u001b[0mbbox\u001b[0m\u001b[0;34m,\u001b[0m \u001b[0minfo\u001b[0m\u001b[0;34m,\u001b[0m \u001b[0mdescent\u001b[0m \u001b[0;34m=\u001b[0m \u001b[0mself\u001b[0m\u001b[0;34m.\u001b[0m\u001b[0m_get_layout\u001b[0m\u001b[0;34m(\u001b[0m\u001b[0mself\u001b[0m\u001b[0;34m.\u001b[0m\u001b[0m_renderer\u001b[0m\u001b[0;34m)\u001b[0m\u001b[0;34m\u001b[0m\u001b[0m\n\u001b[0m\u001b[1;32m    891\u001b[0m         \u001b[0mx\u001b[0m\u001b[0;34m,\u001b[0m \u001b[0my\u001b[0m \u001b[0;34m=\u001b[0m \u001b[0mself\u001b[0m\u001b[0;34m.\u001b[0m\u001b[0mget_unitless_position\u001b[0m\u001b[0;34m(\u001b[0m\u001b[0;34m)\u001b[0m\u001b[0;34m\u001b[0m\u001b[0m\n\u001b[1;32m    892\u001b[0m         \u001b[0mx\u001b[0m\u001b[0;34m,\u001b[0m \u001b[0my\u001b[0m \u001b[0;34m=\u001b[0m \u001b[0mself\u001b[0m\u001b[0;34m.\u001b[0m\u001b[0mget_transform\u001b[0m\u001b[0;34m(\u001b[0m\u001b[0;34m)\u001b[0m\u001b[0;34m.\u001b[0m\u001b[0mtransform_point\u001b[0m\u001b[0;34m(\u001b[0m\u001b[0;34m(\u001b[0m\u001b[0mx\u001b[0m\u001b[0;34m,\u001b[0m \u001b[0my\u001b[0m\u001b[0;34m)\u001b[0m\u001b[0;34m)\u001b[0m\u001b[0;34m\u001b[0m\u001b[0m\n",
      "\u001b[0;32m/var/mobile/Containers/Data/Application/9A169011-B343-40EA-A6A7-9B289CFA29B1/Library/Application Support/com.rationalmatter.junoapp/python-home/lib/python3.6/site-packages/matplotlib/text.py\u001b[0m in \u001b[0;36m_get_layout\u001b[0;34m(self, renderer)\u001b[0m\n\u001b[1;32m    289\u001b[0m         _, lp_h, lp_d = renderer.get_text_width_height_descent(\n\u001b[1;32m    290\u001b[0m             \u001b[0;34m\"lp\"\u001b[0m\u001b[0;34m,\u001b[0m \u001b[0mself\u001b[0m\u001b[0;34m.\u001b[0m\u001b[0m_fontproperties\u001b[0m\u001b[0;34m,\u001b[0m\u001b[0;34m\u001b[0m\u001b[0m\n\u001b[0;32m--> 291\u001b[0;31m             ismath=\"TeX\" if self.get_usetex() else False)\n\u001b[0m\u001b[1;32m    292\u001b[0m         \u001b[0mmin_dy\u001b[0m \u001b[0;34m=\u001b[0m \u001b[0;34m(\u001b[0m\u001b[0mlp_h\u001b[0m \u001b[0;34m-\u001b[0m \u001b[0mlp_d\u001b[0m\u001b[0;34m)\u001b[0m \u001b[0;34m*\u001b[0m \u001b[0mself\u001b[0m\u001b[0;34m.\u001b[0m\u001b[0m_linespacing\u001b[0m\u001b[0;34m\u001b[0m\u001b[0m\n\u001b[1;32m    293\u001b[0m \u001b[0;34m\u001b[0m\u001b[0m\n",
      "\u001b[0;32m/var/mobile/Containers/Data/Application/9A169011-B343-40EA-A6A7-9B289CFA29B1/Library/Application Support/com.rationalmatter.junoapp/python-home/lib/python3.6/site-packages/matplotlib/backends/backend_agg.py\u001b[0m in \u001b[0;36mget_text_width_height_descent\u001b[0;34m(self, s, prop, ismath)\u001b[0m\n\u001b[1;32m    199\u001b[0m             \u001b[0mfontsize\u001b[0m \u001b[0;34m=\u001b[0m \u001b[0mprop\u001b[0m\u001b[0;34m.\u001b[0m\u001b[0mget_size_in_points\u001b[0m\u001b[0;34m(\u001b[0m\u001b[0;34m)\u001b[0m\u001b[0;34m\u001b[0m\u001b[0m\n\u001b[1;32m    200\u001b[0m             w, h, d = texmanager.get_text_width_height_descent(\n\u001b[0;32m--> 201\u001b[0;31m                 s, fontsize, renderer=self)\n\u001b[0m\u001b[1;32m    202\u001b[0m             \u001b[0;32mreturn\u001b[0m \u001b[0mw\u001b[0m\u001b[0;34m,\u001b[0m \u001b[0mh\u001b[0m\u001b[0;34m,\u001b[0m \u001b[0md\u001b[0m\u001b[0;34m\u001b[0m\u001b[0m\n\u001b[1;32m    203\u001b[0m \u001b[0;34m\u001b[0m\u001b[0m\n",
      "\u001b[0;32m/var/mobile/Containers/Data/Application/9A169011-B343-40EA-A6A7-9B289CFA29B1/Library/Application Support/com.rationalmatter.junoapp/python-home/lib/python3.6/site-packages/matplotlib/texmanager.py\u001b[0m in \u001b[0;36mget_text_width_height_descent\u001b[0;34m(self, tex, fontsize, renderer)\u001b[0m\n\u001b[1;32m    447\u001b[0m             \u001b[0;31m# use dviread. It sometimes returns a wrong descent.\u001b[0m\u001b[0;34m\u001b[0m\u001b[0;34m\u001b[0m\u001b[0m\n\u001b[1;32m    448\u001b[0m             \u001b[0mdvifile\u001b[0m \u001b[0;34m=\u001b[0m \u001b[0mself\u001b[0m\u001b[0;34m.\u001b[0m\u001b[0mmake_dvi\u001b[0m\u001b[0;34m(\u001b[0m\u001b[0mtex\u001b[0m\u001b[0;34m,\u001b[0m \u001b[0mfontsize\u001b[0m\u001b[0;34m)\u001b[0m\u001b[0;34m\u001b[0m\u001b[0m\n\u001b[0;32m--> 449\u001b[0;31m             \u001b[0;32mwith\u001b[0m \u001b[0mdviread\u001b[0m\u001b[0;34m.\u001b[0m\u001b[0mDvi\u001b[0m\u001b[0;34m(\u001b[0m\u001b[0mdvifile\u001b[0m\u001b[0;34m,\u001b[0m \u001b[0;36m72\u001b[0m \u001b[0;34m*\u001b[0m \u001b[0mdpi_fraction\u001b[0m\u001b[0;34m)\u001b[0m \u001b[0;32mas\u001b[0m \u001b[0mdvi\u001b[0m\u001b[0;34m:\u001b[0m\u001b[0;34m\u001b[0m\u001b[0m\n\u001b[0m\u001b[1;32m    450\u001b[0m                 \u001b[0mpage\u001b[0m\u001b[0;34m,\u001b[0m \u001b[0;34m=\u001b[0m \u001b[0mdvi\u001b[0m\u001b[0;34m\u001b[0m\u001b[0m\n\u001b[1;32m    451\u001b[0m             \u001b[0;31m# A total height (including the descent) needs to be returned.\u001b[0m\u001b[0;34m\u001b[0m\u001b[0;34m\u001b[0m\u001b[0m\n",
      "\u001b[0;32m/var/mobile/Containers/Data/Application/9A169011-B343-40EA-A6A7-9B289CFA29B1/Library/Application Support/com.rationalmatter.junoapp/python-home/lib/python3.6/site-packages/matplotlib/dviread.py\u001b[0m in \u001b[0;36m__init__\u001b[0;34m(self, filename, dpi)\u001b[0m\n\u001b[1;32m    196\u001b[0m         \"\"\"\n\u001b[1;32m    197\u001b[0m         \u001b[0m_log\u001b[0m\u001b[0;34m.\u001b[0m\u001b[0mdebug\u001b[0m\u001b[0;34m(\u001b[0m\u001b[0;34m'Dvi: %s'\u001b[0m\u001b[0;34m,\u001b[0m \u001b[0mfilename\u001b[0m\u001b[0;34m)\u001b[0m\u001b[0;34m\u001b[0m\u001b[0m\n\u001b[0;32m--> 198\u001b[0;31m         \u001b[0mself\u001b[0m\u001b[0;34m.\u001b[0m\u001b[0mfile\u001b[0m \u001b[0;34m=\u001b[0m \u001b[0mopen\u001b[0m\u001b[0;34m(\u001b[0m\u001b[0mfilename\u001b[0m\u001b[0;34m,\u001b[0m \u001b[0;34m'rb'\u001b[0m\u001b[0;34m)\u001b[0m\u001b[0;34m\u001b[0m\u001b[0m\n\u001b[0m\u001b[1;32m    199\u001b[0m         \u001b[0mself\u001b[0m\u001b[0;34m.\u001b[0m\u001b[0mdpi\u001b[0m \u001b[0;34m=\u001b[0m \u001b[0mdpi\u001b[0m\u001b[0;34m\u001b[0m\u001b[0m\n\u001b[1;32m    200\u001b[0m         \u001b[0mself\u001b[0m\u001b[0;34m.\u001b[0m\u001b[0mfonts\u001b[0m \u001b[0;34m=\u001b[0m \u001b[0;34m{\u001b[0m\u001b[0;34m}\u001b[0m\u001b[0;34m\u001b[0m\u001b[0m\n",
      "\u001b[0;31mFileNotFoundError\u001b[0m: [Errno 2] No such file or directory: '/private/var/mobile/Containers/Data/Application/9A169011-B343-40EA-A6A7-9B289CFA29B1/tmp/matplotlib-9kc1lwm3/tex.cache/857b03f78dcf2e48225de4b236393502.dvi'"
     ]
    },
    {
     "ename": "FileNotFoundError",
     "evalue": "[Errno 2] No such file or directory: '/private/var/mobile/Containers/Data/Application/9A169011-B343-40EA-A6A7-9B289CFA29B1/tmp/matplotlib-9kc1lwm3/tex.cache/857b03f78dcf2e48225de4b236393502.dvi'",
     "output_type": "error",
     "traceback": [
      "\u001b[0;31m---------------------------------------------------------------------------\u001b[0m",
      "\u001b[0;31mFileNotFoundError\u001b[0m                         Traceback (most recent call last)",
      "\u001b[0;32m/var/mobile/Containers/Data/Application/9A169011-B343-40EA-A6A7-9B289CFA29B1/Library/Application Support/com.rationalmatter.junoapp/python-home/lib/python3.6/site-packages/IPython/core/formatters.py\u001b[0m in \u001b[0;36m__call__\u001b[0;34m(self, obj)\u001b[0m\n\u001b[1;32m    339\u001b[0m                 \u001b[0;32mpass\u001b[0m\u001b[0;34m\u001b[0m\u001b[0m\n\u001b[1;32m    340\u001b[0m             \u001b[0;32melse\u001b[0m\u001b[0;34m:\u001b[0m\u001b[0;34m\u001b[0m\u001b[0m\n\u001b[0;32m--> 341\u001b[0;31m                 \u001b[0;32mreturn\u001b[0m \u001b[0mprinter\u001b[0m\u001b[0;34m(\u001b[0m\u001b[0mobj\u001b[0m\u001b[0;34m)\u001b[0m\u001b[0;34m\u001b[0m\u001b[0m\n\u001b[0m\u001b[1;32m    342\u001b[0m             \u001b[0;31m# Finally look for special method names\u001b[0m\u001b[0;34m\u001b[0m\u001b[0;34m\u001b[0m\u001b[0m\n\u001b[1;32m    343\u001b[0m             \u001b[0mmethod\u001b[0m \u001b[0;34m=\u001b[0m \u001b[0mget_real_method\u001b[0m\u001b[0;34m(\u001b[0m\u001b[0mobj\u001b[0m\u001b[0;34m,\u001b[0m \u001b[0mself\u001b[0m\u001b[0;34m.\u001b[0m\u001b[0mprint_method\u001b[0m\u001b[0;34m)\u001b[0m\u001b[0;34m\u001b[0m\u001b[0m\n",
      "\u001b[0;32m/var/mobile/Containers/Data/Application/9A169011-B343-40EA-A6A7-9B289CFA29B1/Library/Application Support/com.rationalmatter.junoapp/python-home/lib/python3.6/site-packages/IPython/core/pylabtools.py\u001b[0m in \u001b[0;36m<lambda>\u001b[0;34m(fig)\u001b[0m\n\u001b[1;32m    244\u001b[0m         \u001b[0mpng_formatter\u001b[0m\u001b[0;34m.\u001b[0m\u001b[0mfor_type\u001b[0m\u001b[0;34m(\u001b[0m\u001b[0mFigure\u001b[0m\u001b[0;34m,\u001b[0m \u001b[0;32mlambda\u001b[0m \u001b[0mfig\u001b[0m\u001b[0;34m:\u001b[0m \u001b[0mprint_figure\u001b[0m\u001b[0;34m(\u001b[0m\u001b[0mfig\u001b[0m\u001b[0;34m,\u001b[0m \u001b[0;34m'png'\u001b[0m\u001b[0;34m,\u001b[0m \u001b[0;34m**\u001b[0m\u001b[0mkwargs\u001b[0m\u001b[0;34m)\u001b[0m\u001b[0;34m)\u001b[0m\u001b[0;34m\u001b[0m\u001b[0m\n\u001b[1;32m    245\u001b[0m     \u001b[0;32mif\u001b[0m \u001b[0;34m'retina'\u001b[0m \u001b[0;32min\u001b[0m \u001b[0mformats\u001b[0m \u001b[0;32mor\u001b[0m \u001b[0;34m'png2x'\u001b[0m \u001b[0;32min\u001b[0m \u001b[0mformats\u001b[0m\u001b[0;34m:\u001b[0m\u001b[0;34m\u001b[0m\u001b[0m\n\u001b[0;32m--> 246\u001b[0;31m         \u001b[0mpng_formatter\u001b[0m\u001b[0;34m.\u001b[0m\u001b[0mfor_type\u001b[0m\u001b[0;34m(\u001b[0m\u001b[0mFigure\u001b[0m\u001b[0;34m,\u001b[0m \u001b[0;32mlambda\u001b[0m \u001b[0mfig\u001b[0m\u001b[0;34m:\u001b[0m \u001b[0mretina_figure\u001b[0m\u001b[0;34m(\u001b[0m\u001b[0mfig\u001b[0m\u001b[0;34m,\u001b[0m \u001b[0;34m**\u001b[0m\u001b[0mkwargs\u001b[0m\u001b[0;34m)\u001b[0m\u001b[0;34m)\u001b[0m\u001b[0;34m\u001b[0m\u001b[0m\n\u001b[0m\u001b[1;32m    247\u001b[0m     \u001b[0;32mif\u001b[0m \u001b[0;34m'jpg'\u001b[0m \u001b[0;32min\u001b[0m \u001b[0mformats\u001b[0m \u001b[0;32mor\u001b[0m \u001b[0;34m'jpeg'\u001b[0m \u001b[0;32min\u001b[0m \u001b[0mformats\u001b[0m\u001b[0;34m:\u001b[0m\u001b[0;34m\u001b[0m\u001b[0m\n\u001b[1;32m    248\u001b[0m         \u001b[0mjpg_formatter\u001b[0m\u001b[0;34m.\u001b[0m\u001b[0mfor_type\u001b[0m\u001b[0;34m(\u001b[0m\u001b[0mFigure\u001b[0m\u001b[0;34m,\u001b[0m \u001b[0;32mlambda\u001b[0m \u001b[0mfig\u001b[0m\u001b[0;34m:\u001b[0m \u001b[0mprint_figure\u001b[0m\u001b[0;34m(\u001b[0m\u001b[0mfig\u001b[0m\u001b[0;34m,\u001b[0m \u001b[0;34m'jpg'\u001b[0m\u001b[0;34m,\u001b[0m \u001b[0;34m**\u001b[0m\u001b[0mkwargs\u001b[0m\u001b[0;34m)\u001b[0m\u001b[0;34m)\u001b[0m\u001b[0;34m\u001b[0m\u001b[0m\n",
      "\u001b[0;32m/var/mobile/Containers/Data/Application/9A169011-B343-40EA-A6A7-9B289CFA29B1/Library/Application Support/com.rationalmatter.junoapp/python-home/lib/python3.6/site-packages/IPython/core/pylabtools.py\u001b[0m in \u001b[0;36mretina_figure\u001b[0;34m(fig, **kwargs)\u001b[0m\n\u001b[1;32m    134\u001b[0m \u001b[0;32mdef\u001b[0m \u001b[0mretina_figure\u001b[0m\u001b[0;34m(\u001b[0m\u001b[0mfig\u001b[0m\u001b[0;34m,\u001b[0m \u001b[0;34m**\u001b[0m\u001b[0mkwargs\u001b[0m\u001b[0;34m)\u001b[0m\u001b[0;34m:\u001b[0m\u001b[0;34m\u001b[0m\u001b[0m\n\u001b[1;32m    135\u001b[0m     \u001b[0;34m\"\"\"format a figure as a pixel-doubled (retina) PNG\"\"\"\u001b[0m\u001b[0;34m\u001b[0m\u001b[0m\n\u001b[0;32m--> 136\u001b[0;31m     \u001b[0mpngdata\u001b[0m \u001b[0;34m=\u001b[0m \u001b[0mprint_figure\u001b[0m\u001b[0;34m(\u001b[0m\u001b[0mfig\u001b[0m\u001b[0;34m,\u001b[0m \u001b[0mfmt\u001b[0m\u001b[0;34m=\u001b[0m\u001b[0;34m'retina'\u001b[0m\u001b[0;34m,\u001b[0m \u001b[0;34m**\u001b[0m\u001b[0mkwargs\u001b[0m\u001b[0;34m)\u001b[0m\u001b[0;34m\u001b[0m\u001b[0m\n\u001b[0m\u001b[1;32m    137\u001b[0m     \u001b[0;31m# Make sure that retina_figure acts just like print_figure and returns\u001b[0m\u001b[0;34m\u001b[0m\u001b[0;34m\u001b[0m\u001b[0m\n\u001b[1;32m    138\u001b[0m     \u001b[0;31m# None when the figure is empty.\u001b[0m\u001b[0;34m\u001b[0m\u001b[0;34m\u001b[0m\u001b[0m\n",
      "\u001b[0;32m/var/mobile/Containers/Data/Application/9A169011-B343-40EA-A6A7-9B289CFA29B1/Library/Application Support/com.rationalmatter.junoapp/python-home/lib/python3.6/site-packages/IPython/core/pylabtools.py\u001b[0m in \u001b[0;36mprint_figure\u001b[0;34m(fig, fmt, bbox_inches, **kwargs)\u001b[0m\n\u001b[1;32m    126\u001b[0m \u001b[0;34m\u001b[0m\u001b[0m\n\u001b[1;32m    127\u001b[0m     \u001b[0mbytes_io\u001b[0m \u001b[0;34m=\u001b[0m \u001b[0mBytesIO\u001b[0m\u001b[0;34m(\u001b[0m\u001b[0;34m)\u001b[0m\u001b[0;34m\u001b[0m\u001b[0m\n\u001b[0;32m--> 128\u001b[0;31m     \u001b[0mfig\u001b[0m\u001b[0;34m.\u001b[0m\u001b[0mcanvas\u001b[0m\u001b[0;34m.\u001b[0m\u001b[0mprint_figure\u001b[0m\u001b[0;34m(\u001b[0m\u001b[0mbytes_io\u001b[0m\u001b[0;34m,\u001b[0m \u001b[0;34m**\u001b[0m\u001b[0mkw\u001b[0m\u001b[0;34m)\u001b[0m\u001b[0;34m\u001b[0m\u001b[0m\n\u001b[0m\u001b[1;32m    129\u001b[0m     \u001b[0mdata\u001b[0m \u001b[0;34m=\u001b[0m \u001b[0mbytes_io\u001b[0m\u001b[0;34m.\u001b[0m\u001b[0mgetvalue\u001b[0m\u001b[0;34m(\u001b[0m\u001b[0;34m)\u001b[0m\u001b[0;34m\u001b[0m\u001b[0m\n\u001b[1;32m    130\u001b[0m     \u001b[0;32mif\u001b[0m \u001b[0mfmt\u001b[0m \u001b[0;34m==\u001b[0m \u001b[0;34m'svg'\u001b[0m\u001b[0;34m:\u001b[0m\u001b[0;34m\u001b[0m\u001b[0m\n",
      "\u001b[0;32m/var/mobile/Containers/Data/Application/9A169011-B343-40EA-A6A7-9B289CFA29B1/Library/Application Support/com.rationalmatter.junoapp/python-home/lib/python3.6/site-packages/matplotlib/backend_bases.py\u001b[0m in \u001b[0;36mprint_figure\u001b[0;34m(self, filename, dpi, facecolor, edgecolor, orientation, format, bbox_inches, **kwargs)\u001b[0m\n\u001b[1;32m   2054\u001b[0m                         \u001b[0morientation\u001b[0m\u001b[0;34m=\u001b[0m\u001b[0morientation\u001b[0m\u001b[0;34m,\u001b[0m\u001b[0;34m\u001b[0m\u001b[0m\n\u001b[1;32m   2055\u001b[0m                         \u001b[0mdryrun\u001b[0m\u001b[0;34m=\u001b[0m\u001b[0;32mTrue\u001b[0m\u001b[0;34m,\u001b[0m\u001b[0;34m\u001b[0m\u001b[0m\n\u001b[0;32m-> 2056\u001b[0;31m                         **kwargs)\n\u001b[0m\u001b[1;32m   2057\u001b[0m                     \u001b[0mrenderer\u001b[0m \u001b[0;34m=\u001b[0m \u001b[0mself\u001b[0m\u001b[0;34m.\u001b[0m\u001b[0mfigure\u001b[0m\u001b[0;34m.\u001b[0m\u001b[0m_cachedRenderer\u001b[0m\u001b[0;34m\u001b[0m\u001b[0m\n\u001b[1;32m   2058\u001b[0m                     \u001b[0mbbox_artists\u001b[0m \u001b[0;34m=\u001b[0m \u001b[0mkwargs\u001b[0m\u001b[0;34m.\u001b[0m\u001b[0mpop\u001b[0m\u001b[0;34m(\u001b[0m\u001b[0;34m\"bbox_extra_artists\"\u001b[0m\u001b[0;34m,\u001b[0m \u001b[0;32mNone\u001b[0m\u001b[0;34m)\u001b[0m\u001b[0;34m\u001b[0m\u001b[0m\n",
      "\u001b[0;32m/var/mobile/Containers/Data/Application/9A169011-B343-40EA-A6A7-9B289CFA29B1/Library/Application Support/com.rationalmatter.junoapp/python-home/lib/python3.6/site-packages/matplotlib/backends/backend_agg.py\u001b[0m in \u001b[0;36mprint_png\u001b[0;34m(self, filename_or_obj, metadata, pil_kwargs, *args, **kwargs)\u001b[0m\n\u001b[1;32m    525\u001b[0m \u001b[0;34m\u001b[0m\u001b[0m\n\u001b[1;32m    526\u001b[0m         \u001b[0;32melse\u001b[0m\u001b[0;34m:\u001b[0m\u001b[0;34m\u001b[0m\u001b[0m\n\u001b[0;32m--> 527\u001b[0;31m             \u001b[0mFigureCanvasAgg\u001b[0m\u001b[0;34m.\u001b[0m\u001b[0mdraw\u001b[0m\u001b[0;34m(\u001b[0m\u001b[0mself\u001b[0m\u001b[0;34m)\u001b[0m\u001b[0;34m\u001b[0m\u001b[0m\n\u001b[0m\u001b[1;32m    528\u001b[0m             \u001b[0mrenderer\u001b[0m \u001b[0;34m=\u001b[0m \u001b[0mself\u001b[0m\u001b[0;34m.\u001b[0m\u001b[0mget_renderer\u001b[0m\u001b[0;34m(\u001b[0m\u001b[0;34m)\u001b[0m\u001b[0;34m\u001b[0m\u001b[0m\n\u001b[1;32m    529\u001b[0m             \u001b[0;32mwith\u001b[0m \u001b[0mcbook\u001b[0m\u001b[0;34m.\u001b[0m\u001b[0m_setattr_cm\u001b[0m\u001b[0;34m(\u001b[0m\u001b[0mrenderer\u001b[0m\u001b[0;34m,\u001b[0m \u001b[0mdpi\u001b[0m\u001b[0;34m=\u001b[0m\u001b[0mself\u001b[0m\u001b[0;34m.\u001b[0m\u001b[0mfigure\u001b[0m\u001b[0;34m.\u001b[0m\u001b[0mdpi\u001b[0m\u001b[0;34m)\u001b[0m\u001b[0;34m,\u001b[0m\u001b[0;31m \u001b[0m\u001b[0;31m\\\u001b[0m\u001b[0;34m\u001b[0m\u001b[0m\n",
      "\u001b[0;32m/var/mobile/Containers/Data/Application/9A169011-B343-40EA-A6A7-9B289CFA29B1/Library/Application Support/com.rationalmatter.junoapp/python-home/lib/python3.6/site-packages/matplotlib/backends/backend_agg.py\u001b[0m in \u001b[0;36mdraw\u001b[0;34m(self)\u001b[0m\n\u001b[1;32m    386\u001b[0m         \u001b[0mself\u001b[0m\u001b[0;34m.\u001b[0m\u001b[0mrenderer\u001b[0m \u001b[0;34m=\u001b[0m \u001b[0mself\u001b[0m\u001b[0;34m.\u001b[0m\u001b[0mget_renderer\u001b[0m\u001b[0;34m(\u001b[0m\u001b[0mcleared\u001b[0m\u001b[0;34m=\u001b[0m\u001b[0;32mTrue\u001b[0m\u001b[0;34m)\u001b[0m\u001b[0;34m\u001b[0m\u001b[0m\n\u001b[1;32m    387\u001b[0m         \u001b[0;32mwith\u001b[0m \u001b[0mRendererAgg\u001b[0m\u001b[0;34m.\u001b[0m\u001b[0mlock\u001b[0m\u001b[0;34m:\u001b[0m\u001b[0;34m\u001b[0m\u001b[0m\n\u001b[0;32m--> 388\u001b[0;31m             \u001b[0mself\u001b[0m\u001b[0;34m.\u001b[0m\u001b[0mfigure\u001b[0m\u001b[0;34m.\u001b[0m\u001b[0mdraw\u001b[0m\u001b[0;34m(\u001b[0m\u001b[0mself\u001b[0m\u001b[0;34m.\u001b[0m\u001b[0mrenderer\u001b[0m\u001b[0;34m)\u001b[0m\u001b[0;34m\u001b[0m\u001b[0m\n\u001b[0m\u001b[1;32m    389\u001b[0m             \u001b[0;31m# A GUI class may be need to update a window using this draw, so\u001b[0m\u001b[0;34m\u001b[0m\u001b[0;34m\u001b[0m\u001b[0m\n\u001b[1;32m    390\u001b[0m             \u001b[0;31m# don't forget to call the superclass.\u001b[0m\u001b[0;34m\u001b[0m\u001b[0;34m\u001b[0m\u001b[0m\n",
      "\u001b[0;32m/var/mobile/Containers/Data/Application/9A169011-B343-40EA-A6A7-9B289CFA29B1/Library/Application Support/com.rationalmatter.junoapp/python-home/lib/python3.6/site-packages/matplotlib/artist.py\u001b[0m in \u001b[0;36mdraw_wrapper\u001b[0;34m(artist, renderer, *args, **kwargs)\u001b[0m\n\u001b[1;32m     36\u001b[0m                 \u001b[0mrenderer\u001b[0m\u001b[0;34m.\u001b[0m\u001b[0mstart_filter\u001b[0m\u001b[0;34m(\u001b[0m\u001b[0;34m)\u001b[0m\u001b[0;34m\u001b[0m\u001b[0m\n\u001b[1;32m     37\u001b[0m \u001b[0;34m\u001b[0m\u001b[0m\n\u001b[0;32m---> 38\u001b[0;31m             \u001b[0;32mreturn\u001b[0m \u001b[0mdraw\u001b[0m\u001b[0;34m(\u001b[0m\u001b[0martist\u001b[0m\u001b[0;34m,\u001b[0m \u001b[0mrenderer\u001b[0m\u001b[0;34m,\u001b[0m \u001b[0;34m*\u001b[0m\u001b[0margs\u001b[0m\u001b[0;34m,\u001b[0m \u001b[0;34m**\u001b[0m\u001b[0mkwargs\u001b[0m\u001b[0;34m)\u001b[0m\u001b[0;34m\u001b[0m\u001b[0m\n\u001b[0m\u001b[1;32m     39\u001b[0m         \u001b[0;32mfinally\u001b[0m\u001b[0;34m:\u001b[0m\u001b[0;34m\u001b[0m\u001b[0m\n\u001b[1;32m     40\u001b[0m             \u001b[0;32mif\u001b[0m \u001b[0martist\u001b[0m\u001b[0;34m.\u001b[0m\u001b[0mget_agg_filter\u001b[0m\u001b[0;34m(\u001b[0m\u001b[0;34m)\u001b[0m \u001b[0;32mis\u001b[0m \u001b[0;32mnot\u001b[0m \u001b[0;32mNone\u001b[0m\u001b[0;34m:\u001b[0m\u001b[0;34m\u001b[0m\u001b[0m\n",
      "\u001b[0;32m/var/mobile/Containers/Data/Application/9A169011-B343-40EA-A6A7-9B289CFA29B1/Library/Application Support/com.rationalmatter.junoapp/python-home/lib/python3.6/site-packages/matplotlib/figure.py\u001b[0m in \u001b[0;36mdraw\u001b[0;34m(self, renderer)\u001b[0m\n\u001b[1;32m   1700\u001b[0m                 \u001b[0;32mtry\u001b[0m\u001b[0;34m:\u001b[0m\u001b[0;34m\u001b[0m\u001b[0m\n\u001b[1;32m   1701\u001b[0m                     self.tight_layout(renderer,\n\u001b[0;32m-> 1702\u001b[0;31m                                       **self._tight_parameters)\n\u001b[0m\u001b[1;32m   1703\u001b[0m                 \u001b[0;32mexcept\u001b[0m \u001b[0mValueError\u001b[0m\u001b[0;34m:\u001b[0m\u001b[0;34m\u001b[0m\u001b[0m\n\u001b[1;32m   1704\u001b[0m                     \u001b[0;32mpass\u001b[0m\u001b[0;34m\u001b[0m\u001b[0m\n",
      "\u001b[0;32m/var/mobile/Containers/Data/Application/9A169011-B343-40EA-A6A7-9B289CFA29B1/Library/Application Support/com.rationalmatter.junoapp/python-home/lib/python3.6/site-packages/matplotlib/figure.py\u001b[0m in \u001b[0;36mtight_layout\u001b[0;34m(self, renderer, pad, h_pad, w_pad, rect)\u001b[0m\n\u001b[1;32m   2474\u001b[0m         kwargs = get_tight_layout_figure(\n\u001b[1;32m   2475\u001b[0m             \u001b[0mself\u001b[0m\u001b[0;34m,\u001b[0m \u001b[0mself\u001b[0m\u001b[0;34m.\u001b[0m\u001b[0maxes\u001b[0m\u001b[0;34m,\u001b[0m \u001b[0msubplotspec_list\u001b[0m\u001b[0;34m,\u001b[0m \u001b[0mrenderer\u001b[0m\u001b[0;34m,\u001b[0m\u001b[0;34m\u001b[0m\u001b[0m\n\u001b[0;32m-> 2476\u001b[0;31m             pad=pad, h_pad=h_pad, w_pad=w_pad, rect=rect)\n\u001b[0m\u001b[1;32m   2477\u001b[0m         \u001b[0;32mif\u001b[0m \u001b[0mkwargs\u001b[0m\u001b[0;34m:\u001b[0m\u001b[0;34m\u001b[0m\u001b[0m\n\u001b[1;32m   2478\u001b[0m             \u001b[0mself\u001b[0m\u001b[0;34m.\u001b[0m\u001b[0msubplots_adjust\u001b[0m\u001b[0;34m(\u001b[0m\u001b[0;34m**\u001b[0m\u001b[0mkwargs\u001b[0m\u001b[0;34m)\u001b[0m\u001b[0;34m\u001b[0m\u001b[0m\n",
      "\u001b[0;32m/var/mobile/Containers/Data/Application/9A169011-B343-40EA-A6A7-9B289CFA29B1/Library/Application Support/com.rationalmatter.junoapp/python-home/lib/python3.6/site-packages/matplotlib/tight_layout.py\u001b[0m in \u001b[0;36mget_tight_layout_figure\u001b[0;34m(fig, axes_list, subplotspec_list, renderer, pad, h_pad, w_pad, rect)\u001b[0m\n\u001b[1;32m    360\u001b[0m                                      \u001b[0msubplot_list\u001b[0m\u001b[0;34m=\u001b[0m\u001b[0msubplot_list\u001b[0m\u001b[0;34m,\u001b[0m\u001b[0;34m\u001b[0m\u001b[0m\n\u001b[1;32m    361\u001b[0m                                      \u001b[0max_bbox_list\u001b[0m\u001b[0;34m=\u001b[0m\u001b[0max_bbox_list\u001b[0m\u001b[0;34m,\u001b[0m\u001b[0;34m\u001b[0m\u001b[0m\n\u001b[0;32m--> 362\u001b[0;31m                                      pad=pad, h_pad=h_pad, w_pad=w_pad)\n\u001b[0m\u001b[1;32m    363\u001b[0m \u001b[0;34m\u001b[0m\u001b[0m\n\u001b[1;32m    364\u001b[0m     \u001b[0;31m# kwargs can be none if tight_layout fails...\u001b[0m\u001b[0;34m\u001b[0m\u001b[0;34m\u001b[0m\u001b[0m\n",
      "\u001b[0;32m/var/mobile/Containers/Data/Application/9A169011-B343-40EA-A6A7-9B289CFA29B1/Library/Application Support/com.rationalmatter.junoapp/python-home/lib/python3.6/site-packages/matplotlib/tight_layout.py\u001b[0m in \u001b[0;36mauto_adjust_subplotpars\u001b[0;34m(fig, renderer, nrows_ncols, num1num2_list, subplot_list, ax_bbox_list, pad, h_pad, w_pad, rect)\u001b[0m\n\u001b[1;32m    109\u001b[0m             \u001b[0;32mcontinue\u001b[0m\u001b[0;34m\u001b[0m\u001b[0m\n\u001b[1;32m    110\u001b[0m \u001b[0;34m\u001b[0m\u001b[0m\n\u001b[0;32m--> 111\u001b[0;31m         tight_bbox_raw = union([ax.get_tightbbox(renderer) for ax in subplots\n\u001b[0m\u001b[1;32m    112\u001b[0m                                 if ax.get_visible()])\n\u001b[1;32m    113\u001b[0m         tight_bbox = TransformedBbox(tight_bbox_raw,\n",
      "\u001b[0;32m/var/mobile/Containers/Data/Application/9A169011-B343-40EA-A6A7-9B289CFA29B1/Library/Application Support/com.rationalmatter.junoapp/python-home/lib/python3.6/site-packages/matplotlib/tight_layout.py\u001b[0m in \u001b[0;36m<listcomp>\u001b[0;34m(.0)\u001b[0m\n\u001b[1;32m    110\u001b[0m \u001b[0;34m\u001b[0m\u001b[0m\n\u001b[1;32m    111\u001b[0m         tight_bbox_raw = union([ax.get_tightbbox(renderer) for ax in subplots\n\u001b[0;32m--> 112\u001b[0;31m                                 if ax.get_visible()])\n\u001b[0m\u001b[1;32m    113\u001b[0m         tight_bbox = TransformedBbox(tight_bbox_raw,\n\u001b[1;32m    114\u001b[0m                                      fig.transFigure.inverted())\n",
      "\u001b[0;32m/var/mobile/Containers/Data/Application/9A169011-B343-40EA-A6A7-9B289CFA29B1/Library/Application Support/com.rationalmatter.junoapp/python-home/lib/python3.6/site-packages/matplotlib/axes/_base.py\u001b[0m in \u001b[0;36mget_tightbbox\u001b[0;34m(self, renderer, call_axes_locator, bbox_extra_artists)\u001b[0m\n\u001b[1;32m   4353\u001b[0m \u001b[0;34m\u001b[0m\u001b[0m\n\u001b[1;32m   4354\u001b[0m         \u001b[0;32mif\u001b[0m \u001b[0mself\u001b[0m\u001b[0;34m.\u001b[0m\u001b[0maxison\u001b[0m\u001b[0;34m:\u001b[0m\u001b[0;34m\u001b[0m\u001b[0m\n\u001b[0;32m-> 4355\u001b[0;31m             \u001b[0mbb_xaxis\u001b[0m \u001b[0;34m=\u001b[0m \u001b[0mself\u001b[0m\u001b[0;34m.\u001b[0m\u001b[0mxaxis\u001b[0m\u001b[0;34m.\u001b[0m\u001b[0mget_tightbbox\u001b[0m\u001b[0;34m(\u001b[0m\u001b[0mrenderer\u001b[0m\u001b[0;34m)\u001b[0m\u001b[0;34m\u001b[0m\u001b[0m\n\u001b[0m\u001b[1;32m   4356\u001b[0m             \u001b[0;32mif\u001b[0m \u001b[0mbb_xaxis\u001b[0m\u001b[0;34m:\u001b[0m\u001b[0;34m\u001b[0m\u001b[0m\n\u001b[1;32m   4357\u001b[0m                 \u001b[0mbb\u001b[0m\u001b[0;34m.\u001b[0m\u001b[0mappend\u001b[0m\u001b[0;34m(\u001b[0m\u001b[0mbb_xaxis\u001b[0m\u001b[0;34m)\u001b[0m\u001b[0;34m\u001b[0m\u001b[0m\n",
      "\u001b[0;32m/var/mobile/Containers/Data/Application/9A169011-B343-40EA-A6A7-9B289CFA29B1/Library/Application Support/com.rationalmatter.junoapp/python-home/lib/python3.6/site-packages/matplotlib/axis.py\u001b[0m in \u001b[0;36mget_tightbbox\u001b[0;34m(self, renderer)\u001b[0m\n\u001b[1;32m   1162\u001b[0m         \u001b[0mticks_to_draw\u001b[0m \u001b[0;34m=\u001b[0m \u001b[0mself\u001b[0m\u001b[0;34m.\u001b[0m\u001b[0m_update_ticks\u001b[0m\u001b[0;34m(\u001b[0m\u001b[0;34m)\u001b[0m\u001b[0;34m\u001b[0m\u001b[0m\n\u001b[1;32m   1163\u001b[0m \u001b[0;34m\u001b[0m\u001b[0m\n\u001b[0;32m-> 1164\u001b[0;31m         \u001b[0mself\u001b[0m\u001b[0;34m.\u001b[0m\u001b[0m_update_label_position\u001b[0m\u001b[0;34m(\u001b[0m\u001b[0mrenderer\u001b[0m\u001b[0;34m)\u001b[0m\u001b[0;34m\u001b[0m\u001b[0m\n\u001b[0m\u001b[1;32m   1165\u001b[0m \u001b[0;34m\u001b[0m\u001b[0m\n\u001b[1;32m   1166\u001b[0m         \u001b[0;31m# go back to just this axis's tick labels\u001b[0m\u001b[0;34m\u001b[0m\u001b[0;34m\u001b[0m\u001b[0m\n",
      "\u001b[0;32m/var/mobile/Containers/Data/Application/9A169011-B343-40EA-A6A7-9B289CFA29B1/Library/Application Support/com.rationalmatter.junoapp/python-home/lib/python3.6/site-packages/matplotlib/axis.py\u001b[0m in \u001b[0;36m_update_label_position\u001b[0;34m(self, renderer)\u001b[0m\n\u001b[1;32m   2012\u001b[0m         \u001b[0;31m# get bounding boxes for this axis and any siblings\u001b[0m\u001b[0;34m\u001b[0m\u001b[0;34m\u001b[0m\u001b[0m\n\u001b[1;32m   2013\u001b[0m         \u001b[0;31m# that have been set by `fig.align_xlabels()`\u001b[0m\u001b[0;34m\u001b[0m\u001b[0;34m\u001b[0m\u001b[0m\n\u001b[0;32m-> 2014\u001b[0;31m         \u001b[0mbboxes\u001b[0m\u001b[0;34m,\u001b[0m \u001b[0mbboxes2\u001b[0m \u001b[0;34m=\u001b[0m \u001b[0mself\u001b[0m\u001b[0;34m.\u001b[0m\u001b[0m_get_tick_boxes_siblings\u001b[0m\u001b[0;34m(\u001b[0m\u001b[0mrenderer\u001b[0m\u001b[0;34m=\u001b[0m\u001b[0mrenderer\u001b[0m\u001b[0;34m)\u001b[0m\u001b[0;34m\u001b[0m\u001b[0m\n\u001b[0m\u001b[1;32m   2015\u001b[0m \u001b[0;34m\u001b[0m\u001b[0m\n\u001b[1;32m   2016\u001b[0m         \u001b[0mx\u001b[0m\u001b[0;34m,\u001b[0m \u001b[0my\u001b[0m \u001b[0;34m=\u001b[0m \u001b[0mself\u001b[0m\u001b[0;34m.\u001b[0m\u001b[0mlabel\u001b[0m\u001b[0;34m.\u001b[0m\u001b[0mget_position\u001b[0m\u001b[0;34m(\u001b[0m\u001b[0;34m)\u001b[0m\u001b[0;34m\u001b[0m\u001b[0m\n",
      "\u001b[0;32m/var/mobile/Containers/Data/Application/9A169011-B343-40EA-A6A7-9B289CFA29B1/Library/Application Support/com.rationalmatter.junoapp/python-home/lib/python3.6/site-packages/matplotlib/axis.py\u001b[0m in \u001b[0;36m_get_tick_boxes_siblings\u001b[0;34m(self, renderer)\u001b[0m\n\u001b[1;32m   1997\u001b[0m         \u001b[0;32mfor\u001b[0m \u001b[0mnn\u001b[0m\u001b[0;34m,\u001b[0m \u001b[0maxx\u001b[0m \u001b[0;32min\u001b[0m \u001b[0menumerate\u001b[0m\u001b[0;34m(\u001b[0m\u001b[0mgrp\u001b[0m\u001b[0;34m.\u001b[0m\u001b[0mget_siblings\u001b[0m\u001b[0;34m(\u001b[0m\u001b[0mself\u001b[0m\u001b[0;34m.\u001b[0m\u001b[0maxes\u001b[0m\u001b[0;34m)\u001b[0m\u001b[0;34m)\u001b[0m\u001b[0;34m:\u001b[0m\u001b[0;34m\u001b[0m\u001b[0m\n\u001b[1;32m   1998\u001b[0m             \u001b[0mticks_to_draw\u001b[0m \u001b[0;34m=\u001b[0m \u001b[0maxx\u001b[0m\u001b[0;34m.\u001b[0m\u001b[0mxaxis\u001b[0m\u001b[0;34m.\u001b[0m\u001b[0m_update_ticks\u001b[0m\u001b[0;34m(\u001b[0m\u001b[0;34m)\u001b[0m\u001b[0;34m\u001b[0m\u001b[0m\n\u001b[0;32m-> 1999\u001b[0;31m             \u001b[0mtlb\u001b[0m\u001b[0;34m,\u001b[0m \u001b[0mtlb2\u001b[0m \u001b[0;34m=\u001b[0m \u001b[0maxx\u001b[0m\u001b[0;34m.\u001b[0m\u001b[0mxaxis\u001b[0m\u001b[0;34m.\u001b[0m\u001b[0m_get_tick_bboxes\u001b[0m\u001b[0;34m(\u001b[0m\u001b[0mticks_to_draw\u001b[0m\u001b[0;34m,\u001b[0m \u001b[0mrenderer\u001b[0m\u001b[0;34m)\u001b[0m\u001b[0;34m\u001b[0m\u001b[0m\n\u001b[0m\u001b[1;32m   2000\u001b[0m             \u001b[0mbboxes\u001b[0m\u001b[0;34m.\u001b[0m\u001b[0mextend\u001b[0m\u001b[0;34m(\u001b[0m\u001b[0mtlb\u001b[0m\u001b[0;34m)\u001b[0m\u001b[0;34m\u001b[0m\u001b[0m\n\u001b[1;32m   2001\u001b[0m             \u001b[0mbboxes2\u001b[0m\u001b[0;34m.\u001b[0m\u001b[0mextend\u001b[0m\u001b[0;34m(\u001b[0m\u001b[0mtlb2\u001b[0m\u001b[0;34m)\u001b[0m\u001b[0;34m\u001b[0m\u001b[0m\n",
      "\u001b[0;32m/var/mobile/Containers/Data/Application/9A169011-B343-40EA-A6A7-9B289CFA29B1/Library/Application Support/com.rationalmatter.junoapp/python-home/lib/python3.6/site-packages/matplotlib/axis.py\u001b[0m in \u001b[0;36m_get_tick_bboxes\u001b[0;34m(self, ticks, renderer)\u001b[0m\n\u001b[1;32m   1148\u001b[0m         \u001b[0;34m\"\"\"Return lists of bboxes for ticks' label1's and label2's.\"\"\"\u001b[0m\u001b[0;34m\u001b[0m\u001b[0m\n\u001b[1;32m   1149\u001b[0m         return ([tick.label1.get_window_extent(renderer)\n\u001b[0;32m-> 1150\u001b[0;31m                  for tick in ticks if tick.label1.get_visible()],\n\u001b[0m\u001b[1;32m   1151\u001b[0m                 [tick.label2.get_window_extent(renderer)\n\u001b[1;32m   1152\u001b[0m                  for tick in ticks if tick.label2.get_visible()])\n",
      "\u001b[0;32m/var/mobile/Containers/Data/Application/9A169011-B343-40EA-A6A7-9B289CFA29B1/Library/Application Support/com.rationalmatter.junoapp/python-home/lib/python3.6/site-packages/matplotlib/axis.py\u001b[0m in \u001b[0;36m<listcomp>\u001b[0;34m(.0)\u001b[0m\n\u001b[1;32m   1148\u001b[0m         \u001b[0;34m\"\"\"Return lists of bboxes for ticks' label1's and label2's.\"\"\"\u001b[0m\u001b[0;34m\u001b[0m\u001b[0m\n\u001b[1;32m   1149\u001b[0m         return ([tick.label1.get_window_extent(renderer)\n\u001b[0;32m-> 1150\u001b[0;31m                  for tick in ticks if tick.label1.get_visible()],\n\u001b[0m\u001b[1;32m   1151\u001b[0m                 [tick.label2.get_window_extent(renderer)\n\u001b[1;32m   1152\u001b[0m                  for tick in ticks if tick.label2.get_visible()])\n",
      "\u001b[0;32m/var/mobile/Containers/Data/Application/9A169011-B343-40EA-A6A7-9B289CFA29B1/Library/Application Support/com.rationalmatter.junoapp/python-home/lib/python3.6/site-packages/matplotlib/text.py\u001b[0m in \u001b[0;36mget_window_extent\u001b[0;34m(self, renderer, dpi)\u001b[0m\n\u001b[1;32m    888\u001b[0m             \u001b[0;32mraise\u001b[0m \u001b[0mRuntimeError\u001b[0m\u001b[0;34m(\u001b[0m\u001b[0;34m'Cannot get window extent w/o renderer'\u001b[0m\u001b[0;34m)\u001b[0m\u001b[0;34m\u001b[0m\u001b[0m\n\u001b[1;32m    889\u001b[0m \u001b[0;34m\u001b[0m\u001b[0m\n\u001b[0;32m--> 890\u001b[0;31m         \u001b[0mbbox\u001b[0m\u001b[0;34m,\u001b[0m \u001b[0minfo\u001b[0m\u001b[0;34m,\u001b[0m \u001b[0mdescent\u001b[0m \u001b[0;34m=\u001b[0m \u001b[0mself\u001b[0m\u001b[0;34m.\u001b[0m\u001b[0m_get_layout\u001b[0m\u001b[0;34m(\u001b[0m\u001b[0mself\u001b[0m\u001b[0;34m.\u001b[0m\u001b[0m_renderer\u001b[0m\u001b[0;34m)\u001b[0m\u001b[0;34m\u001b[0m\u001b[0m\n\u001b[0m\u001b[1;32m    891\u001b[0m         \u001b[0mx\u001b[0m\u001b[0;34m,\u001b[0m \u001b[0my\u001b[0m \u001b[0;34m=\u001b[0m \u001b[0mself\u001b[0m\u001b[0;34m.\u001b[0m\u001b[0mget_unitless_position\u001b[0m\u001b[0;34m(\u001b[0m\u001b[0;34m)\u001b[0m\u001b[0;34m\u001b[0m\u001b[0m\n\u001b[1;32m    892\u001b[0m         \u001b[0mx\u001b[0m\u001b[0;34m,\u001b[0m \u001b[0my\u001b[0m \u001b[0;34m=\u001b[0m \u001b[0mself\u001b[0m\u001b[0;34m.\u001b[0m\u001b[0mget_transform\u001b[0m\u001b[0;34m(\u001b[0m\u001b[0;34m)\u001b[0m\u001b[0;34m.\u001b[0m\u001b[0mtransform_point\u001b[0m\u001b[0;34m(\u001b[0m\u001b[0;34m(\u001b[0m\u001b[0mx\u001b[0m\u001b[0;34m,\u001b[0m \u001b[0my\u001b[0m\u001b[0;34m)\u001b[0m\u001b[0;34m)\u001b[0m\u001b[0;34m\u001b[0m\u001b[0m\n",
      "\u001b[0;32m/var/mobile/Containers/Data/Application/9A169011-B343-40EA-A6A7-9B289CFA29B1/Library/Application Support/com.rationalmatter.junoapp/python-home/lib/python3.6/site-packages/matplotlib/text.py\u001b[0m in \u001b[0;36m_get_layout\u001b[0;34m(self, renderer)\u001b[0m\n\u001b[1;32m    289\u001b[0m         _, lp_h, lp_d = renderer.get_text_width_height_descent(\n\u001b[1;32m    290\u001b[0m             \u001b[0;34m\"lp\"\u001b[0m\u001b[0;34m,\u001b[0m \u001b[0mself\u001b[0m\u001b[0;34m.\u001b[0m\u001b[0m_fontproperties\u001b[0m\u001b[0;34m,\u001b[0m\u001b[0;34m\u001b[0m\u001b[0m\n\u001b[0;32m--> 291\u001b[0;31m             ismath=\"TeX\" if self.get_usetex() else False)\n\u001b[0m\u001b[1;32m    292\u001b[0m         \u001b[0mmin_dy\u001b[0m \u001b[0;34m=\u001b[0m \u001b[0;34m(\u001b[0m\u001b[0mlp_h\u001b[0m \u001b[0;34m-\u001b[0m \u001b[0mlp_d\u001b[0m\u001b[0;34m)\u001b[0m \u001b[0;34m*\u001b[0m \u001b[0mself\u001b[0m\u001b[0;34m.\u001b[0m\u001b[0m_linespacing\u001b[0m\u001b[0;34m\u001b[0m\u001b[0m\n\u001b[1;32m    293\u001b[0m \u001b[0;34m\u001b[0m\u001b[0m\n",
      "\u001b[0;32m/var/mobile/Containers/Data/Application/9A169011-B343-40EA-A6A7-9B289CFA29B1/Library/Application Support/com.rationalmatter.junoapp/python-home/lib/python3.6/site-packages/matplotlib/backends/backend_agg.py\u001b[0m in \u001b[0;36mget_text_width_height_descent\u001b[0;34m(self, s, prop, ismath)\u001b[0m\n\u001b[1;32m    199\u001b[0m             \u001b[0mfontsize\u001b[0m \u001b[0;34m=\u001b[0m \u001b[0mprop\u001b[0m\u001b[0;34m.\u001b[0m\u001b[0mget_size_in_points\u001b[0m\u001b[0;34m(\u001b[0m\u001b[0;34m)\u001b[0m\u001b[0;34m\u001b[0m\u001b[0m\n\u001b[1;32m    200\u001b[0m             w, h, d = texmanager.get_text_width_height_descent(\n\u001b[0;32m--> 201\u001b[0;31m                 s, fontsize, renderer=self)\n\u001b[0m\u001b[1;32m    202\u001b[0m             \u001b[0;32mreturn\u001b[0m \u001b[0mw\u001b[0m\u001b[0;34m,\u001b[0m \u001b[0mh\u001b[0m\u001b[0;34m,\u001b[0m \u001b[0md\u001b[0m\u001b[0;34m\u001b[0m\u001b[0m\n\u001b[1;32m    203\u001b[0m \u001b[0;34m\u001b[0m\u001b[0m\n",
      "\u001b[0;32m/var/mobile/Containers/Data/Application/9A169011-B343-40EA-A6A7-9B289CFA29B1/Library/Application Support/com.rationalmatter.junoapp/python-home/lib/python3.6/site-packages/matplotlib/texmanager.py\u001b[0m in \u001b[0;36mget_text_width_height_descent\u001b[0;34m(self, tex, fontsize, renderer)\u001b[0m\n\u001b[1;32m    447\u001b[0m             \u001b[0;31m# use dviread. It sometimes returns a wrong descent.\u001b[0m\u001b[0;34m\u001b[0m\u001b[0;34m\u001b[0m\u001b[0m\n\u001b[1;32m    448\u001b[0m             \u001b[0mdvifile\u001b[0m \u001b[0;34m=\u001b[0m \u001b[0mself\u001b[0m\u001b[0;34m.\u001b[0m\u001b[0mmake_dvi\u001b[0m\u001b[0;34m(\u001b[0m\u001b[0mtex\u001b[0m\u001b[0;34m,\u001b[0m \u001b[0mfontsize\u001b[0m\u001b[0;34m)\u001b[0m\u001b[0;34m\u001b[0m\u001b[0m\n\u001b[0;32m--> 449\u001b[0;31m             \u001b[0;32mwith\u001b[0m \u001b[0mdviread\u001b[0m\u001b[0;34m.\u001b[0m\u001b[0mDvi\u001b[0m\u001b[0;34m(\u001b[0m\u001b[0mdvifile\u001b[0m\u001b[0;34m,\u001b[0m \u001b[0;36m72\u001b[0m \u001b[0;34m*\u001b[0m \u001b[0mdpi_fraction\u001b[0m\u001b[0;34m)\u001b[0m \u001b[0;32mas\u001b[0m \u001b[0mdvi\u001b[0m\u001b[0;34m:\u001b[0m\u001b[0;34m\u001b[0m\u001b[0m\n\u001b[0m\u001b[1;32m    450\u001b[0m                 \u001b[0mpage\u001b[0m\u001b[0;34m,\u001b[0m \u001b[0;34m=\u001b[0m \u001b[0mdvi\u001b[0m\u001b[0;34m\u001b[0m\u001b[0m\n\u001b[1;32m    451\u001b[0m             \u001b[0;31m# A total height (including the descent) needs to be returned.\u001b[0m\u001b[0;34m\u001b[0m\u001b[0;34m\u001b[0m\u001b[0m\n",
      "\u001b[0;32m/var/mobile/Containers/Data/Application/9A169011-B343-40EA-A6A7-9B289CFA29B1/Library/Application Support/com.rationalmatter.junoapp/python-home/lib/python3.6/site-packages/matplotlib/dviread.py\u001b[0m in \u001b[0;36m__init__\u001b[0;34m(self, filename, dpi)\u001b[0m\n\u001b[1;32m    196\u001b[0m         \"\"\"\n\u001b[1;32m    197\u001b[0m         \u001b[0m_log\u001b[0m\u001b[0;34m.\u001b[0m\u001b[0mdebug\u001b[0m\u001b[0;34m(\u001b[0m\u001b[0;34m'Dvi: %s'\u001b[0m\u001b[0;34m,\u001b[0m \u001b[0mfilename\u001b[0m\u001b[0;34m)\u001b[0m\u001b[0;34m\u001b[0m\u001b[0m\n\u001b[0;32m--> 198\u001b[0;31m         \u001b[0mself\u001b[0m\u001b[0;34m.\u001b[0m\u001b[0mfile\u001b[0m \u001b[0;34m=\u001b[0m \u001b[0mopen\u001b[0m\u001b[0;34m(\u001b[0m\u001b[0mfilename\u001b[0m\u001b[0;34m,\u001b[0m \u001b[0;34m'rb'\u001b[0m\u001b[0;34m)\u001b[0m\u001b[0;34m\u001b[0m\u001b[0m\n\u001b[0m\u001b[1;32m    199\u001b[0m         \u001b[0mself\u001b[0m\u001b[0;34m.\u001b[0m\u001b[0mdpi\u001b[0m \u001b[0;34m=\u001b[0m \u001b[0mdpi\u001b[0m\u001b[0;34m\u001b[0m\u001b[0m\n\u001b[1;32m    200\u001b[0m         \u001b[0mself\u001b[0m\u001b[0;34m.\u001b[0m\u001b[0mfonts\u001b[0m \u001b[0;34m=\u001b[0m \u001b[0;34m{\u001b[0m\u001b[0;34m}\u001b[0m\u001b[0;34m\u001b[0m\u001b[0m\n",
      "\u001b[0;31mFileNotFoundError\u001b[0m: [Errno 2] No such file or directory: '/private/var/mobile/Containers/Data/Application/9A169011-B343-40EA-A6A7-9B289CFA29B1/tmp/matplotlib-9kc1lwm3/tex.cache/857b03f78dcf2e48225de4b236393502.dvi'"
     ]
    },
    {
     "data": {
      "text/plain": [
       "<Figure size 1400x600 with 2 Axes>"
      ]
     },
     "metadata": {
      "needs_background": "light"
     },
     "output_type": "display_data"
    }
   ],
   "source": [
    "h2 = [1.2915831663326653, 0.7354709418837675,\n",
    "      1.3066132264529058, 0.9809619238476954,\n",
    "      1.3416833667334669, 1.3667334669338675]\n",
    "\n",
    "\n",
    "h3 = [1.3026052104208419, 0.7705410821643286,\n",
    "      1.3206412825651301, 1.0230460921843687,\n",
    "      1.4018036072144289, 1.4018036072144289]\n",
    "\n",
    "h4 = [1.276553106212425, 0.7555110220440882,\n",
    "      1.3016032064128256, 0.9859719438877755,\n",
    "      1.3366733466933867, 1.376753507014028]\n",
    "\n",
    "h5 = [1.276553106212425, 0.7555110220440882,\n",
    "      1.3066132264529058, 0.9809619238476954,\n",
    "      1.3316633266533064, 1.346693386773547]\n",
    "\n",
    "height = [2,3,4,5]\n",
    "tau_s = [h2[0], h3[0], h4[0], h5[0]]\n",
    "sigma_s = [h2[1], h3[1], h4[1], h5[1]]\n",
    "tau_a = [h2[2], h3[2], h4[2], h5[2]]\n",
    "sigma_a = [h2[3], h3[3], h4[3], h5[3]]\n",
    "tau_d = [h2[4], h3[4], h4[4], h5[4]]\n",
    "sigma_d = [h2[5], h3[5], h4[5], h5[5]]\n",
    "\n",
    "\n",
    "# -------------------- Create Figure  -------------------- #\n",
    "seedrange = np.arange(4500,4506, 1)\n",
    "\n",
    "fig, (ax1, ax2) = plt.subplots(1,2,figsize=(7, 3), dpi=200, frameon=True)\n",
    "\n",
    "ax1.plot(height, tau_s, 'r-o', label=r\"size - $\\tau_s$\")\n",
    "ax2.plot(height, sigma_s, 'm-o', label=r\"size - $\\sigma_s$\")\n",
    "ax1.plot(height, tau_a, 'b-o', label=r\"area - $\\tau_a$\")\n",
    "ax2.plot(height, sigma_a, 'c-o', label=r\"area - $\\sigma_a$\")\n",
    "ax1.plot(height, tau_d, 'g-o', label=r\"duration - $\\tau_d$\")\n",
    "ax2.plot(height, sigma_d, 'y-o', label=r\"duration - $\\sigma_d$\")\n",
    "\n",
    "# ax1.plot(np.asarray(height), np.asarray(height)*0 + 1.203, 'r--', label=r\"AM: size - $\\tau_s$\")\n",
    "# ax1.plot(np.asarray(height), np.asarray(height)*0 + 1.179, 'b--', label=r\"AM: area - $\\tau_a$\")\n",
    "# ax1.plot(np.asarray(height), np.asarray(height)*0 + 1.281, 'g--', label=r\"AM: duration - $\\tau_d$\")\n",
    "\n",
    "\n",
    "\n",
    "# -- Decoration --\n",
    "ax1.set_xlabel(r'height, $h$',fontweight='bold'); \n",
    "ax1.set_ylabel('exponent',fontweight='bold')\n",
    "ax1.legend(fontsize=9)\n",
    "\n",
    "ax2.set_xlabel(r'height, $h$',fontweight='bold'); \n",
    "ax2.set_ylabel('exponent',fontweight='bold')\n",
    "ax2.legend(fontsize=9)\n",
    "\n",
    "fig.suptitle(\"MM-OBC, $L=256$\")\n"
   ]
  },
  {
   "cell_type": "markdown",
   "metadata": {
    "heading_collapsed": true
   },
   "source": [
    "## Manna Model w/ Deterministic Firing"
   ]
  },
  {
   "cell_type": "markdown",
   "metadata": {
    "heading_collapsed": true,
    "hidden": true
   },
   "source": [
    "### MM w/ Firing Upwards"
   ]
  },
  {
   "cell_type": "markdown",
   "metadata": {
    "hidden": true
   },
   "source": [
    "#### Scaling Plots"
   ]
  },
  {
   "cell_type": "code",
   "execution_count": null,
   "metadata": {
    "hidden": true
   },
   "outputs": [],
   "source": [
    "def plotD_plotSizes(seed, c):\n",
    "    \n",
    "    ## Sizes w/ double counting\n",
    "    x,y,params = plotSizes(seed, filetype='s');  x = np.log10(x); y = np.log10(y)\n",
    "    ax1.plot(x, y, '.-', color=c, label = r\"$\\lambda=$\"+str(round(params[2],6)))\n",
    "    \n",
    "    ## Sizes w/o double counting\n",
    "    x,y,params = plotSizes(seed, filetype='a');  x = np.log10(x); y = np.log10(y)\n",
    "    ax3.plot(x, y, '.-', color=c, label = r\"$\\lambda=$\"+str(round(params[2],6)))\n",
    "    \n",
    "    ## Durations\n",
    "    x,y,params = plotSizes(seed, filetype='d');  x = np.log10(x); y = np.log10(y)\n",
    "    ax2.plot(x, y, '.-', color=c,label = r\"$\\lambda=$\"+str(round(params[2],6)))\n",
    "    \n",
    "    return params[3], params[2]"
   ]
  },
  {
   "cell_type": "code",
   "execution_count": null,
   "metadata": {
    "hidden": true
   },
   "outputs": [],
   "source": [
    "# -------------------- Create Figure  -------------------- #\n",
    "seedrange = np.arange(5200,5207, 1)\n",
    "\n",
    "fig, (ax1, ax2, ax3) = plt.subplots(1,3,figsize=(9, 3), dpi=200, frameon=True)\n",
    "color = iter( cm.rainbow( np.linspace(0,1,len(seedrange)) ) )\n",
    "for i in seedrange:  \n",
    "    c = next( color )\n",
    "    eta, lamb = plotD_plotSizes(i, c)\n",
    "\n",
    "# -- Decoration --\n",
    "ax1.set_ylabel(r'$\\log N_s(s,L)$',fontweight='bold'); ax1.set_xlabel('size, $\\log s$',fontweight='bold')\n",
    "ax2.set_ylabel(r'$\\log N_d(d,L)$',fontweight='bold'); ax2.set_xlabel('duration, $\\log d$',fontweight='bold')\n",
    "ax3.set_ylabel(r'$\\log N_a(a,L)$',fontweight='bold'); ax3.set_xlabel('size, $\\log a$',fontweight='bold')\n",
    "ax1.legend(loc=3, fontsize=6)\n",
    "ax2.legend(loc=3, fontsize=6)\n",
    "ax3.legend(loc=3, fontsize=6)\n"
   ]
  },
  {
   "cell_type": "markdown",
   "metadata": {
    "heading_collapsed": true,
    "hidden": true
   },
   "source": [
    "#### Data collapse "
   ]
  },
  {
   "cell_type": "code",
   "execution_count": null,
   "metadata": {
    "hidden": true
   },
   "outputs": [],
   "source": [
    "\n",
    "# 1.211847389558233 2.7751004016064256\n",
    "# 1.1716867469879517 2.0281124497991967\n",
    "# 1.2720883534136547 1.5783132530120483\n",
    "\n",
    "def plotD_plotSizes_rescaled(seed, c):\n",
    "    \n",
    "    ## Sizes w/ double counting\n",
    "    x,y,params = plotSizes(seed, filetype='s');\n",
    "    lambd = params[2];\n",
    "#     tau = 1.223; sigma = 1.19143    # AM critical exponents \n",
    "    tau = 1.3026052104208419        # MM_3 critical exponents \n",
    "    sigma = 0.7705410821643286\n",
    "    \n",
    "    x_r = x * lambd**(1/sigma)\n",
    "    y_r = y * lambd**(-tau/sigma)\n",
    "    ax1.plot(np.log10(x_r), np.log10(y_r) , '.-', color=c, label = r\"$\\lambda=$\"+str(round(lambd,6)))\n",
    "    \n",
    "    \n",
    "    ## Sizes w/o double counting\n",
    "    x,y,params = plotSizes(seed, filetype='a');  \n",
    "    lambd = params[2];\n",
    "#     tau = 1.179; sigma = 1.0982    # AM critical exponents \n",
    "    tau = 1.3206412825651301        # MM_3 critical exponents \n",
    "    sigma = 1.0230460921843687\n",
    "    \n",
    "    x_r = x * lambd**(1/sigma)\n",
    "    y_r = y * lambd**(-tau/sigma)\n",
    "    ax2.plot(np.log10(x_r), np.log10(y_r) , '.-', color=c, label = r\"$\\lambda=$\"+str(round(lambd,6)))\n",
    "    \n",
    "    \n",
    "    ## Durations\n",
    "    x,y,params = plotSizes(seed, filetype='d');  \n",
    "    lambd = params[2];\n",
    "#     tau = 1.281; sigma = 1.595    # AM critical exponents \n",
    "    tau = 1.4018036072144289        # MM_3 critical exponents \n",
    "    sigma = 1.4018036072144289\n",
    "    \n",
    "    x_r = x * lambd**(1/sigma)\n",
    "    y_r = y * lambd**(-tau/sigma)\n",
    "    ax3.plot(np.log10(x_r), np.log10(y_r) , '.-', color=c, label = r\"$\\lambda=$\"+str(round(lambd,6)))\n",
    "    return params[3]\n",
    "\n",
    "# 1.3026052104208419 0.7705410821643286\n",
    "# 1.3206412825651301 1.0230460921843687\n",
    "# 1.4018036072144289 1.4018036072144289"
   ]
  },
  {
   "cell_type": "code",
   "execution_count": null,
   "metadata": {
    "hidden": true
   },
   "outputs": [],
   "source": [
    "# -------------------- Create Figure  -------------------- #\n",
    "seedrange = np.arange(4300,4307, 1)\n",
    "\n",
    "fig, (ax1, ax2, ax3) = plt.subplots(1,3,figsize=(9, 3), dpi=200, frameon=True)\n",
    "color = iter( cm.rainbow( np.linspace(0,1,len(seedrange)) ) )\n",
    "for i in seedrange:  \n",
    "    c = next( color )\n",
    "    eta = plotD_plotSizes_rescaled(i, c)\n",
    "\n",
    "\n",
    "# -- Decoration --\n",
    "ax1.set_ylabel(r'$N_s(s,L)$',fontweight='bold'); ax1.set_xlabel('size, $s$',fontweight='bold')\n",
    "ax2.set_ylabel(r'$N_d(d,L)$',fontweight='bold'); ax2.set_xlabel('duration, $d$',fontweight='bold')\n",
    "ax3.set_ylabel(r'$N_a(a,L)$',fontweight='bold'); ax3.set_xlabel('size, $a$',fontweight='bold')\n",
    "ax1.legend(loc=3, fontsize=8)\n",
    "ax2.legend(loc=3, fontsize=8)\n",
    "ax3.legend(loc=3, fontsize=8)\n",
    "fig.suptitle(\"MM - OBC, $L = 256, h_c = 3$\")\n"
   ]
  },
  {
   "cell_type": "code",
   "execution_count": null,
   "metadata": {
    "hidden": true
   },
   "outputs": [],
   "source": []
  },
  {
   "cell_type": "markdown",
   "metadata": {
    "hidden": true
   },
   "source": [
    "#### Finding exponents? "
   ]
  },
  {
   "cell_type": "code",
   "execution_count": null,
   "metadata": {
    "hidden": true
   },
   "outputs": [],
   "source": [
    "# -------------------- Fitting to FSS  -------------------- #\n",
    "def plotFSS_1(seed, c, tau, d, filetype):\n",
    "    \"\"\" seed - seed of run to plot\n",
    "        c - color of the line being plotted\n",
    "        tau, d - exponents for rescaling\n",
    "        filetype - which quantity to plot / file to draw from\n",
    "    \"\"\"    \n",
    "    x,y,params = plotSizes(seed, filetype);  #x = np.log10(x); y = np.log10(y)\n",
    "    lambd = float(params[2])\n",
    "    ax1.plot(x * lambd**(1/sigma), y * lambd**(-tau/sigma), \n",
    "             '.-', color=c, label = \"L=\"+str(params[1]))\n",
    "             \n",
    "             \n",
    "def diff_1(tau, d,  x1,y1,params1,  x2,y2,params2,  filetype, plotYes):\n",
    "    \"\"\" Computes the difference w/ rescaled axis of two given runs with a given exponent set. Seed1/2 are the seeds of our desired runs.\"\"\"\n",
    "    \n",
    "    x1_r = np.log10(x1 * float(params1[2])**(1/d)) \n",
    "    y1_r = np.log10(y1 * float(params1[2])**(-tau/d))\n",
    "\n",
    "    x2_r = np.log10(x2 * float(params2[2])**(1/d)) \n",
    "    y2_r = np.log10(y2 * float(params2[2])**(-tau/d))\n",
    "    \n",
    "    if plotYes==True:\n",
    "        plotPolyFit(x1_r, y1_r, x2_r, y2_r)\n",
    "\n",
    "    Xstart = max(x1_r[0], x2_r[0])\n",
    "    Xend = min(x1_r[-1], x2_r[-1])\n",
    "#     with warnings.catch_warnings():\n",
    "#         warnings.simplefilter('ignore', np.RankWarning)\n",
    "    z1 = np.polyfit(x1_r, y1_r, 10)\n",
    "    z2 = np.polyfit(x2_r, y2_r, 10)\n",
    "    p1 = np.poly1d(z1)\n",
    "    p2 = np.poly1d(z2)\n",
    "    xp = np.linspace(Xstart,Xend, 100)\n",
    "\n",
    "    return np.sqrt( np.sum( (p2(xp) - p1(xp))**2 ) )\n",
    "\n",
    "\n",
    "def plotPolyFit(x1_r, y1_r, x2_r, y2_r):\n",
    "\n",
    "    Xstart = max(x1_r[0], x2_r[0])\n",
    "    Xend = min(x1_r[-1], x2_r[-1])\n",
    "\n",
    "    z1 = np.polyfit(x1_r, y1_r, 10)\n",
    "    z2 = np.polyfit(x2_r, y2_r, 10)\n",
    "    p1 = np.poly1d(z1)\n",
    "    p2 = np.poly1d(z2)\n",
    "    xp = np.linspace(Xstart,Xend, 100)\n",
    "\n",
    "    fig1, ax1 = plt.subplots(1,1,figsize=(4, 3.5), dpi=120,frameon=False)\n",
    "    ax1.plot(x1_r, y1_r, 'r-')\n",
    "    ax1.plot(xp, p1(xp), 'r--')\n",
    "    ax1.plot(x2_r, y2_r, 'b-')\n",
    "    ax1.plot(xp, p2(xp), 'b--')\n",
    "    fig.show()\n",
    "\n",
    "    \n",
    "def diffoverRange(tauRange, dRange, seed1, seed2, filetype, plotYes):\n",
    "    x1,y1,params1 = plotSizes(seed1, filetype)\n",
    "    x2,y2,params2 = plotSizes(seed2, filetype)\n",
    "    \n",
    "    Z = np.zeros((len(tauRange), len(dRange)))\n",
    "    for xxx in range(len(tauRange)):\n",
    "        for yyy in range(len(dRange)):\n",
    "            Z[xxx, yyy] = diff_1(tauRange[xxx], dRange[yyy],  x1,y1,params1,  x2,y2,params2,  filetype, plotYes)\n",
    "    return Z\n",
    "\n",
    "def find_min_idx(x):\n",
    "    k = x.argmin()\n",
    "    ncol = x.shape[1]\n",
    "    return k//ncol, k%ncol"
   ]
  },
  {
   "cell_type": "code",
   "execution_count": null,
   "metadata": {
    "hidden": true
   },
   "outputs": [],
   "source": [
    "tauRange = np.linspace(0.5, 5, 500)\n",
    "sigmaRange = np.linspace(0.5, 5, 500)\n",
    "\n",
    "Zs = diffoverRange(tauRange, sigmaRange, 4302, 4305, 's', plotYes=False)\n",
    "Za = diffoverRange(tauRange, sigmaRange, 4302, 4305, 'a', plotYes=False)\n",
    "Zd = diffoverRange(tauRange, sigmaRange, 4302, 4305, 'd', plotYes=False)\n",
    "# print(Z)"
   ]
  },
  {
   "cell_type": "code",
   "execution_count": null,
   "metadata": {
    "hidden": true
   },
   "outputs": [],
   "source": [
    "\n",
    "Z = Zs #==============================================\n",
    "tauBest=tauRange[find_min_idx(Z)[0]]\n",
    "sigmaBest=sigmaRange[find_min_idx(Z)[1]]\n",
    "print(tauBest, sigmaBest)\n",
    "\n",
    "fig = plt.figure(figsize=(6,4), dpi=120, frameon=True)\n",
    "ax = plt.axes()\n",
    "heatmap = ax.contourf(sigmaRange, tauRange, Z, 50, cmap='viridis')\n",
    "ax.plot(sigmaBest, tauBest, color='red', marker='o')\n",
    "\n",
    "ax.set_ylabel(r'$\\tau_s$')\n",
    "ax.set_xlabel(r'$\\sigma_s$')\n",
    "fig.colorbar(heatmap)\n",
    "ax.set_title('Manna; size $s$', fontweight='bold')\n",
    "fig.tight_layout()\n",
    "\n",
    "Z = Za #==============================================\n",
    "tauBest=tauRange[find_min_idx(Z)[0]]\n",
    "sigmaBest=sigmaRange[find_min_idx(Z)[1]]\n",
    "print(tauBest, sigmaBest)\n",
    "\n",
    "fig = plt.figure(figsize=(6,4), dpi=120, frameon=True)\n",
    "ax = plt.axes()\n",
    "heatmap = ax.contourf(sigmaRange, tauRange, Z, 50, cmap='viridis')\n",
    "ax.plot(sigmaBest, tauBest, color='red', marker='o')\n",
    "\n",
    "ax.set_ylabel(r'$\\tau_s$')\n",
    "ax.set_xlabel(r'$\\sigma_s$')\n",
    "fig.colorbar(heatmap)\n",
    "ax.set_title('Manna; size $a$', fontweight='bold')\n",
    "fig.tight_layout()\n",
    "\n",
    "\n",
    "Z = Zd #==============================================\n",
    "tauBest=tauRange[find_min_idx(Z)[0]]\n",
    "sigmaBest=sigmaRange[find_min_idx(Z)[1]]\n",
    "print(tauBest, sigmaBest)\n",
    "\n",
    "fig = plt.figure(figsize=(6,4), dpi=120, frameon=True)\n",
    "ax = plt.axes()\n",
    "heatmap = ax.contourf(sigmaRange, tauRange, Z, 50, cmap='viridis')\n",
    "ax.plot(sigmaBest, tauBest, color='red', marker='o')\n",
    "\n",
    "ax.set_ylabel(r'$\\tau_s$')\n",
    "ax.set_xlabel(r'$\\sigma_s$')\n",
    "fig.colorbar(heatmap)\n",
    "ax.set_title('Manna; duration $D$', fontweight='bold')\n",
    "fig.tight_layout()\n",
    "\n"
   ]
  },
  {
   "cell_type": "code",
   "execution_count": null,
   "metadata": {
    "hidden": true,
    "scrolled": true
   },
   "outputs": [],
   "source": [
    "x1,y1,params1 = plotSizes(4302, 's')\n",
    "x2,y2,params2 = plotSizes(4305, 's')\n",
    "tau = 1.2881763527054109\n",
    "sigma = 0.7775551102204409\n",
    "# 1.2881763527054109 0.7775551102204409\n",
    "# tau = 1.325; sigma = 1.104026845637584\n",
    "\n",
    "diff_1(tau, sigma,  x1,y1,params1,  x2,y2,params2,  's', True)"
   ]
  },
  {
   "cell_type": "code",
   "execution_count": null,
   "metadata": {
    "hidden": true
   },
   "outputs": [],
   "source": []
  },
  {
   "cell_type": "markdown",
   "metadata": {
    "hidden": true
   },
   "source": [
    "### MM w/ Firing y-direction"
   ]
  },
  {
   "cell_type": "markdown",
   "metadata": {
    "hidden": true
   },
   "source": [
    "#### Scaling Plots"
   ]
  },
  {
   "cell_type": "code",
   "execution_count": 4,
   "metadata": {
    "hidden": true
   },
   "outputs": [],
   "source": [
    "def plotD_plotSizes(seed, c):\n",
    "    \n",
    "    ## Sizes w/ double counting\n",
    "    x,y,params = plotSizes(seed, filetype='s');  x = np.log10(x); y = np.log10(y)\n",
    "    ax1.plot(x, y, '.-', color=c, label = r\"$\\lambda=$\"+str(round(params[2],6)))\n",
    "    \n",
    "    ## Sizes w/o double counting\n",
    "    x,y,params = plotSizes(seed, filetype='a');  x = np.log10(x); y = np.log10(y)\n",
    "    ax3.plot(x, y, '.-', color=c, label = r\"$\\lambda=$\"+str(round(params[2],6)))\n",
    "    \n",
    "    ## Durations\n",
    "    x,y,params = plotSizes(seed, filetype='d');  x = np.log10(x); y = np.log10(y)\n",
    "    ax2.plot(x, y, '.-', color=c,label = r\"$\\lambda=$\"+str(round(params[2],6)))\n",
    "    \n",
    "    return params[3], params[2]"
   ]
  },
  {
   "cell_type": "code",
   "execution_count": 5,
   "metadata": {
    "hidden": true
   },
   "outputs": [
    {
     "data": {
      "text/plain": [
       "<matplotlib.legend.Legend at 0x122eb2208>"
      ]
     },
     "execution_count": 5,
     "metadata": {},
     "output_type": "execute_result"
    },
    {
     "name": "stderr",
     "output_type": "stream",
     "text": [
      "findfont: Font family ['sans-serif'] not found. Falling back to DejaVu Sans.\n"
     ]
    },
    {
     "data": {
      "image/png": "[encoded data removed]",
      "text/plain": [
       "<Figure size 1800x600 with 3 Axes>"
      ]
     },
     "metadata": {},
     "output_type": "display_data"
    }
   ],
   "source": [
    "# -------------------- Create Figure  -------------------- #\n",
    "seedrange = np.arange(5300,5305, 1)\n",
    "\n",
    "fig, (ax1, ax2, ax3) = plt.subplots(1,3,figsize=(9, 3), dpi=200, frameon=True)\n",
    "color = iter( cm.rainbow( np.linspace(0,1,len(seedrange)) ) )\n",
    "for i in seedrange:  \n",
    "    c = next( color )\n",
    "    eta, lamb = plotD_plotSizes(i, c)\n",
    "\n",
    "# -- Decoration --\n",
    "ax1.set_ylabel(r'$\\log N_s(s,L)$',fontweight='bold'); ax1.set_xlabel('size, $\\log s$',fontweight='bold')\n",
    "ax2.set_ylabel(r'$\\log N_d(d,L)$',fontweight='bold'); ax2.set_xlabel('duration, $\\log d$',fontweight='bold')\n",
    "ax3.set_ylabel(r'$\\log N_a(a,L)$',fontweight='bold'); ax3.set_xlabel('size, $\\log a$',fontweight='bold')\n",
    "ax1.legend(loc=3, fontsize=6)\n",
    "ax2.legend(loc=3, fontsize=6)\n",
    "ax3.legend(loc=3, fontsize=6)\n"
   ]
  },
  {
   "cell_type": "markdown",
   "metadata": {
    "hidden": true
   },
   "source": [
    "#### Data collapse "
   ]
  },
  {
   "cell_type": "code",
   "execution_count": null,
   "metadata": {
    "hidden": true
   },
   "outputs": [],
   "source": [
    "\n",
    "# 1.211847389558233 2.7751004016064256\n",
    "# 1.1716867469879517 2.0281124497991967\n",
    "# 1.2720883534136547 1.5783132530120483\n",
    "\n",
    "def plotD_plotSizes_rescaled(seed, c):\n",
    "    \n",
    "    ## Sizes w/ double counting\n",
    "    x,y,params = plotSizes(seed, filetype='s');\n",
    "    lambd = params[2];\n",
    "#     tau = 1.223; sigma = 1.19143    # AM critical exponents \n",
    "    tau = 1.3026052104208419        # MM_3 critical exponents \n",
    "    sigma = 0.7705410821643286\n",
    "    \n",
    "    x_r = x * lambd**(1/sigma)\n",
    "    y_r = y * lambd**(-tau/sigma)\n",
    "    ax1.plot(np.log10(x_r), np.log10(y_r) , '.-', color=c, label = r\"$\\lambda=$\"+str(round(lambd,6)))\n",
    "    \n",
    "    \n",
    "    ## Sizes w/o double counting\n",
    "    x,y,params = plotSizes(seed, filetype='a');  \n",
    "    lambd = params[2];\n",
    "#     tau = 1.179; sigma = 1.0982    # AM critical exponents \n",
    "    tau = 1.3206412825651301        # MM_3 critical exponents \n",
    "    sigma = 1.0230460921843687\n",
    "    \n",
    "    x_r = x * lambd**(1/sigma)\n",
    "    y_r = y * lambd**(-tau/sigma)\n",
    "    ax2.plot(np.log10(x_r), np.log10(y_r) , '.-', color=c, label = r\"$\\lambda=$\"+str(round(lambd,6)))\n",
    "    \n",
    "    \n",
    "    ## Durations\n",
    "    x,y,params = plotSizes(seed, filetype='d');  \n",
    "    lambd = params[2];\n",
    "#     tau = 1.281; sigma = 1.595    # AM critical exponents \n",
    "    tau = 1.4018036072144289        # MM_3 critical exponents \n",
    "    sigma = 1.4018036072144289\n",
    "    \n",
    "    x_r = x * lambd**(1/sigma)\n",
    "    y_r = y * lambd**(-tau/sigma)\n",
    "    ax3.plot(np.log10(x_r), np.log10(y_r) , '.-', color=c, label = r\"$\\lambda=$\"+str(round(lambd,6)))\n",
    "    return params[3]\n",
    "\n",
    "# 1.3026052104208419 0.7705410821643286\n",
    "# 1.3206412825651301 1.0230460921843687\n",
    "# 1.4018036072144289 1.4018036072144289"
   ]
  },
  {
   "cell_type": "code",
   "execution_count": null,
   "metadata": {
    "hidden": true
   },
   "outputs": [],
   "source": [
    "# -------------------- Create Figure  -------------------- #\n",
    "seedrange = np.arange(4300,4307, 1)\n",
    "\n",
    "fig, (ax1, ax2, ax3) = plt.subplots(1,3,figsize=(9, 3), dpi=200, frameon=True)\n",
    "color = iter( cm.rainbow( np.linspace(0,1,len(seedrange)) ) )\n",
    "for i in seedrange:  \n",
    "    c = next( color )\n",
    "    eta = plotD_plotSizes_rescaled(i, c)\n",
    "\n",
    "\n",
    "# -- Decoration --\n",
    "ax1.set_ylabel(r'$N_s(s,L)$',fontweight='bold'); ax1.set_xlabel('size, $s$',fontweight='bold')\n",
    "ax2.set_ylabel(r'$N_d(d,L)$',fontweight='bold'); ax2.set_xlabel('duration, $d$',fontweight='bold')\n",
    "ax3.set_ylabel(r'$N_a(a,L)$',fontweight='bold'); ax3.set_xlabel('size, $a$',fontweight='bold')\n",
    "ax1.legend(loc=3, fontsize=8)\n",
    "ax2.legend(loc=3, fontsize=8)\n",
    "ax3.legend(loc=3, fontsize=8)\n",
    "fig.suptitle(\"MM - OBC, $L = 256, h_c = 3$\")\n"
   ]
  },
  {
   "cell_type": "code",
   "execution_count": null,
   "metadata": {
    "hidden": true
   },
   "outputs": [],
   "source": []
  },
  {
   "cell_type": "markdown",
   "metadata": {
    "hidden": true
   },
   "source": [
    "#### Finding exponents? "
   ]
  },
  {
   "cell_type": "code",
   "execution_count": null,
   "metadata": {
    "hidden": true
   },
   "outputs": [],
   "source": [
    "# -------------------- Fitting to FSS  -------------------- #\n",
    "def plotFSS_1(seed, c, tau, d, filetype):\n",
    "    \"\"\" seed - seed of run to plot\n",
    "        c - color of the line being plotted\n",
    "        tau, d - exponents for rescaling\n",
    "        filetype - which quantity to plot / file to draw from\n",
    "    \"\"\"    \n",
    "    x,y,params = plotSizes(seed, filetype);  #x = np.log10(x); y = np.log10(y)\n",
    "    lambd = float(params[2])\n",
    "    ax1.plot(x * lambd**(1/sigma), y * lambd**(-tau/sigma), \n",
    "             '.-', color=c, label = \"L=\"+str(params[1]))\n",
    "             \n",
    "             \n",
    "def diff_1(tau, d,  x1,y1,params1,  x2,y2,params2,  filetype, plotYes):\n",
    "    \"\"\" Computes the difference w/ rescaled axis of two given runs with a given exponent set. Seed1/2 are the seeds of our desired runs.\"\"\"\n",
    "    \n",
    "    x1_r = np.log10(x1 * float(params1[2])**(1/d)) \n",
    "    y1_r = np.log10(y1 * float(params1[2])**(-tau/d))\n",
    "\n",
    "    x2_r = np.log10(x2 * float(params2[2])**(1/d)) \n",
    "    y2_r = np.log10(y2 * float(params2[2])**(-tau/d))\n",
    "    \n",
    "    if plotYes==True:\n",
    "        plotPolyFit(x1_r, y1_r, x2_r, y2_r)\n",
    "\n",
    "    Xstart = max(x1_r[0], x2_r[0])\n",
    "    Xend = min(x1_r[-1], x2_r[-1])\n",
    "#     with warnings.catch_warnings():\n",
    "#         warnings.simplefilter('ignore', np.RankWarning)\n",
    "    z1 = np.polyfit(x1_r, y1_r, 10)\n",
    "    z2 = np.polyfit(x2_r, y2_r, 10)\n",
    "    p1 = np.poly1d(z1)\n",
    "    p2 = np.poly1d(z2)\n",
    "    xp = np.linspace(Xstart,Xend, 100)\n",
    "\n",
    "    return np.sqrt( np.sum( (p2(xp) - p1(xp))**2 ) )\n",
    "\n",
    "\n",
    "def plotPolyFit(x1_r, y1_r, x2_r, y2_r):\n",
    "\n",
    "    Xstart = max(x1_r[0], x2_r[0])\n",
    "    Xend = min(x1_r[-1], x2_r[-1])\n",
    "\n",
    "    z1 = np.polyfit(x1_r, y1_r, 10)\n",
    "    z2 = np.polyfit(x2_r, y2_r, 10)\n",
    "    p1 = np.poly1d(z1)\n",
    "    p2 = np.poly1d(z2)\n",
    "    xp = np.linspace(Xstart,Xend, 100)\n",
    "\n",
    "    fig1, ax1 = plt.subplots(1,1,figsize=(4, 3.5), dpi=120,frameon=False)\n",
    "    ax1.plot(x1_r, y1_r, 'r-')\n",
    "    ax1.plot(xp, p1(xp), 'r--')\n",
    "    ax1.plot(x2_r, y2_r, 'b-')\n",
    "    ax1.plot(xp, p2(xp), 'b--')\n",
    "    fig.show()\n",
    "\n",
    "    \n",
    "def diffoverRange(tauRange, dRange, seed1, seed2, filetype, plotYes):\n",
    "    x1,y1,params1 = plotSizes(seed1, filetype)\n",
    "    x2,y2,params2 = plotSizes(seed2, filetype)\n",
    "    \n",
    "    Z = np.zeros((len(tauRange), len(dRange)))\n",
    "    for xxx in range(len(tauRange)):\n",
    "        for yyy in range(len(dRange)):\n",
    "            Z[xxx, yyy] = diff_1(tauRange[xxx], dRange[yyy],  x1,y1,params1,  x2,y2,params2,  filetype, plotYes)\n",
    "    return Z\n",
    "\n",
    "def find_min_idx(x):\n",
    "    k = x.argmin()\n",
    "    ncol = x.shape[1]\n",
    "    return k//ncol, k%ncol"
   ]
  },
  {
   "cell_type": "code",
   "execution_count": null,
   "metadata": {
    "hidden": true
   },
   "outputs": [],
   "source": [
    "tauRange = np.linspace(0.5, 5, 500)\n",
    "sigmaRange = np.linspace(0.5, 5, 500)\n",
    "\n",
    "Zs = diffoverRange(tauRange, sigmaRange, 4302, 4305, 's', plotYes=False)\n",
    "Za = diffoverRange(tauRange, sigmaRange, 4302, 4305, 'a', plotYes=False)\n",
    "Zd = diffoverRange(tauRange, sigmaRange, 4302, 4305, 'd', plotYes=False)\n",
    "# print(Z)"
   ]
  },
  {
   "cell_type": "code",
   "execution_count": null,
   "metadata": {
    "hidden": true
   },
   "outputs": [],
   "source": [
    "\n",
    "Z = Zs #==============================================\n",
    "tauBest=tauRange[find_min_idx(Z)[0]]\n",
    "sigmaBest=sigmaRange[find_min_idx(Z)[1]]\n",
    "print(tauBest, sigmaBest)\n",
    "\n",
    "fig = plt.figure(figsize=(6,4), dpi=120, frameon=True)\n",
    "ax = plt.axes()\n",
    "heatmap = ax.contourf(sigmaRange, tauRange, Z, 50, cmap='viridis')\n",
    "ax.plot(sigmaBest, tauBest, color='red', marker='o')\n",
    "\n",
    "ax.set_ylabel(r'$\\tau_s$')\n",
    "ax.set_xlabel(r'$\\sigma_s$')\n",
    "fig.colorbar(heatmap)\n",
    "ax.set_title('Manna; size $s$', fontweight='bold')\n",
    "fig.tight_layout()\n",
    "\n",
    "Z = Za #==============================================\n",
    "tauBest=tauRange[find_min_idx(Z)[0]]\n",
    "sigmaBest=sigmaRange[find_min_idx(Z)[1]]\n",
    "print(tauBest, sigmaBest)\n",
    "\n",
    "fig = plt.figure(figsize=(6,4), dpi=120, frameon=True)\n",
    "ax = plt.axes()\n",
    "heatmap = ax.contourf(sigmaRange, tauRange, Z, 50, cmap='viridis')\n",
    "ax.plot(sigmaBest, tauBest, color='red', marker='o')\n",
    "\n",
    "ax.set_ylabel(r'$\\tau_s$')\n",
    "ax.set_xlabel(r'$\\sigma_s$')\n",
    "fig.colorbar(heatmap)\n",
    "ax.set_title('Manna; size $a$', fontweight='bold')\n",
    "fig.tight_layout()\n",
    "\n",
    "\n",
    "Z = Zd #==============================================\n",
    "tauBest=tauRange[find_min_idx(Z)[0]]\n",
    "sigmaBest=sigmaRange[find_min_idx(Z)[1]]\n",
    "print(tauBest, sigmaBest)\n",
    "\n",
    "fig = plt.figure(figsize=(6,4), dpi=120, frameon=True)\n",
    "ax = plt.axes()\n",
    "heatmap = ax.contourf(sigmaRange, tauRange, Z, 50, cmap='viridis')\n",
    "ax.plot(sigmaBest, tauBest, color='red', marker='o')\n",
    "\n",
    "ax.set_ylabel(r'$\\tau_s$')\n",
    "ax.set_xlabel(r'$\\sigma_s$')\n",
    "fig.colorbar(heatmap)\n",
    "ax.set_title('Manna; duration $D$', fontweight='bold')\n",
    "fig.tight_layout()\n",
    "\n"
   ]
  },
  {
   "cell_type": "code",
   "execution_count": null,
   "metadata": {
    "hidden": true,
    "scrolled": true
   },
   "outputs": [],
   "source": [
    "x1,y1,params1 = plotSizes(4302, 's')\n",
    "x2,y2,params2 = plotSizes(4305, 's')\n",
    "tau = 1.2881763527054109\n",
    "sigma = 0.7775551102204409\n",
    "# 1.2881763527054109 0.7775551102204409\n",
    "# tau = 1.325; sigma = 1.104026845637584\n",
    "\n",
    "diff_1(tau, sigma,  x1,y1,params1,  x2,y2,params2,  's', True)"
   ]
  },
  {
   "cell_type": "code",
   "execution_count": null,
   "metadata": {
    "hidden": true
   },
   "outputs": [],
   "source": []
  },
  {
   "cell_type": "markdown",
   "metadata": {
    "hidden": true
   },
   "source": [
    "### MM w/ Firing top-left corner"
   ]
  },
  {
   "cell_type": "markdown",
   "metadata": {
    "hidden": true
   },
   "source": [
    "#### Scaling Plots"
   ]
  },
  {
   "cell_type": "code",
   "execution_count": null,
   "metadata": {
    "hidden": true
   },
   "outputs": [],
   "source": [
    "def plotD_plotSizes(seed, c):\n",
    "    \n",
    "    ## Sizes w/ double counting\n",
    "    x,y,params = plotSizes(seed, filetype='s');  x = np.log10(x); y = np.log10(y)\n",
    "    ax1.plot(x, y, '.-', color=c, label = r\"$\\lambda=$\"+str(round(params[2],6)))\n",
    "    \n",
    "    ## Sizes w/o double counting\n",
    "    x,y,params = plotSizes(seed, filetype='a');  x = np.log10(x); y = np.log10(y)\n",
    "    ax3.plot(x, y, '.-', color=c, label = r\"$\\lambda=$\"+str(round(params[2],6)))\n",
    "    \n",
    "    ## Durations\n",
    "    x,y,params = plotSizes(seed, filetype='d');  x = np.log10(x); y = np.log10(y)\n",
    "    ax2.plot(x, y, '.-', color=c,label = r\"$\\lambda=$\"+str(round(params[2],6)))\n",
    "    \n",
    "    return params[3], params[2]"
   ]
  },
  {
   "cell_type": "code",
   "execution_count": null,
   "metadata": {
    "hidden": true
   },
   "outputs": [],
   "source": [
    "# -------------------- Create Figure  -------------------- #\n",
    "seedrange = np.arange(5400,5405, 1)\n",
    "\n",
    "fig, (ax1, ax2, ax3) = plt.subplots(1,3,figsize=(9, 3), dpi=200, frameon=True)\n",
    "color = iter( cm.rainbow( np.linspace(0,1,len(seedrange)) ) )\n",
    "for i in seedrange:  \n",
    "    c = next( color )\n",
    "    eta, lamb = plotD_plotSizes(i, c)\n",
    "\n",
    "# -- Decoration --\n",
    "ax1.set_ylabel(r'$\\log N_s(s,L)$',fontweight='bold'); ax1.set_xlabel('size, $\\log s$',fontweight='bold')\n",
    "ax2.set_ylabel(r'$\\log N_d(d,L)$',fontweight='bold'); ax2.set_xlabel('duration, $\\log d$',fontweight='bold')\n",
    "ax3.set_ylabel(r'$\\log N_a(a,L)$',fontweight='bold'); ax3.set_xlabel('size, $\\log a$',fontweight='bold')\n",
    "ax1.legend(loc=3, fontsize=6)\n",
    "ax2.legend(loc=3, fontsize=6)\n",
    "ax3.legend(loc=3, fontsize=6)\n"
   ]
  },
  {
   "cell_type": "markdown",
   "metadata": {
    "heading_collapsed": true,
    "hidden": true
   },
   "source": [
    "#### Data collapse "
   ]
  },
  {
   "cell_type": "code",
   "execution_count": null,
   "metadata": {
    "hidden": true
   },
   "outputs": [],
   "source": [
    "\n",
    "# 1.211847389558233 2.7751004016064256\n",
    "# 1.1716867469879517 2.0281124497991967\n",
    "# 1.2720883534136547 1.5783132530120483\n",
    "\n",
    "def plotD_plotSizes_rescaled(seed, c):\n",
    "    \n",
    "    ## Sizes w/ double counting\n",
    "    x,y,params = plotSizes(seed, filetype='s');\n",
    "    lambd = params[2];\n",
    "#     tau = 1.223; sigma = 1.19143    # AM critical exponents \n",
    "    tau = 1.3026052104208419        # MM_3 critical exponents \n",
    "    sigma = 0.7705410821643286\n",
    "    \n",
    "    x_r = x * lambd**(1/sigma)\n",
    "    y_r = y * lambd**(-tau/sigma)\n",
    "    ax1.plot(np.log10(x_r), np.log10(y_r) , '.-', color=c, label = r\"$\\lambda=$\"+str(round(lambd,6)))\n",
    "    \n",
    "    \n",
    "    ## Sizes w/o double counting\n",
    "    x,y,params = plotSizes(seed, filetype='a');  \n",
    "    lambd = params[2];\n",
    "#     tau = 1.179; sigma = 1.0982    # AM critical exponents \n",
    "    tau = 1.3206412825651301        # MM_3 critical exponents \n",
    "    sigma = 1.0230460921843687\n",
    "    \n",
    "    x_r = x * lambd**(1/sigma)\n",
    "    y_r = y * lambd**(-tau/sigma)\n",
    "    ax2.plot(np.log10(x_r), np.log10(y_r) , '.-', color=c, label = r\"$\\lambda=$\"+str(round(lambd,6)))\n",
    "    \n",
    "    \n",
    "    ## Durations\n",
    "    x,y,params = plotSizes(seed, filetype='d');  \n",
    "    lambd = params[2];\n",
    "#     tau = 1.281; sigma = 1.595    # AM critical exponents \n",
    "    tau = 1.4018036072144289        # MM_3 critical exponents \n",
    "    sigma = 1.4018036072144289\n",
    "    \n",
    "    x_r = x * lambd**(1/sigma)\n",
    "    y_r = y * lambd**(-tau/sigma)\n",
    "    ax3.plot(np.log10(x_r), np.log10(y_r) , '.-', color=c, label = r\"$\\lambda=$\"+str(round(lambd,6)))\n",
    "    return params[3]\n",
    "\n",
    "# 1.3026052104208419 0.7705410821643286\n",
    "# 1.3206412825651301 1.0230460921843687\n",
    "# 1.4018036072144289 1.4018036072144289"
   ]
  },
  {
   "cell_type": "code",
   "execution_count": null,
   "metadata": {
    "hidden": true
   },
   "outputs": [],
   "source": [
    "# -------------------- Create Figure  -------------------- #\n",
    "seedrange = np.arange(4300,4307, 1)\n",
    "\n",
    "fig, (ax1, ax2, ax3) = plt.subplots(1,3,figsize=(9, 3), dpi=200, frameon=True)\n",
    "color = iter( cm.rainbow( np.linspace(0,1,len(seedrange)) ) )\n",
    "for i in seedrange:  \n",
    "    c = next( color )\n",
    "    eta = plotD_plotSizes_rescaled(i, c)\n",
    "\n",
    "\n",
    "# -- Decoration --\n",
    "ax1.set_ylabel(r'$N_s(s,L)$',fontweight='bold'); ax1.set_xlabel('size, $s$',fontweight='bold')\n",
    "ax2.set_ylabel(r'$N_d(d,L)$',fontweight='bold'); ax2.set_xlabel('duration, $d$',fontweight='bold')\n",
    "ax3.set_ylabel(r'$N_a(a,L)$',fontweight='bold'); ax3.set_xlabel('size, $a$',fontweight='bold')\n",
    "ax1.legend(loc=3, fontsize=8)\n",
    "ax2.legend(loc=3, fontsize=8)\n",
    "ax3.legend(loc=3, fontsize=8)\n",
    "fig.suptitle(\"MM - OBC, $L = 256, h_c = 3$\")\n"
   ]
  },
  {
   "cell_type": "code",
   "execution_count": null,
   "metadata": {
    "hidden": true
   },
   "outputs": [],
   "source": []
  },
  {
   "cell_type": "markdown",
   "metadata": {
    "hidden": true
   },
   "source": [
    "#### Finding exponents? "
   ]
  },
  {
   "cell_type": "code",
   "execution_count": null,
   "metadata": {
    "hidden": true
   },
   "outputs": [],
   "source": [
    "# -------------------- Fitting to FSS  -------------------- #\n",
    "def plotFSS_1(seed, c, tau, d, filetype):\n",
    "    \"\"\" seed - seed of run to plot\n",
    "        c - color of the line being plotted\n",
    "        tau, d - exponents for rescaling\n",
    "        filetype - which quantity to plot / file to draw from\n",
    "    \"\"\"    \n",
    "    x,y,params = plotSizes(seed, filetype);  #x = np.log10(x); y = np.log10(y)\n",
    "    lambd = float(params[2])\n",
    "    ax1.plot(x * lambd**(1/sigma), y * lambd**(-tau/sigma), \n",
    "             '.-', color=c, label = \"L=\"+str(params[1]))\n",
    "             \n",
    "             \n",
    "def diff_1(tau, d,  x1,y1,params1,  x2,y2,params2,  filetype, plotYes):\n",
    "    \"\"\" Computes the difference w/ rescaled axis of two given runs with a given exponent set. Seed1/2 are the seeds of our desired runs.\"\"\"\n",
    "    \n",
    "    x1_r = np.log10(x1 * float(params1[2])**(1/d)) \n",
    "    y1_r = np.log10(y1 * float(params1[2])**(-tau/d))\n",
    "\n",
    "    x2_r = np.log10(x2 * float(params2[2])**(1/d)) \n",
    "    y2_r = np.log10(y2 * float(params2[2])**(-tau/d))\n",
    "    \n",
    "    if plotYes==True:\n",
    "        plotPolyFit(x1_r, y1_r, x2_r, y2_r)\n",
    "\n",
    "    Xstart = max(x1_r[0], x2_r[0])\n",
    "    Xend = min(x1_r[-1], x2_r[-1])\n",
    "#     with warnings.catch_warnings():\n",
    "#         warnings.simplefilter('ignore', np.RankWarning)\n",
    "    z1 = np.polyfit(x1_r, y1_r, 10)\n",
    "    z2 = np.polyfit(x2_r, y2_r, 10)\n",
    "    p1 = np.poly1d(z1)\n",
    "    p2 = np.poly1d(z2)\n",
    "    xp = np.linspace(Xstart,Xend, 100)\n",
    "\n",
    "    return np.sqrt( np.sum( (p2(xp) - p1(xp))**2 ) )\n",
    "\n",
    "\n",
    "def plotPolyFit(x1_r, y1_r, x2_r, y2_r):\n",
    "\n",
    "    Xstart = max(x1_r[0], x2_r[0])\n",
    "    Xend = min(x1_r[-1], x2_r[-1])\n",
    "\n",
    "    z1 = np.polyfit(x1_r, y1_r, 10)\n",
    "    z2 = np.polyfit(x2_r, y2_r, 10)\n",
    "    p1 = np.poly1d(z1)\n",
    "    p2 = np.poly1d(z2)\n",
    "    xp = np.linspace(Xstart,Xend, 100)\n",
    "\n",
    "    fig1, ax1 = plt.subplots(1,1,figsize=(4, 3.5), dpi=120,frameon=False)\n",
    "    ax1.plot(x1_r, y1_r, 'r-')\n",
    "    ax1.plot(xp, p1(xp), 'r--')\n",
    "    ax1.plot(x2_r, y2_r, 'b-')\n",
    "    ax1.plot(xp, p2(xp), 'b--')\n",
    "    fig.show()\n",
    "\n",
    "    \n",
    "def diffoverRange(tauRange, dRange, seed1, seed2, filetype, plotYes):\n",
    "    x1,y1,params1 = plotSizes(seed1, filetype)\n",
    "    x2,y2,params2 = plotSizes(seed2, filetype)\n",
    "    \n",
    "    Z = np.zeros((len(tauRange), len(dRange)))\n",
    "    for xxx in range(len(tauRange)):\n",
    "        for yyy in range(len(dRange)):\n",
    "            Z[xxx, yyy] = diff_1(tauRange[xxx], dRange[yyy],  x1,y1,params1,  x2,y2,params2,  filetype, plotYes)\n",
    "    return Z\n",
    "\n",
    "def find_min_idx(x):\n",
    "    k = x.argmin()\n",
    "    ncol = x.shape[1]\n",
    "    return k//ncol, k%ncol"
   ]
  },
  {
   "cell_type": "code",
   "execution_count": null,
   "metadata": {
    "hidden": true
   },
   "outputs": [],
   "source": [
    "tauRange = np.linspace(0.5, 5, 500)\n",
    "sigmaRange = np.linspace(0.5, 5, 500)\n",
    "\n",
    "Zs = diffoverRange(tauRange, sigmaRange, 4302, 4305, 's', plotYes=False)\n",
    "Za = diffoverRange(tauRange, sigmaRange, 4302, 4305, 'a', plotYes=False)\n",
    "Zd = diffoverRange(tauRange, sigmaRange, 4302, 4305, 'd', plotYes=False)\n",
    "# print(Z)"
   ]
  },
  {
   "cell_type": "code",
   "execution_count": null,
   "metadata": {
    "hidden": true
   },
   "outputs": [],
   "source": [
    "\n",
    "Z = Zs #==============================================\n",
    "tauBest=tauRange[find_min_idx(Z)[0]]\n",
    "sigmaBest=sigmaRange[find_min_idx(Z)[1]]\n",
    "print(tauBest, sigmaBest)\n",
    "\n",
    "fig = plt.figure(figsize=(6,4), dpi=120, frameon=True)\n",
    "ax = plt.axes()\n",
    "heatmap = ax.contourf(sigmaRange, tauRange, Z, 50, cmap='viridis')\n",
    "ax.plot(sigmaBest, tauBest, color='red', marker='o')\n",
    "\n",
    "ax.set_ylabel(r'$\\tau_s$')\n",
    "ax.set_xlabel(r'$\\sigma_s$')\n",
    "fig.colorbar(heatmap)\n",
    "ax.set_title('Manna; size $s$', fontweight='bold')\n",
    "fig.tight_layout()\n",
    "\n",
    "Z = Za #==============================================\n",
    "tauBest=tauRange[find_min_idx(Z)[0]]\n",
    "sigmaBest=sigmaRange[find_min_idx(Z)[1]]\n",
    "print(tauBest, sigmaBest)\n",
    "\n",
    "fig = plt.figure(figsize=(6,4), dpi=120, frameon=True)\n",
    "ax = plt.axes()\n",
    "heatmap = ax.contourf(sigmaRange, tauRange, Z, 50, cmap='viridis')\n",
    "ax.plot(sigmaBest, tauBest, color='red', marker='o')\n",
    "\n",
    "ax.set_ylabel(r'$\\tau_s$')\n",
    "ax.set_xlabel(r'$\\sigma_s$')\n",
    "fig.colorbar(heatmap)\n",
    "ax.set_title('Manna; size $a$', fontweight='bold')\n",
    "fig.tight_layout()\n",
    "\n",
    "\n",
    "Z = Zd #==============================================\n",
    "tauBest=tauRange[find_min_idx(Z)[0]]\n",
    "sigmaBest=sigmaRange[find_min_idx(Z)[1]]\n",
    "print(tauBest, sigmaBest)\n",
    "\n",
    "fig = plt.figure(figsize=(6,4), dpi=120, frameon=True)\n",
    "ax = plt.axes()\n",
    "heatmap = ax.contourf(sigmaRange, tauRange, Z, 50, cmap='viridis')\n",
    "ax.plot(sigmaBest, tauBest, color='red', marker='o')\n",
    "\n",
    "ax.set_ylabel(r'$\\tau_s$')\n",
    "ax.set_xlabel(r'$\\sigma_s$')\n",
    "fig.colorbar(heatmap)\n",
    "ax.set_title('Manna; duration $D$', fontweight='bold')\n",
    "fig.tight_layout()\n",
    "\n"
   ]
  },
  {
   "cell_type": "code",
   "execution_count": null,
   "metadata": {
    "hidden": true,
    "scrolled": true
   },
   "outputs": [],
   "source": [
    "x1,y1,params1 = plotSizes(4302, 's')\n",
    "x2,y2,params2 = plotSizes(4305, 's')\n",
    "tau = 1.2881763527054109\n",
    "sigma = 0.7775551102204409\n",
    "# 1.2881763527054109 0.7775551102204409\n",
    "# tau = 1.325; sigma = 1.104026845637584\n",
    "\n",
    "diff_1(tau, sigma,  x1,y1,params1,  x2,y2,params2,  's', True)"
   ]
  }
 ],
 "metadata": {
  "author": "",
  "celltoolbar": "Raw Cell Format",
  "file_extension": ".py",
  "kernelspec": {
   "display_name": "Python 3",
   "language": "python",
   "name": "python3"
  },
  "language_info": {
   "codemirror_mode": {
    "name": "ipython",
    "version": 3
   },
   "file_extension": ".py",
   "mimetype": "text/x-python",
   "name": "python",
   "nbconvert_exporter": "python",
   "pygments_lexer": "ipython3",
   "version": "3.9.1"
  },
  "latex_envs": {
   "LaTeX_envs_menu_present": true,
   "autoclose": false,
   "autocomplete": true,
   "bibliofile": "biblio.bib",
   "cite_by": "apalike",
   "current_citInitial": 1,
   "eqLabelWithNumbers": true,
   "eqNumInitial": 1,
   "hotkeys": {
    "equation": "Ctrl-E",
    "itemize": "Ctrl-I"
   },
   "labels_anchors": false,
   "latex_user_defs": false,
   "report_style_numbering": false,
   "user_envs_cfg": false
  },
  "mimetype": "text/x-python",
  "name": "python",
  "notify_time": "5",
  "npconvert_exporter": "python",
  "nteract": {
   "version": "0.23.1"
  },
  "pygments_lexer": "ipython3",
  "toc": {
   "base_numbering": 1,
   "nav_menu": {
    "height": "831px",
    "width": "469px"
   },
   "number_sections": true,
   "sideBar": true,
   "skip_h1_title": false,
   "title_cell": "Table of Contents",
   "title_sidebar": "Table of Contents",
   "toc_cell": false,
   "toc_position": {
    "height": "1055px",
    "left": "457px",
    "top": "543.2830810546875px",
    "width": "291.26837158203125px"
   },
   "toc_section_display": true,
   "toc_window_display": true
  },
  "varInspector": {
   "cols": {
    "lenName": 16,
    "lenType": 16,
    "lenVar": 40
   },
   "kernels_config": {
    "python": {
     "delete_cmd_postfix": "",
     "delete_cmd_prefix": "del ",
     "library": "var_list.py",
     "varRefreshCmd": "print(var_dic_list())"
    },
    "r": {
     "delete_cmd_postfix": ") ",
     "delete_cmd_prefix": "rm(",
     "library": "var_list.r",
     "varRefreshCmd": "cat(var_dic_list()) "
    }
   },
   "oldHeight": 409.3333332538605,
   "position": {
    "height": "465px",
    "left": "1167.791748046875px",
    "right": "20px",
    "top": "132.9791717529297px",
    "width": "405px"
   },
   "types_to_exclude": [
    "module",
    "function",
    "builtin_function_or_method",
    "instance",
    "_Feature"
   ],
   "varInspector_section_display": "block",
   "window_display": false
  },
  "version": 3
 },
 "nbformat": 4,
 "nbformat_minor": 4
}
