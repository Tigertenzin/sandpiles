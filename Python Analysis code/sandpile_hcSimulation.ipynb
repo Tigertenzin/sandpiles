{
 "cells": [
  {
   "cell_type": "code",
   "execution_count": 2,
   "metadata": {},
   "outputs": [],
   "source": [
    "# Load necessary packages\n",
    "# %pylab notebook\n",
    "import numpy as np\n",
    "import matplotlib as mpl\n",
    "import matplotlib.pyplot as plt\n",
    "import matplotlib.animation as animation\n",
    "from matplotlib.animation import FuncAnimation\n",
    "# import scipy as sp\n",
    "# from scipy.sparse import linalg as ln\n",
    "from IPython.display import HTML\n",
    "from random import choices\n",
    "import math\n",
    "import itertools\n",
    "from os import path\n",
    "from decimal import Decimal \n",
    "\n",
    "try:\n",
    "    plt.style.use('classic')\n",
    "except:\n",
    "    pass\n",
    "\n",
    "# Use ODEINT to solve the differential equations defined by the vector field\n",
    "# from scipy.integrate import odeint\n",
    "# from scipy.integrate import solve_ivp"
   ]
  },
  {
   "cell_type": "markdown",
   "metadata": {
    "nteract": {
     "transient": {
      "deleting": false
     }
    }
   },
   "source": [
    "# Manna Model: Simulating larger height thresholds from distributions"
   ]
  },
  {
   "cell_type": "markdown",
   "metadata": {},
   "source": [
    "## Defining the distribution\n",
    "\n",
    "We are interseted in distributing height units of failing sites by drawing from a distribution, rather then randomly determining the direction -per height unit. The distribution will tells us the final configuration after a site fails. \n",
    "\n",
    "The total number of configurations for distributed $h$ indistinguishable balls into $4$ distinguishable basekts is\n",
    "$${h+4-1}\\choose{h}$$"
   ]
  },
  {
   "cell_type": "code",
   "execution_count": 6,
   "metadata": {
    "collapsed": false,
    "jupyter": {
     "outputs_hidden": false,
     "source_hidden": false
    },
    "nteract": {
     "transient": {
      "deleting": false
     }
    }
   },
   "outputs": [],
   "source": [
    "def prob_1(h, h1, h2, h3, h4): \n",
    "    denom = all_factorials[h1]*all_factorials[h2]*all_factorials[h3]*all_factorials[h4]*all_factorials[h - h1 - h2 - h3 - h4]\n",
    "    return float(all_factorials[h]/denom/bigZ)\n",
    "\n",
    "def prob(h, h1, h2, h3, h4): \n",
    "    denom = math.factorial(h1)*math.factorial(h2)*math.factorial(h3)*math.factorial(h4)*math.factorial(h - h1 - h2 - h3 - h4)\n",
    "    bigZ = 4**h\n",
    "    return float(Decimal(math.factorial(h))/Decimal(int(denom)) / Decimal(int(bigZ)))\n",
    "\n",
    "def prob_array(hc): \n",
    "    combinations = []\n",
    "    for h1 in range(0,hc+1): \n",
    "        for h2 in range(0,hc+1-h1): \n",
    "            for h3 in range(0,hc+1-h1-h2): \n",
    "                combinations += [[h1, h2, h3, hc-h1-h2-h3]]\n",
    "    \n",
    "    probArray = []\n",
    "    for combo in combinations: \n",
    "        probArray += [prob_1(hc, combo[0], combo[1], combo[2], combo[3])]\n",
    "    \n",
    "    return combinations, probArray\n",
    "\n",
    "# combinations, probArray = prob_array(16)\n",
    "\n",
    "# print('total=', len(combinations))\n",
    "# for i in combinations: \n",
    "#     print(i)\n",
    "# print(combinations)\n",
    "# print(probArray)"
   ]
  },
  {
   "cell_type": "code",
   "execution_count": 39,
   "metadata": {},
   "outputs": [],
   "source": [
    "def prob_array_1(hc): \n",
    "    combo_n = 0\n",
    "    for h1 in range(0,hc+1): \n",
    "        for h2 in range(0,hc+1-h1): \n",
    "            for h3 in range(0,hc+1-h1-h2): \n",
    "                combo_n += 1\n",
    "    combinations = np.zeros((combo_n, 4), int)\n",
    "    j = 0\n",
    "    for h1 in range(0,hc+1): \n",
    "        for h2 in range(0,hc+1-h1): \n",
    "            for h3 in range(0,hc+1-h1-h2): \n",
    "                combinations[j,:] = np.array([h1, h2, h3, hc-h1-h2-h3])\n",
    "                j += 1\n",
    "    probArray = []\n",
    "    for combo in combinations: \n",
    "        probArray += [prob_1(hc, combo[0], combo[1], combo[2], combo[3])]\n",
    "    \n",
    "    return combinations, probArray\n"
   ]
  },
  {
   "cell_type": "code",
   "execution_count": 11,
   "metadata": {},
   "outputs": [
    {
     "name": "stdout",
     "output_type": "stream",
     "text": [
      "[[0, 0, 0, 4]] 0.00390625\n",
      "[[0, 0, 1, 3]] 0.015625\n",
      "[[0, 0, 2, 2]] 0.0234375\n",
      "[[0, 0, 3, 1]] 0.015625\n",
      "[[0, 0, 4, 0]] 0.00390625\n",
      "[[0, 1, 0, 3]] 0.015625\n",
      "[[0, 1, 1, 2]] 0.046875\n",
      "[[0, 1, 2, 1]] 0.046875\n",
      "[[0, 1, 3, 0]] 0.015625\n",
      "[[0, 2, 0, 2]] 0.0234375\n",
      "[[0, 2, 1, 1]] 0.046875\n",
      "[[0, 2, 2, 0]] 0.0234375\n",
      "[[0, 3, 0, 1]] 0.015625\n",
      "[[0, 3, 1, 0]] 0.015625\n",
      "[[0, 4, 0, 0]] 0.00390625\n",
      "[[1, 0, 0, 3]] 0.015625\n",
      "[[1, 0, 1, 2]] 0.046875\n",
      "[[1, 0, 2, 1]] 0.046875\n",
      "[[1, 0, 3, 0]] 0.015625\n",
      "[[1, 1, 0, 2]] 0.046875\n",
      "[[1, 1, 1, 1]] 0.09375\n",
      "[[1, 1, 2, 0]] 0.046875\n",
      "[[1, 2, 0, 1]] 0.046875\n",
      "[[1, 2, 1, 0]] 0.046875\n",
      "[[1, 3, 0, 0]] 0.015625\n",
      "[[2, 0, 0, 2]] 0.0234375\n",
      "[[2, 0, 1, 1]] 0.046875\n",
      "[[2, 0, 2, 0]] 0.0234375\n",
      "[[2, 1, 0, 1]] 0.046875\n",
      "[[2, 1, 1, 0]] 0.046875\n",
      "[[2, 2, 0, 0]] 0.0234375\n",
      "[[3, 0, 0, 1]] 0.015625\n",
      "[[3, 0, 1, 0]] 0.015625\n",
      "[[3, 1, 0, 0]] 0.015625\n",
      "[[4, 0, 0, 0]] 0.00390625\n",
      "found  35\n",
      "expected  256\n",
      "total prob (should be 1):  1.0\n"
     ]
    }
   ],
   "source": [
    "hc = 4\n",
    "bigZ = Decimal(4**hc)\n",
    "\n",
    "combinations = []\n",
    "total_prob = 0\n",
    "\n",
    "for h1 in range(0,hc+1): \n",
    "    for h2 in range(0,hc+1-h1): \n",
    "        for h3 in range(0,hc+1-h1-h2): \n",
    "            combinations += [[h1, h2, h3, hc-h1-h2-h3]]\n",
    "            total_prob += prob_1(hc, h1, h2, h3, hc-h1-h2-h3)\n",
    "            \n",
    "            print([[h1, h2, h3, hc-h1-h2-h3]], end=' ')\n",
    "            print(prob(hc, h1, h2, h3, hc-h1-h2-h3))\n",
    "\n",
    "print(\"found \", len(combinations))\n",
    "print(\"expected \", 4**hc)\n",
    "print(\"total prob (should be 1): \", total_prob)\n"
   ]
  },
  {
   "cell_type": "markdown",
   "metadata": {
    "heading_collapsed": true
   },
   "source": [
    "### Testing another algorithm (more memory-efficient)"
   ]
  },
  {
   "cell_type": "code",
   "execution_count": 13,
   "metadata": {
    "hidden": true
   },
   "outputs": [
    {
     "name": "stdout",
     "output_type": "stream",
     "text": [
      "0 [[0, 0, 0, 2]] 0.0625\n",
      "0 [[0, 1, 0, 1]] 0.0625\n",
      "0 [[0, 2, 0, 0]] 0.0625\n",
      "0 [[1, 0, 0, 1]] 0.0625\n",
      "0 [[1, 1, 0, 0]] 0.0625\n",
      "0 [[2, 0, 0, 0]] 0.0625\n",
      "1 [[0, 0, 1, 1]] 0.125\n",
      "1 [[0, 1, 0, 1]] 0.125\n",
      "1 [[0, 2, 0, 0]] 0.125\n",
      "1 [[1, 0, 0, 1]] 0.125\n",
      "1 [[1, 1, 0, 0]] 0.125\n",
      "1 [[2, 0, 0, 0]] 0.125\n",
      "2 [[0, 0, 2, 0]] 0.0625\n",
      "2 [[0, 1, 0, 1]] 0.0625\n",
      "2 [[0, 2, 0, 0]] 0.0625\n",
      "2 [[1, 0, 0, 1]] 0.0625\n",
      "2 [[1, 1, 0, 0]] 0.0625\n",
      "2 [[2, 0, 0, 0]] 0.0625\n",
      "3 [[0, 1, 0, 1]] 0.125\n",
      "3 [[0, 2, 0, 0]] 0.125\n",
      "3 [[1, 0, 0, 1]] 0.125\n",
      "3 [[1, 1, 0, 0]] 0.125\n",
      "3 [[2, 0, 0, 0]] 0.125\n",
      "4 [[0, 1, 1, 0]] 0.125\n",
      "4 [[0, 2, 0, 0]] 0.125\n",
      "4 [[1, 0, 0, 1]] 0.125\n",
      "4 [[1, 1, 0, 0]] 0.125\n",
      "4 [[2, 0, 0, 0]] 0.125\n",
      "5 [[0, 2, 0, 0]] 0.0625\n",
      "5 [[1, 0, 0, 1]] 0.0625\n",
      "5 [[1, 1, 0, 0]] 0.0625\n",
      "5 [[2, 0, 0, 0]] 0.0625\n",
      "6 [[1, 0, 0, 1]] 0.125\n",
      "6 [[1, 1, 0, 0]] 0.125\n",
      "6 [[2, 0, 0, 0]] 0.125\n",
      "7 [[1, 0, 1, 0]] 0.125\n",
      "7 [[1, 1, 0, 0]] 0.125\n",
      "7 [[2, 0, 0, 0]] 0.125\n",
      "8 [[1, 1, 0, 0]] 0.125\n",
      "8 [[2, 0, 0, 0]] 0.125\n",
      "9 [[2, 0, 0, 0]] 0.0625\n",
      "found  0\n",
      "expected  16\n",
      "total prob (should be 1):  0\n"
     ]
    }
   ],
   "source": [
    "def prob_array_2(hc): \n",
    "    probArray = []\n",
    "    for h1 in range(0,hc+1): \n",
    "        for h2 in range(0,hc+1-h1): \n",
    "            for h3 in range(0,hc+1-h1-h2): \n",
    "                probArray += [prob_1(hc, h1, h2, h3, hc-h1-h2-h3)]\n",
    "    combinations_i = np.arange(0, len(probArray), 1)\n",
    "    return combinations_i, probArray\n",
    "\n",
    "hc = 2\n",
    "bigZ = Decimal(4**hc)\n",
    "\n",
    "combinations = []\n",
    "total_prob = 0\n",
    "\n",
    "combo_i, prob_array = prob_array_2(hc)\n",
    "\n",
    "for j in combo_i: \n",
    "\n",
    "    count = 0\n",
    "    for h1 in range(0,hc+1): \n",
    "        for h2 in range(0,hc+1-h1): \n",
    "            for h3 in range(0,hc+1-h1-h2): \n",
    "                if j == count: \n",
    "                    print(j, end= \" \")\n",
    "                    print([[h1, h2, h3, hc-h1-h2-h3]], end=' ')\n",
    "                    print(prob_array[j])\n",
    "                    break\n",
    "                else: \n",
    "                    count += 1\n",
    "\n",
    "print(\"found \", len(combinations))\n",
    "print(\"expected \", 4**hc)\n",
    "print(\"total prob (should be 1): \", total_prob)\n",
    "\n"
   ]
  },
  {
   "cell_type": "code",
   "execution_count": 14,
   "metadata": {},
   "outputs": [
    {
     "data": {
      "text/plain": [
       "1"
      ]
     },
     "execution_count": 14,
     "metadata": {},
     "output_type": "execute_result"
    }
   ],
   "source": [
    "np.size(np.random.randint(2, size=1))\n",
    "\n"
   ]
  },
  {
   "cell_type": "markdown",
   "metadata": {},
   "source": [
    "### Testing where the most time is lost in computation"
   ]
  },
  {
   "cell_type": "code",
   "execution_count": 32,
   "metadata": {},
   "outputs": [
    {
     "name": "stdout",
     "output_type": "stream",
     "text": [
      "CPU times: user 11 µs, sys: 0 ns, total: 11 µs\n",
      "Wall time: 12.2 µs\n",
      "finished enumerating configs \n",
      "\n",
      "(array([[0, 0, 0, 4],\n",
      "       [0, 0, 1, 3],\n",
      "       [0, 0, 2, 2],\n",
      "       [0, 0, 3, 1],\n",
      "       [0, 0, 4, 0],\n",
      "       [0, 1, 0, 3],\n",
      "       [0, 1, 1, 2],\n",
      "       [0, 1, 2, 1],\n",
      "       [0, 1, 3, 0],\n",
      "       [0, 2, 0, 2],\n",
      "       [0, 2, 1, 1],\n",
      "       [0, 2, 2, 0],\n",
      "       [0, 3, 0, 1],\n",
      "       [0, 3, 1, 0],\n",
      "       [0, 4, 0, 0],\n",
      "       [1, 0, 0, 3],\n",
      "       [1, 0, 1, 2],\n",
      "       [1, 0, 2, 1],\n",
      "       [1, 0, 3, 0],\n",
      "       [1, 1, 0, 2],\n",
      "       [1, 1, 1, 1],\n",
      "       [1, 1, 2, 0],\n",
      "       [1, 2, 0, 1],\n",
      "       [1, 2, 1, 0],\n",
      "       [1, 3, 0, 0],\n",
      "       [2, 0, 0, 2],\n",
      "       [2, 0, 1, 1],\n",
      "       [2, 0, 2, 0],\n",
      "       [2, 1, 0, 1],\n",
      "       [2, 1, 1, 0],\n",
      "       [2, 2, 0, 0],\n",
      "       [3, 0, 0, 1],\n",
      "       [3, 0, 1, 0],\n",
      "       [3, 1, 0, 0],\n",
      "       [4, 0, 0, 0]]), [0.00390625, 0.015625, 0.0234375, 0.015625, 0.00390625, 0.015625, 0.046875, 0.046875, 0.015625, 0.0234375, 0.046875, 0.0234375, 0.015625, 0.015625, 0.00390625, 0.015625, 0.046875, 0.046875, 0.015625, 0.046875, 0.09375, 0.046875, 0.046875, 0.046875, 0.015625, 0.0234375, 0.046875, 0.0234375, 0.046875, 0.046875, 0.0234375, 0.015625, 0.015625, 0.015625, 0.00390625])\n"
     ]
    }
   ],
   "source": [
    "def createCombos(hc): \n",
    "    combinations = []\n",
    "    for h1 in range(0,hc+1): \n",
    "        for h2 in range(0,hc+1-h1): \n",
    "            for h3 in range(0,hc+1-h1-h2): \n",
    "                combinations += [[h1, h2, h3, hc-h1-h2-h3]]\n",
    "    return combinations\n",
    "\n",
    "all_factorials = [] \n",
    "for j in range(2048): \n",
    "    all_factorials += [Decimal(math.factorial(j))]\n",
    "    \n",
    "hc = 4\n",
    "bigZ = Decimal(4**hc)\n",
    "%time createCombos(hc)\n",
    "print('finished enumerating configs \\n')\n",
    "\n",
    "print(prob_array_1(hc))\n"
   ]
  },
  {
   "cell_type": "markdown",
   "metadata": {
    "heading_collapsed": true
   },
   "source": [
    "## Defining the system"
   ]
  },
  {
   "cell_type": "code",
   "execution_count": 8,
   "metadata": {
    "hidden": true
   },
   "outputs": [],
   "source": [
    "def runSystem(L, hc, T): \n",
    "    siz_List = []\n",
    "    area_List = []\n",
    "    dur_List = []\n",
    "    combinations, probArray = prob_array(hc)\n",
    "    \n",
    "    lattice = np.zeros((L, L))\n",
    "    t = 0\n",
    "    while t < T: \n",
    "        print(t, end=\"\\r\")\n",
    "        lattice, siz, area, dur = addGrain(L, hc, lattice, combinations, probArray)\n",
    "        if siz > 0: \n",
    "            siz_List += [siz]\n",
    "            area_List += [area]\n",
    "            dur_List += [dur]\n",
    "            t += 1\n",
    "    \n",
    "    return siz_List, area_List, dur_List\n",
    "\n",
    "def addGrain(L, hc, lattice, combinations, probArray): \n",
    "    siz=0; area=0; dur=0\n",
    "    chosenSite = np.random.randint(L, size=2)\n",
    "    lattice[chosenSite[0], chosenSite[1]] += 1\n",
    "    if (lattice >= hc).any(): \n",
    "        lattice, siz, area, dur = relaxLattice(L, hc, lattice, combinations, probArray)\n",
    "    return lattice, siz, area, dur\n",
    "\n",
    "def relaxLattice(L, hc, lattice, combinations, probArray): \n",
    "    siz = 0\n",
    "    dur = 0\n",
    "    latticeOBC = np.zeros((L+2, L+2))\n",
    "    latticeOBC[1:-1, 1:-1] = lattice\n",
    "    latticeTriggers = np.zeros_like(lattice)\n",
    "    \n",
    "    while (lattice >= hc).any():\n",
    "        dur += 1\n",
    "        for x in range( 1, L+1 ):\n",
    "            for y in range( 1, L+1 ):\n",
    "                \n",
    "                if lattice[x-1,y-1] >= hc:\n",
    "#                     combinations, probArray = prob_array(int(lattice[x-1,y-1]))\n",
    "                    configChoice = choices(combinations, probArray)\n",
    "                    latticeOBC[x-1,y] += configChoice[0][0]\n",
    "                    latticeOBC[x+1,y] += configChoice[0][1]\n",
    "                    latticeOBC[x,y-1] += configChoice[0][2]\n",
    "                    latticeOBC[x,y+1] += configChoice[0][3]\n",
    "                    latticeOBC[x,y] -= np.sum(configChoice)\n",
    "                    latticeTriggers[x-1,y-1] += 1\n",
    "        latticeOBC[:,0] = 0; latticeOBC[:,-1] = 0\n",
    "        latticeOBC[0,:] = 0; latticeOBC[-1,:] = 0\n",
    "        lattice = latticeOBC[1:-1, 1:-1]\n",
    "    siz = np.sum(latticeTriggers)\n",
    "    area = np.count_nonzero(latticeTriggers)\n",
    "    return lattice, siz, area, dur\n",
    "    "
   ]
  },
  {
   "cell_type": "code",
   "execution_count": null,
   "metadata": {
    "hidden": true
   },
   "outputs": [],
   "source": [
    "siz_List, area_List, dur_List = runSystem(256, 2, 1000000)\n"
   ]
  },
  {
   "cell_type": "code",
   "execution_count": null,
   "metadata": {
    "hidden": true
   },
   "outputs": [],
   "source": [
    "s_hist, s_bin_edges = np.histogram(siz_List,bins=np.logspace(0,20,50,base=2),density=True)\n",
    "for i in range(len(s_hist)-1,-1,-1):      # Delete any 0 counts. \n",
    "    if s_hist[i]==0:\n",
    "        s_hist = np.delete(s_hist,i)\n",
    "        s_bin_edges = np.delete(s_bin_edges,i)  \n",
    "        \n",
    "fig, (ax1) = plt.subplots(1,1,figsize=(4, 3), dpi=120, frameon=True)\n",
    "\n",
    "ax1.plot(np.log10(s_bin_edges[:-1]), np.log10(s_hist), '.--b', label=\"Distr.\")\n",
    "# ax1.plot(np.linspace(0,2), np.linspace(0,2)*-1.265-0.5, label=\"$\\\\tau=1.265$\")\n",
    "\n",
    "x,y,params = plotSizes(seed0, filetype='s');  x = np.log10(x); y = np.log10(y)\n",
    "ax1.plot(x, y, '.-', color=c, label = r\"Full\")\n",
    "\n",
    "ax1.legend()\n"
   ]
  },
  {
   "cell_type": "code",
   "execution_count": null,
   "metadata": {
    "hidden": true
   },
   "outputs": [],
   "source": []
  },
  {
   "cell_type": "markdown",
   "metadata": {},
   "source": [
    "## Comparing the statistics between relaxation rules\n",
    "\n",
    "The average is defined as \n",
    "\\begin{equation} \n",
    "    <h> = \\frac{1}{4N}\\sum_{n=1}^N \\Delta h_n\n",
    "\\end{equation} \n",
    "where $\\Delta h_n$ is the change in height of receiving site $n$ after transfer. \n",
    "    \n",
    "The variance is then defined as \n",
    "\\begin{equation} \n",
    "    Var(h) = \\frac{1}{4N} \\sqrt{\\sum_{n=1}^N (h_n - <h>)^2}\n",
    "\\end{equation} "
   ]
  },
  {
   "cell_type": "code",
   "execution_count": 51,
   "metadata": {},
   "outputs": [],
   "source": [
    "def relax_distr(lattice, configChoice): \n",
    "#     configChoice = choices(combinations, probArray)\n",
    "    lattice[0] += configChoice[0]\n",
    "    lattice[1] += configChoice[1]\n",
    "    lattice[2] += configChoice[2]\n",
    "    lattice[3] += configChoice[3]\n",
    "    return lattice\n",
    "\n",
    "def computeVar_distr(hc, iterN): \n",
    "    combinations, probArray = prob_array_1(hc)\n",
    "    configChoices = choices(combinations, probArray, k=iterN)\n",
    "    \n",
    "    avg = hc/4\n",
    "    var = 0\n",
    "\n",
    "    for i in range(iterN): \n",
    "        lattice = np.zeros(4)\n",
    "        lattice = relax_distr(lattice, configChoices[i])\n",
    "        var += np.sum((lattice - avg)**2)\n",
    "    return np.sqrt(var/4/iterN)\n"
   ]
  },
  {
   "cell_type": "code",
   "execution_count": null,
   "metadata": {},
   "outputs": [],
   "source": [
    "def relax_mann(lattice, hc): \n",
    "    randSites = np.random.randint(4, size=hc)\n",
    "    for randInd in randSites: \n",
    "        lattice[randInd] += 1\n",
    "    return lattice\n",
    "\n",
    "def computeVar_manna(hc, iterN): \n",
    "    avg = hc/4\n",
    "    var = 0\n",
    "\n",
    "    for i in range(iterN): \n",
    "        lattice = np.zeros(4)\n",
    "        lattice = relax_mann(lattice, hc)\n",
    "        var += np.sum((lattice - avg)**2)\n",
    "    return np.sqrt(var/4/iterN)\n"
   ]
  },
  {
   "cell_type": "code",
   "execution_count": null,
   "metadata": {},
   "outputs": [],
   "source": [
    "heightRange = np.unique(np.logspace(np.log10(2), np.log10(1024), 100).astype(int))\n",
    "\n",
    "var_manna = np.zeros(len(heightRange))\n",
    "for hc_i, hc in enumerate(heightRange): \n",
    "    print(hc, end=\"\\r\")\n",
    "    var_manna[hc_i] = computeVar_manna(hc, 10000)"
   ]
  },
  {
   "cell_type": "code",
   "execution_count": 52,
   "metadata": {},
   "outputs": [
    {
     "name": "stdout",
     "output_type": "stream",
     "text": [
      "2 0.6122785313891056\n",
      "3 0.7495765471251085\n",
      "4 0.8655316285382065\n",
      "5 0.9698608147564268\n",
      "6 1.0626688101191264\n",
      "7 1.146459768155865\n",
      "8 1.2269983700070672\n",
      "10 1.372034984976695\n"
     ]
    }
   ],
   "source": [
    "heightRange = np.unique(np.linspace(2,10, 8).astype(int))\n",
    "\n",
    "var_distr = np.zeros(len(heightRange))\n",
    "for hc_i, hc in enumerate(heightRange): \n",
    "    var_distr[hc_i] = computeVar_distr(hc, 100000)\n",
    "    print(hc, var_distr[hc_i])\n",
    "    "
   ]
  },
  {
   "cell_type": "code",
   "execution_count": null,
   "metadata": {},
   "outputs": [],
   "source": [
    "fig, (ax1) = plt.subplots(1,1,figsize=(8, 5), dpi=120, frameon=True)\n",
    "\n",
    "ax1.plot(hc_range_manna, var_manna/hc_range_manna, 'r.-', label=\"Manna.\")\n",
    "ax1.plot(hc_range_manna, var_distr/hc_range_manna, 'bx-', label=\"Distr.\")\n",
    "\n",
    "ax1.legend()"
   ]
  },
  {
   "cell_type": "code",
   "execution_count": null,
   "metadata": {},
   "outputs": [],
   "source": [
    "var_manna_intermediateStep = var_manna_string.split('\\n')\n",
    "var_manna_list = []\n",
    "for i in range(len(var_manna_intermediateStep)): \n",
    "    var_manna_list += [var_manna_intermediateStep[i].split(' ')]\n",
    "    var_manna_list[i][0] = float(var_manna_list[i][0])\n",
    "    var_manna_list[i][1] = float(var_manna_list[i][1])\n",
    "\n",
    "var_manna_arr = np.asarray(var_manna_list)\n",
    "\n",
    "\n",
    "var_distr_intermediateStep = var_distr_string.split('\\n')\n",
    "var_distr_list = []\n",
    "for i in range(len(var_distr_intermediateStep)): \n",
    "    var_distr_list += [var_distr_intermediateStep[i].split(' ')]\n",
    "    var_distr_list[i][0] = float(var_distr_list[i][0])\n",
    "    var_distr_list[i][1] = float(var_distr_list[i][1])\n",
    "\n",
    "var_distr_arr = np.asarray(var_distr_list)\n",
    "\n",
    "\n",
    "fig, (ax1) = plt.subplots(1,1,figsize=(6, 4), dpi=120)\n",
    "ax1.plot(var_manna_arr[:,0], var_manna_arr[:,1]/var_manna_arr[:,0], 'r.-', linewidth=0, label=\"Manna.\")\n",
    "ax1.plot(var_distr_arr[:,0], var_distr_arr[:,1]/var_distr_arr[:,0], 'b^-', linewidth=0, label=\"Distr.\")\n",
    "ax1.set_ylabel(r'$\\Delta h / h_c$'); ax1.set_xlabel(r'$h_c$')\n",
    "ax1.set_yscale('log')\n",
    "ax1.set_xscale('log')\n",
    "ax1.legend()\n",
    "filename = \"Plots_distr/MM_manna_varCompare.png\"\n",
    "fig.savefig(filename, dpi=200) \n",
    "print(filename)\n",
    "\n",
    "fig, (ax1) = plt.subplots(1,1,figsize=(6, 4), dpi=120)\n",
    "ax1.plot(var_manna_arr[:,0], var_manna_arr[:,1], 'r.-', linewidth=0, label=\"Manna.\")\n",
    "ax1.plot(var_distr_arr[:,0], var_distr_arr[:,1], 'b^-', linewidth=0, label=\"Distr.\")\n",
    "ax1.set_ylabel(r'$\\Delta h$'); ax1.set_xlabel(r'$h_c$')\n",
    "ax1.legend(loc=4)"
   ]
  },
  {
   "cell_type": "markdown",
   "metadata": {},
   "source": [
    "### What do the distributions kind of look like? "
   ]
  },
  {
   "cell_type": "code",
   "execution_count": 26,
   "metadata": {},
   "outputs": [],
   "source": [
    "combinations, probArray = prob_array_1(128)\n",
    "combinations256, probArray256 = prob_array_1(256)"
   ]
  },
  {
   "cell_type": "code",
   "execution_count": 31,
   "metadata": {},
   "outputs": [
    {
     "name": "stdout",
     "output_type": "stream",
     "text": [
      "total elements= 366145\n",
      "sum of elements= 0.9999999999999999\n",
      "max element= 0.0006946950674230621\n",
      "min element= 8.636168555094447e-78\n"
     ]
    },
    {
     "data": {
      "image/png": "[encoded data removed]",
      "text/plain": [
       "<Figure size 960x600 with 1 Axes>"
      ]
     },
     "metadata": {},
     "output_type": "display_data"
    }
   ],
   "source": [
    "probArray_ordered = np.sort(probArray)\n",
    "probArray256_ordered = np.sort(probArray256)\n",
    "\n",
    "fig, (ax1) = plt.subplots(1,1,figsize=(8, 5), dpi=120, frameon=True)\n",
    "ax1.plot(np.linspace(0,1,np.size(probArray)), probArray_ordered/np.sum(probArray), 'r-', label=\"Distr\")\n",
    "ax1.plot(np.linspace(0,1,np.size(probArray256)), probArray256_ordered/np.sum(probArray256), 'b-', label=\"Distr\")\n",
    "ax1.set_yscale('log')\n",
    "print(\"total elements=\", np.size(probArray/np.sum(probArray)))\n",
    "print(\"sum of elements=\", np.sum(probArray/np.sum(probArray)))\n",
    "print(\"max element=\", np.max(probArray/np.sum(probArray)))\n",
    "print(\"min element=\", np.min(probArray/np.sum(probArray)))"
   ]
  },
  {
   "cell_type": "code",
   "execution_count": 34,
   "metadata": {},
   "outputs": [],
   "source": [
    "configChoices = choices(combinations, probArray, k=int(1e8))"
   ]
  },
  {
   "cell_type": "markdown",
   "metadata": {},
   "source": [
    "## Topplings with Dissipation\n",
    "\n",
    "We're interested in the MM with a bulk dissipation, $\\lambda$. \n",
    "\n",
    "In the original Manna Model toppling algorithm, $\\lambda$ dissipation is done as follows: for each height-unit that is transferred to a neighbor, there is a probability $\\lambda$ that the height-unit is instead \"dissipated\" from the bulk. \n",
    "\n",
    "In the _new_ distribution toppling algorithm, we impliment dissipation in the following way: after the final toppled distribution is determined, we consider each of the neighbors that are receiving sand, $h_j$. From this we draw from a binomial distribution (probabilities $\\lambda$) for the number of height units that will be kept/thrown out. "
   ]
  },
  {
   "cell_type": "markdown",
   "metadata": {},
   "source": [
    "### Distriburtion Rules"
   ]
  },
  {
   "cell_type": "code",
   "execution_count": 9,
   "metadata": {},
   "outputs": [],
   "source": [
    "def relax_distr_lamb(lattice, lamb,configChoice): \n",
    "#     configChoice = choices(combinations, probArray)\n",
    "    lattice[0] += np.random.binomial(configChoice[0], 1-lamb, size=1)[0]\n",
    "    lattice[1] += np.random.binomial(configChoice[1], 1-lamb, size=1)[0]\n",
    "    lattice[2] += np.random.binomial(configChoice[2], 1-lamb, size=1)[0]\n",
    "    lattice[3] += np.random.binomial(configChoice[3], 1-lamb, size=1)[0]\n",
    "    return lattice\n",
    "\n",
    "def computeVar_distr_lamb(hc, lamb, iterN): \n",
    "    combinations, probArray = prob_array_1(hc)\n",
    "    configChoices = choices(combinations, probArray, k=iterN)\n",
    "    \n",
    "    avg = (hc/4)*(1-lamb)\n",
    "    var = 0\n",
    "\n",
    "    for i in range(iterN): \n",
    "        lattice = np.zeros(4)\n",
    "        lattice = relax_distr_lamb(lattice, lamb, configChoices[i])\n",
    "        var += np.sum((lattice - avg)**2)\n",
    "    return np.sqrt(var/4/iterN)"
   ]
  },
  {
   "cell_type": "code",
   "execution_count": null,
   "metadata": {},
   "outputs": [],
   "source": [
    "hc=4\n",
    "lamb = 1\n",
    "\n",
    "combinations, probArray = prob_array_1(hc)\n",
    "configChoices = choices(combinations, probArray, k=1)\n",
    "    \n",
    "lattice = np.zeros(4)\n",
    "lattice = relax_distr_lamb(lattice, lamb, configChoices[0])\n",
    "print(lattice)"
   ]
  },
  {
   "cell_type": "code",
   "execution_count": null,
   "metadata": {},
   "outputs": [],
   "source": [
    "hc = 4\n",
    "lamb = 1\n",
    "iterN = 100000\n",
    "computeVar_distr_lamb(hc, lamb, iterN)"
   ]
  },
  {
   "cell_type": "markdown",
   "metadata": {},
   "source": [
    "### Manna Rules"
   ]
  },
  {
   "cell_type": "code",
   "execution_count": null,
   "metadata": {},
   "outputs": [],
   "source": [
    "def relax_mann_lamb(lattice, lamb, hc): \n",
    "    randSites = np.random.randint(4, size=hc)\n",
    "    for randInd in randSites: \n",
    "        lattice[randInd] += 1 * lamb_diss_Chance(lamb)\n",
    "    return lattice\n",
    "\n",
    "def computeVar_manna_lamb(hc, lamb, iterN): \n",
    "    avg = (hc/4)*(1-lamb)\n",
    "    var = 0\n",
    "\n",
    "    for i in range(iterN): \n",
    "        lattice = np.zeros(4)\n",
    "        lattice = relax_mann_lamb(lattice, lamb, hc)\n",
    "        var += np.sum((lattice - avg)**2)\n",
    "    return np.sqrt(var/4/iterN)\n",
    "\n",
    "def lamb_diss_Chance(lamb): \n",
    "    rng = np.random.uniform(0,1,1)[0]\n",
    "    if rng <= lamb: \n",
    "        return 0\n",
    "    else: \n",
    "        return 1"
   ]
  },
  {
   "cell_type": "code",
   "execution_count": null,
   "metadata": {
    "scrolled": true
   },
   "outputs": [],
   "source": [
    "heightRange = np.unique(np.logspace(np.log10(2), np.log10(3), 100).astype(int))\n",
    "lambRange = np.logspace(-5, 0, 50).astype(float)\n",
    "\n",
    "var_manna = np.zeros(len(lambRange))\n",
    "for lamb_i, lamb in enumerate(lambRange): \n",
    "    print(lamb_i, lamb, end=\"\\r\")\n",
    "    var_manna[lamb_i] = computeVar_manna_lamb(1024, lamb, 10000)\n",
    "\n",
    "print(var_manna)"
   ]
  },
  {
   "cell_type": "code",
   "execution_count": null,
   "metadata": {},
   "outputs": [],
   "source": [
    "## Testing\n",
    "\n",
    "computeVar_manna_lamb(1024, 1, 10000)"
   ]
  },
  {
   "cell_type": "code",
   "execution_count": null,
   "metadata": {},
   "outputs": [],
   "source": [
    "for lamb_i, lamb in enumerate(lambRange): \n",
    "    print(lamb, var_manna[lamb_i])"
   ]
  },
  {
   "cell_type": "markdown",
   "metadata": {},
   "source": [
    "### Plotting"
   ]
  },
  {
   "cell_type": "code",
   "execution_count": 81,
   "metadata": {},
   "outputs": [
    {
     "name": "stdout",
     "output_type": "stream",
     "text": [
      "Plots_distr/MM_manna_varCompare_dissp.png\n"
     ]
    },
    {
     "data": {
      "text/plain": [
       "<matplotlib.legend.Legend at 0x128525e50>"
      ]
     },
     "execution_count": 81,
     "metadata": {},
     "output_type": "execute_result"
    },
    {
     "data": {
      "image/png": "[encoded data removed]",
      "text/plain": [
       "<Figure size 720x480 with 1 Axes>"
      ]
     },
     "metadata": {},
     "output_type": "display_data"
    },
    {
     "data": {
      "image/png": "[encoded data removed]",
      "text/plain": [
       "<Figure size 720x480 with 1 Axes>"
      ]
     },
     "metadata": {},
     "output_type": "display_data"
    }
   ],
   "source": [
    "var_manna_intermediateStep = var_manna_string.split('\\n')\n",
    "var_manna_list = []\n",
    "for i in range(len(var_manna_intermediateStep)): \n",
    "    var_manna_list += [var_manna_intermediateStep[i].split(' ')]\n",
    "    var_manna_list[i][0] = float(var_manna_list[i][0])\n",
    "    var_manna_list[i][1] = float(var_manna_list[i][1])\n",
    "\n",
    "var_manna_arr = np.asarray(var_manna_list)\n",
    "\n",
    "\n",
    "var_distr_intermediateStep = var_distr_string.split('\\n')\n",
    "var_distr_list = []\n",
    "for i in range(len(var_distr_intermediateStep)): \n",
    "    var_distr_list += [var_distr_intermediateStep[i].split(' ')]\n",
    "    var_distr_list[i][0] = float(var_distr_list[i][0])\n",
    "    var_distr_list[i][1] = float(var_distr_list[i][1])\n",
    "\n",
    "var_distr_arr = np.asarray(var_distr_list)\n",
    "\n",
    "\n",
    "fig, (ax1) = plt.subplots(1,1,figsize=(6, 4), dpi=120)\n",
    "ax1.plot(var_distr_arr[:,0], var_distr_arr[:,1]/var_distr_arr[:,0], 'b^-', linewidth=0, label=\"Distr.\")\n",
    "ax1.plot(var_manna_arr[:,0], var_manna_arr[:,1]/var_manna_arr[:,0], 'r.-', linewidth=0, label=\"Manna.\")\n",
    "ax1.set_ylabel(r'$\\Delta h / \\lambda$'); ax1.set_xlabel(r'$\\lambda$')\n",
    "ax1.set_yscale('log')\n",
    "ax1.set_xscale('log')\n",
    "ax1.legend()\n",
    "filename = \"Plots_distr/MM_manna_varCompare_dissp.png\"\n",
    "# fig.savefig(filename, dpi=200) \n",
    "print(filename)\n",
    "\n",
    "fig, (ax1) = plt.subplots(1,1,figsize=(6, 4), dpi=120)\n",
    "ax1.plot(var_distr_arr[:,0], var_distr_arr[:,1], 'b^-', linewidth=0, label=\"Distr.\")\n",
    "ax1.plot(var_manna_arr[:,0], var_manna_arr[:,1], 'r.-', linewidth=0, label=\"Manna.\")\n",
    "ax1.set_ylabel(r'$\\Delta h$'); ax1.set_xlabel(r'$\\lambda$')\n",
    "ax1.set_xscale('log')\n",
    "ax1.set_yscale('log')\n",
    "ax1.legend(loc=4)\n"
   ]
  },
  {
   "cell_type": "markdown",
   "metadata": {},
   "source": [
    "## How quickly does var calc converge? "
   ]
  },
  {
   "cell_type": "markdown",
   "metadata": {},
   "source": [
    "### Manna"
   ]
  },
  {
   "cell_type": "code",
   "execution_count": null,
   "metadata": {},
   "outputs": [],
   "source": [
    "def relax_mann(lattice, hc): \n",
    "    randSites = np.random.randint(4, size=hc)\n",
    "    for randInd in randSites: \n",
    "        lattice[randInd] += 1\n",
    "    return lattice\n",
    "\n",
    "def convergeVar_manna(hc, iterN): \n",
    "    avg = hc/4\n",
    "    var = 0\n",
    "    var_iter = np.zeros(iterN)\n",
    "    \n",
    "    for i in range(iterN): \n",
    "        lattice = np.zeros(4)\n",
    "        lattice = relax_mann(lattice, hc)\n",
    "        var += np.sum((lattice - avg)**2)\n",
    "        var_iter[i] = np.sqrt(var/4/(i+1))\n",
    "    return var_iter\n",
    "\n",
    "heightRange = [2,4,8,16,32, 64, 128, 256]\n",
    "\n",
    "iterN = 25000\n",
    "var_manna = np.zeros((len(heightRange), iterN))\n",
    "\n",
    "for hc_i, hc in enumerate(heightRange): \n",
    "    print(hc, end=\"\\r\")\n",
    "    var_manna[hc_i, :] = convergeVar_manna(hc, iterN)"
   ]
  },
  {
   "cell_type": "code",
   "execution_count": 82,
   "metadata": {},
   "outputs": [
    {
     "ename": "NameError",
     "evalue": "name 'var_manna' is not defined",
     "output_type": "error",
     "traceback": [
      "\u001b[0;31m---------------------------------------------------------------------------\u001b[0m",
      "\u001b[0;31mNameError\u001b[0m                                 Traceback (most recent call last)",
      "\u001b[0;32m<ipython-input-82-4819401772ad>\u001b[0m in \u001b[0;36m<module>\u001b[0;34m\u001b[0m\n\u001b[1;32m      2\u001b[0m \u001b[0;34m\u001b[0m\u001b[0m\n\u001b[1;32m      3\u001b[0m \u001b[0;32mfor\u001b[0m \u001b[0mhc_i\u001b[0m\u001b[0;34m,\u001b[0m \u001b[0mhc\u001b[0m \u001b[0;32min\u001b[0m \u001b[0menumerate\u001b[0m\u001b[0;34m(\u001b[0m\u001b[0mheightRange\u001b[0m\u001b[0;34m)\u001b[0m\u001b[0;34m:\u001b[0m\u001b[0;34m\u001b[0m\u001b[0;34m\u001b[0m\u001b[0m\n\u001b[0;32m----> 4\u001b[0;31m     \u001b[0max1\u001b[0m\u001b[0;34m.\u001b[0m\u001b[0mplot\u001b[0m\u001b[0;34m(\u001b[0m\u001b[0mvar_manna\u001b[0m\u001b[0;34m[\u001b[0m\u001b[0mhc_i\u001b[0m\u001b[0;34m,\u001b[0m\u001b[0;34m:\u001b[0m\u001b[0;34m]\u001b[0m\u001b[0;34m/\u001b[0m\u001b[0mvar_manna\u001b[0m\u001b[0;34m[\u001b[0m\u001b[0mhc_i\u001b[0m\u001b[0;34m,\u001b[0m\u001b[0;34m-\u001b[0m\u001b[0;36m1\u001b[0m\u001b[0;34m]\u001b[0m\u001b[0;34m,\u001b[0m \u001b[0mlabel\u001b[0m\u001b[0;34m=\u001b[0m\u001b[0;34m\"$h_c = $\"\u001b[0m\u001b[0;34m+\u001b[0m\u001b[0mstr\u001b[0m\u001b[0;34m(\u001b[0m\u001b[0mhc\u001b[0m\u001b[0;34m)\u001b[0m\u001b[0;34m)\u001b[0m\u001b[0;34m\u001b[0m\u001b[0;34m\u001b[0m\u001b[0m\n\u001b[0m\u001b[1;32m      5\u001b[0m \u001b[0;34m\u001b[0m\u001b[0m\n\u001b[1;32m      6\u001b[0m \u001b[0max1\u001b[0m\u001b[0;34m.\u001b[0m\u001b[0mset_ylabel\u001b[0m\u001b[0;34m(\u001b[0m\u001b[0;34mr'$\\Delta h / h_c$'\u001b[0m\u001b[0;34m)\u001b[0m\u001b[0;34m;\u001b[0m \u001b[0max1\u001b[0m\u001b[0;34m.\u001b[0m\u001b[0mset_xlabel\u001b[0m\u001b[0;34m(\u001b[0m\u001b[0;34mr'$h_c$'\u001b[0m\u001b[0;34m)\u001b[0m\u001b[0;34m\u001b[0m\u001b[0;34m\u001b[0m\u001b[0m\n",
      "\u001b[0;31mNameError\u001b[0m: name 'var_manna' is not defined"
     ]
    },
    {
     "data": {
      "image/png": "[encoded data removed]",
      "text/plain": [
       "<Figure size 720x480 with 1 Axes>"
      ]
     },
     "metadata": {},
     "output_type": "display_data"
    }
   ],
   "source": [
    "fig, (ax1) = plt.subplots(1,1,figsize=(6, 4), dpi=120)\n",
    "\n",
    "for hc_i, hc in enumerate(heightRange):\n",
    "    ax1.plot(var_manna[hc_i,:]/var_manna[hc_i,-1], label=\"$h_c = $\"+str(hc))\n",
    "\n",
    "ax1.set_ylabel(r'$\\Delta h / h_c$'); ax1.set_xlabel(r'$h_c$')\n",
    "# ax1.set_yscale('log')\n",
    "ax1.set_xscale('log')\n",
    "ax1.legend(loc=4, fontsize=8)\n",
    "ax1.set_title(\"Manna Rules\")\n",
    "filename = \"Plots_distr/MM_manna_varConverge.png\"\n",
    "# fig.savefig(filename, dpi=200) \n",
    "print(filename)"
   ]
  },
  {
   "cell_type": "markdown",
   "metadata": {},
   "source": [
    "### Distr"
   ]
  },
  {
   "cell_type": "code",
   "execution_count": null,
   "metadata": {},
   "outputs": [],
   "source": [
    "def relax_distr(lattice, configChoice): \n",
    "    lattice[0] += configChoice[0]\n",
    "    lattice[1] += configChoice[1]\n",
    "    lattice[2] += configChoice[2]\n",
    "    lattice[3] += configChoice[3]\n",
    "    return lattice\n",
    "\n",
    "def convergeVar_distr(hc, iterN): \n",
    "    combinations, probArray = prob_array_1(hc)\n",
    "    configChoices = choices(combinations, probArray, k=iterN)\n",
    "    \n",
    "    avg = hc/4\n",
    "    var = 0\n",
    "    var_iter = np.zeros(iterN)\n",
    "    \n",
    "    for i in range(iterN): \n",
    "        lattice = np.zeros(4)\n",
    "        lattice = relax_distr(lattice, configChoices[i])\n",
    "        var += np.sum((lattice - avg)**2)\n",
    "        var_iter[i] = np.sqrt(var/4/(i+1))\n",
    "    return var_iter\n",
    "\n",
    "heightRange = [2,4,8,16,32, 64, 128, 256]\n",
    "\n",
    "iterN = 25000\n",
    "var_distr = np.zeros((len(heightRange), iterN))\n",
    "\n",
    "for hc_i, hc in enumerate(heightRange): \n",
    "    print(hc, end=\"\\r\")\n",
    "    var_distr[hc_i, :] = convergeVar_distr(hc, iterN)"
   ]
  },
  {
   "cell_type": "code",
   "execution_count": 80,
   "metadata": {},
   "outputs": [
    {
     "ename": "IndexError",
     "evalue": "too many indices for array: array is 1-dimensional, but 2 were indexed",
     "output_type": "error",
     "traceback": [
      "\u001b[0;31m---------------------------------------------------------------------------\u001b[0m",
      "\u001b[0;31mIndexError\u001b[0m                                Traceback (most recent call last)",
      "\u001b[0;32m<ipython-input-80-c31375208c85>\u001b[0m in \u001b[0;36m<module>\u001b[0;34m\u001b[0m\n\u001b[1;32m      2\u001b[0m \u001b[0;34m\u001b[0m\u001b[0m\n\u001b[1;32m      3\u001b[0m \u001b[0;32mfor\u001b[0m \u001b[0mhc_i\u001b[0m\u001b[0;34m,\u001b[0m \u001b[0mhc\u001b[0m \u001b[0;32min\u001b[0m \u001b[0menumerate\u001b[0m\u001b[0;34m(\u001b[0m\u001b[0mheightRange\u001b[0m\u001b[0;34m)\u001b[0m\u001b[0;34m:\u001b[0m\u001b[0;34m\u001b[0m\u001b[0;34m\u001b[0m\u001b[0m\n\u001b[0;32m----> 4\u001b[0;31m     \u001b[0max1\u001b[0m\u001b[0;34m.\u001b[0m\u001b[0mplot\u001b[0m\u001b[0;34m(\u001b[0m\u001b[0mvar_distr\u001b[0m\u001b[0;34m[\u001b[0m\u001b[0mhc_i\u001b[0m\u001b[0;34m,\u001b[0m\u001b[0;34m:\u001b[0m\u001b[0;34m]\u001b[0m\u001b[0;34m/\u001b[0m\u001b[0mvar_distr\u001b[0m\u001b[0;34m[\u001b[0m\u001b[0mhc_i\u001b[0m\u001b[0;34m,\u001b[0m\u001b[0;34m-\u001b[0m\u001b[0;36m1\u001b[0m\u001b[0;34m]\u001b[0m\u001b[0;34m,\u001b[0m \u001b[0mlabel\u001b[0m\u001b[0;34m=\u001b[0m\u001b[0;34m\"$h_c = $\"\u001b[0m\u001b[0;34m+\u001b[0m\u001b[0mstr\u001b[0m\u001b[0;34m(\u001b[0m\u001b[0mhc\u001b[0m\u001b[0;34m)\u001b[0m\u001b[0;34m)\u001b[0m\u001b[0;34m\u001b[0m\u001b[0;34m\u001b[0m\u001b[0m\n\u001b[0m\u001b[1;32m      5\u001b[0m \u001b[0;34m\u001b[0m\u001b[0m\n\u001b[1;32m      6\u001b[0m \u001b[0max1\u001b[0m\u001b[0;34m.\u001b[0m\u001b[0mset_ylabel\u001b[0m\u001b[0;34m(\u001b[0m\u001b[0;34mr'$\\Delta h / h_c$'\u001b[0m\u001b[0;34m)\u001b[0m\u001b[0;34m;\u001b[0m \u001b[0max1\u001b[0m\u001b[0;34m.\u001b[0m\u001b[0mset_xlabel\u001b[0m\u001b[0;34m(\u001b[0m\u001b[0;34mr'$h_c$'\u001b[0m\u001b[0;34m)\u001b[0m\u001b[0;34m\u001b[0m\u001b[0;34m\u001b[0m\u001b[0m\n",
      "\u001b[0;31mIndexError\u001b[0m: too many indices for array: array is 1-dimensional, but 2 were indexed"
     ]
    },
    {
     "data": {
      "image/png": "[encoded data removed]",
      "text/plain": [
       "<Figure size 720x480 with 1 Axes>"
      ]
     },
     "metadata": {},
     "output_type": "display_data"
    }
   ],
   "source": [
    "fig, (ax1) = plt.subplots(1,1,figsize=(6, 4), dpi=120)\n",
    "\n",
    "for hc_i, hc in enumerate(heightRange):\n",
    "    ax1.plot(var_distr[hc_i,:]/var_distr[hc_i,-1], label=\"$h_c = $\"+str(hc))\n",
    "\n",
    "ax1.set_ylabel(r'$\\Delta h / h_c$'); ax1.set_xlabel(r'$h_c$')\n",
    "# ax1.set_yscale('log')\n",
    "ax1.set_xscale('log')\n",
    "ax1.legend(loc=4, fontsize=8)\n",
    "ax1.set_title(\"Distribution Rules\")\n",
    "\n",
    "filename = \"Plots_distr/MM_distr_varConverge.png\"\n",
    "# fig.savefig(filename, dpi=200) \n",
    "print(filename)"
   ]
  },
  {
   "cell_type": "markdown",
   "metadata": {},
   "source": [
    "## \"Storing\" variances as a string and converting to list"
   ]
  },
  {
   "cell_type": "code",
   "execution_count": 131,
   "metadata": {},
   "outputs": [],
   "source": [
    "var_manna_intermediateStep = var_manna_string.split('\\n')\n",
    "var_manna_list = []\n",
    "for i in range(len(var_manna_intermediateStep)): \n",
    "    var_manna_list += [var_manna_intermediateStep[i].split(' ')]\n",
    "    var_manna_list[i][0] = float(var_manna_list[i][0])\n",
    "    var_manna_list[i][1] = float(var_manna_list[i][1])\n",
    "\n",
    "var_manna_arr = np.asarray(var_manna_list)\n",
    "\n",
    "\n",
    "var_distr_intermediateStep = var_distr_string.split('\\n')\n",
    "var_distr_list = []\n",
    "for i in range(len(var_distr_intermediateStep)): \n",
    "    var_distr_list += [var_distr_intermediateStep[i].split(' ')]\n",
    "    var_distr_list[i][0] = float(var_distr_list[i][0])\n",
    "    var_distr_list[i][1] = float(var_distr_list[i][1])\n",
    "\n",
    "var_distr_arr = np.asarray(var_distr_list)"
   ]
  },
  {
   "cell_type": "markdown",
   "metadata": {},
   "source": [
    "### Manna rules as a string: "
   ]
  },
  {
   "cell_type": "code",
   "execution_count": 130,
   "metadata": {},
   "outputs": [],
   "source": [
    "var_manna_string = \"\"\"2 0.6131883886702356\n",
    "3 0.7507329751649384\n",
    "4 0.8613361713059542\n",
    "5 0.9659451330173987\n",
    "6 1.0637198879404295\n",
    "7 1.1443775600735975\n",
    "8 1.2270900537450378\n",
    "9 1.288720295486961\n",
    "10 1.3746817813588714\n",
    "11 1.4257278842752568\n",
    "12 1.5002166510207784\n",
    "13 1.5586372252708454\n",
    "14 1.6210953087341904\n",
    "15 1.67681245224384\n",
    "16 1.7288146227979446\n",
    "17 1.7660973925579528\n",
    "18 1.827525649614801\n",
    "19 1.877538281899999\n",
    "20 1.9175374833363754\n",
    "21 1.9905275682592292\n",
    "23 2.071183236703117\n",
    "24 2.132861927082951\n",
    "26 2.2079062480096385\n",
    "28 2.2976509743649056\n",
    "30 2.3940655797199875\n",
    "32 2.4396618618161003\n",
    "34 2.5221022976873875\n",
    "36 2.6003749729606307\n",
    "38 2.6536013264995177\n",
    "41 2.761032415601092\n",
    "43 2.8323841547360766\n",
    "46 2.9440278531291106\n",
    "49 3.0458250113885397\n",
    "52 3.1383674099760848\n",
    "56 3.254266430395643\n",
    "60 3.3538336273583997\n",
    "64 3.4592918350436985\n",
    "68 3.591315914814513\n",
    "72 3.696200752123726\n",
    "77 3.811889295349486\n",
    "82 3.9408057551724114\n",
    "87 4.049691346263317\n",
    "93 4.180556183093345\n",
    "99 4.337637605886411\n",
    "105 4.4378485778584205\n",
    "112 4.545415272557613\n",
    "120 4.738960856559168\n",
    "127 4.867853736504416\n",
    "136 5.084722214634739\n",
    "145 5.203863949028645\n",
    "154 5.3759557289843825\n",
    "164 5.559343486419957\n",
    "175 5.699846489160914\n",
    "186 5.9034566145606595\n",
    "198 6.098139060401952\n",
    "211 6.297741658721799\n",
    "225 6.487838623147157\n",
    "240 6.6752303331046186\n",
    "256 6.9680520950980265\n",
    "272 7.148003217682544\n",
    "290 7.331991543912199\n",
    "309 7.597427196097374\n",
    "329 7.827343099673094\n",
    "350 8.074444253321712\n",
    "373 8.354869837406206\n",
    "397 8.631468588832378\n",
    "423 8.974661553507184\n",
    "451 9.280153554764059\n",
    "480 9.507536484284454\n",
    "512 9.794250864665454\n",
    "545 10.142260596139304\n",
    "580 10.444027001114081\n",
    "618 10.794584290281863\n",
    "658 11.081901912578003\n",
    "701 11.46184322000611\n",
    "747 11.799241501045735\n",
    "795 12.21604273077006\n",
    "847 12.594592093434388\n",
    "902 13.107431098426572\n",
    "961 13.494324733012764\n",
    "1024 13.73489169960943\"\"\""
   ]
  },
  {
   "cell_type": "markdown",
   "metadata": {},
   "source": [
    "### Distribution rules as a string"
   ]
  },
  {
   "cell_type": "code",
   "execution_count": 129,
   "metadata": {},
   "outputs": [],
   "source": [
    "var_distr_string = \"\"\"2 0.6123438576486254\n",
    "4 0.865800207900183\n",
    "5 0.9702242008937935\n",
    "6 1.0605281703000633\n",
    "7 1.1472074790551183\n",
    "10 1.3701332052030561\n",
    "28 2.2912424795293926\n",
    "23 2.0766662707329746\n",
    "11 1.4360542120686113\n",
    "19 1.8875700251911185\n",
    "15 1.677268672574552\n",
    "18 1.836907292162563\n",
    "17 1.785304371808908\n",
    "13 1.5612386428730234\n",
    "14 1.6200946885907626\n",
    "8 1.224815006439748\n",
    "24 2.120957142424146\n",
    "21 1.984202509826051\n",
    "26 2.207250529504977\n",
    "36 2.5984721280013763\n",
    "3 0.7500924609673131\n",
    "16 1.7319186759198597\n",
    "38 2.669728768995083\n",
    "52 3.1216092804833857\n",
    "43 2.8398846807573013\n",
    "60 3.355312533878178\n",
    "68 3.571481849316891\n",
    "64 3.464069355541254\n",
    "72 3.6744022643145646\n",
    "77 3.800766317468097\n",
    "41 2.7720897532367164\n",
    "49 3.030358510143643\n",
    "46 2.936619570186101\n",
    "87 4.040144774633701\n",
    "93 4.176694745848684\n",
    "99 4.306623816866293\n",
    "120 4.744142114228873\n",
    "112 4.583397146222439\n",
    "127 4.879644075134989\n",
    "136 5.048285154386586\n",
    "145 5.215601048776642\n",
    "154 5.371952466282627\n",
    "164 5.544886617416085\n",
    "175 5.727542806474693\n",
    "186 5.904725141782639\n",
    "198 6.092580980175807\n",
    "211 6.288490812587707\n",
    "225 6.493460679791632\n",
    "240 6.708751970374221\n",
    "256 6.929264961018593\n",
    "272 7.142383201705156\n",
    "290 7.37327767685444\n",
    "309 7.6129657033248215\n",
    "329 7.852885106761718\n",
    "350 8.102833578446493\n",
    "373 8.363523013658778\n",
    "397 8.62633811069332\n",
    "423 8.905252551163274\n",
    "451 9.19486136382708\n",
    "480 9.483208476038055\n",
    "512 9.799162076422657\n",
    "545 10.110008041539828\n",
    "580 10.427101394922753\n",
    "618 10.765170175152829\n",
    "658 11.107245162505418\n",
    "701 11.470269870408456\n",
    "747 11.834789622126792\n",
    "795 12.20684955670381\n",
    "847 12.600344852423683\n",
    "902 13.000980932222\n",
    "961 13.42122992873604\n",
    "1024 13.857417042869136\n",
    "1161 14.749675030318464\n",
    "1186 14.911540232316714\n",
    "1211 15.067244615390035\n",
    "1237 15.231282490322343\n",
    "1263 15.38742778699546\n",
    "1290 15.558122518478893\n",
    "1374 16.053911834814592\n",
    "1433 16.393549152029284\n",
    "1463 16.55823096227372\n",
    "1494 16.73436975210002\n",
    "1526 16.915667923555368\n",
    "1558 17.09365573831414\n",
    "1591 17.27149624960154\n",
    "1660 17.641643877484885\n",
    "1695 17.829004910538334\n",
    "1731 18.01832667869023\n",
    "1767 18.201484554837826\n",
    "1843 18.58026300944096\n",
    "1922 18.98412425686263\n",
    "2005 19.38249505868633\"\"\""
   ]
  },
  {
   "cell_type": "markdown",
   "metadata": {},
   "source": [
    "### Manna Rules w/ Dissipation"
   ]
  },
  {
   "cell_type": "code",
   "execution_count": 105,
   "metadata": {},
   "outputs": [],
   "source": [
    "var_manna_string = \"\"\"1e-05 13.739670354471711\n",
    "1.2648552168552958e-05 13.84928836231044\n",
    "1.5998587196060572e-05 13.88430824194727\n",
    "2.0235896477251556e-05 13.82421576383008\n",
    "2.559547922699533e-05 13.845897722271328\n",
    "3.237457542817647e-05 13.969654025656604\n",
    "4.094915062380427e-05 13.821239908654162\n",
    "5.1794746792312125e-05 13.950290258794762\n",
    "6.55128556859551e-05 13.861628788372855\n",
    "8.286427728546843e-05 13.941043261803816\n",
    "0.00010481131341546853 13.85350898782835\n",
    "0.00013257113655901095 13.8815211856829\n",
    "0.00016768329368110083 13.822437393361735\n",
    "0.00021209508879201905 13.896973926888512\n",
    "0.0002682695795279727 13.805260118690294\n",
    "0.000339322177189533 13.932563581105272\n",
    "0.00042919342601287783 13.863191018591847\n",
    "0.0005428675439323859 13.930377009157075\n",
    "0.0006866488450042998 13.861890147532597\n",
    "0.000868511373751353 13.871402993819059\n",
    "0.0010985411419875584 13.87281633109146\n",
    "0.0013894954943731374 13.932946704194341\n",
    "0.001757510624854793 13.776952695917084\n",
    "0.0022229964825261957 13.875311748714546\n",
    "0.002811768697974231 13.828759753293513\n",
    "0.0035564803062231283 13.849872491969757\n",
    "0.004498432668969444 13.803705721313362\n",
    "0.005689866029018299 13.82567767113742\n",
    "0.0071968567300115215 13.781848056855928\n",
    "0.009102981779915217 13.788884052091696\n",
    "0.011513953993264481 13.859367815025273\n",
    "0.014563484775012445 13.742553024544417\n",
    "0.018420699693267165 13.73275849795453\n",
    "0.023299518105153717 13.6196378386357\n",
    "0.029470517025518096 13.69927763283235\n",
    "0.037275937203149416 13.664105495582298\n",
    "0.04714866363457394 13.634646494584992\n",
    "0.05963623316594643 13.613974503259703\n",
    "0.07543120063354623 13.529731776580007\n",
    "0.09540954763499944 13.301661380030573\n",
    "0.1206792640639329 13.16883342912659\n",
    "0.15264179671752334 13.108599304456998\n",
    "0.19306977288832497 12.84554435916878\n",
    "0.244205309454865 12.552335067883998\n",
    "0.30888435964774846 12.151079433140351\n",
    "0.3906939937054621 11.487187143927612\n",
    "0.49417133613238384 10.59811101056426\n",
    "0.6250551925273976 9.310927910171788\n",
    "0.7906043210907702 7.131804358632676\n",
    "1.0 0.0\"\"\""
   ]
  },
  {
   "cell_type": "markdown",
   "metadata": {},
   "source": [
    "### Distr Rules w/ Dissipation"
   ]
  },
  {
   "cell_type": "code",
   "execution_count": 104,
   "metadata": {},
   "outputs": [],
   "source": [
    "var_distr_string = \"\"\"1.5998587196060572e-05 13.85954913257821\n",
    "1e-05 13.856176251387186\n",
    "1.2648552168552958e-05 13.851637583483996\n",
    "2.0235896477251556e-05 13.856079266062885\n",
    "3.237457542817647e-05 13.852775800239314\n",
    "5.1794746792312125e-05 13.852863413163618\n",
    "4.094915062380427e-05 13.8565101655167\n",
    "2.559547922699533e-05 13.8521851979293\n",
    "0.00021209508879201905 13.853261297912349\n",
    "0.00016768329368110083 13.855023070686956\n",
    "0.0005428675439323859 13.851867026168739\n",
    "0.009102981779915217 13.813051480814874\n",
    "0.018420699693267165 13.766108382270712\n",
    "6.55128556859551e-05 13.855045144675378\n",
    "0.00010481131341546853 13.855764005927197\n",
    "0.00013257113655901095 13.85415655211169\n",
    "8.286427728546843e-05 13.85531829556897\n",
    "0.0002682695795279727 13.850446577823385\n",
    "0.001757510624854793 13.844094620714662\n",
    "0.0022229964825261957 13.845616897526762\n",
    "0.0013894954943731374 13.848274861040025\n",
    "0.0010985411419875584 13.850912607579046\n",
    "0.00042919342601287783 13.857626072010003\n",
    "0.0006866488450042998 13.853510884287102\n",
    "0.0071968567300115215 13.815536579588997\n",
    "0.005689866029018299 13.827766597621185\n",
    "0.000339322177189533 13.85307174797636\n",
    "0.004498432668969444 13.834385912001292\n",
    "0.000868511373751353 13.855149432303048\n",
    "0.002811768697974231 13.841671115474941\n",
    "0.05963623316594643 13.569138530044665\n",
    "0.0035564803062231283 13.841236085292868\n",
    "0.07543120063354623 13.485850216446991\n",
    "0.15264179671752334 13.073333260154728\n",
    "0.011513953993264481 13.80212315461944\n",
    "0.3906939937054621 11.498837592117182\n",
    "0.014563484775012445 13.78726420927138\n",
    "0.244205309454865 12.530479576425424\n",
    "0.30888435964774846 12.100427435743528\n",
    "1.0 0.0\n",
    "0.7906043210907702 7.127753844286549\n",
    "0.49417133613238384 10.634530931849318\n",
    "0.023299518105153717 13.746241270827108\n",
    "0.029470517025518096 13.720100791662194\n",
    "0.04714866363457394 13.62809210774189\n",
    "0.037275937203149416 13.676252412267264\n",
    "0.09540954763499944 13.3856776819239\n",
    "0.1206792640639329 13.256893666089328\n",
    "0.19306977288832497 12.841013134739118\n",
    "0.6250551925273976 9.32758832878298\"\"\""
   ]
  },
  {
   "cell_type": "markdown",
   "metadata": {},
   "source": [
    "## Create SCC scripts to submit a job for given h_c"
   ]
  },
  {
   "cell_type": "code",
   "execution_count": null,
   "metadata": {},
   "outputs": [],
   "source": [
    "def createScript(jobName, hc):\n",
    "    print(\"qsub\" ,jobName+'.sh')\n",
    "    filename = 'Scripts_hc/' + jobName + '.sh'\n",
    "    file = open(filename,\"w+\")\n",
    "\n",
    "    file.write(\"#!/bin/bash -l \\n \\n\" )\n",
    "\n",
    "    file.write(\"# Set SCC Project \\n\")\n",
    "    file.write(\"#$ -P bunuc \\n\")\n",
    "\n",
    "    file.write(\"# Specify hard time limit for the job. \\n\")\n",
    "    file.write(\"#   The job will be aborted if it runs longer than this time. \\n\")\n",
    "    file.write(\"#$ -l h_rt=52:00:00 \\n \\n\")\n",
    "\n",
    "    file.write(\"# Send an email when the job finishes or if it is aborted (by default no email is sent). \\n\")\n",
    "    file.write(\"#$ -m a \\n \\n\")\n",
    "\n",
    "    file.write(\"# Reuest a node with at least 4 GB of memory per core \\n\")\n",
    "    file.write(\"#$ -l mem_per_core=8G \\n \\n\")\n",
    "\n",
    "    file.write(\"# Request a paralell environemtn with _ cores \\n\")\n",
    "    file.write(\"#$ -pe omp 1 \\n \\n\")\n",
    "    \n",
    "    # ----- Assign Job Name -----\n",
    "    file.write(\"# Give job a name \\n\")\n",
    "    file.writelines([\"#$ -N \", str(jobName), \"\\n \\n\"])\n",
    "\n",
    "    file.write(\"# Combine output and error files into a single file \\n\")\n",
    "    file.write(\"#$ -j y \\n \\n\")\n",
    "\n",
    "    file.write(\"# Specify the output file name \\n\")\n",
    "    file.write(\"#$ -o sand_output.txt \\n \\n\")\n",
    "\n",
    "    file.write(\"# Keep track of information related to the current job \\n \\n\")\n",
    "\n",
    "    file.writelines([\"module load python3\", \"\\n \\n\"])\n",
    "    file.writelines([\"python3 mnm_varCompare.py \", str(hc), \"\\n \\n\"])\n",
    "\n",
    "    file.close()\n",
    "\n",
    "\n",
    "heightRange = np.unique(np.logspace(np.log10(1024), np.log10(8192), 100).astype(int))\n",
    "\n",
    "for j in range(len(heightRange)): \n",
    "    jobname = 'mm_hc' + str(heightRange[j])\n",
    "    createScript(jobname, heightRange[j])"
   ]
  },
  {
   "cell_type": "code",
   "execution_count": null,
   "metadata": {},
   "outputs": [],
   "source": [
    "from decimal import Decimal\n",
    "\n",
    "Decimal(math.factorial(2048)) / Decimal(1003434.2)"
   ]
  },
  {
   "cell_type": "code",
   "execution_count": null,
   "metadata": {},
   "outputs": [],
   "source": [
    "def createScript(jobName, hc, lamb):\n",
    "    print(\"qsub\" ,jobName+'.sh')\n",
    "    filename = 'Scripts_lamb/' + jobName + '.sh'\n",
    "    file = open(filename,\"w+\")\n",
    "\n",
    "    file.write(\"#!/bin/bash -l \\n \\n\" )\n",
    "\n",
    "    file.write(\"# Set SCC Project \\n\")\n",
    "    file.write(\"#$ -P bunuc \\n\")\n",
    "\n",
    "    file.write(\"# Specify hard time limit for the job. \\n\")\n",
    "    file.write(\"#   The job will be aborted if it runs longer than this time. \\n\")\n",
    "    file.write(\"#$ -l h_rt=52:00:00 \\n \\n\")\n",
    "\n",
    "    file.write(\"# Send an email when the job finishes or if it is aborted (by default no email is sent). \\n\")\n",
    "    file.write(\"#$ -m a \\n \\n\")\n",
    "\n",
    "    file.write(\"# Reuest a node with at least 4 GB of memory per core \\n\")\n",
    "    file.write(\"#$ -l mem_per_core=8G \\n \\n\")\n",
    "\n",
    "    file.write(\"# Request a paralell environemtn with _ cores \\n\")\n",
    "    file.write(\"#$ -pe omp 1 \\n \\n\")\n",
    "    \n",
    "    # ----- Assign Job Name -----\n",
    "    file.write(\"# Give job a name \\n\")\n",
    "    file.writelines([\"#$ -N \", str(jobName), \"\\n \\n\"])\n",
    "\n",
    "    file.write(\"# Combine output and error files into a single file \\n\")\n",
    "    file.write(\"#$ -j y \\n \\n\")\n",
    "\n",
    "    file.write(\"# Specify the output file name \\n\")\n",
    "    file.write(\"#$ -o sand_output.txt \\n \\n\")\n",
    "\n",
    "    file.write(\"# Keep track of information related to the current job \\n \\n\")\n",
    "\n",
    "    file.writelines([\"module load python3\", \"\\n \\n\"])\n",
    "    file.writelines([\"python3 mnm_varCompare.py \", str(hc), \" \",str(lamb), \"\\n \\n\"])\n",
    "\n",
    "    file.close()\n",
    "\n",
    "\n",
    "heightRange = np.unique(np.logspace(np.log10(1024), np.log10(8192), 100).astype(int))\n",
    "lambRange = np.logspace(-5, 0, 50).astype(float)\n",
    "\n",
    "for j in range(len(lambRange)): \n",
    "    jobname = 'mmD_lamb' + str(lambRange[j])\n",
    "    createScript(jobname, 1024, lambRange[j])"
   ]
  },
  {
   "cell_type": "code",
   "execution_count": 9,
   "metadata": {},
   "outputs": [
    {
     "data": {
      "text/plain": [
       "0"
      ]
     },
     "execution_count": 9,
     "metadata": {},
     "output_type": "execute_result"
    }
   ],
   "source": [
    "testRange = np.arange(10)\n",
    "\n",
    "np.count_nonzero(testRange > 9)"
   ]
  },
  {
   "cell_type": "markdown",
   "metadata": {},
   "source": [
    "# Using/Testing new Multinomial algorithm"
   ]
  },
  {
   "cell_type": "code",
   "execution_count": 159,
   "metadata": {},
   "outputs": [
    {
     "name": "stdout",
     "output_type": "stream",
     "text": [
      "CPU times: user 226 ms, sys: 2.1 ms, total: 228 ms\n",
      "Wall time: 230 ms\n",
      "CPU times: user 1.17 s, sys: 24.4 ms, total: 1.2 s\n",
      "Wall time: 1.18 s\n"
     ]
    },
    {
     "data": {
      "text/plain": [
       "16"
      ]
     },
     "execution_count": 159,
     "metadata": {},
     "output_type": "execute_result"
    }
   ],
   "source": [
    "import random\n",
    "# Test call\n",
    "np.random.multinomial(20, [1/6.]*6, size=1)\n",
    "\n",
    "def random_Test(): \n",
    "    for j in range(1000000): \n",
    "        int(L*random.random())\n",
    "        int(L*random.random())\n",
    "\n",
    "def random_Test_np(): \n",
    "    for j in range(1000000): \n",
    "        (L * np.random.rand(2,1)).astype(int)\n",
    "\n",
    "%time random_Test()\n",
    "%time random_Test_np()\n",
    "\n",
    "int(128*random.random())"
   ]
  },
  {
   "cell_type": "markdown",
   "metadata": {},
   "source": [
    "The idea is that are 4 neighbors, so $p = 1/4$ chance for each neighbor. And the number of experiments is equal to the height of the failing site. "
   ]
  },
  {
   "cell_type": "code",
   "execution_count": 135,
   "metadata": {},
   "outputs": [
    {
     "name": "stdout",
     "output_type": "stream",
     "text": [
      "[[0 1 1 0 0]]\n",
      "[0 1 1 0 0]\n"
     ]
    }
   ],
   "source": [
    "hc = 2\n",
    "dissp = 0.1\n",
    "final_configs = np.random.multinomial(hc, [(1-dissp)/4.]*4 + [dissp], size=1)\n",
    "\n",
    "print(final_configs)\n",
    "print(final_configs[0])"
   ]
  },
  {
   "cell_type": "code",
   "execution_count": 126,
   "metadata": {},
   "outputs": [],
   "source": [
    "def relax_multi(lattice, configChoice): \n",
    "#     configChoice = choices(combinations, probArray)\n",
    "    lattice[0] += configChoice[0]\n",
    "    lattice[1] += configChoice[1]\n",
    "    lattice[2] += configChoice[2]\n",
    "    lattice[3] += configChoice[3]\n",
    "    return lattice\n",
    "\n",
    "def computeVar_multi(hc, dissp, iterN): \n",
    "    final_configs = np.random.multinomial(hc, [(1-dissp)/4.]*4 + [dissp], size=1)\n",
    "    \n",
    "    avg = (hc/4) * (1-dissp)\n",
    "    var = 0\n",
    "    for i in range(iterN): \n",
    "        lattice = np.zeros(4)\n",
    "        lattice = relax_distr(lattice, final_configs[i])\n",
    "        var += np.sum((lattice - avg)**2)\n",
    "    return np.sqrt(var/4/iterN)\n",
    "\n"
   ]
  },
  {
   "cell_type": "code",
   "execution_count": 103,
   "metadata": {},
   "outputs": [
    {
     "name": "stdout",
     "output_type": "stream",
     "text": [
      "hc= 2 var= 0.6053635271471184\n",
      "CPU times: user 446 ms, sys: 3.55 ms, total: 449 ms\n",
      "Wall time: 449 ms\n",
      " \n",
      "hc= 128 var= 4.960291826092493\n",
      "CPU times: user 464 ms, sys: 2.17 ms, total: 466 ms\n",
      "Wall time: 468 ms\n",
      " \n",
      "hc= 256 var= 7.182051064981367\n",
      "CPU times: user 456 ms, sys: 1.15 ms, total: 457 ms\n",
      "Wall time: 457 ms\n",
      " \n"
     ]
    }
   ],
   "source": [
    "dissp = 1/30.\n",
    "\n",
    "hc=2\n",
    "%time print(\"hc=\", hc, \"var=\", computeVar_multi(hc, dissp, 100000))\n",
    "print(\" \")\n",
    "\n",
    "hc=128\n",
    "%time print(\"hc=\", hc, \"var=\", computeVar_multi(hc, dissp, 100000))\n",
    "print(\" \")\n",
    "\n",
    "hc=256\n",
    "%time print(\"hc=\", hc, \"var=\", computeVar_multi(hc, dissp, 100000))\n",
    "print(\" \")\n",
    "\n",
    "\n"
   ]
  },
  {
   "cell_type": "code",
   "execution_count": 132,
   "metadata": {},
   "outputs": [
    {
     "name": "stdout",
     "output_type": "stream",
     "text": [
      "2 3 4 5 6 7 8 9 10 11 12 13 15 16 17 19 21 22 24 27 29 31 34 37 41 44 48 52 57 62 68 74 80 87 95 103 112 122 133 145 157 171 186 203 220 240 261 284 309 336 365 397 432 470 511 556 605 658 716 779 847 921 1002 1090 1186 1290 1403 1526 1660 1805 1963 2135 2323 2526 2748 2989 3250 3535 3845 4182 4549 4948 5382 5853 6366 6924 7531 8191 "
     ]
    }
   ],
   "source": [
    "## Height test\n",
    "\n",
    "heightRange = np.unique(np.logspace(np.log10(2), np.log10(8192), 100).astype(int))\n",
    "dissp = 0\n",
    "\n",
    "var_multi_arr = np.zeros((len(heightRange), 2))\n",
    "\n",
    "for hc_i, hc in enumerate(heightRange): \n",
    "    print(hc, end=\" \")\n",
    "    var_multi_arr[hc_i, 0] = hc\n",
    "    var_multi_arr[hc_i, 1] = computeVar_multi(hc, dissp, 100000)\n",
    "    \n",
    "    "
   ]
  },
  {
   "cell_type": "code",
   "execution_count": 127,
   "metadata": {},
   "outputs": [
    {
     "name": "stdout",
     "output_type": "stream",
     "text": [
      "1024 1024 1024 1024 1024 1024 1024 1024 1024 1024 1024 1024 1024 1024 1024 1024 1024 1024 1024 1024 1024 1024 1024 1024 1024 1024 1024 1024 1024 1024 1024 1024 1024 1024 1024 1024 1024 1024 1024 1024 1024 1024 1024 1024 1024 1024 1024 1024 1024 1024 "
     ]
    }
   ],
   "source": [
    "## Dissp test\n",
    "\n",
    "lambRange = np.logspace(-5, 0, 50).astype(float)\n",
    "hc = 1024\n",
    "\n",
    "var_multi_arr = np.zeros((len(heightRange), 2))\n",
    "\n",
    "for dissp_i, dissp in enumerate(lambRange):\n",
    "    print(hc, end=\" \")\n",
    "    var_multi_arr[dissp_i, 0] = dissp\n",
    "    var_multi_arr[dissp_i, 1] = computeVar_multi(hc, dissp, 100000)\n",
    "    \n",
    "    "
   ]
  },
  {
   "cell_type": "markdown",
   "metadata": {},
   "source": [
    "## Compare to old distribution code: "
   ]
  },
  {
   "cell_type": "code",
   "execution_count": 71,
   "metadata": {},
   "outputs": [
    {
     "name": "stdout",
     "output_type": "stream",
     "text": [
      "hc= 2 var= 0.612213198158942\n",
      "CPU times: user 444 ms, sys: 3.22 ms, total: 447 ms\n",
      "Wall time: 448 ms\n",
      " \n",
      "hc= 128 var= 4.889644670116634\n",
      "CPU times: user 1.74 s, sys: 24.7 ms, total: 1.76 s\n",
      "Wall time: 1.76 s\n",
      " \n",
      "hc= 256 var= 6.946985317387679\n",
      "CPU times: user 13.3 s, sys: 110 ms, total: 13.4 s\n",
      "Wall time: 13.5 s\n",
      " \n"
     ]
    }
   ],
   "source": [
    "hc=2\n",
    "%time print(\"hc=\", hc, \"var=\", computeVar_distr(hc, 100000))\n",
    "print(\" \")\n",
    "\n",
    "hc=128\n",
    "%time print(\"hc=\", hc, \"var=\", computeVar_distr(hc, 100000))\n",
    "print(\" \")\n",
    "\n",
    "hc=256\n",
    "%time print(\"hc=\", hc, \"var=\", computeVar_distr(hc, 100000))\n",
    "print(\" \")\n",
    "\n"
   ]
  },
  {
   "cell_type": "markdown",
   "metadata": {},
   "source": [
    "## Plotting variance differences (hc)"
   ]
  },
  {
   "cell_type": "code",
   "execution_count": 133,
   "metadata": {},
   "outputs": [
    {
     "name": "stdout",
     "output_type": "stream",
     "text": [
      "Plots_distr/MM_manna_varCompare_dissp.png\n"
     ]
    },
    {
     "data": {
      "text/plain": [
       "<matplotlib.legend.Legend at 0x165ee83d0>"
      ]
     },
     "execution_count": 133,
     "metadata": {},
     "output_type": "execute_result"
    },
    {
     "data": {
      "image/png": "[encoded data removed]",
      "text/plain": [
       "<Figure size 960x720 with 1 Axes>"
      ]
     },
     "metadata": {},
     "output_type": "display_data"
    },
    {
     "data": {
      "image/png": "[encoded data removed]",
      "text/plain": [
       "<Figure size 960x720 with 1 Axes>"
      ]
     },
     "metadata": {},
     "output_type": "display_data"
    }
   ],
   "source": [
    "fig, (ax1) = plt.subplots(1,1,figsize=(4, 3), dpi=240, frameon=False)\n",
    "ax1.plot(var_distr_arr[:,0], var_distr_arr[:,1]/var_distr_arr[:,0], 'b^-', markersize=2, linewidth=0, label=\"Distr.\")\n",
    "ax1.plot(var_manna_arr[:,0], var_manna_arr[:,1]/var_manna_arr[:,0], 'r.-', markersize=2, linewidth=0, label=\"Manna.\")\n",
    "ax1.plot(var_multi_arr[:,0], var_multi_arr[:,1]/var_multi_arr[:,0], 'gs-', markersize=2, linewidth=0, label=\"Multi.\")\n",
    "ax1.set_ylabel(r'$\\Delta h / h_c$'); ax1.set_xlabel(r'$h_c$')\n",
    "ax1.set_yscale('log')\n",
    "ax1.set_xscale('log')\n",
    "ax1.legend(fontsize=9)\n",
    "filename = \"Plots_distr/MM_manna_varCompare_dissp.png\"\n",
    "# fig.savefig(filename, dpi=200) \n",
    "print(filename)\n",
    "\n",
    "fig, (ax1) = plt.subplots(1,1,figsize=(4, 3), dpi=240, frameon=False)\n",
    "ax1.plot(var_distr_arr[:,0], var_distr_arr[:,1], 'b^-', markersize=2, linewidth=0, label=\"Distr.\")\n",
    "ax1.plot(var_manna_arr[:,0], var_manna_arr[:,1], 'r.-', markersize=2, linewidth=0, label=\"Manna.\")\n",
    "ax1.plot(var_multi_arr[:,0], var_multi_arr[:,1], 'gs-', markersize=2, linewidth=0, label=\"Manna.\")\n",
    "ax1.set_ylabel(r'$\\Delta h$'); ax1.set_xlabel(r'$h_c$')\n",
    "ax1.set_xscale('log')\n",
    "ax1.set_yscale('log')\n",
    "ax1.legend(fontsize=9)\n",
    "\n",
    "\n"
   ]
  },
  {
   "cell_type": "markdown",
   "metadata": {},
   "source": [
    "## Plotting variance differences"
   ]
  },
  {
   "cell_type": "code",
   "execution_count": 128,
   "metadata": {},
   "outputs": [
    {
     "name": "stdout",
     "output_type": "stream",
     "text": [
      "Plots_distr/MM_manna_varCompare_dissp.png\n"
     ]
    },
    {
     "name": "stderr",
     "output_type": "stream",
     "text": [
      "<ipython-input-128-eedd3bf8356e>:4: RuntimeWarning: invalid value encountered in true_divide\n",
      "  ax1.plot(var_multi_arr[:,0], var_multi_arr[:,1]/var_multi_arr[:,0], 'gs-', markersize=2, linewidth=0, label=\"Multi.\")\n"
     ]
    },
    {
     "data": {
      "text/plain": [
       "<matplotlib.legend.Legend at 0x12c4bfaf0>"
      ]
     },
     "execution_count": 128,
     "metadata": {},
     "output_type": "execute_result"
    },
    {
     "data": {
      "image/png": "[encoded data removed]",
      "text/plain": [
       "<Figure size 960x720 with 1 Axes>"
      ]
     },
     "metadata": {},
     "output_type": "display_data"
    },
    {
     "data": {
      "image/png": "[encoded data removed]",
      "text/plain": [
       "<Figure size 960x720 with 1 Axes>"
      ]
     },
     "metadata": {},
     "output_type": "display_data"
    }
   ],
   "source": [
    "fig, (ax1) = plt.subplots(1,1,figsize=(4, 3), dpi=240, frameon=False)\n",
    "ax1.plot(var_distr_arr[:,0], var_distr_arr[:,1]/var_distr_arr[:,0], 'b^-', markersize=2, linewidth=0, label=\"Distr.\")\n",
    "ax1.plot(var_manna_arr[:,0], var_manna_arr[:,1]/var_manna_arr[:,0], 'r.-', markersize=2, linewidth=0, label=\"Manna.\")\n",
    "ax1.plot(var_multi_arr[:,0], var_multi_arr[:,1]/var_multi_arr[:,0], 'gs-', markersize=2, linewidth=0, label=\"Multi.\")\n",
    "ax1.set_ylabel(r'$\\Delta h / \\lambda$'); ax1.set_xlabel(r'$\\lambda$')\n",
    "ax1.set_yscale('log')\n",
    "ax1.set_xscale('log')\n",
    "ax1.legend(fontsize=9)\n",
    "filename = \"Plots_distr/MM_manna_varCompare_dissp.png\"\n",
    "# fig.savefig(filename, dpi=200) \n",
    "print(filename)\n",
    "\n",
    "fig, (ax1) = plt.subplots(1,1,figsize=(4, 3), dpi=240, frameon=False)\n",
    "ax1.plot(var_distr_arr[:,0], var_distr_arr[:,1], 'b^-', markersize=2, linewidth=0, label=\"Distr.\")\n",
    "ax1.plot(var_manna_arr[:,0], var_manna_arr[:,1], 'r.-', markersize=2, linewidth=0, label=\"Manna.\")\n",
    "ax1.plot(var_multi_arr[:,0], var_multi_arr[:,1], 'gs-', markersize=2, linewidth=0, label=\"Manna.\")\n",
    "ax1.set_ylabel(r'$\\Delta h$'); ax1.set_xlabel(r'$\\lambda$')\n",
    "ax1.set_xscale('log')\n",
    "ax1.set_yscale('log')\n",
    "ax1.legend(fontsize=9)\n",
    "\n"
   ]
  },
  {
   "cell_type": "markdown",
   "metadata": {},
   "source": [
    "# Simulations and Results"
   ]
  },
  {
   "cell_type": "markdown",
   "metadata": {
    "heading_collapsed": true
   },
   "source": [
    "## Full Simulation Code"
   ]
  },
  {
   "cell_type": "code",
   "execution_count": null,
   "metadata": {
    "hidden": true
   },
   "outputs": [],
   "source": [
    "def driving_m(lattice, L, hc, lambd, combinations, probArray):\n",
    "    \"\"\"\n",
    "    Randomly choose sites on the lattice to add a height-unit to \n",
    "    until one site overcomes the threhsold, hc\n",
    "    \"\"\"\n",
    "    while np.any(lattice < hc): \n",
    "        ##Choose a ranom site (assuming 2d lattice)\n",
    "        site = (L * np.random.rand(2,1)).astype(int)\n",
    "        lattice[site[0], site[1]] += 1\n",
    "        \n",
    "        ##If incrimented site height >= hc, proceed to the toppling rules: \n",
    "        if lattice[site[0], site[1]] >= hc:\n",
    "            avgH = np.sum(lattice)\n",
    "            lattice, [siz, dur, area, rgs, rga] = relax_m(lattice, L, hc, lambd, combinations, probArray)\n",
    "            break\n",
    "            \n",
    "    return lattice, [siz, dur, area, rgs, rga], avgH\n",
    "\n",
    "\n",
    "def relax_m(lattice, L, hc, lambd, combinations, probArray):\n",
    "    \"\"\"\n",
    "    Relaxes the (active) lattice to a stable configuration. \n",
    "    Returns: avalanche size, area, duration, and corresponding radii of gyration. \n",
    "    \"\"\"\n",
    "    siz = 0\n",
    "    dur = 0\n",
    "    ##Temp Lattice with extra sites for the open boundaries (ease of toppling code). \n",
    "    latticeOBC = np.zeros((L+2, L+2))\n",
    "    latticeOBC[1:-1, 1:-1] = lattice\n",
    "    ##Lattice-clone to keep track of sites that fired at-least once (for computing area). \n",
    "    latticeTriggers = np.zeros_like(lattice)\n",
    "    \n",
    "    while(np.any(lattice >= hc)):\n",
    "        dur += 1\n",
    "        ##Loop over lattice, checking for sites >= hc that need to be toppled. \n",
    "        for x in range( 1, L+1 ):\n",
    "            for y in range( 1, L+1 ):\n",
    "                if lattice[x-1,y-1] >= hc:\n",
    "                    ##Draw final configuartion and set this configuration to the (temp) lattice. \n",
    "                    configChoice = choices(combinations, probArray, k=1)[0]\n",
    "                    latticeOBC[x,y] -= hc\n",
    "                    latticeOBC[x+1,y] += np.random.binomial(configChoice[0], 1-lambd, size=1)[0]\n",
    "                    latticeOBC[x-1,y] += np.random.binomial(configChoice[1], 1-lambd, size=1)[0]\n",
    "                    latticeOBC[x,y+1] += np.random.binomial(configChoice[2], 1-lambd, size=1)[0]\n",
    "                    latticeOBC[x,y-1] += np.random.binomial(configChoice[3], 1-lambd, size=1)[0]\n",
    "                    ##Also record the site that triggered\n",
    "                    latticeTriggers[x-1,y-1] += 1\n",
    "                    \n",
    "        ##Reset the boundaries to be 0 (so they never get too big)\n",
    "        latticeOBC[:,0] = 0; latticeOBC[:,-1] = 0\n",
    "        latticeOBC[0,:] = 0; latticeOBC[-1,:] = 0\n",
    "        ## Set the new (temp) lattice onto the real (recorded) lattice. \n",
    "        lattice = latticeOBC[1:-1, 1:-1]\n",
    "    siz = np.sum(latticeTriggers) #Size = total number of sites that toppled\n",
    "    area = np.count_nonzero(latticeTriggers) #Area = total number of sites that toppled at least once. \n",
    "    \n",
    "    # Compute the radius of Gyration (s/a)\n",
    "    rsx=0; rsy=0; rax=0; ray = 0; rgs = 0; rga = 0\n",
    "    for x in range(0, L):\n",
    "        for y in range(0,L):\n",
    "            rsx += x * latticeTriggers[x,y] / siz\n",
    "            rsy += y * latticeTriggers[x,y] / siz\n",
    "            rax += x * latticeTriggers[x,y] / (latticeTriggers[x,y] - 0.001) / area\n",
    "            ray += y * latticeTriggers[x,y] / (latticeTriggers[x,y] - 0.001) / area\n",
    "    for x in range(0, L):\n",
    "        for y in range(0,L):\n",
    "            rgs += latticeTriggers[x,y]/siz * ( (x-rsx)**2 + (y - rsy)**2)\n",
    "            rga += latticeTriggers[x,y] / (latticeTriggers[x,y] - 0.001) / area * ( (x-rax)**2 + (y - ray)**2)            \n",
    "        \n",
    "    return lattice, [siz, dur, area, rgs, rga]\n",
    "\n",
    "def relax_distr_lamb(lattice, lamb, configChoice): \n",
    "    lattice[0] += np.random.binomial(configChoice[0], 1-lamb, size=1)[0]\n",
    "    lattice[1] += np.random.binomial(configChoice[1], 1-lamb, size=1)[0]\n",
    "    lattice[2] += np.random.binomial(configChoice[2], 1-lamb, size=1)[0]\n",
    "    lattice[3] += np.random.binomial(configChoice[3], 1-lamb, size=1)[0]\n",
    "    return lattice"
   ]
  },
  {
   "cell_type": "code",
   "execution_count": null,
   "metadata": {
    "hidden": true
   },
   "outputs": [],
   "source": [
    "def runSystem_m(lattice, L, hc, lambd,timer):\n",
    "    \n",
    "    combinations, probArray = prob_array_1(hc)\n",
    "    print(\"config probs computed\")\n",
    "    \n",
    "    lattice = lattice.astype(int)\n",
    "    sizList = []\n",
    "    durList = []\n",
    "    areList = []\n",
    "    rgsList = []\n",
    "    rgaList = []\n",
    "    HList = []\n",
    "    counter = 0\n",
    "    while counter < timer: \n",
    "        print('driving: '+str(counter+1), end='\\r')\n",
    "        lattice, results, avgH = driving_m(lattice, L, hc, lambd, combinations, probArray)\n",
    "        \n",
    "        if results[0]>0: \n",
    "            sizList += [results[0]]\n",
    "            durList += [results[1]]\n",
    "            areList += [results[2]]\n",
    "            rgsList += [results[3]]\n",
    "            rgaList += [results[4]]\n",
    "            HList += [avgH]\n",
    "            counter += 1        \n",
    "            \n",
    "    np.set_printoptions(threshold=np.inf)\n",
    "    print('\\n')\n",
    "    print(L,lambd,timer)\n",
    "    print(\"Sizes:\")\n",
    "    print(np.array2string(np.asarray(sizList), separator=','))\n",
    "    print('Durations:')\n",
    "    print(np.array2string(np.asarray(durList), separator=','))\n",
    "    print('Areas:')\n",
    "    print(np.array2string(np.asarray(areList), separator=','))\n",
    "#     print('\\n')\n",
    "#     print(np.array2string(np.asarray(rgsList), separator=','))\n",
    "#     print('\\n')\n",
    "#     print(np.array2string(np.asarray(rgaList), separator=','))\n",
    "    \n",
    "    return sizList,durList,areList, rgsList, rgaList, HList"
   ]
  },
  {
   "cell_type": "code",
   "execution_count": null,
   "metadata": {
    "hidden": true
   },
   "outputs": [],
   "source": [
    "L = 64\n",
    "hc = 4\n",
    "timer = 5000\n",
    "lattice = (hc-1)*np.random.rand(L,L)\n",
    "\n",
    "print('starting')\n",
    "\n",
    "sizList0 , durList0 , areList0 , rgsList0 , rgaList0 , HList0 = runSystem_m(lattice, L, hc, 0.1, timer)\n"
   ]
  },
  {
   "cell_type": "code",
   "execution_count": null,
   "metadata": {
    "hidden": true
   },
   "outputs": [],
   "source": [
    "fig, (ax1) = plt.subplots(1,1,figsize=(6, 4), dpi=120)\n",
    "\n",
    "ax1.hist(sizList0, bins=np.logspace(np.log10(1),np.log10(1000.0), 50))\n",
    "ax1.plot(np.linspace(1, 100, 100), 1750*np.linspace(1, 100, 100)**(-1.15), 'k--')\n",
    "\n",
    "ax1.set_ylabel(r'$\\Delta h / h_c$'); ax1.set_xlabel(r'$h_c$')\n",
    "ax1.set_yscale('log')\n",
    "ax1.set_xscale('log')\n",
    "ax1.set_title(\"Distribution Rules\")\n"
   ]
  },
  {
   "cell_type": "markdown",
   "metadata": {},
   "source": [
    "## Create SCC scripts to submit a job for given h_c"
   ]
  },
  {
   "cell_type": "code",
   "execution_count": 7,
   "metadata": {},
   "outputs": [
    {
     "name": "stdout",
     "output_type": "stream",
     "text": [
      "qsub sp_1000.sh\n",
      "qsub sp_1001.sh\n",
      "qsub sp_1002.sh\n",
      "qsub sp_1003.sh\n",
      "qsub sp_1004.sh\n",
      "qsub sp_1005.sh\n",
      "qsub sp_1006.sh\n",
      "qsub sp_1007.sh\n",
      "qsub sp_1008.sh\n",
      "qsub sp_1009.sh\n",
      "qsub sp_1010.sh\n",
      "qsub sp_1011.sh\n",
      "qsub sp_1012.sh\n",
      "qsub sp_1013.sh\n",
      "qsub sp_1014.sh\n",
      "qsub sp_1015.sh\n",
      "qsub sp_1016.sh\n",
      "qsub sp_1017.sh\n",
      "qsub sp_1018.sh\n",
      "qsub sp_1019.sh\n",
      "qsub sp_1020.sh\n",
      "qsub sp_1021.sh\n",
      "qsub sp_1022.sh\n",
      "qsub sp_1023.sh\n",
      "qsub sp_1024.sh\n",
      "qsub sp_1025.sh\n",
      "qsub sp_1026.sh\n",
      "qsub sp_1027.sh\n",
      "qsub sp_1028.sh\n",
      "qsub sp_1029.sh\n",
      "qsub sp_1030.sh\n",
      "qsub sp_1031.sh\n",
      "qsub sp_1032.sh\n",
      "qsub sp_1033.sh\n",
      "qsub sp_1034.sh\n",
      "qsub sp_1035.sh\n",
      "qsub sp_1036.sh\n",
      "qsub sp_1037.sh\n",
      "qsub sp_1038.sh\n",
      "qsub sp_1039.sh\n",
      "qsub sp_1040.sh\n",
      "qsub sp_1041.sh\n",
      "qsub sp_1042.sh\n",
      "qsub sp_1043.sh\n",
      "qsub sp_1044.sh\n",
      "qsub sp_1045.sh\n",
      "qsub sp_1046.sh\n",
      "qsub sp_1047.sh\n",
      "qsub sp_1048.sh\n",
      "qsub sp_1049.sh\n",
      "qsub sp_1050.sh\n",
      "qsub sp_1051.sh\n",
      "qsub sp_1052.sh\n",
      "qsub sp_1053.sh\n",
      "qsub sp_1054.sh\n",
      "qsub sp_1055.sh\n",
      "qsub sp_1056.sh\n",
      "qsub sp_1057.sh\n",
      "qsub sp_1058.sh\n",
      "qsub sp_1059.sh\n",
      "qsub sp_1060.sh\n",
      "qsub sp_1061.sh\n",
      "qsub sp_1062.sh\n",
      "qsub sp_1063.sh\n",
      "qsub sp_1064.sh\n",
      "qsub sp_1065.sh\n",
      "qsub sp_1066.sh\n",
      "qsub sp_1067.sh\n",
      "qsub sp_1068.sh\n",
      "qsub sp_1069.sh\n",
      "qsub sp_1070.sh\n",
      "qsub sp_1071.sh\n",
      "qsub sp_1072.sh\n",
      "qsub sp_1073.sh\n",
      "qsub sp_1074.sh\n",
      "qsub sp_1075.sh\n",
      "qsub sp_1076.sh\n",
      "qsub sp_1077.sh\n",
      "qsub sp_1078.sh\n",
      "qsub sp_1079.sh\n",
      "qsub sp_1080.sh\n",
      "qsub sp_1081.sh\n",
      "qsub sp_1082.sh\n",
      "qsub sp_1083.sh\n",
      "qsub sp_1084.sh\n",
      "qsub sp_1085.sh\n",
      "qsub sp_1086.sh\n",
      "qsub sp_1087.sh\n",
      "qsub sp_1088.sh\n",
      "qsub sp_1089.sh\n",
      "qsub sp_1090.sh\n",
      "qsub sp_1091.sh\n",
      "qsub sp_1092.sh\n",
      "qsub sp_1093.sh\n",
      "qsub sp_1094.sh\n",
      "qsub sp_1095.sh\n",
      "qsub sp_1096.sh\n",
      "qsub sp_1097.sh\n",
      "qsub sp_1098.sh\n",
      "qsub sp_1099.sh\n",
      "qsub sp_1100.sh\n",
      "qsub sp_1101.sh\n",
      "qsub sp_1102.sh\n",
      "qsub sp_1103.sh\n",
      "qsub sp_1104.sh\n",
      "qsub sp_1105.sh\n",
      "qsub sp_1106.sh\n",
      "qsub sp_1107.sh\n",
      "qsub sp_1108.sh\n",
      "qsub sp_1109.sh\n",
      "qsub sp_1110.sh\n",
      "qsub sp_1111.sh\n",
      "qsub sp_1112.sh\n",
      "qsub sp_1113.sh\n",
      "qsub sp_1114.sh\n",
      "qsub sp_1115.sh\n",
      "qsub sp_1116.sh\n",
      "qsub sp_1117.sh\n",
      "qsub sp_1118.sh\n",
      "qsub sp_1119.sh\n",
      "qsub sp_1120.sh\n",
      "qsub sp_1121.sh\n",
      "qsub sp_1122.sh\n",
      "qsub sp_1123.sh\n",
      "qsub sp_1124.sh\n",
      "qsub sp_1125.sh\n",
      "qsub sp_1126.sh\n",
      "qsub sp_1127.sh\n",
      "qsub sp_1128.sh\n",
      "qsub sp_1129.sh\n",
      "qsub sp_1130.sh\n",
      "qsub sp_1131.sh\n",
      "qsub sp_1132.sh\n",
      "qsub sp_1133.sh\n",
      "qsub sp_1134.sh\n",
      "qsub sp_1135.sh\n",
      "qsub sp_1136.sh\n",
      "qsub sp_1137.sh\n",
      "qsub sp_1138.sh\n",
      "qsub sp_1139.sh\n",
      "qsub sp_1140.sh\n",
      "qsub sp_1141.sh\n",
      "qsub sp_1142.sh\n",
      "qsub sp_1143.sh\n",
      "qsub sp_1144.sh\n",
      "qsub sp_1145.sh\n",
      "qsub sp_1146.sh\n",
      "qsub sp_1147.sh\n",
      "qsub sp_1148.sh\n",
      "qsub sp_1149.sh\n",
      "qsub sp_1150.sh\n",
      "qsub sp_1151.sh\n",
      "qsub sp_1152.sh\n",
      "qsub sp_1153.sh\n",
      "qsub sp_1154.sh\n",
      "qsub sp_1155.sh\n",
      "qsub sp_1156.sh\n",
      "qsub sp_1157.sh\n",
      "qsub sp_1158.sh\n",
      "qsub sp_1159.sh\n",
      "qsub sp_1160.sh\n",
      "qsub sp_1161.sh\n",
      "qsub sp_1162.sh\n",
      "qsub sp_1163.sh\n",
      "qsub sp_1164.sh\n",
      "qsub sp_1165.sh\n",
      "qsub sp_1166.sh\n",
      "qsub sp_1167.sh\n",
      "qsub sp_1168.sh\n",
      "qsub sp_1169.sh\n",
      "qsub sp_1170.sh\n",
      "qsub sp_1171.sh\n",
      "qsub sp_1172.sh\n",
      "qsub sp_1173.sh\n",
      "qsub sp_1174.sh\n",
      "qsub sp_1175.sh\n",
      "qsub sp_1176.sh\n",
      "qsub sp_1177.sh\n",
      "qsub sp_1178.sh\n",
      "qsub sp_1179.sh\n",
      "qsub sp_1180.sh\n",
      "qsub sp_1181.sh\n",
      "qsub sp_1182.sh\n",
      "qsub sp_1183.sh\n",
      "qsub sp_1184.sh\n",
      "qsub sp_1185.sh\n",
      "qsub sp_1186.sh\n",
      "qsub sp_1187.sh\n",
      "qsub sp_1188.sh\n",
      "qsub sp_1189.sh\n",
      "qsub sp_1190.sh\n",
      "qsub sp_1191.sh\n",
      "qsub sp_1192.sh\n",
      "qsub sp_1193.sh\n",
      "qsub sp_1194.sh\n",
      "qsub sp_1195.sh\n",
      "qsub sp_1196.sh\n",
      "qsub sp_1197.sh\n",
      "qsub sp_1198.sh\n",
      "qsub sp_1199.sh\n",
      "qsub sp_1200.sh\n",
      "qsub sp_1201.sh\n",
      "qsub sp_1202.sh\n",
      "qsub sp_1203.sh\n",
      "qsub sp_1204.sh\n",
      "qsub sp_1205.sh\n",
      "qsub sp_1206.sh\n",
      "qsub sp_1207.sh\n",
      "qsub sp_1208.sh\n",
      "qsub sp_1209.sh\n",
      "qsub sp_1210.sh\n",
      "qsub sp_1211.sh\n",
      "qsub sp_1212.sh\n",
      "qsub sp_1213.sh\n",
      "qsub sp_1214.sh\n",
      "qsub sp_1215.sh\n",
      "qsub sp_1216.sh\n",
      "qsub sp_1217.sh\n",
      "qsub sp_1218.sh\n",
      "qsub sp_1219.sh\n",
      "qsub sp_1220.sh\n",
      "qsub sp_1221.sh\n",
      "qsub sp_1222.sh\n",
      "qsub sp_1223.sh\n",
      "qsub sp_1224.sh\n",
      "qsub sp_1225.sh\n",
      "qsub sp_1226.sh\n",
      "qsub sp_1227.sh\n",
      "qsub sp_1228.sh\n",
      "qsub sp_1229.sh\n",
      "qsub sp_1230.sh\n",
      "qsub sp_1231.sh\n",
      "qsub sp_1232.sh\n",
      "qsub sp_1233.sh\n",
      "qsub sp_1234.sh\n",
      "qsub sp_1235.sh\n",
      "qsub sp_1236.sh\n",
      "qsub sp_1237.sh\n",
      "qsub sp_1238.sh\n",
      "qsub sp_1239.sh\n",
      "qsub sp_1240.sh\n",
      "qsub sp_1241.sh\n",
      "qsub sp_1242.sh\n",
      "qsub sp_1243.sh\n",
      "qsub sp_1244.sh\n",
      "qsub sp_1245.sh\n",
      "qsub sp_1246.sh\n",
      "qsub sp_1247.sh\n",
      "qsub sp_1248.sh\n",
      "qsub sp_1249.sh\n",
      "qsub sp_1250.sh\n",
      "qsub sp_1251.sh\n",
      "qsub sp_1252.sh\n",
      "qsub sp_1253.sh\n",
      "qsub sp_1254.sh\n",
      "qsub sp_1255.sh\n",
      "qsub sp_1256.sh\n",
      "qsub sp_1257.sh\n",
      "qsub sp_1258.sh\n",
      "qsub sp_1259.sh\n",
      "qsub sp_1260.sh\n",
      "qsub sp_1261.sh\n",
      "qsub sp_1262.sh\n",
      "qsub sp_1263.sh\n",
      "qsub sp_1264.sh\n",
      "qsub sp_1265.sh\n",
      "qsub sp_1266.sh\n",
      "qsub sp_1267.sh\n",
      "qsub sp_1268.sh\n",
      "qsub sp_1269.sh\n",
      "qsub sp_1270.sh\n",
      "qsub sp_1271.sh\n",
      "qsub sp_1272.sh\n",
      "qsub sp_1273.sh\n",
      "qsub sp_1274.sh\n",
      "qsub sp_1275.sh\n",
      "qsub sp_1276.sh\n",
      "qsub sp_1277.sh\n",
      "qsub sp_1278.sh\n",
      "qsub sp_1279.sh\n",
      "qsub sp_1280.sh\n",
      "qsub sp_1281.sh\n",
      "qsub sp_1282.sh\n",
      "qsub sp_1283.sh\n",
      "qsub sp_1284.sh\n",
      "qsub sp_1285.sh\n",
      "qsub sp_1286.sh\n",
      "qsub sp_1287.sh\n",
      "qsub sp_1288.sh\n",
      "qsub sp_1289.sh\n",
      "qsub sp_1290.sh\n",
      "qsub sp_1291.sh\n",
      "qsub sp_1292.sh\n",
      "qsub sp_1293.sh\n",
      "qsub sp_1294.sh\n",
      "qsub sp_1295.sh\n",
      "qsub sp_1296.sh\n",
      "qsub sp_1297.sh\n",
      "qsub sp_1298.sh\n",
      "qsub sp_1299.sh\n",
      "qsub sp_1300.sh\n",
      "qsub sp_1301.sh\n",
      "qsub sp_1302.sh\n",
      "qsub sp_1303.sh\n",
      "qsub sp_1304.sh\n",
      "qsub sp_1305.sh\n",
      "qsub sp_1306.sh\n",
      "qsub sp_1307.sh\n",
      "qsub sp_1308.sh\n",
      "qsub sp_1309.sh\n",
      "qsub sp_1310.sh\n",
      "qsub sp_1311.sh\n",
      "qsub sp_1312.sh\n",
      "qsub sp_1313.sh\n",
      "qsub sp_1314.sh\n",
      "qsub sp_1315.sh\n",
      "qsub sp_1316.sh\n",
      "qsub sp_1317.sh\n",
      "qsub sp_1318.sh\n",
      "qsub sp_1319.sh\n",
      "qsub sp_1320.sh\n",
      "qsub sp_1321.sh\n",
      "qsub sp_1322.sh\n",
      "qsub sp_1323.sh\n",
      "qsub sp_1324.sh\n",
      "qsub sp_1325.sh\n",
      "qsub sp_1326.sh\n",
      "qsub sp_1327.sh\n",
      "qsub sp_1328.sh\n",
      "qsub sp_1329.sh\n",
      "qsub sp_1330.sh\n",
      "qsub sp_1331.sh\n",
      "qsub sp_1332.sh\n",
      "qsub sp_1333.sh\n",
      "qsub sp_1334.sh\n",
      "qsub sp_1335.sh\n",
      "qsub sp_1336.sh\n",
      "qsub sp_1337.sh\n",
      "qsub sp_1338.sh\n",
      "qsub sp_1339.sh\n",
      "qsub sp_1340.sh\n",
      "qsub sp_1341.sh\n",
      "qsub sp_1342.sh\n",
      "qsub sp_1343.sh\n",
      "qsub sp_1344.sh\n",
      "qsub sp_1345.sh\n",
      "qsub sp_1346.sh\n",
      "qsub sp_1347.sh\n",
      "qsub sp_1348.sh\n",
      "qsub sp_1349.sh\n",
      "qsub sp_1350.sh\n",
      "qsub sp_1351.sh\n",
      "qsub sp_1352.sh\n",
      "qsub sp_1353.sh\n",
      "qsub sp_1354.sh\n",
      "qsub sp_1355.sh\n",
      "qsub sp_1356.sh\n",
      "qsub sp_1357.sh\n",
      "qsub sp_1358.sh\n",
      "qsub sp_1359.sh\n",
      "qsub sp_1360.sh\n",
      "qsub sp_1361.sh\n",
      "qsub sp_1362.sh\n",
      "qsub sp_1363.sh\n",
      "qsub sp_1364.sh\n",
      "qsub sp_1365.sh\n",
      "qsub sp_1366.sh\n",
      "qsub sp_1367.sh\n",
      "qsub sp_1368.sh\n",
      "qsub sp_1369.sh\n",
      "qsub sp_1370.sh\n",
      "qsub sp_1371.sh\n",
      "qsub sp_1372.sh\n",
      "qsub sp_1373.sh\n",
      "qsub sp_1374.sh\n",
      "qsub sp_1375.sh\n",
      "qsub sp_1376.sh\n",
      "qsub sp_1377.sh\n",
      "qsub sp_1378.sh\n",
      "qsub sp_1379.sh\n",
      "qsub sp_1380.sh\n",
      "qsub sp_1381.sh\n",
      "qsub sp_1382.sh\n",
      "qsub sp_1383.sh\n",
      "qsub sp_1384.sh\n",
      "qsub sp_1385.sh\n",
      "qsub sp_1386.sh\n",
      "qsub sp_1387.sh\n",
      "qsub sp_1388.sh\n",
      "qsub sp_1389.sh\n",
      "qsub sp_1390.sh\n",
      "qsub sp_1391.sh\n",
      "qsub sp_1392.sh\n",
      "qsub sp_1393.sh\n",
      "qsub sp_1394.sh\n",
      "qsub sp_1395.sh\n",
      "qsub sp_1396.sh\n",
      "qsub sp_1397.sh\n",
      "qsub sp_1398.sh\n",
      "qsub sp_1399.sh\n"
     ]
    }
   ],
   "source": [
    "def createScript(jobName, hc, lamb, seed):\n",
    "    print(\"qsub\" ,jobName+'.sh')\n",
    "    filename = 'Scripts_fortran/' + jobName + '.sh'\n",
    "    file = open(filename,\"w+\")\n",
    "\n",
    "    file.write(\"#!/bin/bash -l \\n \\n\" )\n",
    "\n",
    "    file.write(\"# Set SCC Project \\n\")\n",
    "    file.write(\"#$ -P bunuc \\n\")\n",
    "\n",
    "    file.write(\"# Specify hard time limit for the job. \\n\")\n",
    "    file.write(\"#   The job will be aborted if it runs longer than this time. \\n\")\n",
    "    file.write(\"#$ -l h_rt=120:00:00 \\n \\n\")\n",
    "\n",
    "    file.write(\"# Reuest a node with at least 4 GB of memory per core \\n\")\n",
    "    file.write(\"#$ -l mem_per_core=4G \\n \\n\")\n",
    "\n",
    "    file.write(\"# Request a paralell environemtn with _ cores \\n\")\n",
    "    file.write(\"#$ -pe omp 1 \\n \\n\")\n",
    "    \n",
    "    # ----- Assign Job Name -----\n",
    "    file.write(\"# Give job a name \\n\")\n",
    "    file.writelines([\"#$ -N \", str(jobName), \"\\n \\n\"])\n",
    "\n",
    "    file.write(\"# Combine output and error files into a single file \\n\")\n",
    "    file.write(\"#$ -j y \\n \\n\")\n",
    "    \n",
    "    file.write(\"# Specify the output file name \\n\")\n",
    "    file.write(\"#$ -o results/\"+jobname+\"_out.txt \\n \\n\")\n",
    "\n",
    "    file.write(\"# Keep track of information related to the current job \\n \\n\")\n",
    "    \n",
    "    file.write(\"declare -i timer=5000000 \\n \\n\")\n",
    "    file.write(\"declare -i L=1000 \\n \\n\")\n",
    "    file.write(\"driv=\"+str(int(hc))+\" \\n \\n\")\n",
    "    file.write(\"dissp=\"+str(lamb)+\" \\n \\n\")\n",
    "    file.write(\"declare -i rand=\"+str(seed)+\" \\n \\n\")\n",
    "\n",
    "    file.writelines([\"echo -e \\\"$timer\\\\n$L\\\\n$dissp\\\\n$driv\\\\n$rand\\\" |  ./sandpile \\n \\n\"])\n",
    "\n",
    "    file.close()\n",
    "\n",
    "heightRange = np.round(2**(np.unique(np.arange(8,18, 0.5))))\n",
    "lambdaRange = 10**np.arange(-6, -1, 0.25).astype(float)\n",
    "\n",
    "setRange = np.zeros((len(heightRange), len(lambdaRange),2))\n",
    "\n",
    "for j in range(len(heightRange)): \n",
    "    for k in range(len(lambdaRange)): \n",
    "        setRange[j,k,0] = heightRange[j]\n",
    "        setRange[j,k,1] = lambdaRange[k]\n",
    "\n",
    "fixed_SetRange = setRange.transpose(2,0,1).reshape(2,-1)\n",
    "for j in range(len(fixed_SetRange[0,:])): \n",
    "#     print(fixed_SetRange[:,j])\n",
    "    \n",
    "    jobname = 'sp_' + str(1000+j)\n",
    "    createScript(jobname, fixed_SetRange[0,j], fixed_SetRange[1,j], 1000+j)"
   ]
  },
  {
   "cell_type": "markdown",
   "metadata": {},
   "source": [
    "## Plotting Distributions"
   ]
  },
  {
   "cell_type": "code",
   "execution_count": 13,
   "metadata": {},
   "outputs": [
    {
     "name": "stdout",
     "output_type": "stream",
     "text": [
      "Data_hc_simil/mm_256_1e-05_s.txt\n"
     ]
    }
   ],
   "source": [
    "obs_type = \"s\"\n",
    "hc = heightRange[1]\n",
    "lamb = lambdaRange[0]\n",
    "\n",
    "filename = \"Data_hc_simil/mm_\"+str(hc)+\"_\"+str(lamb)+\"_\"+obs_type+\".txt\"\n",
    "print(filename)\n",
    "sizeS = np.loadtxt(filename, skiprows=1)"
   ]
  },
  {
   "cell_type": "code",
   "execution_count": 22,
   "metadata": {},
   "outputs": [
    {
     "name": "stdout",
     "output_type": "stream",
     "text": [
      "Data_hc_simil/mm_256_1e-05_s.txt\n",
      "5000\n"
     ]
    },
    {
     "data": {
      "image/png": "[encoded data removed]",
      "text/plain": [
       "<Figure size 750x600 with 1 Axes>"
      ]
     },
     "metadata": {},
     "output_type": "display_data"
    }
   ],
   "source": [
    "def plotSizes_raw(hc, lamb, obs_type):\n",
    "    \"\"\"\n",
    "    Plot log-log size histogram (log-binned)\"\"\n",
    "    \"\"\"\n",
    "    filename = \"Data_hc_simil/mm_\"+str(hc)+\"_\"+str(lamb)+\"_\"+obs_type+\".txt\"\n",
    "    print(filename)\n",
    "    sizeS = np.loadtxt(filename, skiprows=1)\n",
    "    print(len(sizeS))\n",
    "    \n",
    "    sizeS_Log = np.asarray(sizeS)\n",
    "    hist, bin_edges = np.histogram(sizeS_Log,bins=np.logspace(0,25,50,base=2),density=True)\n",
    "    for i in range(len(hist)-1,-1,-1):      # Delete any 0 counts. \n",
    "        if hist[i]==0:\n",
    "            hist = np.delete(hist,i)\n",
    "            bin_edges = np.delete(bin_edges,i)   \n",
    "    return bin_edges[:-1], hist\n",
    "\n",
    "fig, ax1 = plt.subplots(1,1,figsize=(5, 4), dpi=150, frameon=True)\n",
    "\n",
    "x,y = plotSizes_raw(hc, lamb, obs_type);  \n",
    "x = np.log10(x); y = np.log10(y)\n",
    "\n",
    "ax1.plot(x, y, '.-', color='r', label = r\"$\\lambda=$\"+str(round(lamb,6)))\n",
    "ax1.legend(fontsize=9)\n",
    "ax1.set_title(r\"$h_c=$\"+str(hc))\n",
    "ax1.set_ylabel(r'$\\log N_s(s,L)$',fontweight='bold'); \n",
    "ax1.set_xlabel('size, $\\log s$',fontweight='bold')\n",
    "fig.tight_layout()"
   ]
  },
  {
   "cell_type": "code",
   "execution_count": null,
   "metadata": {},
   "outputs": [],
   "source": []
  }
 ],
 "metadata": {
  "kernelspec": {
   "display_name": "Python 3",
   "language": "python",
   "name": "python3"
  },
  "language_info": {
   "codemirror_mode": {
    "name": "ipython",
    "version": 3
   },
   "file_extension": ".py",
   "mimetype": "text/x-python",
   "name": "python",
   "nbconvert_exporter": "python",
   "pygments_lexer": "ipython3",
   "version": "3.9.1"
  },
  "latex_envs": {
   "LaTeX_envs_menu_present": true,
   "autoclose": false,
   "autocomplete": false,
   "bibliofile": "biblio.bib",
   "cite_by": "apalike",
   "current_citInitial": 1,
   "eqLabelWithNumbers": true,
   "eqNumInitial": 1,
   "hotkeys": {
    "equation": "Ctrl-E",
    "itemize": "Ctrl-I"
   },
   "labels_anchors": false,
   "latex_user_defs": false,
   "report_style_numbering": false,
   "user_envs_cfg": false
  },
  "notify_time": "10",
  "nteract": {
   "version": "0.25.1"
  },
  "toc": {
   "base_numbering": 1,
   "nav_menu": {},
   "number_sections": true,
   "sideBar": true,
   "skip_h1_title": false,
   "title_cell": "Table of Contents",
   "title_sidebar": "Contents",
   "toc_cell": false,
   "toc_position": {
    "height": "calc(100% - 180px)",
    "left": "10px",
    "top": "150px",
    "width": "252.26101684570312px"
   },
   "toc_section_display": true,
   "toc_window_display": true
  },
  "toc-showmarkdowntxt": false
 },
 "nbformat": 4,
 "nbformat_minor": 4
}
